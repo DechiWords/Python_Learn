{
  "nbformat": 4,
  "nbformat_minor": 0,
  "metadata": {
    "colab": {
      "name": "Analisis_Exploratorio_Google.ipynb",
      "provenance": [],
      "collapsed_sections": [],
      "mount_file_id": "1seFm6Zixj_bb3QYczPT-otl3uJATCRZ3",
      "authorship_tag": "ABX9TyOFQQC52xG4gkAoEpPox/GM",
      "include_colab_link": true
    },
    "kernelspec": {
      "name": "python3",
      "display_name": "Python 3"
    },
    "language_info": {
      "name": "python"
    }
  },
  "cells": [
    {
      "cell_type": "markdown",
      "metadata": {
        "id": "view-in-github",
        "colab_type": "text"
      },
      "source": [
        "<a href=\"https://colab.research.google.com/github/DechiWords/Python_Learn/blob/main/Analisis_Exploratorio_Google.ipynb\" target=\"_parent\"><img src=\"https://colab.research.google.com/assets/colab-badge.svg\" alt=\"Open In Colab\"/></a>"
      ]
    },
    {
      "cell_type": "markdown",
      "metadata": {
        "id": "-Pb-wPqBHIdA"
      },
      "source": [
        "En este cuaderno tiene la finalidad de estudiar mi actividad en los servicios de Google, en particular YouTube, con el fin de analizar el comportamiento y consumo audiovisual desde 2016 hasta Abril 2021."
      ]
    },
    {
      "cell_type": "markdown",
      "metadata": {
        "id": "7Gh2TkriHlio"
      },
      "source": [
        "Para la obtención de los datos utilizamos la herramienta **Google Takeout**."
      ]
    },
    {
      "cell_type": "markdown",
      "metadata": {
        "id": "8GUN4469BaJK"
      },
      "source": [
        "#Importación y limpieza de datos"
      ]
    },
    {
      "cell_type": "markdown",
      "metadata": {
        "id": "0hJVhf24BeGD"
      },
      "source": [
        "Importamos la librería **pandas** y **matplotlib.pyplot**"
      ]
    },
    {
      "cell_type": "code",
      "metadata": {
        "id": "xSsKSIvNg7mR"
      },
      "source": [
        "import pandas as pd\n",
        "import matplotlib.pyplot as plt"
      ],
      "execution_count": null,
      "outputs": []
    },
    {
      "cell_type": "markdown",
      "metadata": {
        "id": "ViqRmD1EBg3B"
      },
      "source": [
        "Importamos la base de datos"
      ]
    },
    {
      "cell_type": "code",
      "metadata": {
        "id": "oPlrAmwhhGaB"
      },
      "source": [
        "Data = pd.read_json('/content/drive/MyDrive/Personal/Análisis datos Google/historial de reproducciones.json')"
      ],
      "execution_count": null,
      "outputs": []
    },
    {
      "cell_type": "markdown",
      "metadata": {
        "id": "Av_x1-biCBqm"
      },
      "source": [
        "Leemos las primeras filas"
      ]
    },
    {
      "cell_type": "code",
      "metadata": {
        "colab": {
          "base_uri": "https://localhost:8080/",
          "height": 221
        },
        "id": "27hFIwh4hPK-",
        "outputId": "1132ad27-256d-42d3-a752-78ce1c3fdd21"
      },
      "source": [
        "Data.head()"
      ],
      "execution_count": null,
      "outputs": [
        {
          "output_type": "execute_result",
          "data": {
            "text/html": [
              "<div>\n",
              "<style scoped>\n",
              "    .dataframe tbody tr th:only-of-type {\n",
              "        vertical-align: middle;\n",
              "    }\n",
              "\n",
              "    .dataframe tbody tr th {\n",
              "        vertical-align: top;\n",
              "    }\n",
              "\n",
              "    .dataframe thead th {\n",
              "        text-align: right;\n",
              "    }\n",
              "</style>\n",
              "<table border=\"1\" class=\"dataframe\">\n",
              "  <thead>\n",
              "    <tr style=\"text-align: right;\">\n",
              "      <th></th>\n",
              "      <th>header</th>\n",
              "      <th>title</th>\n",
              "      <th>titleUrl</th>\n",
              "      <th>subtitles</th>\n",
              "      <th>time</th>\n",
              "      <th>products</th>\n",
              "      <th>details</th>\n",
              "      <th>description</th>\n",
              "    </tr>\n",
              "  </thead>\n",
              "  <tbody>\n",
              "    <tr>\n",
              "      <th>0</th>\n",
              "      <td>YouTube</td>\n",
              "      <td>Has visto Los cura no entienden a Dios</td>\n",
              "      <td>https://www.youtube.com/watch?v=dAvDnwXNZKk</td>\n",
              "      <td>[{'name': 'MIGALA D', 'url': 'https://www.yout...</td>\n",
              "      <td>2021-04-09T18:12:53.903Z</td>\n",
              "      <td>[YouTube]</td>\n",
              "      <td>NaN</td>\n",
              "      <td>NaN</td>\n",
              "    </tr>\n",
              "    <tr>\n",
              "      <th>1</th>\n",
              "      <td>YouTube</td>\n",
              "      <td>Has visto ¿Podría desaparecer el cine?</td>\n",
              "      <td>https://www.youtube.com/watch?v=_GIzgu9bJGg</td>\n",
              "      <td>[{'name': 'MIGALA D', 'url': 'https://www.yout...</td>\n",
              "      <td>2021-04-09T17:54:04.623Z</td>\n",
              "      <td>[YouTube]</td>\n",
              "      <td>NaN</td>\n",
              "      <td>NaN</td>\n",
              "    </tr>\n",
              "    <tr>\n",
              "      <th>2</th>\n",
              "      <td>YouTube</td>\n",
              "      <td>Has visto Cómo aprobar una entrevista técnica</td>\n",
              "      <td>https://www.youtube.com/watch?v=eZjQr331CVM</td>\n",
              "      <td>[{'name': 'Platzi', 'url': 'https://www.youtub...</td>\n",
              "      <td>2021-04-09T17:08:21.867Z</td>\n",
              "      <td>[YouTube]</td>\n",
              "      <td>NaN</td>\n",
              "      <td>NaN</td>\n",
              "    </tr>\n",
              "    <tr>\n",
              "      <th>3</th>\n",
              "      <td>YouTube</td>\n",
              "      <td>Has visto 10 errores comunes de programadores ...</td>\n",
              "      <td>https://www.youtube.com/watch?v=YJ0u-MpYpM4</td>\n",
              "      <td>[{'name': 'Platzi', 'url': 'https://www.youtub...</td>\n",
              "      <td>2021-04-09T04:17:54.478Z</td>\n",
              "      <td>[YouTube]</td>\n",
              "      <td>NaN</td>\n",
              "      <td>NaN</td>\n",
              "    </tr>\n",
              "    <tr>\n",
              "      <th>4</th>\n",
              "      <td>YouTube</td>\n",
              "      <td>Has visto ACLARACION INSTAGRAM OFICIAL</td>\n",
              "      <td>https://www.youtube.com/watch?v=3J82JN8C3As</td>\n",
              "      <td>[{'name': 'tomiii 11', 'url': 'https://www.you...</td>\n",
              "      <td>2021-04-09T04:16:14.521Z</td>\n",
              "      <td>[YouTube]</td>\n",
              "      <td>NaN</td>\n",
              "      <td>NaN</td>\n",
              "    </tr>\n",
              "  </tbody>\n",
              "</table>\n",
              "</div>"
            ],
            "text/plain": [
              "    header  ... description\n",
              "0  YouTube  ...         NaN\n",
              "1  YouTube  ...         NaN\n",
              "2  YouTube  ...         NaN\n",
              "3  YouTube  ...         NaN\n",
              "4  YouTube  ...         NaN\n",
              "\n",
              "[5 rows x 8 columns]"
            ]
          },
          "metadata": {
            "tags": []
          },
          "execution_count": 3
        }
      ]
    },
    {
      "cell_type": "markdown",
      "metadata": {
        "id": "gISW66oWCEDt"
      },
      "source": [
        "Eliminamos las columnas «header»,«details»,«description» y «products»"
      ]
    },
    {
      "cell_type": "code",
      "metadata": {
        "id": "drNjGkG7nlCw"
      },
      "source": [
        "Data.drop(columns = ['header','details','description','products'],inplace = True)"
      ],
      "execution_count": null,
      "outputs": []
    },
    {
      "cell_type": "markdown",
      "metadata": {
        "id": "zvsPaA2JCMVy"
      },
      "source": [
        "Verificamos los datos"
      ]
    },
    {
      "cell_type": "code",
      "metadata": {
        "colab": {
          "base_uri": "https://localhost:8080/",
          "height": 204
        },
        "id": "VaBlFRikns1y",
        "outputId": "c6378ff2-b342-4901-87ba-0067ac96a4cd"
      },
      "source": [
        "Data.head()"
      ],
      "execution_count": null,
      "outputs": [
        {
          "output_type": "execute_result",
          "data": {
            "text/html": [
              "<div>\n",
              "<style scoped>\n",
              "    .dataframe tbody tr th:only-of-type {\n",
              "        vertical-align: middle;\n",
              "    }\n",
              "\n",
              "    .dataframe tbody tr th {\n",
              "        vertical-align: top;\n",
              "    }\n",
              "\n",
              "    .dataframe thead th {\n",
              "        text-align: right;\n",
              "    }\n",
              "</style>\n",
              "<table border=\"1\" class=\"dataframe\">\n",
              "  <thead>\n",
              "    <tr style=\"text-align: right;\">\n",
              "      <th></th>\n",
              "      <th>title</th>\n",
              "      <th>titleUrl</th>\n",
              "      <th>subtitles</th>\n",
              "      <th>time</th>\n",
              "    </tr>\n",
              "  </thead>\n",
              "  <tbody>\n",
              "    <tr>\n",
              "      <th>0</th>\n",
              "      <td>Has visto Los cura no entienden a Dios</td>\n",
              "      <td>https://www.youtube.com/watch?v=dAvDnwXNZKk</td>\n",
              "      <td>[{'name': 'MIGALA D', 'url': 'https://www.yout...</td>\n",
              "      <td>2021-04-09T18:12:53.903Z</td>\n",
              "    </tr>\n",
              "    <tr>\n",
              "      <th>1</th>\n",
              "      <td>Has visto ¿Podría desaparecer el cine?</td>\n",
              "      <td>https://www.youtube.com/watch?v=_GIzgu9bJGg</td>\n",
              "      <td>[{'name': 'MIGALA D', 'url': 'https://www.yout...</td>\n",
              "      <td>2021-04-09T17:54:04.623Z</td>\n",
              "    </tr>\n",
              "    <tr>\n",
              "      <th>2</th>\n",
              "      <td>Has visto Cómo aprobar una entrevista técnica</td>\n",
              "      <td>https://www.youtube.com/watch?v=eZjQr331CVM</td>\n",
              "      <td>[{'name': 'Platzi', 'url': 'https://www.youtub...</td>\n",
              "      <td>2021-04-09T17:08:21.867Z</td>\n",
              "    </tr>\n",
              "    <tr>\n",
              "      <th>3</th>\n",
              "      <td>Has visto 10 errores comunes de programadores ...</td>\n",
              "      <td>https://www.youtube.com/watch?v=YJ0u-MpYpM4</td>\n",
              "      <td>[{'name': 'Platzi', 'url': 'https://www.youtub...</td>\n",
              "      <td>2021-04-09T04:17:54.478Z</td>\n",
              "    </tr>\n",
              "    <tr>\n",
              "      <th>4</th>\n",
              "      <td>Has visto ACLARACION INSTAGRAM OFICIAL</td>\n",
              "      <td>https://www.youtube.com/watch?v=3J82JN8C3As</td>\n",
              "      <td>[{'name': 'tomiii 11', 'url': 'https://www.you...</td>\n",
              "      <td>2021-04-09T04:16:14.521Z</td>\n",
              "    </tr>\n",
              "  </tbody>\n",
              "</table>\n",
              "</div>"
            ],
            "text/plain": [
              "                                               title  ...                      time\n",
              "0             Has visto Los cura no entienden a Dios  ...  2021-04-09T18:12:53.903Z\n",
              "1             Has visto ¿Podría desaparecer el cine?  ...  2021-04-09T17:54:04.623Z\n",
              "2      Has visto Cómo aprobar una entrevista técnica  ...  2021-04-09T17:08:21.867Z\n",
              "3  Has visto 10 errores comunes de programadores ...  ...  2021-04-09T04:17:54.478Z\n",
              "4             Has visto ACLARACION INSTAGRAM OFICIAL  ...  2021-04-09T04:16:14.521Z\n",
              "\n",
              "[5 rows x 4 columns]"
            ]
          },
          "metadata": {
            "tags": []
          },
          "execution_count": 5
        }
      ]
    },
    {
      "cell_type": "markdown",
      "metadata": {
        "id": "U0oPIMMbCRNx"
      },
      "source": [
        "Renombramos los nombres de las columnas para una manipulación personal más agradable"
      ]
    },
    {
      "cell_type": "code",
      "metadata": {
        "colab": {
          "base_uri": "https://localhost:8080/",
          "height": 204
        },
        "id": "otoGRy8vm0nh",
        "outputId": "156eada1-52b0-4d91-c67a-257d9b27db15"
      },
      "source": [
        "Data.rename(columns = {'title':'Titulo','titleUrl':'URL','subtitles':'Datos del video','time':'Tiempo'}, inplace = True)\n",
        "Data.head()"
      ],
      "execution_count": null,
      "outputs": [
        {
          "output_type": "execute_result",
          "data": {
            "text/html": [
              "<div>\n",
              "<style scoped>\n",
              "    .dataframe tbody tr th:only-of-type {\n",
              "        vertical-align: middle;\n",
              "    }\n",
              "\n",
              "    .dataframe tbody tr th {\n",
              "        vertical-align: top;\n",
              "    }\n",
              "\n",
              "    .dataframe thead th {\n",
              "        text-align: right;\n",
              "    }\n",
              "</style>\n",
              "<table border=\"1\" class=\"dataframe\">\n",
              "  <thead>\n",
              "    <tr style=\"text-align: right;\">\n",
              "      <th></th>\n",
              "      <th>Titulo</th>\n",
              "      <th>URL</th>\n",
              "      <th>Datos del video</th>\n",
              "      <th>Tiempo</th>\n",
              "    </tr>\n",
              "  </thead>\n",
              "  <tbody>\n",
              "    <tr>\n",
              "      <th>0</th>\n",
              "      <td>Has visto Los cura no entienden a Dios</td>\n",
              "      <td>https://www.youtube.com/watch?v=dAvDnwXNZKk</td>\n",
              "      <td>[{'name': 'MIGALA D', 'url': 'https://www.yout...</td>\n",
              "      <td>2021-04-09T18:12:53.903Z</td>\n",
              "    </tr>\n",
              "    <tr>\n",
              "      <th>1</th>\n",
              "      <td>Has visto ¿Podría desaparecer el cine?</td>\n",
              "      <td>https://www.youtube.com/watch?v=_GIzgu9bJGg</td>\n",
              "      <td>[{'name': 'MIGALA D', 'url': 'https://www.yout...</td>\n",
              "      <td>2021-04-09T17:54:04.623Z</td>\n",
              "    </tr>\n",
              "    <tr>\n",
              "      <th>2</th>\n",
              "      <td>Has visto Cómo aprobar una entrevista técnica</td>\n",
              "      <td>https://www.youtube.com/watch?v=eZjQr331CVM</td>\n",
              "      <td>[{'name': 'Platzi', 'url': 'https://www.youtub...</td>\n",
              "      <td>2021-04-09T17:08:21.867Z</td>\n",
              "    </tr>\n",
              "    <tr>\n",
              "      <th>3</th>\n",
              "      <td>Has visto 10 errores comunes de programadores ...</td>\n",
              "      <td>https://www.youtube.com/watch?v=YJ0u-MpYpM4</td>\n",
              "      <td>[{'name': 'Platzi', 'url': 'https://www.youtub...</td>\n",
              "      <td>2021-04-09T04:17:54.478Z</td>\n",
              "    </tr>\n",
              "    <tr>\n",
              "      <th>4</th>\n",
              "      <td>Has visto ACLARACION INSTAGRAM OFICIAL</td>\n",
              "      <td>https://www.youtube.com/watch?v=3J82JN8C3As</td>\n",
              "      <td>[{'name': 'tomiii 11', 'url': 'https://www.you...</td>\n",
              "      <td>2021-04-09T04:16:14.521Z</td>\n",
              "    </tr>\n",
              "  </tbody>\n",
              "</table>\n",
              "</div>"
            ],
            "text/plain": [
              "                                              Titulo  ...                    Tiempo\n",
              "0             Has visto Los cura no entienden a Dios  ...  2021-04-09T18:12:53.903Z\n",
              "1             Has visto ¿Podría desaparecer el cine?  ...  2021-04-09T17:54:04.623Z\n",
              "2      Has visto Cómo aprobar una entrevista técnica  ...  2021-04-09T17:08:21.867Z\n",
              "3  Has visto 10 errores comunes de programadores ...  ...  2021-04-09T04:17:54.478Z\n",
              "4             Has visto ACLARACION INSTAGRAM OFICIAL  ...  2021-04-09T04:16:14.521Z\n",
              "\n",
              "[5 rows x 4 columns]"
            ]
          },
          "metadata": {
            "tags": []
          },
          "execution_count": 6
        }
      ]
    },
    {
      "cell_type": "markdown",
      "metadata": {
        "id": "Sm8Ty2xpCYOJ"
      },
      "source": [
        "#Analisis de la visualización de canales"
      ]
    },
    {
      "cell_type": "markdown",
      "metadata": {
        "id": "vg8nTknhCucV"
      },
      "source": [
        "A continuación analizaremos los canales que han tenido una frecuencia de reproducción o busqueda más alta."
      ]
    },
    {
      "cell_type": "markdown",
      "metadata": {
        "id": "Xn-NDnlpC39_"
      },
      "source": [
        "Anexamos a la variable «Datos_Video» la columna «Datos del video» eliminando los datos NaN que vivan dentro de ella"
      ]
    },
    {
      "cell_type": "code",
      "metadata": {
        "id": "Ax77srcmoVMx"
      },
      "source": [
        "Datos_Video = Data.loc[:,'Datos del video'].dropna(axis = 0)"
      ],
      "execution_count": null,
      "outputs": []
    },
    {
      "cell_type": "markdown",
      "metadata": {
        "id": "xB89giQxC_Ne"
      },
      "source": [
        "Reiniciamos los índices y por consiguiente se convierte en un Data Frame, por ello eliminamos la columna «index»"
      ]
    },
    {
      "cell_type": "code",
      "metadata": {
        "id": "Qp_Blob_pFHR"
      },
      "source": [
        "Datos_Video = Datos_Video.reset_index()\n",
        "Datos_Video.drop('index',axis = 1,inplace = True)"
      ],
      "execution_count": null,
      "outputs": []
    },
    {
      "cell_type": "markdown",
      "metadata": {
        "id": "gsXXb8lrDU_L"
      },
      "source": [
        "Visualizamos el Data Frame resultante"
      ]
    },
    {
      "cell_type": "code",
      "metadata": {
        "colab": {
          "base_uri": "https://localhost:8080/",
          "height": 419
        },
        "id": "fAQFIPnBpQ69",
        "outputId": "6fb92345-51df-49d2-aa98-77f6d73b45a4"
      },
      "source": [
        "Datos_Video"
      ],
      "execution_count": null,
      "outputs": [
        {
          "output_type": "execute_result",
          "data": {
            "text/html": [
              "<div>\n",
              "<style scoped>\n",
              "    .dataframe tbody tr th:only-of-type {\n",
              "        vertical-align: middle;\n",
              "    }\n",
              "\n",
              "    .dataframe tbody tr th {\n",
              "        vertical-align: top;\n",
              "    }\n",
              "\n",
              "    .dataframe thead th {\n",
              "        text-align: right;\n",
              "    }\n",
              "</style>\n",
              "<table border=\"1\" class=\"dataframe\">\n",
              "  <thead>\n",
              "    <tr style=\"text-align: right;\">\n",
              "      <th></th>\n",
              "      <th>Datos del video</th>\n",
              "    </tr>\n",
              "  </thead>\n",
              "  <tbody>\n",
              "    <tr>\n",
              "      <th>0</th>\n",
              "      <td>[{'name': 'MIGALA D', 'url': 'https://www.yout...</td>\n",
              "    </tr>\n",
              "    <tr>\n",
              "      <th>1</th>\n",
              "      <td>[{'name': 'MIGALA D', 'url': 'https://www.yout...</td>\n",
              "    </tr>\n",
              "    <tr>\n",
              "      <th>2</th>\n",
              "      <td>[{'name': 'Platzi', 'url': 'https://www.youtub...</td>\n",
              "    </tr>\n",
              "    <tr>\n",
              "      <th>3</th>\n",
              "      <td>[{'name': 'Platzi', 'url': 'https://www.youtub...</td>\n",
              "    </tr>\n",
              "    <tr>\n",
              "      <th>4</th>\n",
              "      <td>[{'name': 'tomiii 11', 'url': 'https://www.you...</td>\n",
              "    </tr>\n",
              "    <tr>\n",
              "      <th>...</th>\n",
              "      <td>...</td>\n",
              "    </tr>\n",
              "    <tr>\n",
              "      <th>22905</th>\n",
              "      <td>[{'name': 'Statik Gamer', 'url': 'https://www....</td>\n",
              "    </tr>\n",
              "    <tr>\n",
              "      <th>22906</th>\n",
              "      <td>[{'name': 'Excélsior TV', 'url': 'https://www....</td>\n",
              "    </tr>\n",
              "    <tr>\n",
              "      <th>22907</th>\n",
              "      <td>[{'name': 'Davidpkami', 'url': 'https://www.yo...</td>\n",
              "    </tr>\n",
              "    <tr>\n",
              "      <th>22908</th>\n",
              "      <td>[{'name': 'Bendita', 'url': 'https://www.youtu...</td>\n",
              "    </tr>\n",
              "    <tr>\n",
              "      <th>22909</th>\n",
              "      <td>[{'name': 'levelup.com', 'url': 'https://www.y...</td>\n",
              "    </tr>\n",
              "  </tbody>\n",
              "</table>\n",
              "<p>22910 rows × 1 columns</p>\n",
              "</div>"
            ],
            "text/plain": [
              "                                         Datos del video\n",
              "0      [{'name': 'MIGALA D', 'url': 'https://www.yout...\n",
              "1      [{'name': 'MIGALA D', 'url': 'https://www.yout...\n",
              "2      [{'name': 'Platzi', 'url': 'https://www.youtub...\n",
              "3      [{'name': 'Platzi', 'url': 'https://www.youtub...\n",
              "4      [{'name': 'tomiii 11', 'url': 'https://www.you...\n",
              "...                                                  ...\n",
              "22905  [{'name': 'Statik Gamer', 'url': 'https://www....\n",
              "22906  [{'name': 'Excélsior TV', 'url': 'https://www....\n",
              "22907  [{'name': 'Davidpkami', 'url': 'https://www.yo...\n",
              "22908  [{'name': 'Bendita', 'url': 'https://www.youtu...\n",
              "22909  [{'name': 'levelup.com', 'url': 'https://www.y...\n",
              "\n",
              "[22910 rows x 1 columns]"
            ]
          },
          "metadata": {
            "tags": []
          },
          "execution_count": 9
        }
      ]
    },
    {
      "cell_type": "markdown",
      "metadata": {
        "id": "QhFsrKDcDXZh"
      },
      "source": [
        "Notemos que un elemento del Data Frame es una lista que contiene un diccionario con dos claves y sus respectivos valores."
      ]
    },
    {
      "cell_type": "code",
      "metadata": {
        "colab": {
          "base_uri": "https://localhost:8080/"
        },
        "id": "5EHmA1X8Dnj9",
        "outputId": "007044d8-0b3a-4355-af87-264a9376202e"
      },
      "source": [
        "Datos_Video.iloc[0]"
      ],
      "execution_count": null,
      "outputs": [
        {
          "output_type": "execute_result",
          "data": {
            "text/plain": [
              "Datos del video    [{'name': 'MIGALA D', 'url': 'https://www.yout...\n",
              "Name: 0, dtype: object"
            ]
          },
          "metadata": {
            "tags": []
          },
          "execution_count": 10
        }
      ]
    },
    {
      "cell_type": "markdown",
      "metadata": {
        "id": "j7OeQb08DwXH"
      },
      "source": [
        "Mediante un ciclo for definidos una lista en la cual extraemos el valor de la clave 'name' en cada uno de los diccionarios. Lo anexamos a la variable «Canales»."
      ]
    },
    {
      "cell_type": "code",
      "metadata": {
        "id": "btItznA2kkhJ"
      },
      "source": [
        "Canales = list( Datos_Video.iloc[i][0][0]['name'] for i in range ( len(Datos_Video) ))"
      ],
      "execution_count": null,
      "outputs": []
    },
    {
      "cell_type": "markdown",
      "metadata": {
        "id": "6WAH53ZND6te"
      },
      "source": [
        "Construimos un Data Frame con estos datos para poder trabajar de manera más cómoda los datos resultantes."
      ]
    },
    {
      "cell_type": "code",
      "metadata": {
        "id": "tA9uIu2sqDd_"
      },
      "source": [
        "DF_Canales = pd.DataFrame({'Canales':Canales})"
      ],
      "execution_count": null,
      "outputs": []
    },
    {
      "cell_type": "markdown",
      "metadata": {
        "id": "G8UKs5p6D_Mb"
      },
      "source": [
        "Visualizamos el Data Frame «DF_Canales»"
      ]
    },
    {
      "cell_type": "code",
      "metadata": {
        "colab": {
          "base_uri": "https://localhost:8080/",
          "height": 204
        },
        "id": "-mCbe7iFtYId",
        "outputId": "32caf0d2-7c8d-404e-9e3e-5c9e1dfaf952"
      },
      "source": [
        "DF_Canales.head()"
      ],
      "execution_count": null,
      "outputs": [
        {
          "output_type": "execute_result",
          "data": {
            "text/html": [
              "<div>\n",
              "<style scoped>\n",
              "    .dataframe tbody tr th:only-of-type {\n",
              "        vertical-align: middle;\n",
              "    }\n",
              "\n",
              "    .dataframe tbody tr th {\n",
              "        vertical-align: top;\n",
              "    }\n",
              "\n",
              "    .dataframe thead th {\n",
              "        text-align: right;\n",
              "    }\n",
              "</style>\n",
              "<table border=\"1\" class=\"dataframe\">\n",
              "  <thead>\n",
              "    <tr style=\"text-align: right;\">\n",
              "      <th></th>\n",
              "      <th>Canales</th>\n",
              "    </tr>\n",
              "  </thead>\n",
              "  <tbody>\n",
              "    <tr>\n",
              "      <th>0</th>\n",
              "      <td>MIGALA D</td>\n",
              "    </tr>\n",
              "    <tr>\n",
              "      <th>1</th>\n",
              "      <td>MIGALA D</td>\n",
              "    </tr>\n",
              "    <tr>\n",
              "      <th>2</th>\n",
              "      <td>Platzi</td>\n",
              "    </tr>\n",
              "    <tr>\n",
              "      <th>3</th>\n",
              "      <td>Platzi</td>\n",
              "    </tr>\n",
              "    <tr>\n",
              "      <th>4</th>\n",
              "      <td>tomiii 11</td>\n",
              "    </tr>\n",
              "  </tbody>\n",
              "</table>\n",
              "</div>"
            ],
            "text/plain": [
              "     Canales\n",
              "0   MIGALA D\n",
              "1   MIGALA D\n",
              "2     Platzi\n",
              "3     Platzi\n",
              "4  tomiii 11"
            ]
          },
          "metadata": {
            "tags": []
          },
          "execution_count": 13
        }
      ]
    },
    {
      "cell_type": "markdown",
      "metadata": {
        "id": "JDsMWsXxEWb3"
      },
      "source": [
        "Mediante «value_counts» determinamos cuantas veces se repite cada uno de los valores del Data Frame, que en este caso son los canales visitados. Visualizamos los primeros diez elementos."
      ]
    },
    {
      "cell_type": "code",
      "metadata": {
        "colab": {
          "base_uri": "https://localhost:8080/"
        },
        "id": "_7mnWdW7EfhZ",
        "outputId": "34c67d6c-4d53-44cc-fb11-8599f0ecb342"
      },
      "source": [
        "DF_Canales.value_counts()[0:10]"
      ],
      "execution_count": null,
      "outputs": [
        {
          "output_type": "execute_result",
          "data": {
            "text/plain": [
              "Canales                 \n",
              "DrossRotzank                751\n",
              "Jeshua Revan                718\n",
              "The Top Comics              541\n",
              "levelup.com                 455\n",
              "Tortilla Squad              435\n",
              "3DJuegosMX                  415\n",
              "MIGALA D                    380\n",
              "TUBE RADIO                  297\n",
              "Derivando                   291\n",
              "El Pulso De La República    280\n",
              "dtype: int64"
            ]
          },
          "metadata": {
            "tags": []
          },
          "execution_count": 14
        }
      ]
    },
    {
      "cell_type": "markdown",
      "metadata": {
        "id": "qW2RM49UEwet"
      },
      "source": [
        "Graficamos los resultados en un gráfico de barras."
      ]
    },
    {
      "cell_type": "code",
      "metadata": {
        "colab": {
          "base_uri": "https://localhost:8080/",
          "height": 585
        },
        "id": "MM6wFV4lrVuM",
        "outputId": "1fe0cb74-5931-47f2-958b-5fa1f0a9bab5"
      },
      "source": [
        "DF_Canales.value_counts()[0:10].plot(kind = 'bar',figsize = (8,8),\n",
        "                                     color = ['green','red','blue','cyan',\n",
        "                                              'darkred','khaki','mintcream','palegreen',\n",
        "                                              'white','forestgreen'],\n",
        "                                     edgecolor = 'black')\n",
        "plt.title('Top 10 canales más buscados desde 2016 hasta Abril 2021')\n",
        "plt.ylabel('Frecuencia de videos vistos')\n",
        "plt.tight_layout()"
      ],
      "execution_count": null,
      "outputs": [
        {
          "output_type": "display_data",
          "data": {
            "image/png": "[encoded data removed]",
            "text/plain": [
              "<Figure size 576x576 with 1 Axes>"
            ]
          },
          "metadata": {
            "tags": [],
            "needs_background": "light"
          }
        }
      ]
    },
    {
      "cell_type": "markdown",
      "metadata": {
        "id": "ujWMU46NE-50"
      },
      "source": [
        "#Análisis de la visualización de videos por año"
      ]
    },
    {
      "cell_type": "markdown",
      "metadata": {
        "id": "cRpPXzD3FFoa"
      },
      "source": [
        "A continuación analizaremos la frecuencia de videos vistos por años."
      ]
    },
    {
      "cell_type": "markdown",
      "metadata": {
        "id": "T7qiMyd7EiRc"
      },
      "source": [
        "Filtramos la columna «Tiempo» del Data Frame «Data» eliminando los valores nulos que existan en dicha columna, después reiniciamos los índices y eliminamos la columna «index» que se anexó de manera automática en el reinicio de los índices."
      ]
    },
    {
      "cell_type": "code",
      "metadata": {
        "id": "x0BWd9V3FUT5"
      },
      "source": [
        "Years_Data = Data.loc[:,'Tiempo'].dropna(axis = 0)\n",
        "Years_Data = Years_Data.reset_index()\n",
        "Years_Data.drop('index',axis = 1,inplace = True)"
      ],
      "execution_count": null,
      "outputs": []
    },
    {
      "cell_type": "markdown",
      "metadata": {
        "id": "byOf2nr5EyAw"
      },
      "source": [
        "Visualizamos el Data Frame «Years_Data»"
      ]
    },
    {
      "cell_type": "code",
      "metadata": {
        "colab": {
          "base_uri": "https://localhost:8080/",
          "height": 419
        },
        "id": "h9YvqCDRFpGT",
        "outputId": "c6ed71ba-7719-4621-cd4c-e5b17a32aaff"
      },
      "source": [
        "Years_Data"
      ],
      "execution_count": null,
      "outputs": [
        {
          "output_type": "execute_result",
          "data": {
            "text/html": [
              "<div>\n",
              "<style scoped>\n",
              "    .dataframe tbody tr th:only-of-type {\n",
              "        vertical-align: middle;\n",
              "    }\n",
              "\n",
              "    .dataframe tbody tr th {\n",
              "        vertical-align: top;\n",
              "    }\n",
              "\n",
              "    .dataframe thead th {\n",
              "        text-align: right;\n",
              "    }\n",
              "</style>\n",
              "<table border=\"1\" class=\"dataframe\">\n",
              "  <thead>\n",
              "    <tr style=\"text-align: right;\">\n",
              "      <th></th>\n",
              "      <th>Tiempo</th>\n",
              "    </tr>\n",
              "  </thead>\n",
              "  <tbody>\n",
              "    <tr>\n",
              "      <th>0</th>\n",
              "      <td>2021-04-09T18:12:53.903Z</td>\n",
              "    </tr>\n",
              "    <tr>\n",
              "      <th>1</th>\n",
              "      <td>2021-04-09T17:54:04.623Z</td>\n",
              "    </tr>\n",
              "    <tr>\n",
              "      <th>2</th>\n",
              "      <td>2021-04-09T17:08:21.867Z</td>\n",
              "    </tr>\n",
              "    <tr>\n",
              "      <th>3</th>\n",
              "      <td>2021-04-09T04:17:54.478Z</td>\n",
              "    </tr>\n",
              "    <tr>\n",
              "      <th>4</th>\n",
              "      <td>2021-04-09T04:16:14.521Z</td>\n",
              "    </tr>\n",
              "    <tr>\n",
              "      <th>...</th>\n",
              "      <td>...</td>\n",
              "    </tr>\n",
              "    <tr>\n",
              "      <th>25001</th>\n",
              "      <td>2016-07-31T23:36:32.909Z</td>\n",
              "    </tr>\n",
              "    <tr>\n",
              "      <th>25002</th>\n",
              "      <td>2016-07-31T23:28:13.022Z</td>\n",
              "    </tr>\n",
              "    <tr>\n",
              "      <th>25003</th>\n",
              "      <td>2016-07-31T23:20:23.698Z</td>\n",
              "    </tr>\n",
              "    <tr>\n",
              "      <th>25004</th>\n",
              "      <td>2016-07-31T23:19:53.819Z</td>\n",
              "    </tr>\n",
              "    <tr>\n",
              "      <th>25005</th>\n",
              "      <td>2016-07-31T23:09:02.514Z</td>\n",
              "    </tr>\n",
              "  </tbody>\n",
              "</table>\n",
              "<p>25006 rows × 1 columns</p>\n",
              "</div>"
            ],
            "text/plain": [
              "                         Tiempo\n",
              "0      2021-04-09T18:12:53.903Z\n",
              "1      2021-04-09T17:54:04.623Z\n",
              "2      2021-04-09T17:08:21.867Z\n",
              "3      2021-04-09T04:17:54.478Z\n",
              "4      2021-04-09T04:16:14.521Z\n",
              "...                         ...\n",
              "25001  2016-07-31T23:36:32.909Z\n",
              "25002  2016-07-31T23:28:13.022Z\n",
              "25003  2016-07-31T23:20:23.698Z\n",
              "25004  2016-07-31T23:19:53.819Z\n",
              "25005  2016-07-31T23:09:02.514Z\n",
              "\n",
              "[25006 rows x 1 columns]"
            ]
          },
          "metadata": {
            "tags": []
          },
          "execution_count": 17
        }
      ]
    },
    {
      "cell_type": "markdown",
      "metadata": {
        "id": "eHbZ984wE1w5"
      },
      "source": [
        "Cada elemento del Data Frame es un dato tipo texto, str, entonces extraemos cada elemento y filtramos los caracteres del texto en una longitud YYYY. Guardamos estos resultados en la variable «Years» mediante una lista."
      ]
    },
    {
      "cell_type": "code",
      "metadata": {
        "id": "jvLM52RYGvQX"
      },
      "source": [
        "Years = list( Years_Data.iloc[j][0][0:len('YYYY')]  for j in range (len(Years_Data)))"
      ],
      "execution_count": null,
      "outputs": []
    },
    {
      "cell_type": "markdown",
      "metadata": {
        "id": "LYNFCmSEFEqN"
      },
      "source": [
        "Definimos un Data Frame «DF_Years» para trabajar de manera más cómoda estos datos."
      ]
    },
    {
      "cell_type": "code",
      "metadata": {
        "id": "EWlsWh6NiQKm"
      },
      "source": [
        "DF_Years = pd.DataFrame({'Years':Years})"
      ],
      "execution_count": null,
      "outputs": []
    },
    {
      "cell_type": "markdown",
      "metadata": {
        "id": "CoRJLt9tFIxY"
      },
      "source": [
        "Visualizamos el Data Frame «DF_Years»"
      ]
    },
    {
      "cell_type": "code",
      "metadata": {
        "colab": {
          "base_uri": "https://localhost:8080/",
          "height": 419
        },
        "id": "YfQwIyv2iUJt",
        "outputId": "cc098fbd-9540-4d78-ebd7-5bd5a68d56c9"
      },
      "source": [
        "DF_Years"
      ],
      "execution_count": null,
      "outputs": [
        {
          "output_type": "execute_result",
          "data": {
            "text/html": [
              "<div>\n",
              "<style scoped>\n",
              "    .dataframe tbody tr th:only-of-type {\n",
              "        vertical-align: middle;\n",
              "    }\n",
              "\n",
              "    .dataframe tbody tr th {\n",
              "        vertical-align: top;\n",
              "    }\n",
              "\n",
              "    .dataframe thead th {\n",
              "        text-align: right;\n",
              "    }\n",
              "</style>\n",
              "<table border=\"1\" class=\"dataframe\">\n",
              "  <thead>\n",
              "    <tr style=\"text-align: right;\">\n",
              "      <th></th>\n",
              "      <th>Years</th>\n",
              "    </tr>\n",
              "  </thead>\n",
              "  <tbody>\n",
              "    <tr>\n",
              "      <th>0</th>\n",
              "      <td>2021</td>\n",
              "    </tr>\n",
              "    <tr>\n",
              "      <th>1</th>\n",
              "      <td>2021</td>\n",
              "    </tr>\n",
              "    <tr>\n",
              "      <th>2</th>\n",
              "      <td>2021</td>\n",
              "    </tr>\n",
              "    <tr>\n",
              "      <th>3</th>\n",
              "      <td>2021</td>\n",
              "    </tr>\n",
              "    <tr>\n",
              "      <th>4</th>\n",
              "      <td>2021</td>\n",
              "    </tr>\n",
              "    <tr>\n",
              "      <th>...</th>\n",
              "      <td>...</td>\n",
              "    </tr>\n",
              "    <tr>\n",
              "      <th>25001</th>\n",
              "      <td>2016</td>\n",
              "    </tr>\n",
              "    <tr>\n",
              "      <th>25002</th>\n",
              "      <td>2016</td>\n",
              "    </tr>\n",
              "    <tr>\n",
              "      <th>25003</th>\n",
              "      <td>2016</td>\n",
              "    </tr>\n",
              "    <tr>\n",
              "      <th>25004</th>\n",
              "      <td>2016</td>\n",
              "    </tr>\n",
              "    <tr>\n",
              "      <th>25005</th>\n",
              "      <td>2016</td>\n",
              "    </tr>\n",
              "  </tbody>\n",
              "</table>\n",
              "<p>25006 rows × 1 columns</p>\n",
              "</div>"
            ],
            "text/plain": [
              "      Years\n",
              "0      2021\n",
              "1      2021\n",
              "2      2021\n",
              "3      2021\n",
              "4      2021\n",
              "...     ...\n",
              "25001  2016\n",
              "25002  2016\n",
              "25003  2016\n",
              "25004  2016\n",
              "25005  2016\n",
              "\n",
              "[25006 rows x 1 columns]"
            ]
          },
          "metadata": {
            "tags": []
          },
          "execution_count": 20
        }
      ]
    },
    {
      "cell_type": "markdown",
      "metadata": {
        "id": "vbWvh8KIFLfd"
      },
      "source": [
        "Mediante el método «value_counts()» contabilizamos el número de veces que se repite cada año en el Data Frame."
      ]
    },
    {
      "cell_type": "code",
      "metadata": {
        "colab": {
          "base_uri": "https://localhost:8080/"
        },
        "id": "nErP88pPjX2c",
        "outputId": "8341d5aa-bb29-4b67-a6e4-cfcf29dd7f7d"
      },
      "source": [
        "DF_Years.value_counts()"
      ],
      "execution_count": null,
      "outputs": [
        {
          "output_type": "execute_result",
          "data": {
            "text/plain": [
              "Years\n",
              "2019     6760\n",
              "2018     6643\n",
              "2020     4903\n",
              "2017     4038\n",
              "2016     1628\n",
              "2021     1034\n",
              "dtype: int64"
            ]
          },
          "metadata": {
            "tags": []
          },
          "execution_count": 21
        }
      ]
    },
    {
      "cell_type": "markdown",
      "metadata": {
        "id": "GPwgXMu7FS-1"
      },
      "source": [
        "Definimos dos listas, «DF_Years_X» contiene la representación de cada año del 2016 al 2021 y «DF_Years_Y» contiene los valores de la serie dadas en «DF_Years.value_counts()»."
      ]
    },
    {
      "cell_type": "code",
      "metadata": {
        "id": "nT_IBbhiiuNi"
      },
      "source": [
        "DF_Years_X = list(k for k in range (2016,2022))\n",
        "DF_Years_Y = list(DF_Years.value_counts()[str(k2)][0] for k2 in range (2016,2022) )"
      ],
      "execution_count": null,
      "outputs": []
    },
    {
      "cell_type": "markdown",
      "metadata": {
        "id": "Fhf75Ye-FlmB"
      },
      "source": [
        "Graficamos los resultados."
      ]
    },
    {
      "cell_type": "code",
      "metadata": {
        "colab": {
          "base_uri": "https://localhost:8080/",
          "height": 297
        },
        "id": "So4xievOjdhS",
        "outputId": "3e58051d-c500-459f-c4ec-85fe48afc205"
      },
      "source": [
        "plt.bar(DF_Years_X,DF_Years_Y,edgecolor = 'black',color = ['blue','red','green','yellow','orange','pink'])\n",
        "plt.title('Número de videos vistos desde 2016 a Abril 2021')\n",
        "plt.ylabel('Reproducciones')\n",
        "plt.xlabel('Años')\n",
        "plt.tight_layout()"
      ],
      "execution_count": null,
      "outputs": [
        {
          "output_type": "display_data",
          "data": {
            "image/png": "[encoded data removed]",
            "text/plain": [
              "<Figure size 432x288 with 1 Axes>"
            ]
          },
          "metadata": {
            "tags": [],
            "needs_background": "light"
          }
        }
      ]
    },
    {
      "cell_type": "markdown",
      "metadata": {
        "id": "2YhHv6HMMui2"
      },
      "source": [
        "# Análisis de visualización del top 10 de canales más buscados entre 2016 y 2021"
      ]
    },
    {
      "cell_type": "markdown",
      "metadata": {
        "id": "UFjyLPj04YwW"
      },
      "source": [
        "A continuación analizaremos la cantidad de reproducciones hechas por año en cada uno de los canales top 10 obtenidos anteriormente."
      ]
    },
    {
      "cell_type": "markdown",
      "metadata": {
        "id": "KNSZpjuP4hE8"
      },
      "source": [
        "Del Data Frame «Data» filtramos las columnas «Datos del video» y «Tiempo» eliminando las filas con valores nulos, reiniciando los índices y descartando la columna «index» creada por el reinicio de índices."
      ]
    },
    {
      "cell_type": "code",
      "metadata": {
        "id": "AClocAKfMx4z"
      },
      "source": [
        "Canal_per_Year = Data.loc[:,['Datos del video','Tiempo']].dropna(axis = 0)\n",
        "Canal_per_Year = Canal_per_Year.reset_index()\n",
        "Canal_per_Year.drop('index',axis = 1,inplace = True)"
      ],
      "execution_count": null,
      "outputs": []
    },
    {
      "cell_type": "markdown",
      "metadata": {
        "id": "5Glx9KQ34uT1"
      },
      "source": [
        "Visualizamos el Data Frame «Canal_per_Year»"
      ]
    },
    {
      "cell_type": "code",
      "metadata": {
        "colab": {
          "base_uri": "https://localhost:8080/",
          "height": 419
        },
        "id": "iGfc7LiXNLhQ",
        "outputId": "d2139a43-697b-4f73-b084-a4f9645279bf"
      },
      "source": [
        "Canal_per_Year"
      ],
      "execution_count": null,
      "outputs": [
        {
          "output_type": "execute_result",
          "data": {
            "text/html": [
              "<div>\n",
              "<style scoped>\n",
              "    .dataframe tbody tr th:only-of-type {\n",
              "        vertical-align: middle;\n",
              "    }\n",
              "\n",
              "    .dataframe tbody tr th {\n",
              "        vertical-align: top;\n",
              "    }\n",
              "\n",
              "    .dataframe thead th {\n",
              "        text-align: right;\n",
              "    }\n",
              "</style>\n",
              "<table border=\"1\" class=\"dataframe\">\n",
              "  <thead>\n",
              "    <tr style=\"text-align: right;\">\n",
              "      <th></th>\n",
              "      <th>Datos del video</th>\n",
              "      <th>Tiempo</th>\n",
              "    </tr>\n",
              "  </thead>\n",
              "  <tbody>\n",
              "    <tr>\n",
              "      <th>0</th>\n",
              "      <td>[{'name': 'MIGALA D', 'url': 'https://www.yout...</td>\n",
              "      <td>2021-04-09T18:12:53.903Z</td>\n",
              "    </tr>\n",
              "    <tr>\n",
              "      <th>1</th>\n",
              "      <td>[{'name': 'MIGALA D', 'url': 'https://www.yout...</td>\n",
              "      <td>2021-04-09T17:54:04.623Z</td>\n",
              "    </tr>\n",
              "    <tr>\n",
              "      <th>2</th>\n",
              "      <td>[{'name': 'Platzi', 'url': 'https://www.youtub...</td>\n",
              "      <td>2021-04-09T17:08:21.867Z</td>\n",
              "    </tr>\n",
              "    <tr>\n",
              "      <th>3</th>\n",
              "      <td>[{'name': 'Platzi', 'url': 'https://www.youtub...</td>\n",
              "      <td>2021-04-09T04:17:54.478Z</td>\n",
              "    </tr>\n",
              "    <tr>\n",
              "      <th>4</th>\n",
              "      <td>[{'name': 'tomiii 11', 'url': 'https://www.you...</td>\n",
              "      <td>2021-04-09T04:16:14.521Z</td>\n",
              "    </tr>\n",
              "    <tr>\n",
              "      <th>...</th>\n",
              "      <td>...</td>\n",
              "      <td>...</td>\n",
              "    </tr>\n",
              "    <tr>\n",
              "      <th>22905</th>\n",
              "      <td>[{'name': 'Statik Gamer', 'url': 'https://www....</td>\n",
              "      <td>2016-08-01T02:02:48.446Z</td>\n",
              "    </tr>\n",
              "    <tr>\n",
              "      <th>22906</th>\n",
              "      <td>[{'name': 'Excélsior TV', 'url': 'https://www....</td>\n",
              "      <td>2016-07-31T23:36:42.164Z</td>\n",
              "    </tr>\n",
              "    <tr>\n",
              "      <th>22907</th>\n",
              "      <td>[{'name': 'Davidpkami', 'url': 'https://www.yo...</td>\n",
              "      <td>2016-07-31T23:20:23.698Z</td>\n",
              "    </tr>\n",
              "    <tr>\n",
              "      <th>22908</th>\n",
              "      <td>[{'name': 'Bendita', 'url': 'https://www.youtu...</td>\n",
              "      <td>2016-07-31T23:19:53.819Z</td>\n",
              "    </tr>\n",
              "    <tr>\n",
              "      <th>22909</th>\n",
              "      <td>[{'name': 'levelup.com', 'url': 'https://www.y...</td>\n",
              "      <td>2016-07-31T23:09:02.514Z</td>\n",
              "    </tr>\n",
              "  </tbody>\n",
              "</table>\n",
              "<p>22910 rows × 2 columns</p>\n",
              "</div>"
            ],
            "text/plain": [
              "                                         Datos del video                    Tiempo\n",
              "0      [{'name': 'MIGALA D', 'url': 'https://www.yout...  2021-04-09T18:12:53.903Z\n",
              "1      [{'name': 'MIGALA D', 'url': 'https://www.yout...  2021-04-09T17:54:04.623Z\n",
              "2      [{'name': 'Platzi', 'url': 'https://www.youtub...  2021-04-09T17:08:21.867Z\n",
              "3      [{'name': 'Platzi', 'url': 'https://www.youtub...  2021-04-09T04:17:54.478Z\n",
              "4      [{'name': 'tomiii 11', 'url': 'https://www.you...  2021-04-09T04:16:14.521Z\n",
              "...                                                  ...                       ...\n",
              "22905  [{'name': 'Statik Gamer', 'url': 'https://www....  2016-08-01T02:02:48.446Z\n",
              "22906  [{'name': 'Excélsior TV', 'url': 'https://www....  2016-07-31T23:36:42.164Z\n",
              "22907  [{'name': 'Davidpkami', 'url': 'https://www.yo...  2016-07-31T23:20:23.698Z\n",
              "22908  [{'name': 'Bendita', 'url': 'https://www.youtu...  2016-07-31T23:19:53.819Z\n",
              "22909  [{'name': 'levelup.com', 'url': 'https://www.y...  2016-07-31T23:09:02.514Z\n",
              "\n",
              "[22910 rows x 2 columns]"
            ]
          },
          "metadata": {
            "tags": []
          },
          "execution_count": 25
        }
      ]
    },
    {
      "cell_type": "markdown",
      "metadata": {
        "id": "c9B6Atr24yFb"
      },
      "source": [
        "Tomando a consideración el filtro llevado al analizar los canales más buscados y el número de reproducciones hechas por año volvemos a repetir este proceso en conjunto."
      ]
    },
    {
      "cell_type": "code",
      "metadata": {
        "id": "UhsdzsNaNcNj"
      },
      "source": [
        "Canal_per_Year = pd.DataFrame({'Datos del video':list( Canal_per_Year.iloc[i][0][0]['name'] for i in range ( len(Canal_per_Year) )), \n",
        "                               'Tiempo': list( Canal_per_Year.iloc[j][1][0:len('YYYY')]  for j in range (len(Canal_per_Year)))})"
      ],
      "execution_count": null,
      "outputs": []
    },
    {
      "cell_type": "markdown",
      "metadata": {
        "id": "g3lBRJvp49wU"
      },
      "source": [
        "Visualizamos el Data Frame «Canal_per_Year». Note que la columna «Datos del video» contiene los canales buscados en una cierta fecha y «Tiempo» considera el año en que dicha busqueda se realizó."
      ]
    },
    {
      "cell_type": "code",
      "metadata": {
        "colab": {
          "base_uri": "https://localhost:8080/",
          "height": 419
        },
        "id": "IA9WBEbON61s",
        "outputId": "be46f55b-3c9e-4fee-c89a-4188dfe9f393"
      },
      "source": [
        "Canal_per_Year"
      ],
      "execution_count": null,
      "outputs": [
        {
          "output_type": "execute_result",
          "data": {
            "text/html": [
              "<div>\n",
              "<style scoped>\n",
              "    .dataframe tbody tr th:only-of-type {\n",
              "        vertical-align: middle;\n",
              "    }\n",
              "\n",
              "    .dataframe tbody tr th {\n",
              "        vertical-align: top;\n",
              "    }\n",
              "\n",
              "    .dataframe thead th {\n",
              "        text-align: right;\n",
              "    }\n",
              "</style>\n",
              "<table border=\"1\" class=\"dataframe\">\n",
              "  <thead>\n",
              "    <tr style=\"text-align: right;\">\n",
              "      <th></th>\n",
              "      <th>Datos del video</th>\n",
              "      <th>Tiempo</th>\n",
              "    </tr>\n",
              "  </thead>\n",
              "  <tbody>\n",
              "    <tr>\n",
              "      <th>0</th>\n",
              "      <td>MIGALA D</td>\n",
              "      <td>2021</td>\n",
              "    </tr>\n",
              "    <tr>\n",
              "      <th>1</th>\n",
              "      <td>MIGALA D</td>\n",
              "      <td>2021</td>\n",
              "    </tr>\n",
              "    <tr>\n",
              "      <th>2</th>\n",
              "      <td>Platzi</td>\n",
              "      <td>2021</td>\n",
              "    </tr>\n",
              "    <tr>\n",
              "      <th>3</th>\n",
              "      <td>Platzi</td>\n",
              "      <td>2021</td>\n",
              "    </tr>\n",
              "    <tr>\n",
              "      <th>4</th>\n",
              "      <td>tomiii 11</td>\n",
              "      <td>2021</td>\n",
              "    </tr>\n",
              "    <tr>\n",
              "      <th>...</th>\n",
              "      <td>...</td>\n",
              "      <td>...</td>\n",
              "    </tr>\n",
              "    <tr>\n",
              "      <th>22905</th>\n",
              "      <td>Statik Gamer</td>\n",
              "      <td>2016</td>\n",
              "    </tr>\n",
              "    <tr>\n",
              "      <th>22906</th>\n",
              "      <td>Excélsior TV</td>\n",
              "      <td>2016</td>\n",
              "    </tr>\n",
              "    <tr>\n",
              "      <th>22907</th>\n",
              "      <td>Davidpkami</td>\n",
              "      <td>2016</td>\n",
              "    </tr>\n",
              "    <tr>\n",
              "      <th>22908</th>\n",
              "      <td>Bendita</td>\n",
              "      <td>2016</td>\n",
              "    </tr>\n",
              "    <tr>\n",
              "      <th>22909</th>\n",
              "      <td>levelup.com</td>\n",
              "      <td>2016</td>\n",
              "    </tr>\n",
              "  </tbody>\n",
              "</table>\n",
              "<p>22910 rows × 2 columns</p>\n",
              "</div>"
            ],
            "text/plain": [
              "      Datos del video Tiempo\n",
              "0            MIGALA D   2021\n",
              "1            MIGALA D   2021\n",
              "2              Platzi   2021\n",
              "3              Platzi   2021\n",
              "4           tomiii 11   2021\n",
              "...               ...    ...\n",
              "22905    Statik Gamer   2016\n",
              "22906    Excélsior TV   2016\n",
              "22907      Davidpkami   2016\n",
              "22908         Bendita   2016\n",
              "22909     levelup.com   2016\n",
              "\n",
              "[22910 rows x 2 columns]"
            ]
          },
          "metadata": {
            "tags": []
          },
          "execution_count": 27
        }
      ]
    },
    {
      "cell_type": "markdown",
      "metadata": {
        "id": "DGrBZHmU5Jpp"
      },
      "source": [
        "Extraemos a una lista los primeros 10 canales con más busquedas."
      ]
    },
    {
      "cell_type": "code",
      "metadata": {
        "colab": {
          "base_uri": "https://localhost:8080/"
        },
        "id": "0DeG8DOxOhz4",
        "outputId": "103464ac-755c-42b4-b5b3-b8c5d5ed6bf1"
      },
      "source": [
        "top_10 = list(Canal_per_Year.loc[:,'Datos del video'].value_counts()[0:10].index)\n",
        "top_10"
      ],
      "execution_count": null,
      "outputs": [
        {
          "output_type": "execute_result",
          "data": {
            "text/plain": [
              "['DrossRotzank',\n",
              " 'Jeshua Revan',\n",
              " 'The Top Comics',\n",
              " 'levelup.com',\n",
              " 'Tortilla Squad',\n",
              " '3DJuegosMX',\n",
              " 'MIGALA D',\n",
              " 'TUBE RADIO',\n",
              " 'Derivando',\n",
              " 'El Pulso De La República']"
            ]
          },
          "metadata": {
            "tags": []
          },
          "execution_count": 28
        }
      ]
    },
    {
      "cell_type": "markdown",
      "metadata": {
        "id": "Yg9AS_aL5T9-"
      },
      "source": [
        "Reutilizamos el Data Frame «DF_Years_X»"
      ]
    },
    {
      "cell_type": "code",
      "metadata": {
        "colab": {
          "base_uri": "https://localhost:8080/"
        },
        "id": "q6zisx6RWRKn",
        "outputId": "7d9290be-b8fc-40fc-8829-f43a8b64cf83"
      },
      "source": [
        "DF_Years_X"
      ],
      "execution_count": null,
      "outputs": [
        {
          "output_type": "execute_result",
          "data": {
            "text/plain": [
              "[2016, 2017, 2018, 2019, 2020, 2021]"
            ]
          },
          "metadata": {
            "tags": []
          },
          "execution_count": 29
        }
      ]
    },
    {
      "cell_type": "markdown",
      "metadata": {
        "id": "labvwgeycLyy"
      },
      "source": [
        "Vamos anexar en un solo Data Frame los valores correspondientes a la cantidad de videos vistos por años de cada canal, para esto, primero anexamos a una lista llamada «Cantidad_Vistas_por_Canal_per_Year» listas que contengan el número de videos vistos en cada uno de los top 10 canales entre 2016 y 2021."
      ]
    },
    {
      "cell_type": "markdown",
      "metadata": {
        "id": "dz7_bjF2cg70"
      },
      "source": [
        "Primero, mediante un ciclo for vamos extrayendo cada uno de los elementos de la variable «top_10».\n",
        "\n",
        "Después este elemento se asigna al filtrado\n",
        "\n",
        "```\n",
        "Canal_per_Year.loc[ Canal_per_Year.loc[:,'Datos del video'] == 'Canal_Deseado_a_Buscar'].value_counts(subset = 'Tiempo')\n",
        "```\n",
        "\n"
      ]
    },
    {
      "cell_type": "markdown",
      "metadata": {
        "id": "6en0gA9gc2eS"
      },
      "source": [
        "Para extraer cada uno de los valores en orden cronológico tomamos en cuenta la variable «DF_Years_X» que contiene en una lista valores enteros desde 2016 a 2021. Con el anterior filtrado asignamos un ciclo for anidado tal que\n",
        "\n",
        "\n",
        "\n",
        "```\n",
        "Canal_per_Year.loc[ Canal_per_Year.loc[:,'Datos del video'] == 'Canal_Deseado_a_Buscar'].value_counts(subset = 'Tiempo')[str('Año deseado')]\n",
        "```\n",
        "\n"
      ]
    },
    {
      "cell_type": "markdown",
      "metadata": {
        "id": "Xtl8kXP0dKmh"
      },
      "source": [
        "Sin embargo no todos los canales top contienen un video visto entre 2016 y 2021, por tanto asignamos un condicional que verifique que dicho año esté dentro de los valores a contar.\n",
        "\n",
        "\n",
        "\n",
        "```\n",
        "str('Año deseado') in Canal_per_Year.loc[ Canal_per_Year.loc[:,'Datos del video'] == 'Canal_Deseado_a_Buscar'].value_counts(subset = 'Tiempo')\n",
        "```\n",
        "\n"
      ]
    },
    {
      "cell_type": "code",
      "metadata": {
        "id": "qUOiksY3WgRd"
      },
      "source": [
        "Cantidad_Vistas_por_Canal_per_Year = list( list(Canal_per_Year.loc[ Canal_per_Year.loc[:,'Datos del video'] == i1].value_counts(subset = 'Tiempo')[str(i2)] #FILTRADO DE VISUALIZACION\n",
        "                                                if str(i2) in Canal_per_Year.loc[ Canal_per_Year.loc[:,'Datos del video'] == i1].value_counts(subset = 'Tiempo') #SI EXISTE AL MENOS UNA VISUALIZACION\n",
        "                                                else 0 #EN CASO DE QUE NO EXISTA VISUALIZACION SE AGREGA 0\n",
        "                                                for i2 in DF_Years_X ) for i1 in top_10) #EL PRIMER BUCLE INDICA QUE EL PROCESO SE REPITE PARA CADA CANAL Y EL SEGUNDO BUCLE SE REPITE PARA CADA Year"
      ],
      "execution_count": null,
      "outputs": []
    },
    {
      "cell_type": "markdown",
      "metadata": {
        "id": "ZIONq1ai5hxk"
      },
      "source": [
        "La anterior lista contiene el número de visualizaciones por año de cada canal."
      ]
    },
    {
      "cell_type": "code",
      "metadata": {
        "colab": {
          "base_uri": "https://localhost:8080/"
        },
        "id": "TnLtNv-z5or3",
        "outputId": "4d7e2d3f-c9a3-46f2-b1c9-a61be51603f5"
      },
      "source": [
        "Cantidad_Vistas_por_Canal_per_Year"
      ],
      "execution_count": null,
      "outputs": [
        {
          "output_type": "execute_result",
          "data": {
            "text/plain": [
              "[[38, 193, 190, 208, 116, 6],\n",
              " [58, 203, 201, 113, 122, 21],\n",
              " [14, 75, 140, 163, 136, 13],\n",
              " [130, 218, 56, 39, 12, 0],\n",
              " [4, 1, 9, 277, 134, 10],\n",
              " [0, 22, 176, 173, 43, 1],\n",
              " [0, 0, 0, 0, 273, 107],\n",
              " [19, 88, 101, 64, 14, 11],\n",
              " [31, 73, 83, 55, 33, 16],\n",
              " [39, 77, 108, 52, 2, 2]]"
            ]
          },
          "metadata": {
            "tags": []
          },
          "execution_count": 31
        }
      ]
    },
    {
      "cell_type": "markdown",
      "metadata": {
        "id": "mIw6rAZi5qUk"
      },
      "source": [
        "Anexamos la anterior lista a un diccionario, en este caso cada lista será un valor y cada clave el nombre del canal a que corresponde dichas visualizaciones."
      ]
    },
    {
      "cell_type": "markdown",
      "metadata": {
        "id": "gkn4nv2e5yU0"
      },
      "source": [
        "Tomaremos como índices del Data Frame los años."
      ]
    },
    {
      "cell_type": "code",
      "metadata": {
        "id": "nEahyeaod_4n"
      },
      "source": [
        "Vistas_Canal_Year = pd.DataFrame({top_10[i3] : Cantidad_Vistas_por_Canal_per_Year[i3] for i3 in range (len(top_10))}, #DICCIONARIO\n",
        "                                 index = DF_Years_X) #NOMBRE DE FILAS"
      ],
      "execution_count": null,
      "outputs": []
    },
    {
      "cell_type": "markdown",
      "metadata": {
        "id": "jxeGf5p26VK1"
      },
      "source": [
        "Visualizamos el Data Frame que contiene la información filtrada."
      ]
    },
    {
      "cell_type": "code",
      "metadata": {
        "colab": {
          "base_uri": "https://localhost:8080/",
          "height": 235
        },
        "id": "Vt6d6ZuKgVJD",
        "outputId": "650fcde3-0f2a-44f4-cb14-93e0f6d79712"
      },
      "source": [
        "Vistas_Canal_Year"
      ],
      "execution_count": null,
      "outputs": [
        {
          "output_type": "execute_result",
          "data": {
            "text/html": [
              "<div>\n",
              "<style scoped>\n",
              "    .dataframe tbody tr th:only-of-type {\n",
              "        vertical-align: middle;\n",
              "    }\n",
              "\n",
              "    .dataframe tbody tr th {\n",
              "        vertical-align: top;\n",
              "    }\n",
              "\n",
              "    .dataframe thead th {\n",
              "        text-align: right;\n",
              "    }\n",
              "</style>\n",
              "<table border=\"1\" class=\"dataframe\">\n",
              "  <thead>\n",
              "    <tr style=\"text-align: right;\">\n",
              "      <th></th>\n",
              "      <th>DrossRotzank</th>\n",
              "      <th>Jeshua Revan</th>\n",
              "      <th>The Top Comics</th>\n",
              "      <th>levelup.com</th>\n",
              "      <th>Tortilla Squad</th>\n",
              "      <th>3DJuegosMX</th>\n",
              "      <th>MIGALA D</th>\n",
              "      <th>TUBE RADIO</th>\n",
              "      <th>Derivando</th>\n",
              "      <th>El Pulso De La República</th>\n",
              "    </tr>\n",
              "  </thead>\n",
              "  <tbody>\n",
              "    <tr>\n",
              "      <th>2016</th>\n",
              "      <td>38</td>\n",
              "      <td>58</td>\n",
              "      <td>14</td>\n",
              "      <td>130</td>\n",
              "      <td>4</td>\n",
              "      <td>0</td>\n",
              "      <td>0</td>\n",
              "      <td>19</td>\n",
              "      <td>31</td>\n",
              "      <td>39</td>\n",
              "    </tr>\n",
              "    <tr>\n",
              "      <th>2017</th>\n",
              "      <td>193</td>\n",
              "      <td>203</td>\n",
              "      <td>75</td>\n",
              "      <td>218</td>\n",
              "      <td>1</td>\n",
              "      <td>22</td>\n",
              "      <td>0</td>\n",
              "      <td>88</td>\n",
              "      <td>73</td>\n",
              "      <td>77</td>\n",
              "    </tr>\n",
              "    <tr>\n",
              "      <th>2018</th>\n",
              "      <td>190</td>\n",
              "      <td>201</td>\n",
              "      <td>140</td>\n",
              "      <td>56</td>\n",
              "      <td>9</td>\n",
              "      <td>176</td>\n",
              "      <td>0</td>\n",
              "      <td>101</td>\n",
              "      <td>83</td>\n",
              "      <td>108</td>\n",
              "    </tr>\n",
              "    <tr>\n",
              "      <th>2019</th>\n",
              "      <td>208</td>\n",
              "      <td>113</td>\n",
              "      <td>163</td>\n",
              "      <td>39</td>\n",
              "      <td>277</td>\n",
              "      <td>173</td>\n",
              "      <td>0</td>\n",
              "      <td>64</td>\n",
              "      <td>55</td>\n",
              "      <td>52</td>\n",
              "    </tr>\n",
              "    <tr>\n",
              "      <th>2020</th>\n",
              "      <td>116</td>\n",
              "      <td>122</td>\n",
              "      <td>136</td>\n",
              "      <td>12</td>\n",
              "      <td>134</td>\n",
              "      <td>43</td>\n",
              "      <td>273</td>\n",
              "      <td>14</td>\n",
              "      <td>33</td>\n",
              "      <td>2</td>\n",
              "    </tr>\n",
              "    <tr>\n",
              "      <th>2021</th>\n",
              "      <td>6</td>\n",
              "      <td>21</td>\n",
              "      <td>13</td>\n",
              "      <td>0</td>\n",
              "      <td>10</td>\n",
              "      <td>1</td>\n",
              "      <td>107</td>\n",
              "      <td>11</td>\n",
              "      <td>16</td>\n",
              "      <td>2</td>\n",
              "    </tr>\n",
              "  </tbody>\n",
              "</table>\n",
              "</div>"
            ],
            "text/plain": [
              "      DrossRotzank  Jeshua Revan  ...  Derivando  El Pulso De La República\n",
              "2016            38            58  ...         31                        39\n",
              "2017           193           203  ...         73                        77\n",
              "2018           190           201  ...         83                       108\n",
              "2019           208           113  ...         55                        52\n",
              "2020           116           122  ...         33                         2\n",
              "2021             6            21  ...         16                         2\n",
              "\n",
              "[6 rows x 10 columns]"
            ]
          },
          "metadata": {
            "tags": []
          },
          "execution_count": 33
        }
      ]
    },
    {
      "cell_type": "markdown",
      "metadata": {
        "id": "1PyoBuFO6Yv2"
      },
      "source": [
        "Imprimimos un gráfico de barras general de todos los datos."
      ]
    },
    {
      "cell_type": "code",
      "metadata": {
        "colab": {
          "base_uri": "https://localhost:8080/",
          "height": 585
        },
        "id": "f7V5J6bigQwV",
        "outputId": "70a6998b-fafd-4d93-b476-75e59b2dcd88"
      },
      "source": [
        "Vistas_Canal_Year.plot(kind = 'bar',figsize=(20,8))\n",
        "plt.title('Número de videos vistos en cada uno de los canales top 10 desde 2016 a 2021')\n",
        "plt.xlabel('Año')\n",
        "plt.ylabel('Número de reproducciones')\n",
        "plt.tight_layout()"
      ],
      "execution_count": null,
      "outputs": [
        {
          "output_type": "display_data",
          "data": {
            "image/png": "[encoded data removed]",
            "text/plain": [
              "<Figure size 1440x576 with 1 Axes>"
            ]
          },
          "metadata": {
            "tags": [],
            "needs_background": "light"
          }
        }
      ]
    },
    {
      "cell_type": "markdown",
      "metadata": {
        "id": "H--AQbw06fOU"
      },
      "source": [
        "Imprimimos un gráfico de barras que contenga solamente los 5 canales más vistos durante 2016 a 2021"
      ]
    },
    {
      "cell_type": "code",
      "metadata": {
        "colab": {
          "base_uri": "https://localhost:8080/",
          "height": 585
        },
        "id": "K5paeMzW6lJX",
        "outputId": "09824958-832c-41dc-a7e1-f85b36fb9b1d"
      },
      "source": [
        "Vistas_Canal_Year.iloc[:,:5].plot(kind = 'bar',figsize=(20,8))\n",
        "plt.title('Número de videos vistos en cada uno de los canales top 5 desde 2016 a 2021')\n",
        "plt.xlabel('Año')\n",
        "plt.ylabel('Número de reproducciones')\n",
        "plt.tight_layout()"
      ],
      "execution_count": null,
      "outputs": [
        {
          "output_type": "display_data",
          "data": {
            "image/png": "[encoded data removed]",
            "text/plain": [
              "<Figure size 1440x576 with 1 Axes>"
            ]
          },
          "metadata": {
            "tags": [],
            "needs_background": "light"
          }
        }
      ]
    },
    {
      "cell_type": "markdown",
      "metadata": {
        "id": "BvXdNifE712C"
      },
      "source": [
        "Comparemos el consumo audiovisual del top 10 entre 2021, 2020 y 2019"
      ]
    },
    {
      "cell_type": "code",
      "metadata": {
        "colab": {
          "base_uri": "https://localhost:8080/",
          "height": 585
        },
        "id": "7J_IMK2677s1",
        "outputId": "1aedfbc3-6ac3-4239-8392-de56858dbe64"
      },
      "source": [
        "Vistas_Canal_Year.loc[[2019,2020,2021]].plot(kind = 'bar',figsize=(20,8))\n",
        "plt.title('Número de videos vistos en cada uno de los canales top 10 entre 2019, 2020 y 2021')\n",
        "plt.xlabel('Años')\n",
        "plt.ylabel('Número de reproducciones')\n",
        "plt.savefig('Consumo_Audiovisual_19-20-21.pdf',format = 'pdf')\n",
        "plt.tight_layout()"
      ],
      "execution_count": null,
      "outputs": [
        {
          "output_type": "display_data",
          "data": {
            "image/png": "[encoded data removed]",
            "text/plain": [
              "<Figure size 1440x576 with 1 Axes>"
            ]
          },
          "metadata": {
            "tags": [],
            "needs_background": "light"
          }
        }
      ]
    }
  ]
}