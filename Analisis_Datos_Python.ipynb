{
  "nbformat": 4,
  "nbformat_minor": 0,
  "metadata": {
    "colab": {
      "name": "Analisis_Datos_Python.ipynb",
      "provenance": [],
      "collapsed_sections": [],
      "authorship_tag": "ABX9TyMreizWu2apzLG6tWDjnjaZ",
      "include_colab_link": true
    },
    "kernelspec": {
      "name": "python3",
      "display_name": "Python 3"
    }
  },
  "cells": [
    {
      "cell_type": "markdown",
      "metadata": {
        "id": "view-in-github",
        "colab_type": "text"
      },
      "source": [
        "<a href=\"https://colab.research.google.com/github/DechiWords/Python_Learn/blob/main/Analisis_Datos_Python.ipynb\" target=\"_parent\"><img src=\"https://colab.research.google.com/assets/colab-badge.svg\" alt=\"Open In Colab\"/></a>"
      ]
    },
    {
      "cell_type": "markdown",
      "metadata": {
        "id": "NJsKZ5WOSnVh"
      },
      "source": [
        "Si deseas realizar alguna aportación, correción o sugerencia, por favor envíala al siguiente correo:\n",
        "\n",
        "joaquin_programapython@hotmail.com"
      ]
    },
    {
      "cell_type": "markdown",
      "metadata": {
        "id": "0lqxbwoMxLZK"
      },
      "source": [
        "# Librerías esenciales para el Análisis de Datos en Python."
      ]
    },
    {
      "cell_type": "markdown",
      "metadata": {
        "id": "wMxlc0tExUD0"
      },
      "source": [
        "Vamos a dividir en tres grupos las librerías esenciales para el análisis de datos en Python.\n",
        "\n",
        "**Grupo 1 : Biblioteca de computación científica**\n",
        "\n",
        "Este grupo se compone por las siguientes paqueterías.\n",
        "\n",
        "|Paquetería|¿Qué ofrece?|\n",
        "|----------|--------------|\n",
        "|Pandas|La biblioteca de Pandas ofrece una estructura de datos y herramientas para una efectiva manipulación y análisis de datos.|\n",
        "|NumPy|Utiliza arrays para sus entradas y salidas. Se amplia su uso con matrices y pequeños cambios en los programas.|\n",
        "|SciPy|Incluye funciones para algunos problemas matemáticos avanzados como integrales, ecuaciones diferenciales, optimización, etc.|\n",
        "\n",
        "**Grupo 2 : Biblioteca de visualización**\n",
        "\n",
        "Este grupo se compone por las siguientes paqueterías.\n",
        "\n",
        "|Paquetería|¿Qué ofrece?|\n",
        "|----------|------------|\n",
        "|Matplotlib|Es la biblioteca más conocida para visualización de datos. Ofrece gráficos y diagramas.|\n",
        "|Seaborn|Esta biblioteca esta construida con Matplotlib. Generamos mapas de calor, series de tiempo y gráficos de violín.|\n",
        "\n",
        "**Grupo 3 : Biblioteca de algoritmos**\n",
        "\n",
        "Este grupo se compone por las siguientes paqueterías.\n",
        "\n",
        "|Paquetería|¿Qué ofrece?|\n",
        "|----------|------------|\n",
        "|Scikit-lear|Contiene herramientas de modelado estadístico como regresión, clasificación, agrupación, etc.|\n",
        "|Statsmodels|Esta librería permite a los programadores explorar dastos, estimar modelos estadístico y pruebas estadísticas.|"
      ]
    },
    {
      "cell_type": "markdown",
      "metadata": {
        "id": "6tEFemjM0dqq"
      },
      "source": [
        "#Diccionario"
      ]
    },
    {
      "cell_type": "markdown",
      "metadata": {
        "id": "g6eov-Wv0glf"
      },
      "source": [
        "Los datos tipo 'dict', tambien llamados diccionarios, *son un tipo de colección que asocia clave:valor*.\n",
        "\n",
        "La principal característica es que **asocia claves a valores**, esto es, al dato escrito en la posición izquierda del ' : ' se le asigna el dato escrito en la posición derecha del ' : '.\n",
        "\n",
        "Los diccionarios pueden ser modificados después de haber sido creados.\n",
        "\n",
        "Además son datos ordenados, es decir, preservan el orden de los pares clave:valor."
      ]
    },
    {
      "cell_type": "markdown",
      "metadata": {
        "id": "b2b-fRKr1Hdw"
      },
      "source": [
        "##Restricción\n",
        "\n",
        "La restricción principal de los diccionarios es que **no pueden haber dos o más claves iguales**."
      ]
    },
    {
      "cell_type": "markdown",
      "metadata": {
        "id": "00LS5jjP1UUm"
      },
      "source": [
        "## Sintaxis.\n",
        "\n",
        "```\n",
        "Variable = {Clave_1 : Valor_1, Clave_2 : Valor_2, ..., Clave_K : Valor_K}\n",
        "```\n",
        "\n",
        "Notemos que cada elemento del diccionario esta separado por comas y a cada clave le corresponde un valor.\n"
      ]
    },
    {
      "cell_type": "markdown",
      "metadata": {
        "id": "t1dwCSyU1kgd"
      },
      "source": [
        "### EJEMPLO DE DICCIONARIO"
      ]
    },
    {
      "cell_type": "code",
      "metadata": {
        "id": "b0XxDu7N1qMe"
      },
      "source": [
        "Dic = {'Ahq' : True, 'Epsilon' : 21, True : False}"
      ],
      "execution_count": null,
      "outputs": []
    },
    {
      "cell_type": "markdown",
      "metadata": {
        "id": "_xQuSd2n14u6"
      },
      "source": [
        "Note que la primer clave es de tipo string asignando un valor tipo bool, la segunda clave es tipo string asignando un valor tipo int y la tercer clave es un tipo bool asignando un tipo bool."
      ]
    },
    {
      "cell_type": "markdown",
      "metadata": {
        "id": "ApQWqSVy2GDo"
      },
      "source": [
        "## Como acceder a los valores de un diccionario\n",
        "\n",
        "Para acceder a los valores de un diccionario se utiliza la siguiente sintaxis.\n",
        "\n",
        "Sintaxis.\n",
        "\n",
        "```\n",
        "Diccionario = {Clave1 : Valor1, ..., ClaveK : ValorK}\n",
        "\n",
        "Elemento = Diccionario[ClaveI]\n",
        "```\n",
        "\n",
        "Si la clave no existe entonces tendremos un error."
      ]
    },
    {
      "cell_type": "markdown",
      "metadata": {
        "id": "LcSP8b1R2ffX"
      },
      "source": [
        "### EJEMPLO DE COMO ACCEDER A LOS VALORES DE UN DICCIONARIO"
      ]
    },
    {
      "cell_type": "code",
      "metadata": {
        "id": "olNJwb6f2i13"
      },
      "source": [
        "#CONSIDERE EL SIGUIENTE DICCIONARIO\n",
        "D = {'Elemento 1': 'Granada', False : 89, 25 : True}\n",
        "\n",
        "#ASIGNE A LA VARIABLE Elemento_1, Elemento_2 y Elemento_3 LOS VALORES QUE \n",
        "#CORRESPONDEN A LAS CLAVES 'Elemento 1', False Y 25 RESPECTIVAMENTE.\n",
        "\n"
      ],
      "execution_count": null,
      "outputs": []
    },
    {
      "cell_type": "markdown",
      "metadata": {
        "id": "vTPJmdRu3MTi"
      },
      "source": [
        "## Función get\n",
        "\n",
        "Una extensión del punto anterior es el uso de la función get(), esta función nos regresa el valor correspondiente a la clave solicitada.\n",
        "\n",
        "Sintaxis.\n",
        "\n",
        "```\n",
        "Variable = Diccionario.get(Clave,Valor por Defecto)\n",
        "```\n",
        "\n",
        "Notemos que agregamos un segundo argumento llamado 'Valor por Defecto', este sirve como una alternativa en caso de que la clave solicitada no exista dentro del diccionario, es decir, si la clave no existe entonces se asignará el valor por defecto asignado por el programador.\n",
        "\n",
        "*Si no se proporciona un segundo argumento y la clave no existe entonces se regresa NoneType*."
      ]
    },
    {
      "cell_type": "markdown",
      "metadata": {
        "id": "6QdjVkjq3pv9"
      },
      "source": [
        "### EJEMPLO DE LA FUNCIÓN get"
      ]
    },
    {
      "cell_type": "code",
      "metadata": {
        "id": "rpHTxUXC3rvZ"
      },
      "source": [
        "#CONSIDERE EL SIGUIENTE DICCIONARIO\n",
        "QM = {1 : ['Epsilon','Delta'], 2 : 'Amarillo'}\n",
        "\n",
        "#UTILICE LA FUNCION get PARA CONSEGUIR EL VALOR CORRESPONDIENTE\n",
        "#A LA CLAVE 3, EN CASO DE NO EXISTIR REGRESE False\n"
      ],
      "execution_count": null,
      "outputs": []
    },
    {
      "cell_type": "markdown",
      "metadata": {
        "id": "zIHT7sHL39yE"
      },
      "source": [
        "## Como usar el for para recorrer los diccionarios\n",
        "\n",
        "Podemos utilizar el ciclo for para recorrer los diccionarios, en particular, lo podemos usar para recorrer solo las claves, solo los valores o claves y valores al mismo tiempo.\n"
      ]
    },
    {
      "cell_type": "markdown",
      "metadata": {
        "id": "nfhVO_KL8JQv"
      },
      "source": [
        "### Recorrer solo claves\n",
        "\n",
        "Para recorrer solo las claves de un diccionario usamos el comando keys.\n",
        "\n",
        "Sintaxis.\n",
        "\n",
        "```\n",
        "for Variable in Diccionario.keys():\n",
        "  ...\n",
        "```\n"
      ]
    },
    {
      "cell_type": "markdown",
      "metadata": {
        "id": "rE1rRNQt8P3t"
      },
      "source": [
        "### Recorrer solo valores\n",
        "\n",
        "Para recorrer solo los valores de un diccionarios usamos el comando values.\n",
        "\n",
        "Sintaxis.\n",
        "\n",
        "```\n",
        "for Variable in Diccionario.values():\n",
        "  ...\n",
        "```\n",
        "\n"
      ]
    },
    {
      "cell_type": "markdown",
      "metadata": {
        "id": "kazdETFp8ZFc"
      },
      "source": [
        "### Recorrer claves y valores\n",
        "\n",
        "Para recorrer claves y valores al mismo tiempo usamos el comando items.\n",
        "\n",
        "Sintaxis.\n",
        "\n",
        "```\n",
        "for Variable in Diccionario.items():\n",
        "  ...\n",
        "```\n",
        "\n"
      ]
    },
    {
      "cell_type": "markdown",
      "metadata": {
        "id": "HyphNpcM9KGo"
      },
      "source": [
        "#### EJEMPLO DE RECORRER DICCIONARIOS"
      ]
    },
    {
      "cell_type": "code",
      "metadata": {
        "id": "FIRGmfX59OFt"
      },
      "source": [
        "#CONSIDERE EL SIGUIENTE DICCIONARIO\n",
        "AW = {'Clave 1':1, 'Clave 2':2, 'Clave 3':3,'Clave 4':4,'Clave 5':5}"
      ],
      "execution_count": null,
      "outputs": []
    },
    {
      "cell_type": "code",
      "metadata": {
        "id": "ee0W88Uz-em4"
      },
      "source": [
        "#RECORRE LAS CLAVES DEL DICCIONARIO AW\n"
      ],
      "execution_count": null,
      "outputs": []
    },
    {
      "cell_type": "code",
      "metadata": {
        "id": "XZkkPs93-iS8"
      },
      "source": [
        "#RECORRE LOS VALORES DEL DICCIONARIO AW\n"
      ],
      "execution_count": null,
      "outputs": []
    },
    {
      "cell_type": "code",
      "metadata": {
        "id": "Pea_QGPY-k6s"
      },
      "source": [
        "#RECORRE LAS CLAVES Y VALORES DEL DICCIONARIO AW\n"
      ],
      "execution_count": null,
      "outputs": []
    },
    {
      "cell_type": "markdown",
      "metadata": {
        "id": "7yP4L3Lv-ohn"
      },
      "source": [
        "## Como agregar elementos a un diccionario\n",
        "\n",
        "Para asignar un nuevo elemento al diccionario usamos el operador ' = '.\n",
        "\n",
        "Sintaxis.\n",
        "\n",
        "```\n",
        "Diccionario[clave] = Dato\n",
        "```"
      ]
    },
    {
      "cell_type": "markdown",
      "metadata": {
        "id": "90iMrPr7_UlZ"
      },
      "source": [
        "### EJEMPLO COMO AGREGAR ELEMENTOS A UN DICCIONARIO"
      ]
    },
    {
      "cell_type": "code",
      "metadata": {
        "id": "HGRZ2ABO_YVx"
      },
      "source": [
        "#CONSIDERE EL SIGUIENTE DICCIONARIO\n",
        "\n",
        "MQ = {True : 1, False : 0}\n",
        "\n",
        "#AGREGUE LA CLAVE '2' CON EL DATO 2 AL DICCIONARIO MQ\n"
      ],
      "execution_count": null,
      "outputs": []
    },
    {
      "cell_type": "markdown",
      "metadata": {
        "id": "_VYj0fqI_s9O"
      },
      "source": [
        "## Modificar valores de un diccionario\n",
        "\n",
        "Para modificar los valores de una clave en el diccionario usamos la misma sintaxis al agregar elementos de a un diccionario.\n",
        "\n",
        "Sintaxis.\n",
        "\n",
        "```\n",
        "Diccionario[clave] = Dato\n",
        "```"
      ]
    },
    {
      "cell_type": "markdown",
      "metadata": {
        "id": "xXyzFEMiAEF8"
      },
      "source": [
        "### EJEMPLO COMO MODIFICAR VALORES DE UN DICCIONARIO"
      ]
    },
    {
      "cell_type": "code",
      "metadata": {
        "id": "EO-oFC3PAHbp"
      },
      "source": [
        "#CONSIDERE EL SIGUIENTE DICCIONARIO \n",
        "GH = {1 : 1, '1' : '1', 0 : 0}\n",
        "\n",
        "#MODIFIQUE EL VALOR DE LA CLAVE 1.\n"
      ],
      "execution_count": null,
      "outputs": []
    },
    {
      "cell_type": "markdown",
      "metadata": {
        "id": "S-GyTyEyAVgQ"
      },
      "source": [
        "## Eliminar un elemento de un diccionario\n",
        "\n",
        "En Python existen diversos modos de eliminar un elemento de un diccionario."
      ]
    },
    {
      "cell_type": "markdown",
      "metadata": {
        "id": "b_cYK8P9AjGM"
      },
      "source": [
        "### Función pop\n",
        "\n",
        "La función pop elimina la clave deseada y regresa el valor de la clave.\n",
        "\n",
        "Sintaxis.\n",
        "\n",
        "```\n",
        "Diccionario.pop(Clave, Valor por Defecto)\n",
        "```\n",
        "\n",
        "De manera análoga a la función get, un segundo argumento de la función pop es señalar un valor por defecto en caso de no existir la clave indicada.\n"
      ]
    },
    {
      "cell_type": "markdown",
      "metadata": {
        "id": "I7Q7NQnkA-1c"
      },
      "source": [
        "### Función popitem\n",
        "\n",
        "La función popitem elimina el ultimo elemento del diccionario y lo regresa.\n",
        "\n",
        "Sintaxis.\n",
        "\n",
        "```\n",
        "Diccionario.popitem()\n",
        "```"
      ]
    },
    {
      "cell_type": "markdown",
      "metadata": {
        "id": "M1BWtk9yBLe4"
      },
      "source": [
        "### Función del\n",
        "\n",
        "La función del elimina la clave deseada del diccionario.\n",
        "\n",
        "Sintaxis.\n",
        "\n",
        "```\n",
        "del Diccionario[clave]\n",
        "```"
      ]
    },
    {
      "cell_type": "markdown",
      "metadata": {
        "id": "G5Ireuk4BU_H"
      },
      "source": [
        "### Función clear\n",
        "\n",
        "La función clear elimina todas las claves del diccionario.\n",
        "\n",
        "Sintaxis.\n",
        "\n",
        "```\n",
        "Diccionario.clear()\n",
        "```"
      ]
    },
    {
      "cell_type": "markdown",
      "metadata": {
        "id": "I_v16eHnCFVv"
      },
      "source": [
        "#### EJEMPLO DE COMO ELEMINAR UN ELEMENTO DE UN DICCIONARIO"
      ]
    },
    {
      "cell_type": "code",
      "metadata": {
        "id": "PV3PuNteIadb"
      },
      "source": [
        "#CONSIDERE EL SIGUIENTE DICCIONARIO\n",
        "D1 = {1:'Uno', 2:'Dos', 3:'Tres'}\n",
        "\n",
        "#ELIMINE LA CLAVE 2 MEDIANTE LA FUNCION pop\n"
      ],
      "execution_count": null,
      "outputs": []
    },
    {
      "cell_type": "code",
      "metadata": {
        "id": "5GgBEr7cIjT1"
      },
      "source": [
        "#CONSIDERE EL SIGUIENTE DICCIONARIO\n",
        "D2 = {'Tres':3, 'Epsilon':12, True:False, \"1\":3, \"2\":4, \"3\":6}\n",
        "\n",
        "#ELIMINE EL ULTIMO ELEMENTO DEL DICCIONARIO"
      ],
      "execution_count": null,
      "outputs": []
    },
    {
      "cell_type": "code",
      "metadata": {
        "id": "Uf0gly-IIo7l"
      },
      "source": [
        "#CONSIDERE EL SIGUIENTE DICCIONARIO\n",
        "D3 = {'Cuatro':432,'Lambda':1,False:True}\n",
        "\n",
        "#ELIMINE LA CLAVE FALSE USANDO LA FUNCION del\n"
      ],
      "execution_count": null,
      "outputs": []
    },
    {
      "cell_type": "code",
      "metadata": {
        "id": "X0nmXRWIIvI9"
      },
      "source": [
        "#CONSIDERE EL SIGUIENTE DICCIONARIO\n",
        "D4 = {89:\"Gracias\",'Mexico':2,'Arriba':'Abajo'}\n",
        "\n",
        "#BORRE TODOS LOS ELEMENTOS DEL DICCIONARIO\n"
      ],
      "execution_count": null,
      "outputs": []
    },
    {
      "cell_type": "markdown",
      "metadata": {
        "id": "a8YdbTotI1s2"
      },
      "source": [
        "## Conocer el numero de elementos de un diccionario\n",
        "\n",
        "Para conocer el numero de elementos de un diccionario usamos la función len.\n",
        "\n",
        "Sintaxis.\n",
        "\n",
        "```\n",
        "len(Diccionario)\n",
        "```"
      ]
    },
    {
      "cell_type": "markdown",
      "metadata": {
        "id": "UZSgy3wEKUYQ"
      },
      "source": [
        "## Comprobar si una clave esta en un diccionario\n",
        "\n",
        "Para saber si una clave esta en el diccionario usamos el operador in.\n",
        "\n",
        "Existen dos métodos de uso.\n",
        "\n",
        "1. Usando la función print()\n",
        "2. Usando la función if.\n",
        "\n",
        "Si usamos la función print(), seguimos la siguiente instrucción.\n",
        "\n",
        "```\n",
        "print(Clave in Diccionario)\n",
        "```\n",
        "\n",
        "Esto nos regresa un valor booleano.\n",
        "\n",
        "Si usamos la función if, seguimos la siguiente sintaxis.\n",
        "\n",
        "```\n",
        "if Clave in Diccionario:\n",
        "  print(True)\n",
        "```\n"
      ]
    },
    {
      "cell_type": "markdown",
      "metadata": {
        "id": "gGOooHx2K0IB"
      },
      "source": [
        "### EJEMPLO PARA SABER EL NUMERO DE ELEMENTOS DE UN DICCIONARIO Y COMPROBAR SI UNA CLAVE ESTA EN UN DICCIONARIO"
      ]
    },
    {
      "cell_type": "code",
      "metadata": {
        "id": "rO0RQnqDK5s9"
      },
      "source": [
        "#CONSIDERE EL SIGUIENTE DICCIONARIO\n",
        "\n",
        "E = {'Rusia':50,'Mexico':24,'Canada':12.89}\n",
        "\n",
        "#IMPRIMA EL NUMERO DE ELEMENTOS DEL DICCIONARIO E"
      ],
      "execution_count": null,
      "outputs": []
    },
    {
      "cell_type": "code",
      "metadata": {
        "id": "2vJOUwEaLDbe"
      },
      "source": [
        "#DETERMINE SI LA CLAVE 'Estados Unidor' EXISTE DENTRO DEL DICCIONARIO E\n"
      ],
      "execution_count": null,
      "outputs": []
    },
    {
      "cell_type": "markdown",
      "metadata": {
        "id": "NSU0qchZLJxS"
      },
      "source": [
        "## Comprobar si dos diccionarios son iguales\n",
        "\n",
        "En Python se define que dos diccionarios son iguales si contienen el mismo conjunto de pares clave:valor independientemente del orden que tengan. Para ello usamos el operador ' == '.\n",
        "\n",
        "Existen dos métodos de uso.\n",
        "\n",
        "1. Usando la función print()\n",
        "2. Usando la función if.\n",
        "\n",
        "Si usamos la función print(), seguimos la siguiente instrucción.\n",
        "\n",
        "```\n",
        "print(Diccionario1 == Diccionario2)\n",
        "```\n",
        "\n",
        "Esto nos regresa un valor booleano.\n",
        "\n",
        "Si usamos la función if, seguimos la siguiente sintaxis.\n",
        "\n",
        "```\n",
        "if Diccionario1 == Diccionario2:\n",
        "  print(True)\n",
        "```\n",
        "\n"
      ]
    },
    {
      "cell_type": "markdown",
      "metadata": {
        "id": "_Hi3-PzULrr0"
      },
      "source": [
        "### EJEMPLO DE COMPROBAR SI DOS DICCIONARIOS SON IGUALES"
      ]
    },
    {
      "cell_type": "code",
      "metadata": {
        "id": "LExLeZCCLuPg"
      },
      "source": [
        "#CONSIDERE LOS SIGUIENTES DICCIONARIOS\n",
        "E1 = {1:2,3:4,5:6}\n",
        "E2 = {5:6,3:4,1:2}\n",
        "\n",
        "# DETERMINE SI SON IGUALES\n"
      ],
      "execution_count": null,
      "outputs": []
    },
    {
      "cell_type": "markdown",
      "metadata": {
        "id": "4waInb-WL0PZ"
      },
      "source": [
        "## Diccionario de diccionarios\n",
        "\n",
        "Es posible que los valores por sí mismos sean un diccionario.\n",
        "\n",
        "Sintaxis.\n",
        "\n",
        "```\n",
        "Variable = {Clave_1 : Diccionario_1, Clave_2 : Diccionario_2, ..., Clave_K : Diccionario_K}\n",
        "```"
      ]
    },
    {
      "cell_type": "markdown",
      "metadata": {
        "id": "_sx0uei1MIdo"
      },
      "source": [
        "### EJEMPLO DE DICCIONARIO DE DICCIONARIOS"
      ]
    },
    {
      "cell_type": "code",
      "metadata": {
        "id": "oLacJxpLMLUl"
      },
      "source": [
        "#CONSIDERE LOS SIGUIENTES DICCIONARIOS\n",
        "Dic1 = {'Parque':1,'Avion':2,'Tren':3}\n",
        "Dic2 = {'Coche':4, 'Pais':5, 'Helicoptero':6}\n",
        "\n",
        "#DEFINA UN DICCIONARIO QUE CONTENGA COMO VALOR LOS DOS DICCIONARIOS ANTERIORES.\n"
      ],
      "execution_count": null,
      "outputs": []
    },
    {
      "cell_type": "markdown",
      "metadata": {
        "id": "fPpMpuNhMUT5"
      },
      "source": [
        "## Almacenar en una lista las claves de un diccionario\n",
        "\n",
        "Si deseamos almacenar en una lista las claves de un diccionario usamos la función list.\n",
        "\n",
        "Sintaxis.\n",
        "\n",
        "```\n",
        "list(Diccionario)\n",
        "```\n",
        "\n"
      ]
    },
    {
      "cell_type": "markdown",
      "metadata": {
        "id": "_rB0UYzvMdCZ"
      },
      "source": [
        "### EJEMPLO DE ALMACENAR EN UNA LISTA LAS CLAVES DE UN DICCIONARIO"
      ]
    },
    {
      "cell_type": "code",
      "metadata": {
        "id": "2OpqxphzMg1U"
      },
      "source": [
        "#CONSIDERE EL SIGUIENTE DICCIONARIO\n",
        "P = {'Euclides':1,'Aristoteles':2,'Socrates':3}\n",
        "\n",
        "#GUARDE EN UNA LISTA LAS CLAVES DEL DICCIONARIO P\n"
      ],
      "execution_count": null,
      "outputs": []
    },
    {
      "cell_type": "markdown",
      "metadata": {
        "id": "mV99kI_5c-Nc"
      },
      "source": [
        "#Pandas\n",
        "\n"
      ]
    },
    {
      "cell_type": "markdown",
      "metadata": {
        "id": "RRuYIB5sdEU6"
      },
      "source": [
        "Recordemos que pandas ofrece una estructura de datos y herramientas para una efectiva manipulación y análisis de datos.\n",
        "\n",
        "Por ello, la siguiente sección trabajaremos con sus herramientas principales. Por lo tanto, se ejecutará el código de importación de pandas para que, en posteriores ejecuciones de código no recurramos a una importación innecesaria.\n",
        "\n",
        "Por constumbre, se importa pandas como pd."
      ]
    },
    {
      "cell_type": "code",
      "metadata": {
        "id": "n11JRHXbx4kb"
      },
      "source": [
        "#IMPORTAMOS PANDAS\n",
        "import pandas as pd"
      ],
      "execution_count": null,
      "outputs": []
    },
    {
      "cell_type": "markdown",
      "metadata": {
        "id": "HFkW6FpfY-Mo"
      },
      "source": [
        "#Serie"
      ]
    },
    {
      "cell_type": "markdown",
      "metadata": {
        "id": "uWhKaV0Ga_3d"
      },
      "source": [
        "## Definición\n",
        "\n",
        "Las series son un arreglo unidimensional, es decir, esta compuesta exclusivamente por una columna, dicho de alguna manera.\n",
        "\n",
        "Las series se pueden crear tanto a partir de listas como de diccionarios, en nuestro caso particular nos enfocaremos en diccionarios."
      ]
    },
    {
      "cell_type": "markdown",
      "metadata": {
        "id": "zpnxxU29c04V"
      },
      "source": [
        "## Sintaxis.\n",
        "\n",
        "```\n",
        "Variable = pd.Series(Diccionario)\n",
        "```\n",
        "\n",
        "Notemos que para poder trabajar con series primero importamos la librería pandas, esto sucede porque series es un dato que vive dentro de la librería pandas.\n",
        "\n",
        "Al momento de definir una serie con un diccionario, las claves pasan a ser los nombres de las filas y los valores asignados a cada clave los elementos de las filas, por tanto, es usado con frecuencia datos tipo lista."
      ]
    },
    {
      "cell_type": "markdown",
      "metadata": {
        "id": "CZTM_PltZp3v"
      },
      "source": [
        "### EJEMPLO DE SERIE"
      ]
    },
    {
      "cell_type": "code",
      "metadata": {
        "colab": {
          "base_uri": "https://localhost:8080/"
        },
        "id": "poBVFex2ZwRG",
        "outputId": "da56b0d3-8b55-40c7-cb9b-4bc577107d72"
      },
      "source": [
        "#DISEÑAMOS UN DICCIONARIO\n",
        "DIC = {'FILA 1':[True,False,False],'FILA 2':[1,2,3],'FILA 3':['Epsilon','Delta']}\n",
        "SE = pd.Series(DIC)\n",
        "\n",
        "#IMPRIMIMOS LA SERIE\n",
        "print(SE)"
      ],
      "execution_count": null,
      "outputs": [
        {
          "output_type": "stream",
          "text": [
            "FILA 1    [True, False, False]\n",
            "FILA 2               [1, 2, 3]\n",
            "FILA 3        [Epsilon, Delta]\n",
            "dtype: object\n"
          ],
          "name": "stdout"
        }
      ]
    },
    {
      "cell_type": "markdown",
      "metadata": {
        "id": "wBaDCFvUbDt7"
      },
      "source": [
        "## Seleccionar datos según su posición\n",
        "\n",
        "Si deseamos seleccionar un dato, un conjunto continuo de datos o un conjunto discontinuo de datos en una serie es posible."
      ]
    },
    {
      "cell_type": "markdown",
      "metadata": {
        "id": "9jUXR2hRcJE-"
      },
      "source": [
        "### Seleccionar un solo dato fila según posición\n",
        "\n",
        "Para seleccionar una sola fila según posición usamos la siguiente sintaxis.\n",
        "\n",
        "Sintaxis.\n",
        "\n",
        "```\n",
        "serie[i]\n",
        "```"
      ]
    },
    {
      "cell_type": "markdown",
      "metadata": {
        "id": "Srtyw0qlbhgh"
      },
      "source": [
        "### Seleccionar datos continuos según posición\n",
        "\n",
        "Para seleccionar datos continuos según la posición es mediante la siguiente sintaxis.\n",
        "\n",
        "Sintaxis.\n",
        "\n",
        "```\n",
        "serie[i:j]\n",
        "```"
      ]
    },
    {
      "cell_type": "markdown",
      "metadata": {
        "id": "MHXvYd1NbtC-"
      },
      "source": [
        "### Seleccionar datos discontinuos según posición\n",
        "\n",
        "Para seleccionar datos discontinuos según la posición es mediante la siguiente sintaxis.\n",
        "\n",
        "Sintaxis.\n",
        "\n",
        "```\n",
        "serie [ [i,j,...,k] ]\n",
        "```\n",
        "\n",
        "Notemos que almacenamos en una lista las posiciones de los datos que vamos a extraer."
      ]
    },
    {
      "cell_type": "markdown",
      "metadata": {
        "id": "aXE13fNpcMe-"
      },
      "source": [
        "#### EJEMPLO DE SELECCIONAR DATOS SEGÚN POSICIÓN"
      ]
    },
    {
      "cell_type": "code",
      "metadata": {
        "id": "Ta_LiYvrclvn"
      },
      "source": [
        "#CONSIDERE LA SIGUIENTE SERIE\n",
        "QZ = {'A1' : 56, 'A2' : 75, 'A3' : 29}\n",
        "QZS = pd.Series(QZ)"
      ],
      "execution_count": null,
      "outputs": []
    },
    {
      "cell_type": "code",
      "metadata": {
        "id": "np02LZyIvMxQ"
      },
      "source": [
        "#SELECCIONE LA FILA QUE TIENE COMO VALOR 75\n"
      ],
      "execution_count": null,
      "outputs": []
    },
    {
      "cell_type": "code",
      "metadata": {
        "id": "npr0LU3gvTFW"
      },
      "source": [
        "#SELECCIONE LAS TRES FILAS DE LA SERIE\n"
      ],
      "execution_count": null,
      "outputs": []
    },
    {
      "cell_type": "code",
      "metadata": {
        "id": "_UG60wulvVZd"
      },
      "source": [
        "#SELECCIONE LA PRIMER Y TERCER FILA DE LA SERIE\n"
      ],
      "execution_count": null,
      "outputs": []
    },
    {
      "cell_type": "markdown",
      "metadata": {
        "id": "MqnknrGQva93"
      },
      "source": [
        "## Seleccionar datos según condiciones\n",
        "\n",
        "Si deseamos seleccionar ciertos datos en función de alguna condición lógica, lo haremos mediante la siguiente sintaxis.\n",
        "\n",
        "Sintaxis.\n",
        "\n",
        "```\n",
        "serie[ (serie # Numero) ]\n",
        "```\n",
        "\n",
        "Las # representan los operadores lógicos, Numero representa el número que queremos comparar en la serie.\n",
        "\n",
        "Si deseamos dos condiciones al mismo tiempo tenemos la siguiente sintaxis.\n",
        "\n",
        "```\n",
        "serie [ (serie # Numero) Condicional (serie # Numero) ]\n",
        "```\n",
        "\n",
        "Condicional representa los operadores & y |, que a su vez representan and y or.\n"
      ]
    },
    {
      "cell_type": "markdown",
      "metadata": {
        "id": "GkgzObTSwPPW"
      },
      "source": [
        "### EJEMPLO DE SELECCIONAR DATOS SEGÚN CONDICIÓN"
      ]
    },
    {
      "cell_type": "code",
      "metadata": {
        "id": "oL9SVJQRxsQg"
      },
      "source": [
        "#CONSIDERE LA SIGUIENTE SERIE\n",
        "FP = {'Juan' : 64, 'Pedro' : 78, 'Melissa' : 67, 'Hector' : 34, 'Rodrigo' : 90, 'Melany' : 84}\n",
        "FPS = pd.Series(FP)"
      ],
      "execution_count": null,
      "outputs": []
    },
    {
      "cell_type": "code",
      "metadata": {
        "id": "TPTLeWCNxvKr"
      },
      "source": [
        "#IMPRIMA AQUELLOS QUE TENGAN UN VALOR MAYOR O IGUAL A 70\n"
      ],
      "execution_count": null,
      "outputs": []
    },
    {
      "cell_type": "code",
      "metadata": {
        "id": "mW8vY574xwmM"
      },
      "source": [
        "#IMPRIMA AQUELLOS QUE TENGAN UN VALOR MAYOR O IGUAL A 70 O MENOR A 50\n"
      ],
      "execution_count": null,
      "outputs": []
    },
    {
      "cell_type": "markdown",
      "metadata": {
        "id": "C79VHYl_x-Vh"
      },
      "source": [
        "## Cambiar el valor de un dato\n",
        "\n",
        "Para cambiar el valor de un dato de una fila lo haremos mediante la siguiente sintaxis.\n",
        "\n",
        "Sintaxis.\n",
        "\n",
        "```\n",
        "serie[i] = valor\n",
        "```"
      ]
    },
    {
      "cell_type": "markdown",
      "metadata": {
        "id": "VKTopMKuyM9T"
      },
      "source": [
        "### EJEMPLO DE CAMBIAR EL VALOR DE UN DATO"
      ]
    },
    {
      "cell_type": "code",
      "metadata": {
        "id": "HD3JmTcAyXBt"
      },
      "source": [
        "#CONSIDERE LA SIGUIENTE SERIE\n",
        "K = {'D 1': 1,'D 2':2, 'D 3': 3}\n",
        "K2 = pd.Series(K)"
      ],
      "execution_count": null,
      "outputs": []
    },
    {
      "cell_type": "code",
      "metadata": {
        "id": "lI7OtlXLygoj"
      },
      "source": [
        "#CAMBIE EL VALOR DE LA FILA 2 POR 4\n"
      ],
      "execution_count": null,
      "outputs": []
    },
    {
      "cell_type": "markdown",
      "metadata": {
        "id": "hLnqggSKyk5y"
      },
      "source": [
        "## Función apply\n",
        "\n",
        "La función apply es una instrucción que nos ayuda aplicar otra función a cada uno de los elementos de la serie.\n",
        "\n",
        "Sintaxis.\n",
        "\n",
        "```\n",
        "serie.apply(Funcion)\n",
        "```"
      ]
    },
    {
      "cell_type": "markdown",
      "metadata": {
        "id": "Z3SznrCey2Eu"
      },
      "source": [
        "### EJEMPLO DE LA FUNCIÓN apply"
      ]
    },
    {
      "cell_type": "code",
      "metadata": {
        "id": "UW3vKEwoy7OT"
      },
      "source": [
        "'''\n",
        "La siguiente función le suma 100 a un numero si es par y 0 si no.\n",
        "'''\n",
        "\n",
        "def Suma_100 (x):\n",
        "  if x%2 == 0:\n",
        "    return x+100\n",
        "  else:\n",
        "    return x"
      ],
      "execution_count": null,
      "outputs": []
    },
    {
      "cell_type": "code",
      "metadata": {
        "id": "IhcuSTgMzH67"
      },
      "source": [
        "#APLIQUE LA FUNCION ANTERIOR A LA SIGUIENTE SERIE\n",
        "R = {'Casa 1':35,'Casa 2':46,'Casa 3':57}\n",
        "R2 = pd.Series(R)\n"
      ],
      "execution_count": null,
      "outputs": []
    },
    {
      "cell_type": "markdown",
      "metadata": {
        "id": "N1G7uT_azXmE"
      },
      "source": [
        "#Data Frame"
      ]
    },
    {
      "cell_type": "markdown",
      "metadata": {
        "id": "KC716WagzZf5"
      },
      "source": [
        "## Definición\n",
        "\n",
        "Un Data Frame es un arreglo bidimensional, es decir, esta compuesta por columnas y filas donde cada uno de los renglones pertenece a un registro."
      ]
    },
    {
      "cell_type": "markdown",
      "metadata": {
        "id": "EMAtVpHozin8"
      },
      "source": [
        "## Sintaxis\n",
        "\n",
        "Existen diversas maneras de diseñar un Data Frame, la que usaremos nosotros es mediante listas y diccionarios.\n",
        "\n",
        "Sintaxis.\n",
        "\n",
        "```\n",
        "variable = pd.DataFrame(Diccionario)\n",
        "```\n",
        "\n",
        "Notemos que para poder trabajar con Data Frames primero importamos la librería pandas, esto sucede porque los Data Frames es un dato que vive dentro de la librería pandas.\n",
        "\n",
        "La estructura del diccionario que definirá el Data Frame es importante porque ahora las claves definirán el nombre de las columnas y los valores asignados a las claves deben ser listas que propiamente definirán los elementos de las filas."
      ]
    },
    {
      "cell_type": "markdown",
      "metadata": {
        "id": "v6yNcg4I0J_E"
      },
      "source": [
        "### EJEMPLO DE DATA FRAME"
      ]
    },
    {
      "cell_type": "code",
      "metadata": {
        "id": "UCLsmQ0c0JB2"
      },
      "source": [
        "#DISEÑAMOS UN DICCIONARIO\n",
        "AQ = {'COLUMNA 1' : [1,2,3], 'COLUMNA 2' : [4,5,6], 'COLUMNA 3' : [7,8,9]}\n",
        "\n",
        "#DEFINIMOS EL DATA FRAME\n",
        "\n",
        "AQD = pd.DataFrame(AQ)\n",
        "\n",
        "print(AQD)"
      ],
      "execution_count": null,
      "outputs": []
    },
    {
      "cell_type": "markdown",
      "metadata": {
        "id": "N1rCRKIx0hwv"
      },
      "source": [
        "## Obtener información de un Data Frame\n",
        "\n",
        "Muchas veces un Data Frame contiene información recaba de algún documento y es necesario analizar la información general del Data Frame, para ello usamos la función info.\n",
        "\n",
        "Sintaxis.\n",
        "\n",
        "```\n",
        "DF.info()\n",
        "```"
      ]
    },
    {
      "cell_type": "markdown",
      "metadata": {
        "id": "Rky3EadA0w-q"
      },
      "source": [
        "### EJEMPLO DE OBTENER INFORMACIÓN DE UN DATA FRAME"
      ]
    },
    {
      "cell_type": "code",
      "metadata": {
        "id": "R8JNQpiX0zeu"
      },
      "source": [
        "#OBTENGA LA INFORMACION DEL DATA FRAME ANTERIOR DEFINIDO\n"
      ],
      "execution_count": null,
      "outputs": []
    },
    {
      "cell_type": "markdown",
      "metadata": {
        "id": "dI7TmSmV02lH"
      },
      "source": [
        "## Obtener el nombre de las columnas del Data Frame\n",
        "\n",
        "Para conocer el nombre de las columnas del Data Frame usamos la función columns.\n",
        "\n",
        "Sintaxis.\n",
        "\n",
        "```\n",
        "print(DF.columns)\n",
        "```"
      ]
    },
    {
      "cell_type": "markdown",
      "metadata": {
        "id": "b1_a9BBb1DPe"
      },
      "source": [
        "### EJEMPLO DE OBTENER EL NOMBRE DE LAS COLUMNAS DEL DATA FRAME"
      ]
    },
    {
      "cell_type": "code",
      "metadata": {
        "id": "1t0uiF851Gr5"
      },
      "source": [
        "#OBTENGA LOS NOMBRES DE LAS COLUMNAS DEL DATA FRAME ANTERIOR DEFINIDO\n"
      ],
      "execution_count": null,
      "outputs": []
    },
    {
      "cell_type": "markdown",
      "metadata": {
        "id": "t32HB3Qf1LMb"
      },
      "source": [
        "## Visualizar los primeros $n$ o últimos $k$ elementos de un data frame\n",
        "\n",
        "Para poder visualizar los primeros $n$ elementos o ultimos $k$ elementos de un data frame usamos la función head() y tail() respectivamente.\n",
        "\n",
        "Sintaxis.\n",
        "\n",
        "Para ver los primeros $n$ elementos\n",
        "\n",
        "```\n",
        "DF.head(n)\n",
        "```\n",
        "\n",
        "Para ver los últimos $k$ elementos\n",
        "\n",
        "```\n",
        "DF.tail(k)\n",
        "```"
      ]
    },
    {
      "cell_type": "markdown",
      "metadata": {
        "id": "at9hbA071lrY"
      },
      "source": [
        "### EJEMPLO DE VISUALIZAR LOS PRIMEROS O ULTIMOS ELEMENTOS DE UN DATA FRAME"
      ]
    },
    {
      "cell_type": "code",
      "metadata": {
        "id": "kYhkKCJL1p2J"
      },
      "source": [
        "#CONSIDERE EL SIGUIENTE DATA FRAME\n",
        "U = [1,2,3,4,5,6,7,8,9,10]\n",
        "U2 = [11,12,13,14,15,16,17,18,19,20]\n",
        "U3 = [21,22,23,24,25,26,27,28,29,30]\n",
        "U4 = [31,32,33,34,35,36,37,38,39,40]\n",
        "\n",
        "I = {'A':U,'B':U2,'C':U3,'D':U4}\n",
        "ñ = pd.DataFrame(I)"
      ],
      "execution_count": null,
      "outputs": []
    },
    {
      "cell_type": "code",
      "metadata": {
        "id": "xPxRf2R-1u43"
      },
      "source": [
        "#IMPRIMA LOS PRIMEROS 8 ELEMENTOS DEL DATA FRAME\n"
      ],
      "execution_count": null,
      "outputs": []
    },
    {
      "cell_type": "code",
      "metadata": {
        "id": "_bYZZ9HN1yTV"
      },
      "source": [
        "#IMPRIMA LOS ULTIMOS 4 ELEMENTOS DEL DATA FRAME\n"
      ],
      "execution_count": null,
      "outputs": []
    },
    {
      "cell_type": "markdown",
      "metadata": {
        "id": "ZkHyhe-dTaMA"
      },
      "source": [
        "## Obtener estadísticas básicas del Data Frame\n",
        "\n",
        "Si queremos obtener las estadísticas básicas del Data Frame usamos la función describe().\n",
        "\n",
        "Sintaxis.\n",
        "\n",
        "```\n",
        "DF.describe()\n",
        "```\n",
        "\n",
        "Esta función por defecto no analiza las columnas que sean de tipo texto.\n",
        "\n",
        "Para analizar todas las columnas, incluyendo las de tipo texto, agregamos, en el argumento de la función describe(), include = 'all'.\n",
        "\n",
        "Sintaxis.\n",
        "\n",
        "```\n",
        "DF.describe(include = 'all')\n",
        "```\n",
        "\n",
        "**NOTA** \n",
        "\n",
        "La función describe nos arroja las siguientes estadísticas.\n",
        "\n",
        "Sí los datos son numéricos.\n",
        "\n",
        "|Resultado|Descripción|\n",
        "|---------|-----------|\n",
        "|count|Número de términos en la cola|\n",
        "|mean|Promedio de la columna|\n",
        "|std|Desviación estándar de la columna|\n",
        "|min|El valor mínimo de la columna|\n",
        "|max|El valor máximo de la columna|\n",
        "|25 %|El límite cuartil del 25 %|\n",
        "|50 %|El límite cuartil del 50 %|\n",
        "|75 %|El límite cuartil del 75 %|\n",
        "\n",
        "Si usted ejecuta describe() y no señala include = 'all' entonces en las columnas con datos no numéricos tendrá como resultado NaN que simboliza 'Not a Number'.\n",
        "\n",
        "Sí los datos son no numéricos.\n",
        "\n",
        "|Resultado|Descripción|\n",
        "|---------|-----------|\n",
        "|unique|El número de objetos distintos en la columna|\n",
        "|top|El objeto más frecuente|\n",
        "|freq|El número de veces que el objeto top aparece en la columna|\n",
        "\n",
        "Sí desea analizar las estadísticas de ciertas columnas o una columna en particular del Data Frame use la siguiente sintaxis.\n",
        "\n",
        "Sintaxis.\n",
        "\n",
        "```\n",
        "DF[ ['Columna_1',...,'Columna_K'] ].describe()\n",
        "```"
      ]
    },
    {
      "cell_type": "markdown",
      "metadata": {
        "id": "DfEs46XhUaPU"
      },
      "source": [
        "### EJEMPLO DE OBTENER ESTADÍSTICAS BÁSICAS DEL DATA FRAME"
      ]
    },
    {
      "cell_type": "code",
      "metadata": {
        "id": "bHbMrr1hUdPk"
      },
      "source": [
        "#CONSIDERE EL SIGUIENTE DATA FRAME\n",
        "D = {'x':[2,4,6,8,12,14,16],'y':[3,6,9,10,13,16,19]}\n",
        "D_F = pd.DataFrame(D)"
      ],
      "execution_count": null,
      "outputs": []
    },
    {
      "cell_type": "code",
      "metadata": {
        "id": "F_RbwLL9UhOd"
      },
      "source": [
        "#IMPRIMA LAS ESTADISTICAS BASICAS DEL DATA FRAME D_F\n"
      ],
      "execution_count": null,
      "outputs": []
    },
    {
      "cell_type": "code",
      "metadata": {
        "id": "Z9OXZqu-q1EF"
      },
      "source": [
        "#IMPRIMA LAS ESTADISTICAS DE LA COLUMNA 'x'\n"
      ],
      "execution_count": null,
      "outputs": []
    },
    {
      "cell_type": "markdown",
      "metadata": {
        "id": "FhAx6aqNq4JE"
      },
      "source": [
        "## Cambiar de nombre a las filas\n",
        "\n",
        "Por defecto Python le asigna índices a las filas, si deseamos cambiar el nombre a las filas tenemos dos métodos para realizar esta operación."
      ]
    },
    {
      "cell_type": "markdown",
      "metadata": {
        "id": "B9jIJdS0rn5g"
      },
      "source": [
        "### Función index\n",
        "Sí deseamos cambiar el nombre de todas las filas entonces usamos la siguiente sintaxis.\n",
        "\n",
        "Sintaxis.\n",
        "\n",
        "```\n",
        "DF.index = ['Nombre_Fila_1',...,'Nombre_Fila_K']\n",
        "```\n",
        "\n",
        "*NOTA* : Esta sintaxis sirve para cambiar el nombre de todas las filas, por lo tanto, la longitud de la lista con los nombres debe ser igual a la cantidad de filas del Data Frame."
      ]
    },
    {
      "cell_type": "markdown",
      "metadata": {
        "id": "428QL3SKr1dU"
      },
      "source": [
        "### Función rename\n",
        "\n",
        "Sí deseamos cambiar solamente el nombre de ciertas filas utilizamos la función rename.\n",
        "\n",
        "Este método necesita de un diccionario donde la clave contiene el nombre original de la fila y el valor corresponde al nuevo nombre a asignar.\n",
        "\n",
        "Sintaxis.\n",
        "\n",
        "```\n",
        "DF.rename( index = {'Nombre_Fila_i_Original' : 'Nombre_Fila_i_Nuevo',...,'Nombre_Fila_k_Original':'Nombre_Fila_k_Nuevo'} )\n",
        "```\n",
        "\n",
        "Cabe acotar que el programador tiene dos opciones, asignar a una nueva variable el cambio del Data Frame y crear uno nuevo o modificar el Data Frame original.\n",
        "\n",
        "Sí se desea la primer opción solamente asigne a una variable la operación y tendrá dos Data Frame.\n",
        "\n",
        "Sí se desea la segunda opción anexe como segundo argumento a la función rename la opción inplace = True.\n",
        "\n",
        "Sintaxis con inplace = True.\n",
        "\n",
        "```\n",
        "DF.rename( index = {'Nombre_Fila_i_Original' : 'Nombre_Fila_i_Nuevo',...,'Nombre_Fila_k_Original':'Nombre_Fila_k_Nuevo'} , inplace = True)\n",
        "```\n"
      ]
    },
    {
      "cell_type": "markdown",
      "metadata": {
        "id": "6AeeU18rs-UO"
      },
      "source": [
        "#### EJEMPLO DE CAMBIAR DE NOMBRE A LAS FILAS"
      ]
    },
    {
      "cell_type": "code",
      "metadata": {
        "id": "47p3riomtBkM"
      },
      "source": [
        "#CONSIDERE EL SIGUIENTE DATA FRAME\n",
        "WQ = {\"Columna 1\":[1,2],\"Columna 2\":[3,4]}\n",
        "WQD = pd.DataFrame(WQ)"
      ],
      "execution_count": null,
      "outputs": []
    },
    {
      "cell_type": "code",
      "metadata": {
        "id": "w97LenvctMhj"
      },
      "source": [
        "#ASIGNE A UNA NUEVA VARIABLE EL DATA FRAME WQD PERO CON EL NOMBRE DE LA FILA 0 COMO 'Epsilon'\n"
      ],
      "execution_count": null,
      "outputs": []
    },
    {
      "cell_type": "code",
      "metadata": {
        "id": "anIZDaLJtSuh"
      },
      "source": [
        "#MODIFIQUE EL DATA FRAME CON EL CAMBIO ANTERIOR MENCIONADO\n"
      ],
      "execution_count": null,
      "outputs": []
    },
    {
      "cell_type": "markdown",
      "metadata": {
        "id": "MEEfbRG9tywF"
      },
      "source": [
        "## Cambiar de nombre a las columnas\n",
        "\n",
        "Si nosotros definimos el Data Frame mediante los diccionarios entonces nosotros escogemos el nombre de las columnas, sin embargo, cuando se trabaja en el análisis de datos es ventajoso para el programador cambiar de nombre a las columnas.\n",
        "\n",
        "Tenemos dos métodos para realizar esta operación."
      ]
    },
    {
      "cell_type": "markdown",
      "metadata": {
        "id": "3SV50379uJp4"
      },
      "source": [
        "### Función columns\n",
        "\n",
        "Para cambiar de nombre todas las columnas utilizamos la función columns.\n",
        "\n",
        "Sintaxis.\n",
        "\n",
        "```\n",
        "DF.columns = ['Nombre_Columna_1',...,'Nombre_Columna_K']\n",
        "```\n",
        "\n",
        "*NOTA* : Esta sintaxis sirve para cambiar el nombre de todas las columnas, por lo tanto, la longitud de la lista con los nombres debe ser igual a la cantidad de columnas del Data Frame.\n"
      ]
    },
    {
      "cell_type": "markdown",
      "metadata": {
        "id": "C8SNldYhufHv"
      },
      "source": [
        "### Función rename\n",
        "\n",
        "Si deseamos cambiar solamente el nombre de ciertas columnas utilizamos, nuevamente, la función rename.\n",
        "\n",
        "Análogo al caso de las filas, este método trabaja con diccionarios.\n",
        "\n",
        "Sintaxis.\n",
        "\n",
        "```\n",
        "DF.rename (columns = {'Nombre_Columna_i_Original' : 'Nombre_Columna_i_Nueva',...,'Nombre_Columna_k_Original':'Nombre_Columna_k_Nueva'})\n",
        "```\n",
        "\n",
        "Cabe acotar que el programador tiene dos opciones, asignar a una nueva variable el cambio del Data Frame y crear uno nuevo o modificar el Data Frame original.\n",
        "\n",
        "Sí se desea la primer opción solamente asigne a una variable la operación y tendrá dos Data Frame.\n",
        "\n",
        "Sí se desea la segunda opción anexe como segundo argumento a la función rename la opción inplace = True.\n",
        "\n",
        "Sintaxis con inplace = True.\n",
        "\n",
        "```\n",
        "DF.rename (columns = {'Nombre_Columna_i_Original' : 'Nombre_Columna_i_Nueva',...,'Nombre_Columna_k_Original':'Nombre_Columna_k_Nueva'},inplace = True)\n",
        "```\n",
        "\n",
        "\n",
        "\n"
      ]
    },
    {
      "cell_type": "code",
      "metadata": {
        "id": "xhKC3VUHvSz6"
      },
      "source": [
        "#CONSIDERE EL SIGUIENTE DATA FRAME\n",
        "MN = {0:[5,6,4],1:[42,5,78],2:[1,8,7]}\n",
        "MND = pd.DataFrame(MN)"
      ],
      "execution_count": null,
      "outputs": []
    },
    {
      "cell_type": "code",
      "metadata": {
        "id": "QNq9l_nivXbo"
      },
      "source": [
        "#MODIFIQUE EL NOMBRE DE LAS COLUMNAS Y ASIGNE ESTA OPERACION A UNA VARIABLE\n"
      ],
      "execution_count": null,
      "outputs": []
    },
    {
      "cell_type": "code",
      "metadata": {
        "id": "pINS6jQ5vaXv"
      },
      "source": [
        "#MODIFIQUE EL NOMBRE DE LAS COLUMNAS CAMBIANDO EL DATA FRAME ORIGINAL\n"
      ],
      "execution_count": null,
      "outputs": []
    },
    {
      "cell_type": "markdown",
      "metadata": {
        "id": "ZNH0lhc9vmjt"
      },
      "source": [
        "## Combinar dos Data Frame\n",
        "\n",
        "Si deseamos combinar dos Data Frame lo hacemos mediante la función concat.\n",
        "\n",
        "Sintaxis.\n",
        "\n",
        "```\n",
        "Variable = pd.concat( [DF1,DF2], axis = # )\n",
        "```\n",
        "\n",
        "El valor de axis es 1 sí deseamos apilar las columnas de DF2 a la derecha del DF1.\n",
        "\n",
        "El valor de axis es 0 sí deseamos apilar las filas del DF2 debajo del DF1.\n",
        "\n",
        "**NOTA** : Sí desea concatenar por la derecha, axis = 1, ambos DF necesitan tener los mismos nombres en las filas.\n",
        "\n",
        "**NOTA** : Sí desea concatenar por abajo, axis = 0, ambos DF necesitan tener los mismos nombres en las columnas.\n",
        "\n",
        "**NOTA** : Sí nuestro Data Frame no tiene nombre en las filas entonces al concatenar se traspasan los índices originales, para arreglar esto ejecute la siguiente línea.\n",
        "\n",
        "```\n",
        "DF.index = range (DF.shape[0])\n",
        "```"
      ]
    },
    {
      "cell_type": "markdown",
      "metadata": {
        "id": "MWI7QhfWxVqC"
      },
      "source": [
        "### EJEMPLO DE COMBINAR DOS DATA FRAME"
      ]
    },
    {
      "cell_type": "code",
      "metadata": {
        "id": "_nghTXZhwTQq"
      },
      "source": [
        "#CONSIDERE LOS SIGUIENTES DATA FRAME\n",
        "WMQ = {\"Columna 1\":[\"(1,1)\",\"(2,1)\"]}\n",
        "WMQ2 = {\"Columna 2\":[\"(1,2)\",\"(2,2)\"]}\n",
        "WMQD = pd.DataFrame(WMQ)\n",
        "WMQD2 = pd.DataFrame(WMQ2)\n",
        "\n",
        "#MODIFICAMOS EL NOMBRE DE LAS FILAS\n",
        "WMQD.index = [\"Fila 1\",\"Fila 2\"]\n",
        "WMQD2.index = [\"Fila 1\",\"Fila 2\"]"
      ],
      "execution_count": null,
      "outputs": []
    },
    {
      "cell_type": "code",
      "metadata": {
        "id": "YMjv1-ofwm6K"
      },
      "source": [
        "#CONCATENE EL DF WMQD2 POR DEBAJO DE WMQD\n"
      ],
      "execution_count": null,
      "outputs": []
    },
    {
      "cell_type": "code",
      "metadata": {
        "id": "1MFMyXi0wrN0"
      },
      "source": [
        "#CONCATENE EL DF WMQD2 POR LA DERECHA DE WMQD\n"
      ],
      "execution_count": null,
      "outputs": []
    },
    {
      "cell_type": "markdown",
      "metadata": {
        "id": "O2FwegPkWQP-"
      },
      "source": [
        "## Extraer información de una columna en función de una condición\n",
        "\n",
        "Si deseamos extraer la información de una columna en función de una condición lógica tenemos la siguiente sintaxis.\n",
        "\n",
        "Sintaxis.\n",
        "\n",
        "```\n",
        "Variable = DF[DF['Nombre_Columna'] # Dato]\n",
        "```\n",
        "\n",
        "Tenemos que # simboliza la condición lógica a implimentar en dicha columna, por ejemplo, <, <=, >, >=, etc."
      ]
    },
    {
      "cell_type": "markdown",
      "metadata": {
        "id": "0peIOYm6nWQw"
      },
      "source": [
        "### EJEMPLO DE EXTRAER INFORMACIÓN DE UNA COLUMNA EN FUNCIÓN DE UNA CONDICIÓN"
      ]
    },
    {
      "cell_type": "code",
      "metadata": {
        "id": "5GWDYKLvnZ4b"
      },
      "source": [
        "#CONSIDERE EL SIGUIENTE DATA FRAME\n",
        "Filas = ['Topologia','Analisis Matematico','Teoria de Anillos','Seguros','Algebra','Geometria Analitica']\n",
        "Diccionario3 = {'Alumno':['Juan','Roberto','Elias','Rodolfo','Enrique','Elizabeth'],'Calificaciones':[95,78,35,56,69,70]}\n",
        "DF = pd.DataFrame(Diccionario3)\n",
        "DF.index = Filas\n",
        "\n",
        "print(DF)"
      ],
      "execution_count": null,
      "outputs": []
    },
    {
      "cell_type": "code",
      "metadata": {
        "id": "gL8-s7uXnf4a"
      },
      "source": [
        "#ASIGNE A LA VARIABLE 'APROBADOS' AQUELLOS ALUMNOS CON CALIFICACIÓN APROBATORIA\n"
      ],
      "execution_count": null,
      "outputs": []
    },
    {
      "cell_type": "markdown",
      "metadata": {
        "id": "oSE3pmUFnp_3"
      },
      "source": [
        "## Modificar todos los datos de una columna\n",
        "\n",
        "Si deseamos que todos los datos de una columna se conviertan a otro tipo de datos, usamos la función astype.\n",
        "\n",
        "Sintaxis.\n",
        "\n",
        "```\n",
        "DF['Nombre_Columna'] = DF.Nombre_Columna.astype(Dato)\n",
        "```"
      ]
    },
    {
      "cell_type": "markdown",
      "metadata": {
        "id": "gfJnLMPN6vxt"
      },
      "source": [
        "### EJEMPLO DE MODIFICAR TODOS LOS DATOS DE UNA COLUMNA"
      ]
    },
    {
      "cell_type": "code",
      "metadata": {
        "id": "jRCA6QkG6zyz"
      },
      "source": [
        "#CONSIDERE EL SIGUIENTE DATA FRAME\n",
        "L = {'Cantidad_1':[1,3,5,7,9],'Cantidad_2':[0.9,7.8,1.6,8.9,12.6]}\n",
        "Q = pd.DataFrame(L)"
      ],
      "execution_count": null,
      "outputs": []
    },
    {
      "cell_type": "code",
      "metadata": {
        "id": "athUHlMz7CbU"
      },
      "source": [
        "#MODIFIQUE LA COLUMNA 'Cantidad_1' A TIPO float\n"
      ],
      "execution_count": null,
      "outputs": []
    },
    {
      "cell_type": "code",
      "metadata": {
        "id": "POjZA8tM7G1D"
      },
      "source": [
        "#MODIFIQUE LA COLUMNA 'Cantidad_2' A TIPO int\n"
      ],
      "execution_count": null,
      "outputs": []
    },
    {
      "cell_type": "markdown",
      "metadata": {
        "id": "v3Qix8vf7Kr0"
      },
      "source": [
        "## Como designar una operación a todos los datos de una columna\n",
        "\n",
        "Suponga que tenemos una columna de valores numéricos, si queremos modificarlos, cada uno de manera independiente, mediante alguna operación usamos la siguiente sintaxis.\n",
        "\n",
        "Sintaxis.\n",
        "\n",
        "```\n",
        "DF['Nombre_Columna'] = DF['Nombre_Columna'] #\n",
        "```\n",
        "\n",
        "Note que # representa la operación a realizar."
      ]
    },
    {
      "cell_type": "markdown",
      "metadata": {
        "id": "0CP7sQCO7kvb"
      },
      "source": [
        "### EJEMPLO DESIGNAR UNA OPERACIÓN A TODOS LOS DATOS DE UNA COLUMNA"
      ]
    },
    {
      "cell_type": "code",
      "metadata": {
        "id": "XoDEgy8t7oDp"
      },
      "source": [
        "#CONSIDERE EL SIGUIENTE DATA FRAME\n",
        "ZMP = {'X' : [156,794,134,963,45,879,462,137,794,130,264],'Y' : [79,465,135,491,16,465,974,132,656,897,465]}\n",
        "ZMPD = pd.DataFrame(ZMP)"
      ],
      "execution_count": null,
      "outputs": []
    },
    {
      "cell_type": "markdown",
      "metadata": {
        "id": "OgHUskgd71dC"
      },
      "source": [
        "Recordemos que existen varias formas de normalizar los datos. Entre ellas se encuentra el método de Escalado.\n",
        "\n",
        "$$x_{new} = \\frac{x_{old}}{x_{max}}$$\n",
        "\n",
        "*NOTA* : Utilice las estadísticas del Data Frame para conseguir el máximo del conjunto de datos."
      ]
    },
    {
      "cell_type": "code",
      "metadata": {
        "id": "VqISrTxn7ysR"
      },
      "source": [
        "#NORMALICE LOS DATOS DE LA COLUMNA 'X'\n"
      ],
      "execution_count": null,
      "outputs": []
    },
    {
      "cell_type": "markdown",
      "metadata": {
        "id": "LJu6saBYBUpd"
      },
      "source": [
        "## Filtrar valores nulos\n",
        "\n",
        "En Python se definen valores nulos como NaN 'Not a Number'.\n",
        "\n",
        "Si deseamos filtrar estos valores de una estructura, Data Frame o Serie, usamos el método dropna.\n",
        "\n",
        "Sintaxis.\n",
        "\n",
        "```\n",
        "DF.dropna()\n",
        "```\n",
        "\n",
        "El método dropna() puede tomar 4 argumentos principales.\n",
        "\n",
        "|Argumento|Descripción|\n",
        "|---------|-----------|\n",
        "|axis = 0|Elimina las filas que incluyan valores nulos|\n",
        "|axis = 1|Eliminar las columnas que incluyan valores nulos|\n",
        "|how = 'all'|Elimina las filas o columnas donde **TODOS** de sus elementos sean nulos|\n",
        "|hoy = 'any'|Elimina las filas o columnas donde **ALGUNOS** de sus elementos sean nulos|\n",
        "\n",
        "Además, dropna puede recibir un segundo argumento : inplace = True, sí deseamos modificar el Data Frame original."
      ]
    },
    {
      "cell_type": "markdown",
      "metadata": {
        "id": "0MDsqlaZC5xp"
      },
      "source": [
        "### Filtrar solamente filas de una cierta columna\n",
        "\n",
        "Sí deseamos filtrar solamente las filas de una cierta columna entonces tenemos la siguiente sintaxis.\n",
        "\n",
        "Sintaxis.\n",
        "\n",
        "```\n",
        "DF.dropna( subset = ['Nombre_Columna'] , axis = 0)\n",
        "```"
      ]
    },
    {
      "cell_type": "markdown",
      "metadata": {
        "id": "4Xv3opS1DigD"
      },
      "source": [
        "#### EJEMPLO FILTRAR VALORES NULOS"
      ]
    },
    {
      "cell_type": "code",
      "metadata": {
        "id": "W7Bazn9ODlAy"
      },
      "source": [
        "#PARA PODER TRABAJAR CON VALOR NaN NECESITAMOS IMPORTAR LA LIBRERIA NumPy\n",
        "import numpy as np\n",
        "\n",
        "#CONSIDERE EL SIGUIENTE DATA FRAME\n",
        "MXO = {\"Columna 1\":[1,2,np.nan],\"Columna 2 \":[np.nan,3,4],\"Columna 3\":[5,7,6]}\n",
        "MXOD = pd.DataFrame(MXO)"
      ],
      "execution_count": null,
      "outputs": []
    },
    {
      "cell_type": "code",
      "metadata": {
        "id": "4p1tSgCGDyZt"
      },
      "source": [
        "#IMPRIMA EL DATA FAME SIN LAS FILAS QUE CONTIENEN NaN\n"
      ],
      "execution_count": null,
      "outputs": []
    },
    {
      "cell_type": "code",
      "metadata": {
        "id": "-Fxi2wYGD5Hb"
      },
      "source": [
        "#IMPRIMA EL DATA FRAME SIN LAS COLUMNAS QUE CONTIENEN NaN\n"
      ],
      "execution_count": null,
      "outputs": []
    },
    {
      "cell_type": "code",
      "metadata": {
        "id": "6nzygPzKD8X1"
      },
      "source": [
        "#IMPRIMA EL DATA FRAME SIN COLUMNA Y FILAS QUE TODOS SUS ELEMENTOS SEA NaN\n"
      ],
      "execution_count": null,
      "outputs": []
    },
    {
      "cell_type": "code",
      "metadata": {
        "id": "NbMEMyzLEAiH"
      },
      "source": [
        "#IMPRIMA EL DATA FRAME SIN COLUMNA Y FILAS QUE AL MENOS UN ELEMENTO CONTENGA NaN\n"
      ],
      "execution_count": null,
      "outputs": []
    },
    {
      "cell_type": "code",
      "metadata": {
        "id": "GdgMoXScEKtH"
      },
      "source": [
        "#FILTRE LOS NaN DE LA COLUMNA 'Columna 1' Y MODIFIQUE EL DATA FRAME\n"
      ],
      "execution_count": null,
      "outputs": []
    },
    {
      "cell_type": "markdown",
      "metadata": {
        "id": "RjZv3EfqEUuH"
      },
      "source": [
        "## Función isnull y notnull\n",
        "\n",
        "Para determinar los valores NaN en un Data Frame usamos la función isnull, caso contrario, si deseamos determinar los valores no NaN en un Data Frame usamos la función notnull.\n",
        "\n",
        "Las funciones anterior mencionadas regresan un Data Frame con datos tipo bool en función de lo solicitado.\n",
        "\n",
        "Sintaxis.\n",
        "\n",
        "```\n",
        "Variable = DF.isnull()\n",
        "Variable = DF.notnull()\n",
        "```\n",
        "\n",
        "Podemos usar el siguiente for para contabilizar cuantos NaN hay en cada columna.\n",
        "\n",
        "```\n",
        " for column in DF.columns.values.tolist():\n",
        "  print(column)\n",
        "  print(DF[column].value_counts())\n",
        "  print(\"\")\n",
        "```"
      ]
    },
    {
      "cell_type": "markdown",
      "metadata": {
        "id": "8wVHyOk_UuqM"
      },
      "source": [
        "### EJEMPLO DE LA FUNCIÓN isnull"
      ]
    },
    {
      "cell_type": "code",
      "metadata": {
        "id": "aHA5hU6nUyHT"
      },
      "source": [
        "#RETOMEMOS EL DATA FRAME MXOD ORIGINAL\n",
        "MXO = {\"Columna 1\":[1,2,np.nan],\"Columna 2 \":[np.nan,3,4],\"Columna 3\":[5,7,6]}\n",
        "MXOD = pd.DataFrame(MXO)"
      ],
      "execution_count": null,
      "outputs": []
    },
    {
      "cell_type": "code",
      "metadata": {
        "id": "702gmsKmU7cO"
      },
      "source": [
        "#IMPRIMA EL DATA FRAME DE LA FUNCION isnull Y LLAME A LA VARIABLE MXODN\n"
      ],
      "execution_count": null,
      "outputs": []
    },
    {
      "cell_type": "code",
      "metadata": {
        "id": "yEEQiUqTVAl3"
      },
      "source": [
        "#UTILICE EL for DADO\n",
        "for column in MXODN.columns.values.tolist():\n",
        "  print(column)\n",
        "  print(MXODN[column].value_counts())\n",
        "  print(\"\")"
      ],
      "execution_count": null,
      "outputs": []
    },
    {
      "cell_type": "markdown",
      "metadata": {
        "id": "4gPFpGQ0WG13"
      },
      "source": [
        "## Reemplazar valores omitidos\n",
        "\n",
        "Si deseamos reemplazar valores omitidos en todo el Data Frame usando Pandas podemos usar la función replace.\n",
        "\n",
        "Sintaxis.\n",
        "\n",
        "```\n",
        "Variable = DF.replace(Valor_Omitido,Valor_Nuevo)\n",
        "```"
      ]
    },
    {
      "cell_type": "markdown",
      "metadata": {
        "id": "NrdyOQ6OWcoq"
      },
      "source": [
        "### Reemplazar valores omitidos de una columna\n",
        "\n",
        "Si deseamos reemplazar valores omitidos en una sola columna del Data Frame seguimos la siguiente sintaxis.\n",
        "\n",
        "Sintaxis.\n",
        "\n",
        "```\n",
        "Variable = DF['Nombre_Columna'].replace(Valor_Omitido,Valor_Nuevo)\n",
        "```\n"
      ]
    },
    {
      "cell_type": "markdown",
      "metadata": {
        "id": "12LP150hgCWL"
      },
      "source": [
        "En ambos casos, omitir valores en todo el Data Frame o en una sola columna, la función replace acepta la instrucción inplace = True el cual modifica el Data Frame original."
      ]
    },
    {
      "cell_type": "markdown",
      "metadata": {
        "id": "yJBpNLzDgf7D"
      },
      "source": [
        "#### EJEMPLO REEMPLAZAR VALORES OMITIDOS"
      ]
    },
    {
      "cell_type": "code",
      "metadata": {
        "id": "FAcUyIB9gjCs"
      },
      "source": [
        "#CONSIDERE EL SIGUIENTE DATA FRAME\n",
        "HÑ = {0 : [np.nan,8,9], 1 : [np.nan,np.nan,9], 2 : [2,3,np.nan]}\n",
        "HÑD = pd.DataFrame(HÑ)"
      ],
      "execution_count": null,
      "outputs": []
    },
    {
      "cell_type": "code",
      "metadata": {
        "id": "bOrdvpAag4Uv"
      },
      "source": [
        "#REEMPLAZE LOS VALORES OMITIDOS POR 0 Y ASIGNELO A LA VARIABLE XA\n"
      ],
      "execution_count": null,
      "outputs": []
    },
    {
      "cell_type": "code",
      "metadata": {
        "id": "S3oI-xQQg9x9"
      },
      "source": [
        "#MODIFIQUE LOS VALORES OMITIDOS DE LA COLUMNA 1 Y MODIFIQUE EL DATA FRAME ORIGINAL\n"
      ],
      "execution_count": null,
      "outputs": []
    },
    {
      "cell_type": "markdown",
      "metadata": {
        "id": "dJmJ1rEdhGzc"
      },
      "source": [
        "## Conocer el tipo más común de dato cualitativo\n",
        "\n",
        "Si deseamos saber el tipo de dato cualitativo que más se repite en una columna usamos la función idxmax().\n",
        "\n",
        "Sintaxis.\n",
        "\n",
        "```\n",
        "Variable = DF['Nombre_Columna'].value_counts().idxmax()\n",
        "```"
      ]
    },
    {
      "cell_type": "markdown",
      "metadata": {
        "id": "_rGOqAwohXz6"
      },
      "source": [
        "## Conocer el tipo menos común de dato cualitativo\n",
        "\n",
        "Si deseamos saber el tipo de dato cualitativo que menos se repite en una columna usamos la función idxmin().\n",
        "\n",
        "Sintaxis.\n",
        "\n",
        "```\n",
        "Variable = DF['Nombre_Columna'].value_counts().idxmin()\n",
        "```\n"
      ]
    },
    {
      "cell_type": "markdown",
      "metadata": {
        "id": "VE6KfcEkhor_"
      },
      "source": [
        "### EJEMPLO CONOCER EL TIPO DE DATO CUALITATIVO"
      ]
    },
    {
      "cell_type": "code",
      "metadata": {
        "id": "jcc-G_G6hrdv"
      },
      "source": [
        "#CONSIDERE EL SIGUIENTE DATA FRAME\n",
        "QZAP = {'COLUMNA 1':['A1','A2','A1'], 'COLUMNA 2':['A2','A3','A3']}\n",
        "QZAPD = pd.DataFrame(QZAP)"
      ],
      "execution_count": null,
      "outputs": []
    },
    {
      "cell_type": "code",
      "metadata": {
        "id": "fZo18MEKh8F3"
      },
      "source": [
        "#DETERMINE EL DATO TIPO CUALITATIVO MENOS COMUN DE LA COLUMNA 1\n"
      ],
      "execution_count": null,
      "outputs": []
    },
    {
      "cell_type": "code",
      "metadata": {
        "id": "YqIIuxXliA2U"
      },
      "source": [
        "#DETERMINE EL DATO TIPO CUALITATIVO MAS COMUN DE LA COLUMNA 2\n"
      ],
      "execution_count": null,
      "outputs": []
    },
    {
      "cell_type": "markdown",
      "metadata": {
        "id": "AodD-AC7aWUI"
      },
      "source": [
        "## Métodos para seleccionar filas y columnas en pandas.\n",
        "\n",
        "Existen dos métodos para seleccionar filas y columnas en pandas.\n",
        "\n",
        "|Método|Descripción|\n",
        "|------|-----------|\n",
        "|Función iloc|El método iloc selecciona filas y columnas en función de su posición|\n",
        "|Función loc|El método loc selecciona filas y columnas en función de su nombre|\n",
        "\n",
        "*Sí usamos el método iloc* :\n",
        "\n",
        "Cuando seleccionamos una fila o columna tenemos de regreso una serie.\n",
        "\n",
        "Cuando seleccionamos varias filas o columnas tenemos de regreso un Data Frame.\n",
        "\n",
        "*Sí usamos el método loc* :\n",
        "\n",
        "Una ventaja del método loc es poder seleccionar columnas en función de condiciones lógicas."
      ]
    },
    {
      "cell_type": "markdown",
      "metadata": {
        "id": "AqHDzypQcFqK"
      },
      "source": [
        "### Método *iloc*\n",
        "\n",
        "El método iloc permite seleccionar filas y columnas en función de la posición de estas.\n",
        "\n",
        "Sintaxis general.\n",
        "\n",
        "```\n",
        "DF.iloc[i:j,m:n]\n",
        "```\n",
        "\n",
        "Note que $i:j$ representa que tomaremos desde la fila $i$ hasta la fila $j-1$, $m:n$ representa que tomaremos desde la columna $m$ hasta la columna $n-1$."
      ]
    },
    {
      "cell_type": "markdown",
      "metadata": {
        "id": "lgk-Oc8odHd2"
      },
      "source": [
        "#### Seleccionar un solo elemento del Data Frame con el método *iloc*\n",
        "\n",
        "Sí deseamos extraer un elemento del Data Frame usando el método iloc seguimos la siguiente sintaxis.\n",
        "\n",
        "Sintaxis.\n",
        "\n",
        "```\n",
        "DF.iloc[i][j]\n",
        "```\n",
        "\n",
        "Donde $i$ representa la posición de la fila y $j$ la posición de la columna."
      ]
    },
    {
      "cell_type": "markdown",
      "metadata": {
        "id": "vL1NPPvWcqG_"
      },
      "source": [
        "#### Seleccionar una sola fila con el método *iloc*\n",
        "\n",
        "Para seleccionar una fila ausentamos el segundo argumento y describimos solamente la posición de la fila a extraer.\n",
        "\n",
        "Sintaxis.\n",
        "\n",
        "```\n",
        "DF.iloc[i]\n",
        "```"
      ]
    },
    {
      "cell_type": "markdown",
      "metadata": {
        "id": "0kvFf2dOc140"
      },
      "source": [
        "#### Seleccionar una sola columna con el método *iloc*\n",
        "\n",
        "Para seleccionar una sola columna seguimos la siguiente sintaxis.\n",
        "\n",
        "Sintaxis.\n",
        "\n",
        "```\n",
        "DF.iloc[:,m]\n",
        "```\n",
        "\n",
        "Note que el primer argumento es \" : \", esto, para Python, representa tomar tomas las filas. $m$ representa la posición de la columna."
      ]
    },
    {
      "cell_type": "markdown",
      "metadata": {
        "id": "q1Ct2JC3d-6q"
      },
      "source": [
        "#### Seleccionar múltiples filas continuas con el método *iloc*\n",
        "\n",
        "Para seleccionar múltiples filas continuas ausentamos el segundo argumento y extendemos las posiciones deseadas.\n",
        "\n",
        "Sintaxis.\n",
        "\n",
        "```\n",
        "DF.iloc[i:j]\n",
        "```\n",
        "\n",
        "Note que le indicamos a Python tomar desde la fila $i$ hasta la fila $j-1$"
      ]
    },
    {
      "cell_type": "markdown",
      "metadata": {
        "id": "vHz4VM7zecqk"
      },
      "source": [
        "#### Seleccionar múltiples filas discontinuas con el método *iloc*\n",
        "\n",
        "Para seleccionar múltiples filas no continuas definimos una lista que contenga las posiciones de las filas deseadas.\n",
        "\n",
        "Sintaxis.\n",
        "\n",
        "```\n",
        "DF.iloc[ [i,j,...,k] ]\n",
        "```\n",
        "\n",
        "Donde $i,j,\\ldots ,k$ representan las posiciones de las filas deseadas."
      ]
    },
    {
      "cell_type": "markdown",
      "metadata": {
        "id": "Dp3uG6Mxewc5"
      },
      "source": [
        "#### Seleccionar múltiples columnas continuas con el método *iloc*\n",
        "\n",
        "Para seleccionar múltiples columnas continuas ausentamos el primer argumento pero especificamos que navegamos entre todos sus elementos.\n",
        "\n",
        "Sintaxis.\n",
        "\n",
        "```\n",
        "DF.iloc[:,m:n]\n",
        "```\n",
        "\n",
        "Le indicamos a Python que tome todas las filas y abarque desde la columna $m$ hasta $n-1$."
      ]
    },
    {
      "cell_type": "markdown",
      "metadata": {
        "id": "oReXYyskfHn-"
      },
      "source": [
        "#### Seleccionar múltiples columnas discontinuas con el método *iloc*\n",
        "\n",
        "Para seleccionar múltiples columnas discontinuas ausentamos el primer argumento y diseñamos una lista que contenga las posiciones de las columnas deseadas.\n",
        "\n",
        "Sintaxis.\n",
        "\n",
        "```\n",
        "DF.iloc[:,[m,n,...,q]]\n",
        "```\n",
        "\n",
        "Donde $m,n,\\ldots ,q$ representan las posiciones de las columnas deseadas."
      ]
    },
    {
      "cell_type": "markdown",
      "metadata": {
        "id": "0H7cb5yCfdZ4"
      },
      "source": [
        "##### EJEMPLO DEL MÉTODO *iloc*"
      ]
    },
    {
      "cell_type": "code",
      "metadata": {
        "id": "NcheNeA9ffvQ"
      },
      "source": [
        "#CONSIDERE EL SIGUIENTE DATA FRAME\n",
        "Ej_Dic = {\"y\":[2228,2609,3088,2378,1980,1717,2723],\"x_1\":[98.5,108.2,109.6,101,83.3,70,144.7],\"x_2\":[67.4,70.3,82.1,69.2,64.5,63.7,58]}\n",
        "Ej_DF = pd.DataFrame(Ej_Dic)\n",
        "\n",
        "'''\n",
        "Note que aunque tienen las columnas definidas un nombre, estas automaticamente\n",
        "tienen ademas designadas las posiciones naturales de Python, la primer columna\n",
        "tiene la posicion 0, la segunda 1, ...\n",
        "'''"
      ],
      "execution_count": null,
      "outputs": []
    },
    {
      "cell_type": "code",
      "metadata": {
        "id": "7UMMijLKfvW6"
      },
      "source": [
        "#EXTRAIGA UNA FILA CUALQUIERA DEL DATA FRAME CON EL METODO iloc\n"
      ],
      "execution_count": null,
      "outputs": []
    },
    {
      "cell_type": "code",
      "metadata": {
        "id": "a8ND137ZfzCo"
      },
      "source": [
        "#EXTRAIGA UNA COLUMNA CUALQUIERA DEL DATA FRAME CON EL METODO iloc\n"
      ],
      "execution_count": null,
      "outputs": []
    },
    {
      "cell_type": "code",
      "metadata": {
        "id": "9jtsKOxrf4l8"
      },
      "source": [
        "#EXTRAIGA EL ELEMENTO EN LA POSICION (2,2) DEL DATA FRAME CON EL METODO iloc\n"
      ],
      "execution_count": null,
      "outputs": []
    },
    {
      "cell_type": "code",
      "metadata": {
        "id": "Favakldmf8Fx"
      },
      "source": [
        "#EXTRAIGA LAS FILAS 4 A LAS 6 CON EL METODO iloc\n"
      ],
      "execution_count": null,
      "outputs": []
    },
    {
      "cell_type": "code",
      "metadata": {
        "id": "bOxiip1CgFeT"
      },
      "source": [
        "#EXTRAIGA LAS FILAS 1 Y 3 CON EL METODO iloc\n"
      ],
      "execution_count": null,
      "outputs": []
    },
    {
      "cell_type": "code",
      "metadata": {
        "id": "Fi_PuaYLgIb4"
      },
      "source": [
        "#EXTRAIGA LAS COLUMNAS 1 HASTA 3 CON EL METODO iloc\n"
      ],
      "execution_count": null,
      "outputs": []
    },
    {
      "cell_type": "code",
      "metadata": {
        "id": "lJ1FYhkJgQ7h"
      },
      "source": [
        "#EXTRAIGA LAS COLUMNAS 1 Y 3 CON EL METODO iloc\n"
      ],
      "execution_count": null,
      "outputs": []
    },
    {
      "cell_type": "code",
      "metadata": {
        "id": "w4bgfCFR0SgH"
      },
      "source": [
        "#EXTRAIGA LAS FILAS EN LA POSICION 1, 3 Y 6 Y, ADEMAS, EXTRAIGA LAS COLUMNAS EN LA POSICION 0 Y 2\n"
      ],
      "execution_count": null,
      "outputs": []
    },
    {
      "cell_type": "code",
      "metadata": {
        "id": "F1iWzwyo0UMA"
      },
      "source": [
        "#EXTRAIGA LAS FILAS DESDE LA POSICION 2 HASTA LA POSICION 5 Y LAS COLUMNAS DESDE LA POSICION 1 HASTA LA 2\n"
      ],
      "execution_count": null,
      "outputs": []
    },
    {
      "cell_type": "code",
      "metadata": {
        "id": "ELUTLJCk0ZEg"
      },
      "source": [
        "#EXTRAIGA LAS FILAS DESDE LA POSICION 1 HASTA LA POSICION 4 Y LAS COLUMNAS EN LA POSICION 0 Y 2\n"
      ],
      "execution_count": null,
      "outputs": []
    },
    {
      "cell_type": "code",
      "metadata": {
        "id": "tHpO_li40bTz"
      },
      "source": [
        "#EXTRAIGA LAS FILAS EN LA POSICION 2, 4 Y 6 Y, ADEMAS, LAS COLUMNAS DESDE LA POSICION 0 HASTA LA POSICION 2\n"
      ],
      "execution_count": null,
      "outputs": []
    },
    {
      "cell_type": "markdown",
      "metadata": {
        "id": "thENiWPpgZ1_"
      },
      "source": [
        "### Método *loc*\n",
        "\n",
        "El método *loc* es para seleccionar filas y columnas en base a las etiquetas de la misma, es decir, por su nombre.\n",
        "\n",
        "Su uso práctico se aplica a seleccionar filas y columnas en base a una etiqueta o bajo una condición.\n",
        "\n",
        "Sintaxis general.\n",
        "\n",
        "```\n",
        "DF.loc['Etiqueta_i':'Etiqueta_j','Etiqueta_m':'Etiqueta_n']\n",
        "```\n",
        "\n",
        "Notemos que ahora, en vez de escribir los índices, escribimos los nombres de las filas deseadas y columnas deseadas."
      ]
    },
    {
      "cell_type": "markdown",
      "metadata": {
        "id": "mb69UvBtg27t"
      },
      "source": [
        "#### Seleccionar un solo elemento del Data Frame con el método *loc*\n",
        "\n",
        "Para seleccionar un solo elemento del Data Frame tenemos la siguiente sintaxis.\n",
        "\n",
        "Sintaxis.\n",
        "\n",
        "```\n",
        "DF.loc['Etiqueta_i']['Etiqueta_j']\n",
        "```\n",
        "\n",
        "Tenemos que 'Etiqueta_i' representa la fila a extraer y la columna es representado por 'Etiqueta_j'."
      ]
    },
    {
      "cell_type": "markdown",
      "metadata": {
        "id": "csFCp8x6hKN8"
      },
      "source": [
        "#### Seleccionar una sola fila con el método *loc*\n",
        "\n",
        "Para seleccionar una fila con el método *loc* indicamos solamente la etiqueta de la fila a extraer.\n",
        "\n",
        "Sintaxis.\n",
        "\n",
        "```\n",
        "DF.loc['Etiqueta_i']\n",
        "```\n"
      ]
    },
    {
      "cell_type": "markdown",
      "metadata": {
        "id": "aWvO2Y7hhbbH"
      },
      "source": [
        "#### Seleccionar una sola columna con el método *loc*\n",
        "\n",
        "Para seleccionar una sola columna con el método *loc* indicamos a Python que tome tomas las filas e indicamos la etiqueta de la columna a extraer.\n",
        "\n",
        "Sintaxis.\n",
        "\n",
        "```\n",
        "DF.loc[:,'Etiqueta_j']\n",
        "```"
      ]
    },
    {
      "cell_type": "markdown",
      "metadata": {
        "id": "YMyke8Dnhp7L"
      },
      "source": [
        "#### Seleccionar múltiples filas continuas con el método *loc*\n",
        "\n",
        "Para seleccionar múltiples filas continuas ausentamos el segundo argumento y extendemos el primero.\n",
        "\n",
        "Sintaxis.\n",
        "\n",
        "```\n",
        "DF.loc['Etiqueta_i':'Etiqueta_j']\n",
        "```\n",
        "\n",
        "Tomaremos entonces de la fila con etiqueta i hasta la fila con etiqueta j"
      ]
    },
    {
      "cell_type": "markdown",
      "metadata": {
        "id": "JWFMaxaliDZG"
      },
      "source": [
        "#### Seleccionar múltiples filas discontinuas con el método *loc*\n",
        "\n",
        "Para seleccionar múltiples filas no continuas usando el método *loc* seguimos la siguiente sintaxis.\n",
        "\n",
        "Sintaxis.\n",
        "\n",
        "```\n",
        "DF.loc[['Etiqueta_i',...,'Etiqueta_k']]\n",
        "```"
      ]
    },
    {
      "cell_type": "markdown",
      "metadata": {
        "id": "UV2D1L0jiT4c"
      },
      "source": [
        "#### Seleccionar múltiples columnas continuas con el método *loc*\n",
        "\n",
        "Para seleccionar múltiples columnas continuas ausentamos el primer argumento pero le decimos a Python que navege entre todos sus filas.\n",
        "\n",
        "Sintaxis.\n",
        "\n",
        "```\n",
        "DF.loc[:,'Etiqueta_j':'Etiqueta_m']\n",
        "```"
      ]
    },
    {
      "cell_type": "markdown",
      "metadata": {
        "id": "RVVqwyiEilWJ"
      },
      "source": [
        "#### Seleccionar múltiples columnas discontinuas con el método *loc*\n",
        "\n",
        "Para seleccionar múltiples filas no continuas construimos una lista que contenga las etiquetas de las columnas deseadas.\n",
        "\n",
        "Sintaxis.\n",
        "\n",
        "```\n",
        "DF.loc[:,['Etiqueta_i',...,'Etiqueta_m']]\n",
        "```"
      ]
    },
    {
      "cell_type": "markdown",
      "metadata": {
        "id": "lU_LpkUrjw6_"
      },
      "source": [
        "#### Seleccionar datos de una columna o fila usando el método *loc*\n",
        "\n",
        "Podemos seleccionar datos de un Data Frame utilizando el método *loc*, con todas y sus características en función de condiciones lógicas.\n",
        "\n",
        "Realizar estas sentencias regresan datos bool y una serie.\n",
        "\n",
        "Recordemos que las condiciones lógicas son:\n",
        "\n",
        "```\n",
        "==, !=, <, <=, >, >=\n",
        "```\n",
        "\n",
        "Sintaxis para una columna\n",
        "\n",
        "```\n",
        "DF.loc[ DF.loc[:,'Etiqueta_Columna'] # # ]\n",
        "```\n",
        "\n",
        "Con lo anterior trabajado podemos modificar la función loc contenida dentro para poder describir a Python si buscar en una sola fila, múltiples filas o múltiples columnas.\n",
        "\n",
        "Note que # # representa la acción a evaluar por parte del programa, puede ser, por ejemplo, que busque en la columna todos aquellos datos iguales a cierto string, todos aquellos datos mayores a 60, todos aquellos datos distintos de cierto string, etc."
      ]
    },
    {
      "cell_type": "markdown",
      "metadata": {
        "id": "BfqJW8F2i2AI"
      },
      "source": [
        "##### EJEMPLO DEL MÉTODO *loc*"
      ]
    },
    {
      "cell_type": "code",
      "metadata": {
        "id": "BcjVvFN9i7u0"
      },
      "source": [
        "#CONSIDERE EL SIGUIENTE DATA FRAME\n",
        "U = {\"Estudiante 1\":[78,43,86],\"Estudiante 2\":[56,70,79],\"Estudiante 3\":[68,58,90]}\n",
        "UD = pd.DataFrame(U)\n",
        "UD.index = [\"Analisis Matematico\",\"Teoria de la Medida\",\"Topologia\"]\n",
        "print(UD)"
      ],
      "execution_count": null,
      "outputs": []
    },
    {
      "cell_type": "code",
      "metadata": {
        "id": "DpN9oR2si_rz"
      },
      "source": [
        "#EXTRAIGA LA MATERIA Analisis Matematico\n"
      ],
      "execution_count": null,
      "outputs": []
    },
    {
      "cell_type": "code",
      "metadata": {
        "id": "-Ad_4q1AjFgZ"
      },
      "source": [
        "#EXTRAIGA AL ESTUDIANTE Estudiante 1\n"
      ],
      "execution_count": null,
      "outputs": []
    },
    {
      "cell_type": "code",
      "metadata": {
        "id": "hPxFTUZJjHmv"
      },
      "source": [
        "#EXTRAIGA LA MATERIA Teoria de la Medida Y EL ALUMNO Estudiante 3\n"
      ],
      "execution_count": null,
      "outputs": []
    },
    {
      "cell_type": "code",
      "metadata": {
        "id": "W6EFwGk4jN3p"
      },
      "source": [
        "#EXTRAIGA LAS MATERIAS Analisis Matematico A Topologia\n"
      ],
      "execution_count": null,
      "outputs": []
    },
    {
      "cell_type": "code",
      "metadata": {
        "id": "XQzlOA5fjRVZ"
      },
      "source": [
        "#EXTRAIGA LAS MATERIAS Analisis Matematico Y Topologia\n"
      ],
      "execution_count": null,
      "outputs": []
    },
    {
      "cell_type": "code",
      "metadata": {
        "id": "H1eadMXnjeA0"
      },
      "source": [
        "#EXTRAIGA AL Estudiante 1 AL Estudiante 3\n"
      ],
      "execution_count": null,
      "outputs": []
    },
    {
      "cell_type": "code",
      "metadata": {
        "id": "kNl9ZzQDjjiA"
      },
      "source": [
        "#EXTRAIGA AL Estudiante 1 Y AL Estudiante 3\n"
      ],
      "execution_count": null,
      "outputs": []
    },
    {
      "cell_type": "code",
      "metadata": {
        "id": "8Y4IV7jDj1x5"
      },
      "source": [
        "#EXTRAIGA DEL Estudiante 1 LAS MATERIAS Analisis Matematico Y Topologia\n"
      ],
      "execution_count": null,
      "outputs": []
    },
    {
      "cell_type": "code",
      "metadata": {
        "id": "hMItM26Qj7Z_"
      },
      "source": [
        "#EXTRAIGA DE LA MATERIA Teoria de la Medida A LOS ESTUDIANTE Estudiante 1 Y Estudiante 3\n"
      ],
      "execution_count": null,
      "outputs": []
    },
    {
      "cell_type": "code",
      "metadata": {
        "id": "O97KZH1Fk-gp"
      },
      "source": [
        "#CONSIDERE EL SIGUIENTE DATA FRAME\n",
        "Cliente = [\"Gonzalez\",\"Gomez\",\"Lopez\",\"Abril\"]\n",
        "Saldo = [500,700,400,350]\n",
        "Municipio = [\"Monterrey\",\"Monterrey\",\"Comalcalco\",\"Ocuitzapotlan\"]\n",
        "W = {\"Nombre\":Cliente,\"Saldo\":Saldo,\"Municipio\":Municipio}\n",
        "WD = pd.DataFrame(W)\n",
        "print(WD)"
      ],
      "execution_count": null,
      "outputs": []
    },
    {
      "cell_type": "code",
      "metadata": {
        "id": "dJiFnpJWlCVZ"
      },
      "source": [
        "#IMPRIMA TODAS LAS PERSONAS QUE SON DEL MUNICIPIO DE MONTERREY\n"
      ],
      "execution_count": null,
      "outputs": []
    },
    {
      "cell_type": "code",
      "metadata": {
        "id": "3nTQcSqwldRj"
      },
      "source": [
        "#IMPRIMA TODAS LAS PERSONAS QUE NO SON DEL MUNICIPIO DE MONTERREY\n"
      ],
      "execution_count": null,
      "outputs": []
    },
    {
      "cell_type": "code",
      "metadata": {
        "id": "CQ8AXsgalg1q"
      },
      "source": [
        "#BUSQUEMOS TODAS LAS PERSONAS QUE TENGAN UN SALDO MAYOR O IGUAL A 500\n"
      ],
      "execution_count": null,
      "outputs": []
    },
    {
      "cell_type": "code",
      "metadata": {
        "id": "HakAs4gglkOY"
      },
      "source": [
        "#BUSQUEMOS A TODAS LAS PERSONAS QUE TENGAN UN SALDO MENOR A 400\n"
      ],
      "execution_count": null,
      "outputs": []
    },
    {
      "cell_type": "code",
      "metadata": {
        "id": "b5IlieKP01hX"
      },
      "source": [
        "#CONSIDERE EL SIGUIENTE DATA FRAME\n",
        "from random import uniform\n",
        "C1,C2,C3,C4,C5,C6,C7,C8,C9,C10 = [],[],[],[],[],[],[],[],[],[]\n",
        "for I1 in range (1000):\n",
        "  C1.append(uniform(0,1))\n",
        "  C2.append(uniform(0,1))\n",
        "  C3.append(uniform(0,1))\n",
        "  C4.append(uniform(0,1))\n",
        "  C5.append(uniform(0,1))\n",
        "  C6.append(uniform(0,1))\n",
        "  C7.append(uniform(0,1))\n",
        "  C8.append(uniform(0,1))\n",
        "  C9.append(uniform(0,1))\n",
        "  C10.append(uniform(0,1))\n",
        "L = [C1,C2,C3,C4,C5,C6,C7,C8,C9,C10]\n",
        "P = {}\n",
        "for I2 in range (10):\n",
        "  P[I2] = L[I2]\n",
        "import pandas as pd\n",
        "PD = pd.DataFrame(P)"
      ],
      "execution_count": null,
      "outputs": []
    },
    {
      "cell_type": "code",
      "metadata": {
        "colab": {
          "base_uri": "https://localhost:8080/",
          "height": 359
        },
        "id": "57I1sfsC1GIf",
        "outputId": "9beb9807-d4b1-4a48-e6b1-096d5c43abf2"
      },
      "source": [
        "PD.head(10)"
      ],
      "execution_count": null,
      "outputs": [
        {
          "output_type": "execute_result",
          "data": {
            "text/html": [
              "<div>\n",
              "<style scoped>\n",
              "    .dataframe tbody tr th:only-of-type {\n",
              "        vertical-align: middle;\n",
              "    }\n",
              "\n",
              "    .dataframe tbody tr th {\n",
              "        vertical-align: top;\n",
              "    }\n",
              "\n",
              "    .dataframe thead th {\n",
              "        text-align: right;\n",
              "    }\n",
              "</style>\n",
              "<table border=\"1\" class=\"dataframe\">\n",
              "  <thead>\n",
              "    <tr style=\"text-align: right;\">\n",
              "      <th></th>\n",
              "      <th>0</th>\n",
              "      <th>1</th>\n",
              "      <th>2</th>\n",
              "      <th>3</th>\n",
              "      <th>4</th>\n",
              "      <th>5</th>\n",
              "      <th>6</th>\n",
              "      <th>7</th>\n",
              "      <th>8</th>\n",
              "      <th>9</th>\n",
              "    </tr>\n",
              "  </thead>\n",
              "  <tbody>\n",
              "    <tr>\n",
              "      <th>0</th>\n",
              "      <td>0.470491</td>\n",
              "      <td>0.234549</td>\n",
              "      <td>0.395530</td>\n",
              "      <td>0.519952</td>\n",
              "      <td>0.023899</td>\n",
              "      <td>0.621244</td>\n",
              "      <td>0.646428</td>\n",
              "      <td>0.373924</td>\n",
              "      <td>0.473002</td>\n",
              "      <td>0.549018</td>\n",
              "    </tr>\n",
              "    <tr>\n",
              "      <th>1</th>\n",
              "      <td>0.052166</td>\n",
              "      <td>0.075687</td>\n",
              "      <td>0.442079</td>\n",
              "      <td>0.417897</td>\n",
              "      <td>0.587617</td>\n",
              "      <td>0.306014</td>\n",
              "      <td>0.662694</td>\n",
              "      <td>0.170533</td>\n",
              "      <td>0.528833</td>\n",
              "      <td>0.383095</td>\n",
              "    </tr>\n",
              "    <tr>\n",
              "      <th>2</th>\n",
              "      <td>0.095842</td>\n",
              "      <td>0.562142</td>\n",
              "      <td>0.959898</td>\n",
              "      <td>0.605419</td>\n",
              "      <td>0.842603</td>\n",
              "      <td>0.932539</td>\n",
              "      <td>0.470503</td>\n",
              "      <td>0.180920</td>\n",
              "      <td>0.544337</td>\n",
              "      <td>0.660061</td>\n",
              "    </tr>\n",
              "    <tr>\n",
              "      <th>3</th>\n",
              "      <td>0.736171</td>\n",
              "      <td>0.417777</td>\n",
              "      <td>0.361734</td>\n",
              "      <td>0.068311</td>\n",
              "      <td>0.067813</td>\n",
              "      <td>0.983903</td>\n",
              "      <td>0.452490</td>\n",
              "      <td>0.842871</td>\n",
              "      <td>0.888885</td>\n",
              "      <td>0.451011</td>\n",
              "    </tr>\n",
              "    <tr>\n",
              "      <th>4</th>\n",
              "      <td>0.737004</td>\n",
              "      <td>0.751235</td>\n",
              "      <td>0.538021</td>\n",
              "      <td>0.225392</td>\n",
              "      <td>0.347964</td>\n",
              "      <td>0.546515</td>\n",
              "      <td>0.460319</td>\n",
              "      <td>0.744416</td>\n",
              "      <td>0.444675</td>\n",
              "      <td>0.943910</td>\n",
              "    </tr>\n",
              "    <tr>\n",
              "      <th>5</th>\n",
              "      <td>0.176525</td>\n",
              "      <td>0.242824</td>\n",
              "      <td>0.912106</td>\n",
              "      <td>0.425501</td>\n",
              "      <td>0.420206</td>\n",
              "      <td>0.692632</td>\n",
              "      <td>0.850021</td>\n",
              "      <td>0.965509</td>\n",
              "      <td>0.494988</td>\n",
              "      <td>0.954215</td>\n",
              "    </tr>\n",
              "    <tr>\n",
              "      <th>6</th>\n",
              "      <td>0.228687</td>\n",
              "      <td>0.127844</td>\n",
              "      <td>0.094605</td>\n",
              "      <td>0.274536</td>\n",
              "      <td>0.887062</td>\n",
              "      <td>0.883087</td>\n",
              "      <td>0.305870</td>\n",
              "      <td>0.138014</td>\n",
              "      <td>0.306640</td>\n",
              "      <td>0.530601</td>\n",
              "    </tr>\n",
              "    <tr>\n",
              "      <th>7</th>\n",
              "      <td>0.057881</td>\n",
              "      <td>0.913164</td>\n",
              "      <td>0.600706</td>\n",
              "      <td>0.241366</td>\n",
              "      <td>0.644057</td>\n",
              "      <td>0.193360</td>\n",
              "      <td>0.116312</td>\n",
              "      <td>0.077190</td>\n",
              "      <td>0.678454</td>\n",
              "      <td>0.435182</td>\n",
              "    </tr>\n",
              "    <tr>\n",
              "      <th>8</th>\n",
              "      <td>0.177912</td>\n",
              "      <td>0.769055</td>\n",
              "      <td>0.530974</td>\n",
              "      <td>0.807908</td>\n",
              "      <td>0.239472</td>\n",
              "      <td>0.742711</td>\n",
              "      <td>0.319102</td>\n",
              "      <td>0.817841</td>\n",
              "      <td>0.831722</td>\n",
              "      <td>0.153859</td>\n",
              "    </tr>\n",
              "    <tr>\n",
              "      <th>9</th>\n",
              "      <td>0.841788</td>\n",
              "      <td>0.314667</td>\n",
              "      <td>0.560072</td>\n",
              "      <td>0.096879</td>\n",
              "      <td>0.739232</td>\n",
              "      <td>0.476319</td>\n",
              "      <td>0.927231</td>\n",
              "      <td>0.235355</td>\n",
              "      <td>0.855582</td>\n",
              "      <td>0.462611</td>\n",
              "    </tr>\n",
              "  </tbody>\n",
              "</table>\n",
              "</div>"
            ],
            "text/plain": [
              "          0         1         2  ...         7         8         9\n",
              "0  0.470491  0.234549  0.395530  ...  0.373924  0.473002  0.549018\n",
              "1  0.052166  0.075687  0.442079  ...  0.170533  0.528833  0.383095\n",
              "2  0.095842  0.562142  0.959898  ...  0.180920  0.544337  0.660061\n",
              "3  0.736171  0.417777  0.361734  ...  0.842871  0.888885  0.451011\n",
              "4  0.737004  0.751235  0.538021  ...  0.744416  0.444675  0.943910\n",
              "5  0.176525  0.242824  0.912106  ...  0.965509  0.494988  0.954215\n",
              "6  0.228687  0.127844  0.094605  ...  0.138014  0.306640  0.530601\n",
              "7  0.057881  0.913164  0.600706  ...  0.077190  0.678454  0.435182\n",
              "8  0.177912  0.769055  0.530974  ...  0.817841  0.831722  0.153859\n",
              "9  0.841788  0.314667  0.560072  ...  0.235355  0.855582  0.462611\n",
              "\n",
              "[10 rows x 10 columns]"
            ]
          },
          "metadata": {
            "tags": []
          },
          "execution_count": 2
        }
      ]
    },
    {
      "cell_type": "code",
      "metadata": {
        "colab": {
          "base_uri": "https://localhost:8080/",
          "height": 390
        },
        "id": "rg2zx8dY1KfD",
        "outputId": "d31f931c-9c80-4d1b-c142-73ac7a08ae25"
      },
      "source": [
        "Filas = []\n",
        "for I3 in range (1,1001):\n",
        "  Filas.append(I3)\n",
        "PD.index = Filas\n",
        "PD.head(11)"
      ],
      "execution_count": null,
      "outputs": [
        {
          "output_type": "execute_result",
          "data": {
            "text/html": [
              "<div>\n",
              "<style scoped>\n",
              "    .dataframe tbody tr th:only-of-type {\n",
              "        vertical-align: middle;\n",
              "    }\n",
              "\n",
              "    .dataframe tbody tr th {\n",
              "        vertical-align: top;\n",
              "    }\n",
              "\n",
              "    .dataframe thead th {\n",
              "        text-align: right;\n",
              "    }\n",
              "</style>\n",
              "<table border=\"1\" class=\"dataframe\">\n",
              "  <thead>\n",
              "    <tr style=\"text-align: right;\">\n",
              "      <th></th>\n",
              "      <th>0</th>\n",
              "      <th>1</th>\n",
              "      <th>2</th>\n",
              "      <th>3</th>\n",
              "      <th>4</th>\n",
              "      <th>5</th>\n",
              "      <th>6</th>\n",
              "      <th>7</th>\n",
              "      <th>8</th>\n",
              "      <th>9</th>\n",
              "    </tr>\n",
              "  </thead>\n",
              "  <tbody>\n",
              "    <tr>\n",
              "      <th>1</th>\n",
              "      <td>0.470491</td>\n",
              "      <td>0.234549</td>\n",
              "      <td>0.395530</td>\n",
              "      <td>0.519952</td>\n",
              "      <td>0.023899</td>\n",
              "      <td>0.621244</td>\n",
              "      <td>0.646428</td>\n",
              "      <td>0.373924</td>\n",
              "      <td>0.473002</td>\n",
              "      <td>0.549018</td>\n",
              "    </tr>\n",
              "    <tr>\n",
              "      <th>2</th>\n",
              "      <td>0.052166</td>\n",
              "      <td>0.075687</td>\n",
              "      <td>0.442079</td>\n",
              "      <td>0.417897</td>\n",
              "      <td>0.587617</td>\n",
              "      <td>0.306014</td>\n",
              "      <td>0.662694</td>\n",
              "      <td>0.170533</td>\n",
              "      <td>0.528833</td>\n",
              "      <td>0.383095</td>\n",
              "    </tr>\n",
              "    <tr>\n",
              "      <th>3</th>\n",
              "      <td>0.095842</td>\n",
              "      <td>0.562142</td>\n",
              "      <td>0.959898</td>\n",
              "      <td>0.605419</td>\n",
              "      <td>0.842603</td>\n",
              "      <td>0.932539</td>\n",
              "      <td>0.470503</td>\n",
              "      <td>0.180920</td>\n",
              "      <td>0.544337</td>\n",
              "      <td>0.660061</td>\n",
              "    </tr>\n",
              "    <tr>\n",
              "      <th>4</th>\n",
              "      <td>0.736171</td>\n",
              "      <td>0.417777</td>\n",
              "      <td>0.361734</td>\n",
              "      <td>0.068311</td>\n",
              "      <td>0.067813</td>\n",
              "      <td>0.983903</td>\n",
              "      <td>0.452490</td>\n",
              "      <td>0.842871</td>\n",
              "      <td>0.888885</td>\n",
              "      <td>0.451011</td>\n",
              "    </tr>\n",
              "    <tr>\n",
              "      <th>5</th>\n",
              "      <td>0.737004</td>\n",
              "      <td>0.751235</td>\n",
              "      <td>0.538021</td>\n",
              "      <td>0.225392</td>\n",
              "      <td>0.347964</td>\n",
              "      <td>0.546515</td>\n",
              "      <td>0.460319</td>\n",
              "      <td>0.744416</td>\n",
              "      <td>0.444675</td>\n",
              "      <td>0.943910</td>\n",
              "    </tr>\n",
              "    <tr>\n",
              "      <th>6</th>\n",
              "      <td>0.176525</td>\n",
              "      <td>0.242824</td>\n",
              "      <td>0.912106</td>\n",
              "      <td>0.425501</td>\n",
              "      <td>0.420206</td>\n",
              "      <td>0.692632</td>\n",
              "      <td>0.850021</td>\n",
              "      <td>0.965509</td>\n",
              "      <td>0.494988</td>\n",
              "      <td>0.954215</td>\n",
              "    </tr>\n",
              "    <tr>\n",
              "      <th>7</th>\n",
              "      <td>0.228687</td>\n",
              "      <td>0.127844</td>\n",
              "      <td>0.094605</td>\n",
              "      <td>0.274536</td>\n",
              "      <td>0.887062</td>\n",
              "      <td>0.883087</td>\n",
              "      <td>0.305870</td>\n",
              "      <td>0.138014</td>\n",
              "      <td>0.306640</td>\n",
              "      <td>0.530601</td>\n",
              "    </tr>\n",
              "    <tr>\n",
              "      <th>8</th>\n",
              "      <td>0.057881</td>\n",
              "      <td>0.913164</td>\n",
              "      <td>0.600706</td>\n",
              "      <td>0.241366</td>\n",
              "      <td>0.644057</td>\n",
              "      <td>0.193360</td>\n",
              "      <td>0.116312</td>\n",
              "      <td>0.077190</td>\n",
              "      <td>0.678454</td>\n",
              "      <td>0.435182</td>\n",
              "    </tr>\n",
              "    <tr>\n",
              "      <th>9</th>\n",
              "      <td>0.177912</td>\n",
              "      <td>0.769055</td>\n",
              "      <td>0.530974</td>\n",
              "      <td>0.807908</td>\n",
              "      <td>0.239472</td>\n",
              "      <td>0.742711</td>\n",
              "      <td>0.319102</td>\n",
              "      <td>0.817841</td>\n",
              "      <td>0.831722</td>\n",
              "      <td>0.153859</td>\n",
              "    </tr>\n",
              "    <tr>\n",
              "      <th>10</th>\n",
              "      <td>0.841788</td>\n",
              "      <td>0.314667</td>\n",
              "      <td>0.560072</td>\n",
              "      <td>0.096879</td>\n",
              "      <td>0.739232</td>\n",
              "      <td>0.476319</td>\n",
              "      <td>0.927231</td>\n",
              "      <td>0.235355</td>\n",
              "      <td>0.855582</td>\n",
              "      <td>0.462611</td>\n",
              "    </tr>\n",
              "    <tr>\n",
              "      <th>11</th>\n",
              "      <td>0.512134</td>\n",
              "      <td>0.793879</td>\n",
              "      <td>0.264432</td>\n",
              "      <td>0.414485</td>\n",
              "      <td>0.017204</td>\n",
              "      <td>0.546704</td>\n",
              "      <td>0.361704</td>\n",
              "      <td>0.470120</td>\n",
              "      <td>0.298842</td>\n",
              "      <td>0.366227</td>\n",
              "    </tr>\n",
              "  </tbody>\n",
              "</table>\n",
              "</div>"
            ],
            "text/plain": [
              "           0         1         2  ...         7         8         9\n",
              "1   0.470491  0.234549  0.395530  ...  0.373924  0.473002  0.549018\n",
              "2   0.052166  0.075687  0.442079  ...  0.170533  0.528833  0.383095\n",
              "3   0.095842  0.562142  0.959898  ...  0.180920  0.544337  0.660061\n",
              "4   0.736171  0.417777  0.361734  ...  0.842871  0.888885  0.451011\n",
              "5   0.737004  0.751235  0.538021  ...  0.744416  0.444675  0.943910\n",
              "6   0.176525  0.242824  0.912106  ...  0.965509  0.494988  0.954215\n",
              "7   0.228687  0.127844  0.094605  ...  0.138014  0.306640  0.530601\n",
              "8   0.057881  0.913164  0.600706  ...  0.077190  0.678454  0.435182\n",
              "9   0.177912  0.769055  0.530974  ...  0.817841  0.831722  0.153859\n",
              "10  0.841788  0.314667  0.560072  ...  0.235355  0.855582  0.462611\n",
              "11  0.512134  0.793879  0.264432  ...  0.470120  0.298842  0.366227\n",
              "\n",
              "[11 rows x 10 columns]"
            ]
          },
          "metadata": {
            "tags": []
          },
          "execution_count": 3
        }
      ]
    },
    {
      "cell_type": "code",
      "metadata": {
        "id": "szGwHMuI1OXk"
      },
      "source": [
        "# ¿PD.iloc[[8],[9]] == PD.loc[[8],[9]]?\n"
      ],
      "execution_count": null,
      "outputs": []
    },
    {
      "cell_type": "code",
      "metadata": {
        "id": "a0d4mpFD1PNP"
      },
      "source": [
        "# ¿PD.iloc[5:11,[1,4]] == PD.loc[5:11,[1,4]]?\n"
      ],
      "execution_count": null,
      "outputs": []
    },
    {
      "cell_type": "code",
      "metadata": {
        "id": "SjAoV6_U1mnE"
      },
      "source": [
        "# IMAGINE EL DATA FRAME COMO UNA MATRIZ, EXTRAIGA EL ELEMENTO (4,3) MEDIANTE EL METODO iloc Y EL METODO loc\n"
      ],
      "execution_count": null,
      "outputs": []
    },
    {
      "cell_type": "code",
      "metadata": {
        "id": "-2HCN5XG1nis"
      },
      "source": [
        "# CONSIDERE EL SIGUIENTE ELEMENTO DEL DATA FRAME\n",
        "PD.loc[[6],[8]]"
      ],
      "execution_count": null,
      "outputs": []
    },
    {
      "cell_type": "code",
      "metadata": {
        "id": "EEk-QyT61pfX"
      },
      "source": [
        "# BUSQUE ESTE ELEMENTO EN EL DATA FRAME MEDIANTE EL METODO iloc\n",
        "\n",
        "# NOTA : Python NOS MUESTRA EL DATO REDONDEADO\n",
        "\n",
        "'''\n",
        "Para obtener el numero de filas de un Data Frame se utiliza la \n",
        "siguiente sintaxis.\n",
        "\n",
        "len(DF.index)\n",
        "\n",
        "Para obtener el numero de columnas de un Data Frame se utiliza la\n",
        "siguiente sintaxis.\n",
        "\n",
        "len(DF.columns)\n",
        "'''"
      ],
      "execution_count": null,
      "outputs": []
    },
    {
      "cell_type": "markdown",
      "metadata": {
        "id": "Ua9HG8YEUyT5"
      },
      "source": [
        "# Introducción al Análisis de Datos con Python"
      ]
    },
    {
      "cell_type": "markdown",
      "metadata": {
        "id": "8gemi9ZSU1dL"
      },
      "source": [
        "## Importación de datos\n",
        "\n",
        "Empezaremos analizar como importar datos en Python usando la librería pandas, esto porque una vez teniendo los datos en Python, entonces podremos realizar todos los procedimientos de análisis de datos posteriores.\n",
        "\n",
        "La **adquisición de datos** es un proceso de carga y lectura de datos a un cuaderno desde varias fuentes.\n",
        "\n",
        "Existen dos consideraciones importantes al momento de realizar una importación de datos usando pandas.\n",
        "\n",
        "1. El formato\n",
        "2. La ruta del archivo\n",
        "\n",
        "El formato es la forma en que se codifican los datos, por ejemplo, .csv, .txt, .HDF, .pdf, etc.\n",
        "\n",
        "Esta ruta puede ser dada en nuestro computadora, por ejemplo:\n",
        "\n",
        "```\n",
        "/Desktop/mydata.csv\n",
        "```\n",
        "O incluso obtenerla desde internet.\n",
        "\n",
        "Usando los beneficios de Google COLAB recuerde que puede volver a visitar como importar archivos de Google Drive.\n",
        "\n",
        "[Introducción a Python][1]\n",
        "\n",
        "[1]: https://colab.research.google.com/drive/10_iEcA1hVzrdQLMbTH_7C_GenlQ8gE-a?usp=sharing\n",
        "\n",
        "En el siguiente link usted podrá visualizar un video donde se enseña como cargar un archivo CSV a Google COLAB.\n",
        "\n",
        "[Como cargar un archivo CSV a Google COLAB][2]\n",
        "\n",
        "[2]: https://www.youtube.com/watch?v=AteqQ9pmhB0&ab_channel=cctmexico\n",
        "\n",
        "En este apartado trabajaremos una base de datos de internet, dada en la siguiente direción web.\n",
        "\n",
        "[Base de datos][3]\n",
        "\n",
        "[3]: https://archive.ics.uci.edu/ml/machine-learning-databases/autos/imports-85.data\n",
        "\n",
        "La descripción de las variables y valores en dicha base de datos la puede leer en el siguiente link.\n",
        "\n",
        "[Descripción base de datos][4]\n",
        "\n",
        "[4]: https://archive.ics.uci.edu/ml/datasets/automobile"
      ]
    },
    {
      "cell_type": "markdown",
      "metadata": {
        "id": "zK6pUT9cIwX7"
      },
      "source": [
        "### Como importar una tabla de SQL a Data Frame en Python\n",
        "\n",
        "Este apartado es especial pues requiere conocimiento previo en programación SQLite.\n",
        "\n",
        "A continuación presentamos la sintaxis general para poder importar tablas de SQL a Python transformandolas en Data Frame.\n",
        "\n",
        "Sintaxis.\n",
        "\n",
        "```\n",
        "#PRIMER PASO : IMPORTAMOS PAQUETERIAS\n",
        "\n",
        "import pandas as pd\n",
        "import sqlite3\n",
        "\n",
        "#SEGUNDO PASO : CONECTAMOS NUESTRO ARCHIVO CON GOOGLE DRIVE Y COPIAMOS LA RUTA DE ACCESO\n",
        "\n",
        "con = sqlite3.connect('/content/drive/MyDrive/...')\n",
        "\n",
        "#REALIZAMOS EL CODIGO SQLite CON EL CUAL EXTRAEMOS LA INFORMACION DENTRO DE LOS ASTERISCOS\n",
        "\n",
        "sql = \"\"\"\n",
        "CODIGO SQL\n",
        "\"\"\"\n",
        "\n",
        "#ASIGNAMOS EL ARCHIVO Y LAS TABLAS DESEADAS A UN DATA FRAME\n",
        "\n",
        "DF = pd.read_sql_query(sql,con)\n",
        "\n",
        "#VISUALIZAMOS EL DATA FRAME\n",
        "\n",
        "DF\n",
        "```\n",
        "\n",
        "De esta manera podemos trabajar las tablas de SQLite en Python mediante Data Frames y aplicar el análisis que a continuación aprenderemos, además de poder exportar esta información a un archivo csv con la función to_csv."
      ]
    },
    {
      "cell_type": "markdown",
      "metadata": {
        "id": "c72XNGljWsgX"
      },
      "source": [
        "## Conocer el directorio de trabajo en Spyder\n",
        "\n",
        "Al momento de trabajar con bases de datos de manera local, archivos .csv, por ejemplo, necesitamos conocer el directorio de trabajo. Para ello ejecutamos el siguiente código.\n",
        "\n",
        "```\n",
        "import os\n",
        "print(os.getcwd())\n",
        "```\n",
        "\n",
        "Sí deseamos conocer el directorio de un archivo reproducimos el siguiente código.\n",
        "\n",
        "```\n",
        "import os\n",
        "print(os.path.dirname(os.path.realpath(___file___)))\n",
        "```\n",
        "\n",
        "Note que ___file___ representa el nombre del archivo a buscar.\n",
        "\n",
        "**NOTA** : Si usted corre en Spyder las lineas con F9 entonces los archivos se guardan en el directorio general, en cambio si lo corre con F5 entonces los archivos se guardan en la carpeta donde trabaja el archivo Python.\n",
        "\n"
      ]
    },
    {
      "cell_type": "markdown",
      "metadata": {
        "id": "SlVDFSYtXdch"
      },
      "source": [
        "## Conocer el directorio de trabajo en Google COLAB\n",
        "\n",
        "El directorio de Google COLAB se encuentra en el siguiente apartado.\n",
        "\n",
        "Da click en la carpeta en la parte izquierda de su pantalla.\n",
        "\n",
        "![Captura de Pantalla 2020-12-31 a la(s) 18.35.52.png](data:image/png;base64,iVBORw0KGgoAAAANSUhEUgAAAEcAAAGhCAYAAAAz2qk0AAABQGlDQ1BJQ0MgUHJvZmlsZQAAKJFjYGASSCwoyGFhYGDIzSspCnJ3UoiIjFJgf8LAwyDHwMcgxWCcmFxc4BgQ4ANUwgCjUcG3awyMIPqyLsgsphcu3yyUDY2SFi5j2PFRTR5TPQrgSkktTgbSf4A4KbmgqISBgTEByFYuLykAsVuAbJEioKOA7BkgdjqEvQbEToKwD4DVhAQ5A9lXgGyB5IzEFCD7CZCtk4Qkno7EhtoLAhwhRkZOxqYGBJxKOihJrSgB0c75BZVFmekZJQqOwBBKVfDMS9bTUTAyMAJaCQpviOrPYuBwZBQ7hRCL/cjAoH8GKPgQIZbvy8BwCBiu3JsRYprAsOETYWA4OrMgsSgR7gDGbyzFacZGEDZPEQMD64///z/LMjCw72Jg+Fv0///vuf///13CwMB8k4HhQCEAGYldGDyTubwAAABWZVhJZk1NACoAAAAIAAGHaQAEAAAAAQAAABoAAAAAAAOShgAHAAAAEgAAAESgAgAEAAAAAQAAAEegAwAEAAAAAQAAAaEAAAAAQVNDSUkAAABTY3JlZW5zaG90jXdZOwAAAdVpVFh0WE1MOmNvbS5hZG9iZS54bXAAAAAAADx4OnhtcG1ldGEgeG1sbnM6eD0iYWRvYmU6bnM6bWV0YS8iIHg6eG1wdGs9IlhNUCBDb3JlIDUuNC4wIj4KICAgPHJkZjpSREYgeG1sbnM6cmRmPSJodHRwOi8vd3d3LnczLm9yZy8xOTk5LzAyLzIyLXJkZi1zeW50YXgtbnMjIj4KICAgICAgPHJkZjpEZXNjcmlwdGlvbiByZGY6YWJvdXQ9IiIKICAgICAgICAgICAgeG1sbnM6ZXhpZj0iaHR0cDovL25zLmFkb2JlLmNvbS9leGlmLzEuMC8iPgogICAgICAgICA8ZXhpZjpQaXhlbFhEaW1lbnNpb24+NzE8L2V4aWY6UGl4ZWxYRGltZW5zaW9uPgogICAgICAgICA8ZXhpZjpVc2VyQ29tbWVudD5TY3JlZW5zaG90PC9leGlmOlVzZXJDb21tZW50PgogICAgICAgICA8ZXhpZjpQaXhlbFlEaW1lbnNpb24+NDE3PC9leGlmOlBpeGVsWURpbWVuc2lvbj4KICAgICAgPC9yZGY6RGVzY3JpcHRpb24+CiAgIDwvcmRmOlJERj4KPC94OnhtcG1ldGE+CvcNNmkAABNVSURBVHgB7Z0NjFXFFcfP2w8WcCHRVWgX5VtpEbM1Li2mLW5bqja2tBKMRGmUVm1RkRYttDHiR0VioWnFCG0NaSXYikBMpdBSWhC0SMGANLhgwS/QYlQQYV1g2d3X+79v5zE7O/e8uXffru/edyZ5e2fm3I+Z3/vPmTtvZ+5Npb1AEqwESqy5kukTEDiMEASOwGEIMCZRjsBhCDAmUY7AYQgwJlGOwGEIMKYyxhbd1PA/ondfIsIW4VO1RJXVmU8mh/+LYw+/StR07PR+Z43InKdHn9N5XRzLHxxUpv5JD8q201DMwqNin5tKNPJ605IBsXUe0f717aGYew78inf85Awo05bndCovA8+XFxG9/Bv3okFFn/8J0cCvZo7Z92cigNGVkutsgPSlnxN1oZI655A/8prN374fDgwqjeYGpSG8cI/3mR0ODI7bvyFzbZShi0JkOOnGo3RywQ+IGk+FL1rlpzNNY+sviPY9G/74tiPSh8v9MqAsXREiw2la+ENqPVBPx//2L6K+NeHKBr8D3wQfFTGkaRSd2LzFL0PToh9GPAt/WCSH3PLyOmr977+zZwagXld+kejoTs8HVLY5zNFE6GHgRw7vaXPWXi+Engu+ZsU3ssd3iMCfDB/vHf+ZjE9BEwTMNr+mwKjjWl/9N+FTMuILKisv20gO+cTPxlL60DsdCtBrwtWeo705A6WD1cuoX+rB8aChR7I5cICFk1WO2jwHIG38LR3/q+fAjZCqOpd6zt1o5HYuGbpZoSnZwKR69aH06B8Fg0E50QVDTYBjC2huQWCwv3dseuwMwrXMkD70tleut83sTqXDw/Hkawtl35pO+PZyBr+n+m/H3dDcAC9HwDVwLVto2bHOlh05LzScoG+n9OKvuxVC3TWbewOOYwi6Vvp4fnut0HBaD+zuUAXI3Ek1HY7UMuCLHAOuZWtacMr5DKHh2C+esmfHPDc0nFJLdwk5BzU3Zz7oqh2D73yPa4PStuPy3ZWHhkO9+lqr4OwMMa6yBYzEHUPQtVIBZXM8bYfdQsMJcobNqxa4qQdwzrqgQ0H8nzhwH5QjQDXNf1lg3SuobNadHTJDw/GdYdWADqdG00pt+/XpAWWHPbwMVB43csO/bbMSbd9Azf/8g93m5eIeq2nhVLKNpVJemTrdKRhXjnSHjF7h5C+va3eq7PABubhfwRAgO3zwgAAMmg667K96EFdc6Q0tGrLn0IcE8B1lX/ueV9lqv8Lpt3cThizN//h9dn8zUnHnHwtj+ICCYeCJAiO0A+Pn5PjzpQcyY6b1P/Z31MHkONJqLrngC1Rx1x+tts5kRlIOLghpN82/jipGnZUZcIYpBX6gmvhXb3y1iNL1O/3RdZjD9X1Lzv0s9fDApHrbOwp937Dx0D5HXQCFqfjpn4h6l6ss9y1G6mhmn59Jp9IBvZfD2Xwwt/2mS8Dg8pHh+GWHAq5cnPnJ06Ey2V3wYxf8kRd6TJlHPW78hfWON7u/JVL6uXEZxbiM5yzHu2RFblYdTo5eyHe63s1cw8EOZj8DUDDytvRWaKanlv2cWj0/lrbc4KkTAgqcdb5v+NT59W3+4OhnxeASd7zYQl340QpKcfwxHF02ekR9IFl6wRhKnffZLmtCevFVvGvgqLPHfNs5nxPzyucqvsBhCAmcADgffPBBJ7vygBMnIfvZZ58lccgB3+S4ceNEOTY2O3fupL179wocG5yVK1f62dKsDDrHjx+nSy65hC6//HJRjsGG1q1bRx9//DFNnz5d4JhwVqxYQTU1NTRkyBDprUw4elpuAnUaRlzgGED0pMDRaRhxgWMA0ZMCR6dhxAWOAURPChydhhEXOAYQPSlwdBpGXOAYQPRkWX19vZ6WuEagoH6ywBc1cuRIrXifbFSaFcNf4AgchgBjEuUIHIYAYxLlCByGAGMS5QgchgBjEuUIHIYAYxLlCJwMgfvvv5/efPNNBkd7U1EpB6P+xsbG9gSYVFHBYThYTQLHiiWTmegfu+Bjcv3SuWzZskA8ZYGWBBhuuOGGdj4GsJA3ePBgp9olGo4NAvJcf4oVn8NoSOAwcBLtkJl6O5mcfc68efPorbfeonvvvZfef//9nL2AuvrZZ59NdXV1KhmrrTMcdXcJMK+88gphYqFLgPOLKxznZoUxCT5dWdFC+6ees3LQBdq6Rhf1xHUf594KE5fRpIopOCtn1qxZPpyHH37Yb14bN2504gS14a40jsFZOb17945j/TpVZmeHjGaF30LOOeecTl2QOzi2DvmMM84gfIopODcrdOOufiYpAJ0dMob7qlmFvQnEXXUcgzOc0aNH+0MG+JwLL7zQua5d6aOcCxFxR2eHHPH8oQ7L9atdqJPlYWdn5eThWk6nqKz0nk/azeHEiRPWKxYcnB49elAqlbIWtqsyg95iVZBwSkpKuh2QDXzBwamoqPDBKPWora3w+cprbW21nqrg4JSVlVF3KwfXtAV7rm3PbsoDGB1OdyintLTUWruCgwMY6oMSdwecoGs4Dx+saLs4M6jQXXzZ7OkLTjlB7T9b4m6MFLRyupGD9VICx4olkylwBA5DgDGJcgQOQ4AxiXIEDkOAMYlyBA5DgDGJcgQOQ4AxiXIEDkOAMYlyBA5DgDGJcgQOQ4AxiXIEDkOAMYlyBA5DgDGJchg4of9vhbmBWPewbZv3Lpm2gFlfEydOJMw5TlIIBQdgHnjgAf8x3LW1tT4M5AEUZmXdddddzqvg4gDRedob5iFPmzaNMNEHEyB1lQDQ/Pnz/QmVjz76aOQpuZ/UPGQ8lN4WnH0O1AFAtgWkAIV82PXmZrtgnPKc4ahFIfAvtqDysWAtKcEZjmuFoZ6kBGc4aj5xULNR+bovigukoKkuznDQbLByZsmSJR3WXaHJPfHEE779sssuiwuTbDnLy8utk6SceyucCb0JFsKCNGBBTQCjnDXWc9ocdrYUOSKfVG8VVKxQcHASdNvLly+nl146/ZZoBQXrIwBu9uzZFKV5FRoc3LdEDm+88Ua7Y5G+8cYb01OmTEmbtnY7BiS8BScBlk8m29nn2KRnqgNp3CB6VfHvpKGyOIdOwbFV3AQU56491NjKBsOWpwBBOXFe3dclcAAMgPCJc8h7s4ozDLPsAsckoqUFjgbDjAock4iWFjgaDDMqcEwiWlrgaDDMqMAxiWhpgaPBMKMCxySipQWOBsOMChyTiJYWOBoMMypw2og89dRT/u/jDQ0NWUZd9pNF9goxiTzzzDO0ZcsWOnbsmP8rJootyjG+PPyLaevWrX6uwDHgIHnnnXcSJhcIHA1OVVUVzZ07l/bv30+PPPKIwNHY+NFJkybRmDFjaNGiRQLHhIOHjOApmgjSrEw6Xhr/GLjnnnsEjoWNn+X951bgBMHxH3IUZJR88TlZDcARmyH0FBTzBPlMF9oUlI648lnbmJ9L4DBfoMAROAwBxiTKETgMAcYkysk3HMzzC3rXDKbhxnkeoM4qtHJQcay5AgTctOkBaUBTa7J0WxzjoeAoMJgIOXXq1A4LzzBZG/mwJwGQMxwTTF1dnVUMyE8KICc4rmAUraQAcoKDSmNWepQQ9bgo18r3MU5wMNEa0/YHDRrk//D83HPPseWAHT9QY38cF9eJ2k5wQMIVUFLAoM7OcGyAbF15EhSDuvohymId75/t6aefftp6KPJhjxIKbUmR/BKoVGLZhmpWluMTnSVwmK9X5ud4cPAingULFviYampq6IorrvDjAsfDcPLkSXrsscd8IPjz4osvUnV1dbiuPHt0wiP33XefX0PxOZYveu3atYSbWYFjgYMsmWVhAaPeVovZXaIcA9Dw4cP9OYHIFjgGHCRvueUWGjhwoMCxsKGePXvSnDlzBI4NDvLGjh0rcILgIF98jgdBf/KSHpfhgwenb9++ZHsQmygH7ScgCJwAMMgWOAKHIcCYRDkChyHAmEQ5AochwJhEOQKHIcCYRDkChyHAmEQ5AochwJhEOQwc+T1Hg7Nnzx5avXo17dixg4YOHUoCpw3Orl276KqrrvJTmA2LZ1oInDY4N910E+FxDZs2baLKykp/orkzHDxrXb37QVOiP2M0rrNFVT3eeecdOnjwIF1zzTX+VuU7wQGU22+/XR3TbovV+3jmepwB7d69268T1nPgo4ITHMw4CApY5zBr1iz/Sf62fQBP/f/ZZi+EPLyyAQFNCw/6UMEJjtoZk67DKATLAtasWeMvIFGvW1HnKqTtsGHD/OLgFQ2YXaFCKDh4vgNWxrgGzFPG6w6grkKG079/f1/d6KEmT55M119/PR05ckR6K/VF33333X6rWLhwIT3//PN+ttwht9GpqKjwfaf3vgr/mV2vvfaaKEcpR23xTAs0MwRRjqJi2QocCxSVJXAUCcs2VFeOLjlMCLt/mHN3x75OcDBKxZJo3AdECTg+jsF5SVHQwDNXpfGCMPXKuVz74qYxzE1mrvN11u6kHFwkTCU7W6hCOV4cMvNNCByBwxBgTKIcgcMQYEyiHIHDEGBMohyBwxBgTKIcBo7z8IE5R2JM3vM32tWlaOCYFW9HISCRaDhRgOicEgmHg8LZdDCIJw6OrfKueYmGY0LQ03ocEMy0CQbpxCjHrKxKm1tUWuUhroItLxFwzIqptL7V4xwQZcM2EXD0CukQ9Hhra2tWMXq+fqwZjz0cVVFUTMWxVR9AUR/k2SDpUNQ5kBd7OHrFENcrBxAtLS3+0mj1XofS0lLzkMB0YsZWOhTEAQWfU6dOBVY+lyHWcHQgqCjS+CjFNDc3U1NTUy4GgfZYw7HVSgcEOHhYWdSQCDimgpTTBRw8rCxqSAQcvfIKFPyNNKs2Mqo5KVBIQ0H4RA2JUw5AKCAABAVFDYmEAxhKOdhGDYmFExWIflzi4JhKMdN65XPFYwunM5XOBUXZYwtHVaArtwKHoStwBA5DgDGJcgQOQ4AxiXIEDkOAMYlyBA5DgDGJcgQOQ4AxiXIEDkOAMYlyBA5DgDGJcgQOQ4AxiXIEDkOAMYlyBA5DgDGJcgQOQ4AxiXIEDkOAMYlyBA5DgDElbh6yra54SFmUUBRwoj52RnwOIymBI3AYAoxJlCNwGAKMSZQjcBgCmmnX3lY61Ux0+KM0vfW/dPIWo2l1DRUFlEsnnaRdq3rS75Y1U5l3ByjNqg3hpm0tNPTcFA38dIqW/LmZvllXKnCUvFb+vYUmXVVK2+tbqclb3Fc7qqS4m9WWna30qz9kljmu2dRKo4an6KnVmYUkk2acLG7loBld980yGjyghPqdRTTzpnL6z6ut9LNbyv38ohh4qqZjbvtVpejbXyulf2xuoRu+U0YDq1OEvDu+W0beA7WLu1n1ueQ4NXx8esnRvY9mmljpyEb6xtgid8gfbetFaxdX0AWDU3Tqld507qdS9K8/9aRmL776txXFrRw0nWfWtdCUCWW0c09mueOYmhK/SaEJFvV9DrrspataaOKVZbRybQtNHp/xNco3FbVDBoT5M8tp+MAUfbm2hD4ztL1WihpOj3KiH1ybQQAHbIb2qExrkacFDiMAgSNwGAKMSZQjcBgCjEmUI3AYAoxJlCNwGAKMSZQjcBgCjEmUI3AYAoxJlCNwGAKMSZQjcBgCjEmUI3AYAoxJlCNwGAKMSZQjcBgCjEmUI3AYAoxJlCNw7ARmz57tvxMilUp12C5ZsqS45+fcdttt/nPaFy9eTE8++WSW4Ny5c+nDDz8sbjj9+/enmpoaqqyspHHjxtHBgwf9R5QPGzaM8GaRop6CoqTS0NBAmzdvpqVLl9J5551Hd9xxB5155pnFPbNLwXnvvfdo5syZtHLlSv/1K6NGjaIBAwaIcgBo6NCh9MILL9CyZcv8l2gcOnSIKiqKfMKkUo7aXnvttX701ltvpYsuuqi4ldPY2Og7YbysZ9++fYoRvfvuuzRixIjihjNnzhx66KGHfCjnn39+Fg4i48ePp5T3FPzTU7jbmbs/UV9fT65rwPViI64+6h0zeAHPsWPH6PDhw3TxxRdHqowMHxhsAkfgMAQYkyhH4DAEGJMoR+AwBBiTKEfgMAQYkyhH4DAEGJMoR+AwBBiTKEfgMAQYkyhH4DAEGJMoR+AwBBiTKEfgMAQYkyhH4DAEGJMoR+AwBBiTKEfgMAQYkyhH4NgJrFq1qt0s0j59+tCECRPowIED/gFFPSewrq6Orr76ajpx4gTNmDGDdu/eTQ8++CDV1tbS3r17i3tOIJSCKW/V1dX+bNJp06bRjh07CJOaHn/88eKGY2tsAHXzzTfThg0bBI4N0JAhQ6RZ2cAgD7NJBw0aJMoxATU3N9Py5ctpzJgxxQ0HII4cOUJHjx6l119/ndavX+9PlNy/fz9Nnz69uGeTrlmzhrAoBAFq6devH1166aW0fft2qqqqKm44mE6rz0ItwyP7tSDDBw8G1luZYMBI4GhKMaMCxySipQWOBsOMChyTiJYWOBoMMypwTCJaWuBoMMyowDGJaGmBo8EwowLHJKKlBY4Gw4wKHJOIlhY4GgwzKnBMIlpa4GgwzKjAMYloaYGjwTCjAsckoqUFjgbDjAock4iWFjgaDDMqcEwiWlrgaDDMqMAxiWhpgaPBMKMCxySipQWOBsOM/h97oZBqpl6w4wAAAABJRU5ErkJggg==)\n",
        "\n",
        "A continuación usted tiene acceso al directorio de trabajo de Google COLAB, cuando usted importe algún archivo este se almacenará ahí."
      ]
    },
    {
      "cell_type": "markdown",
      "metadata": {
        "id": "DlKzJt0rYCha"
      },
      "source": [
        "## Archivo csv\n",
        "\n",
        "Un tipo de dato muy común a tratar son los archivos con terminación csv. \n",
        "\n",
        "Un archivo *CSV* (Comma-Separated Values) es un archivo para guardar datos.\n",
        "\n",
        "Este tipo de archivos generalmente se generan en la aplicación Excel o mediante código de programación."
      ]
    },
    {
      "cell_type": "markdown",
      "metadata": {
        "id": "Kj654q0OYj0u"
      },
      "source": [
        "### Función read_csv\n",
        "\n",
        "Si deseamos leer un archivo csv en Python usamos la función read_csv.\n",
        "\n",
        "Sintaxis.\n",
        "\n",
        "```\n",
        "variable = pd.read_csv('Nombre_Archivo.csv')\n",
        "```\n",
        "\n",
        "**NOTA** : read_csv automáticamente convertira en un Data Frame la información.\n",
        "\n",
        "**NOTA** : Por defecto la función read_csv asigna encabezados, si nuestra base de datos no tiene encabezados asignamos el argumento header = None.\n",
        "\n",
        "Sintaxis.\n",
        "\n",
        "```\n",
        "variable = pd.read_csv('Nombre_Archivo.csv', header = None)\n",
        "```"
      ]
    },
    {
      "cell_type": "markdown",
      "metadata": {
        "id": "S8xMgCY0kWqr"
      },
      "source": [
        "### Función to_csv\n",
        "\n",
        "Para escribir un archivo CSV usamos la función to_csv.\n",
        "\n",
        "Sintaxis.\n",
        "\n",
        "```\n",
        "DF.to_csv('Nombre_Archivo.csv')\n",
        "```\n",
        "\n",
        "Si el programador desea cambiar el delimitador, es decir no desea que la información se separe por comas, entonces puede usar en el argumento de la función to_csv la instrucción sep.\n",
        "\n",
        "Sintaxis.\n",
        "\n",
        "```\n",
        "DF.to_csv('Nombre_Archivo.csv', sep = '#')\n",
        "```\n",
        "\n",
        "Note que # puede ser ;, coma, . , : , etc.\n",
        "\n",
        "**Este archivo ya sea en Spyder o Google COLAB se guardará en el directorio de trabajo**."
      ]
    },
    {
      "cell_type": "markdown",
      "metadata": {
        "id": "lsG8WLhtTKMf"
      },
      "source": [
        "#### EJEMPLO ARCHIVO CSV"
      ]
    },
    {
      "cell_type": "code",
      "metadata": {
        "id": "C85KAeccTPru"
      },
      "source": [
        "#CONSIDERE EL SIGUIENTE DATA FRAME\n",
        "GJS = {'A':[24,23,21],'B':[56,58,53],'C':[78,73,71]}\n",
        "GJSD = pd.DataFrame(GJS)\n",
        "\n",
        "GJSD.to_csv('CSV_Prueba.csv')"
      ],
      "execution_count": null,
      "outputs": []
    },
    {
      "cell_type": "code",
      "metadata": {
        "id": "RcL47INkTzMH"
      },
      "source": [
        "'''\n",
        "Para trabajar en este apartado y posteriormente en lo que queda del taller\n",
        "importaremos la base de datos mencionada en la sección 'importacion de datos'.\n",
        "'''\n",
        "\n",
        "Data = \"https://archive.ics.uci.edu/ml/machine-learning-databases/autos/imports-85.data\""
      ],
      "execution_count": null,
      "outputs": []
    },
    {
      "cell_type": "code",
      "metadata": {
        "colab": {
          "base_uri": "https://localhost:8080/"
        },
        "id": "DTpCikvEU01_",
        "outputId": "4f52f956-435c-47eb-d163-67f199580850"
      },
      "source": [
        "#LEEMOS EL CSV\n",
        "\n",
        "Datos = pd.read_csv(Data)\n",
        "\n",
        "print(Datos)"
      ],
      "execution_count": null,
      "outputs": [
        {
          "output_type": "stream",
          "text": [
            "     3    ?  alfa-romero     gas    std   two  ...  9.00  111  5000  21  27  13495\n",
            "0    3    ?  alfa-romero     gas    std   two  ...   9.0  111  5000  21  27  16500\n",
            "1    1    ?  alfa-romero     gas    std   two  ...   9.0  154  5000  19  26  16500\n",
            "2    2  164         audi     gas    std  four  ...  10.0  102  5500  24  30  13950\n",
            "3    2  164         audi     gas    std  four  ...   8.0  115  5500  18  22  17450\n",
            "4    2    ?         audi     gas    std   two  ...   8.5  110  5500  19  25  15250\n",
            "..  ..  ...          ...     ...    ...   ...  ...   ...  ...   ...  ..  ..    ...\n",
            "199 -1   95        volvo     gas    std  four  ...   9.5  114  5400  23  28  16845\n",
            "200 -1   95        volvo     gas  turbo  four  ...   8.7  160  5300  19  25  19045\n",
            "201 -1   95        volvo     gas    std  four  ...   8.8  134  5500  18  23  21485\n",
            "202 -1   95        volvo  diesel  turbo  four  ...  23.0  106  4800  26  27  22470\n",
            "203 -1   95        volvo     gas  turbo  four  ...   9.5  114  5400  19  25  22625\n",
            "\n",
            "[204 rows x 26 columns]\n"
          ],
          "name": "stdout"
        }
      ]
    },
    {
      "cell_type": "code",
      "metadata": {
        "colab": {
          "base_uri": "https://localhost:8080/"
        },
        "id": "GlbLbhGHVHoI",
        "outputId": "ea70dd56-6e41-48e9-9b48-f2974a45ce6d"
      },
      "source": [
        "#NOTEMOS QUE NUESTRA BASE DE DATOS NO TIENE NOMBRES DE COLUMNAS ASIGNADA, APLICAMOS LA INSTRUCCION header = None\n",
        "\n",
        "Datos = pd.read_csv(Data, header = None)\n",
        "\n",
        "print(Datos)"
      ],
      "execution_count": null,
      "outputs": [
        {
          "output_type": "stream",
          "text": [
            "     0    1            2       3      4     5   ...    20   21    22  23  24     25\n",
            "0     3    ?  alfa-romero     gas    std   two  ...   9.0  111  5000  21  27  13495\n",
            "1     3    ?  alfa-romero     gas    std   two  ...   9.0  111  5000  21  27  16500\n",
            "2     1    ?  alfa-romero     gas    std   two  ...   9.0  154  5000  19  26  16500\n",
            "3     2  164         audi     gas    std  four  ...  10.0  102  5500  24  30  13950\n",
            "4     2  164         audi     gas    std  four  ...   8.0  115  5500  18  22  17450\n",
            "..   ..  ...          ...     ...    ...   ...  ...   ...  ...   ...  ..  ..    ...\n",
            "200  -1   95        volvo     gas    std  four  ...   9.5  114  5400  23  28  16845\n",
            "201  -1   95        volvo     gas  turbo  four  ...   8.7  160  5300  19  25  19045\n",
            "202  -1   95        volvo     gas    std  four  ...   8.8  134  5500  18  23  21485\n",
            "203  -1   95        volvo  diesel  turbo  four  ...  23.0  106  4800  26  27  22470\n",
            "204  -1   95        volvo     gas  turbo  four  ...   9.5  114  5400  19  25  22625\n",
            "\n",
            "[205 rows x 26 columns]\n"
          ],
          "name": "stdout"
        }
      ]
    },
    {
      "cell_type": "code",
      "metadata": {
        "colab": {
          "base_uri": "https://localhost:8080/",
          "height": 524
        },
        "id": "MwoYoCaOVXom",
        "outputId": "fd5a038b-6803-49bf-e52a-6147b2a96db0"
      },
      "source": [
        "#LE ASIGNAMOS NOMBRES A LAS COLUMNAS, RECORDEMOS QUE ESTOS NOMBRES ESTAN DADOS EN LA SECCION 'Importacion de datos'\n",
        "\n",
        "Nombres_Columnas = ['Simbolo','Perdidas Normalizadas','Creador','Tipo de gasolina',\n",
        "                    'Aspiracion','Numero de puertas','Tipo de cuerpo','Ruedas motrices',\n",
        "                    'Ubicacion del motor','Base de ruedas','Longitud','Ancho','Peso',\n",
        "                    'Peso en vacio','Tipo de motor','Numero de cilindros','Tamaño de maquina',\n",
        "                    'Sistema de combustible','Calibre','Carrera','Indice de comprension',\n",
        "                    'Caballos de fuerza','Pico de rpm','Mpg por Ciudad','Mpg por Carretera',\n",
        "                    'Precio']\n",
        "\n",
        "Datos.columns = Nombres_Columnas\n",
        "\n",
        "#USAMOS EL FORMATO DE IMPRESION DE GOOGLE COLAB QUE ES MAS APROPIADO A BASES DE DATOS GRANDES\n",
        "\n",
        "Datos"
      ],
      "execution_count": null,
      "outputs": [
        {
          "output_type": "execute_result",
          "data": {
            "text/html": [
              "<div>\n",
              "<style scoped>\n",
              "    .dataframe tbody tr th:only-of-type {\n",
              "        vertical-align: middle;\n",
              "    }\n",
              "\n",
              "    .dataframe tbody tr th {\n",
              "        vertical-align: top;\n",
              "    }\n",
              "\n",
              "    .dataframe thead th {\n",
              "        text-align: right;\n",
              "    }\n",
              "</style>\n",
              "<table border=\"1\" class=\"dataframe\">\n",
              "  <thead>\n",
              "    <tr style=\"text-align: right;\">\n",
              "      <th></th>\n",
              "      <th>Simbolo</th>\n",
              "      <th>Perdidas Normalizadas</th>\n",
              "      <th>Creador</th>\n",
              "      <th>Tipo de gasolina</th>\n",
              "      <th>Aspiracion</th>\n",
              "      <th>Numero de puertas</th>\n",
              "      <th>Tipo de cuerpo</th>\n",
              "      <th>Ruedas motrices</th>\n",
              "      <th>Ubicacion del motor</th>\n",
              "      <th>Base de ruedas</th>\n",
              "      <th>Longitud</th>\n",
              "      <th>Ancho</th>\n",
              "      <th>Peso</th>\n",
              "      <th>Peso en vacio</th>\n",
              "      <th>Tipo de motor</th>\n",
              "      <th>Numero de cilindros</th>\n",
              "      <th>Tamaño de maquina</th>\n",
              "      <th>Sistema de combustible</th>\n",
              "      <th>Calibre</th>\n",
              "      <th>Carrera</th>\n",
              "      <th>Indice de comprension</th>\n",
              "      <th>Caballos de fuerza</th>\n",
              "      <th>Pico de rpm</th>\n",
              "      <th>Mpg por Ciudad</th>\n",
              "      <th>Mpg por Carretera</th>\n",
              "      <th>Precio</th>\n",
              "    </tr>\n",
              "  </thead>\n",
              "  <tbody>\n",
              "    <tr>\n",
              "      <th>0</th>\n",
              "      <td>3</td>\n",
              "      <td>?</td>\n",
              "      <td>alfa-romero</td>\n",
              "      <td>gas</td>\n",
              "      <td>std</td>\n",
              "      <td>two</td>\n",
              "      <td>convertible</td>\n",
              "      <td>rwd</td>\n",
              "      <td>front</td>\n",
              "      <td>88.6</td>\n",
              "      <td>168.8</td>\n",
              "      <td>64.1</td>\n",
              "      <td>48.8</td>\n",
              "      <td>2548</td>\n",
              "      <td>dohc</td>\n",
              "      <td>four</td>\n",
              "      <td>130</td>\n",
              "      <td>mpfi</td>\n",
              "      <td>3.47</td>\n",
              "      <td>2.68</td>\n",
              "      <td>9.0</td>\n",
              "      <td>111</td>\n",
              "      <td>5000</td>\n",
              "      <td>21</td>\n",
              "      <td>27</td>\n",
              "      <td>13495</td>\n",
              "    </tr>\n",
              "    <tr>\n",
              "      <th>1</th>\n",
              "      <td>3</td>\n",
              "      <td>?</td>\n",
              "      <td>alfa-romero</td>\n",
              "      <td>gas</td>\n",
              "      <td>std</td>\n",
              "      <td>two</td>\n",
              "      <td>convertible</td>\n",
              "      <td>rwd</td>\n",
              "      <td>front</td>\n",
              "      <td>88.6</td>\n",
              "      <td>168.8</td>\n",
              "      <td>64.1</td>\n",
              "      <td>48.8</td>\n",
              "      <td>2548</td>\n",
              "      <td>dohc</td>\n",
              "      <td>four</td>\n",
              "      <td>130</td>\n",
              "      <td>mpfi</td>\n",
              "      <td>3.47</td>\n",
              "      <td>2.68</td>\n",
              "      <td>9.0</td>\n",
              "      <td>111</td>\n",
              "      <td>5000</td>\n",
              "      <td>21</td>\n",
              "      <td>27</td>\n",
              "      <td>16500</td>\n",
              "    </tr>\n",
              "    <tr>\n",
              "      <th>2</th>\n",
              "      <td>1</td>\n",
              "      <td>?</td>\n",
              "      <td>alfa-romero</td>\n",
              "      <td>gas</td>\n",
              "      <td>std</td>\n",
              "      <td>two</td>\n",
              "      <td>hatchback</td>\n",
              "      <td>rwd</td>\n",
              "      <td>front</td>\n",
              "      <td>94.5</td>\n",
              "      <td>171.2</td>\n",
              "      <td>65.5</td>\n",
              "      <td>52.4</td>\n",
              "      <td>2823</td>\n",
              "      <td>ohcv</td>\n",
              "      <td>six</td>\n",
              "      <td>152</td>\n",
              "      <td>mpfi</td>\n",
              "      <td>2.68</td>\n",
              "      <td>3.47</td>\n",
              "      <td>9.0</td>\n",
              "      <td>154</td>\n",
              "      <td>5000</td>\n",
              "      <td>19</td>\n",
              "      <td>26</td>\n",
              "      <td>16500</td>\n",
              "    </tr>\n",
              "    <tr>\n",
              "      <th>3</th>\n",
              "      <td>2</td>\n",
              "      <td>164</td>\n",
              "      <td>audi</td>\n",
              "      <td>gas</td>\n",
              "      <td>std</td>\n",
              "      <td>four</td>\n",
              "      <td>sedan</td>\n",
              "      <td>fwd</td>\n",
              "      <td>front</td>\n",
              "      <td>99.8</td>\n",
              "      <td>176.6</td>\n",
              "      <td>66.2</td>\n",
              "      <td>54.3</td>\n",
              "      <td>2337</td>\n",
              "      <td>ohc</td>\n",
              "      <td>four</td>\n",
              "      <td>109</td>\n",
              "      <td>mpfi</td>\n",
              "      <td>3.19</td>\n",
              "      <td>3.40</td>\n",
              "      <td>10.0</td>\n",
              "      <td>102</td>\n",
              "      <td>5500</td>\n",
              "      <td>24</td>\n",
              "      <td>30</td>\n",
              "      <td>13950</td>\n",
              "    </tr>\n",
              "    <tr>\n",
              "      <th>4</th>\n",
              "      <td>2</td>\n",
              "      <td>164</td>\n",
              "      <td>audi</td>\n",
              "      <td>gas</td>\n",
              "      <td>std</td>\n",
              "      <td>four</td>\n",
              "      <td>sedan</td>\n",
              "      <td>4wd</td>\n",
              "      <td>front</td>\n",
              "      <td>99.4</td>\n",
              "      <td>176.6</td>\n",
              "      <td>66.4</td>\n",
              "      <td>54.3</td>\n",
              "      <td>2824</td>\n",
              "      <td>ohc</td>\n",
              "      <td>five</td>\n",
              "      <td>136</td>\n",
              "      <td>mpfi</td>\n",
              "      <td>3.19</td>\n",
              "      <td>3.40</td>\n",
              "      <td>8.0</td>\n",
              "      <td>115</td>\n",
              "      <td>5500</td>\n",
              "      <td>18</td>\n",
              "      <td>22</td>\n",
              "      <td>17450</td>\n",
              "    </tr>\n",
              "    <tr>\n",
              "      <th>...</th>\n",
              "      <td>...</td>\n",
              "      <td>...</td>\n",
              "      <td>...</td>\n",
              "      <td>...</td>\n",
              "      <td>...</td>\n",
              "      <td>...</td>\n",
              "      <td>...</td>\n",
              "      <td>...</td>\n",
              "      <td>...</td>\n",
              "      <td>...</td>\n",
              "      <td>...</td>\n",
              "      <td>...</td>\n",
              "      <td>...</td>\n",
              "      <td>...</td>\n",
              "      <td>...</td>\n",
              "      <td>...</td>\n",
              "      <td>...</td>\n",
              "      <td>...</td>\n",
              "      <td>...</td>\n",
              "      <td>...</td>\n",
              "      <td>...</td>\n",
              "      <td>...</td>\n",
              "      <td>...</td>\n",
              "      <td>...</td>\n",
              "      <td>...</td>\n",
              "      <td>...</td>\n",
              "    </tr>\n",
              "    <tr>\n",
              "      <th>200</th>\n",
              "      <td>-1</td>\n",
              "      <td>95</td>\n",
              "      <td>volvo</td>\n",
              "      <td>gas</td>\n",
              "      <td>std</td>\n",
              "      <td>four</td>\n",
              "      <td>sedan</td>\n",
              "      <td>rwd</td>\n",
              "      <td>front</td>\n",
              "      <td>109.1</td>\n",
              "      <td>188.8</td>\n",
              "      <td>68.9</td>\n",
              "      <td>55.5</td>\n",
              "      <td>2952</td>\n",
              "      <td>ohc</td>\n",
              "      <td>four</td>\n",
              "      <td>141</td>\n",
              "      <td>mpfi</td>\n",
              "      <td>3.78</td>\n",
              "      <td>3.15</td>\n",
              "      <td>9.5</td>\n",
              "      <td>114</td>\n",
              "      <td>5400</td>\n",
              "      <td>23</td>\n",
              "      <td>28</td>\n",
              "      <td>16845</td>\n",
              "    </tr>\n",
              "    <tr>\n",
              "      <th>201</th>\n",
              "      <td>-1</td>\n",
              "      <td>95</td>\n",
              "      <td>volvo</td>\n",
              "      <td>gas</td>\n",
              "      <td>turbo</td>\n",
              "      <td>four</td>\n",
              "      <td>sedan</td>\n",
              "      <td>rwd</td>\n",
              "      <td>front</td>\n",
              "      <td>109.1</td>\n",
              "      <td>188.8</td>\n",
              "      <td>68.8</td>\n",
              "      <td>55.5</td>\n",
              "      <td>3049</td>\n",
              "      <td>ohc</td>\n",
              "      <td>four</td>\n",
              "      <td>141</td>\n",
              "      <td>mpfi</td>\n",
              "      <td>3.78</td>\n",
              "      <td>3.15</td>\n",
              "      <td>8.7</td>\n",
              "      <td>160</td>\n",
              "      <td>5300</td>\n",
              "      <td>19</td>\n",
              "      <td>25</td>\n",
              "      <td>19045</td>\n",
              "    </tr>\n",
              "    <tr>\n",
              "      <th>202</th>\n",
              "      <td>-1</td>\n",
              "      <td>95</td>\n",
              "      <td>volvo</td>\n",
              "      <td>gas</td>\n",
              "      <td>std</td>\n",
              "      <td>four</td>\n",
              "      <td>sedan</td>\n",
              "      <td>rwd</td>\n",
              "      <td>front</td>\n",
              "      <td>109.1</td>\n",
              "      <td>188.8</td>\n",
              "      <td>68.9</td>\n",
              "      <td>55.5</td>\n",
              "      <td>3012</td>\n",
              "      <td>ohcv</td>\n",
              "      <td>six</td>\n",
              "      <td>173</td>\n",
              "      <td>mpfi</td>\n",
              "      <td>3.58</td>\n",
              "      <td>2.87</td>\n",
              "      <td>8.8</td>\n",
              "      <td>134</td>\n",
              "      <td>5500</td>\n",
              "      <td>18</td>\n",
              "      <td>23</td>\n",
              "      <td>21485</td>\n",
              "    </tr>\n",
              "    <tr>\n",
              "      <th>203</th>\n",
              "      <td>-1</td>\n",
              "      <td>95</td>\n",
              "      <td>volvo</td>\n",
              "      <td>diesel</td>\n",
              "      <td>turbo</td>\n",
              "      <td>four</td>\n",
              "      <td>sedan</td>\n",
              "      <td>rwd</td>\n",
              "      <td>front</td>\n",
              "      <td>109.1</td>\n",
              "      <td>188.8</td>\n",
              "      <td>68.9</td>\n",
              "      <td>55.5</td>\n",
              "      <td>3217</td>\n",
              "      <td>ohc</td>\n",
              "      <td>six</td>\n",
              "      <td>145</td>\n",
              "      <td>idi</td>\n",
              "      <td>3.01</td>\n",
              "      <td>3.40</td>\n",
              "      <td>23.0</td>\n",
              "      <td>106</td>\n",
              "      <td>4800</td>\n",
              "      <td>26</td>\n",
              "      <td>27</td>\n",
              "      <td>22470</td>\n",
              "    </tr>\n",
              "    <tr>\n",
              "      <th>204</th>\n",
              "      <td>-1</td>\n",
              "      <td>95</td>\n",
              "      <td>volvo</td>\n",
              "      <td>gas</td>\n",
              "      <td>turbo</td>\n",
              "      <td>four</td>\n",
              "      <td>sedan</td>\n",
              "      <td>rwd</td>\n",
              "      <td>front</td>\n",
              "      <td>109.1</td>\n",
              "      <td>188.8</td>\n",
              "      <td>68.9</td>\n",
              "      <td>55.5</td>\n",
              "      <td>3062</td>\n",
              "      <td>ohc</td>\n",
              "      <td>four</td>\n",
              "      <td>141</td>\n",
              "      <td>mpfi</td>\n",
              "      <td>3.78</td>\n",
              "      <td>3.15</td>\n",
              "      <td>9.5</td>\n",
              "      <td>114</td>\n",
              "      <td>5400</td>\n",
              "      <td>19</td>\n",
              "      <td>25</td>\n",
              "      <td>22625</td>\n",
              "    </tr>\n",
              "  </tbody>\n",
              "</table>\n",
              "<p>205 rows × 26 columns</p>\n",
              "</div>"
            ],
            "text/plain": [
              "     Simbolo Perdidas Normalizadas  ... Mpg por Carretera Precio\n",
              "0          3                     ?  ...                27  13495\n",
              "1          3                     ?  ...                27  16500\n",
              "2          1                     ?  ...                26  16500\n",
              "3          2                   164  ...                30  13950\n",
              "4          2                   164  ...                22  17450\n",
              "..       ...                   ...  ...               ...    ...\n",
              "200       -1                    95  ...                28  16845\n",
              "201       -1                    95  ...                25  19045\n",
              "202       -1                    95  ...                23  21485\n",
              "203       -1                    95  ...                27  22470\n",
              "204       -1                    95  ...                25  22625\n",
              "\n",
              "[205 rows x 26 columns]"
            ]
          },
          "metadata": {
            "tags": []
          },
          "execution_count": 6
        }
      ]
    },
    {
      "cell_type": "markdown",
      "metadata": {
        "id": "ZN3_LV3zdy1h"
      },
      "source": [
        "## Tipos de datos en Pandas\n",
        "\n",
        "Recordemos que los cuatro tipos de datos básicos en Python son : int, float, bool y string.\n",
        "\n",
        "Pandas por su cuenta maneja cuatro tipos de datos son muy similares a los datos básicos de Python. El dato tipo bool queda intacto.\n",
        "\n",
        "|Dato Python|Dato Pandas|\n",
        "|-----------|-----------|\n",
        "|int|int64|\n",
        "|float|float64|\n",
        "|string|object|\n",
        "|-|datetime64|\n",
        "\n",
        "Se denota que los datos tipo int e int64 son iguales, así mismo los datos float y float64. Los datos tipo object son muy similares a los datos tipo string salvo por el cambio de nombre.\n",
        "\n",
        "El dato tipo datetime64 son un tipo de dato para el manejo de series de tiempo."
      ]
    },
    {
      "cell_type": "markdown",
      "metadata": {
        "id": "-V9bv908d5zB"
      },
      "source": [
        "## Función dtypes\n",
        "\n",
        "Es importante comprobar los tipos de datos en un conjunto pues Pandas asigna automaticamente los tipos de datos a los datos basandose en la codificación que detecta en la tabla original. Esto puede traer errores.\n",
        "\n",
        "La función dtypes nos señala el tipo de datos en nuestro Data Frame.\n",
        "\n",
        "Sintaxis.\n",
        "\n",
        "```\n",
        "DF.dtypes\n",
        "```\n",
        "\n",
        "Esta función regresa una serie."
      ]
    },
    {
      "cell_type": "markdown",
      "metadata": {
        "id": "g2F2noYGfb-P"
      },
      "source": [
        "### EJEMPLO DE FUNCIÓN dtypes"
      ]
    },
    {
      "cell_type": "code",
      "metadata": {
        "colab": {
          "base_uri": "https://localhost:8080/"
        },
        "id": "fd1a6kKpfbSJ",
        "outputId": "867e13d6-1e63-4f22-8556-419423275ecf"
      },
      "source": [
        "#OBSERVE EL TIPO DE DATO EN LA BASE DE DATOS EXTRAIDA\n",
        "Datos.dtypes"
      ],
      "execution_count": null,
      "outputs": [
        {
          "output_type": "execute_result",
          "data": {
            "text/plain": [
              "Simbolo                     int64\n",
              "Perdidas Normalizadas      object\n",
              "Creador                    object\n",
              "Tipo de gasolina           object\n",
              "Aspiracion                 object\n",
              "Numero de puertas          object\n",
              "Tipo de cuerpo             object\n",
              "Ruedas motrices            object\n",
              "Ubicacion del motor        object\n",
              "Base de ruedas            float64\n",
              "Longitud                  float64\n",
              "Ancho                     float64\n",
              "Peso                      float64\n",
              "Peso en vacio               int64\n",
              "Tipo de motor              object\n",
              "Numero de cilindros        object\n",
              "Tamaño de maquina           int64\n",
              "Sistema de combustible     object\n",
              "Calibre                    object\n",
              "Carrera                    object\n",
              "Indice de comprension     float64\n",
              "Caballos de fuerza         object\n",
              "Pico de rpm                object\n",
              "Mpg por Ciudad              int64\n",
              "Mpg por Carretera           int64\n",
              "Precio                     object\n",
              "dtype: object"
            ]
          },
          "metadata": {
            "tags": []
          },
          "execution_count": 7
        }
      ]
    },
    {
      "cell_type": "markdown",
      "metadata": {
        "id": "w29AmKv4Xv4s"
      },
      "source": [
        "## Preprocesamiento de datos\n",
        "\n",
        "El preprocesamiento de datos es convertir o mapear los datos de un formato en bruto a un formato para un análisis posterior.\n",
        "\n",
        "El preprocesamiento de datos también es conocido como *limpieza de datos* o *transformación de datos*, *Data Cleaning* y *Data Wrangling* en inglés."
      ]
    },
    {
      "cell_type": "markdown",
      "metadata": {
        "id": "B-Nsh5LGZ0Vu"
      },
      "source": [
        "### Tratando con Valores omitidos\n",
        "\n",
        "Cuando no se almacenan ningún valor de datos para una característica de una observación en particular, decimos que esta característica tiene un valor omitido.\n",
        "\n",
        "La representación usual del valor omitido es:\n",
        "\n",
        "```\n",
        "'?', 'N/A', 'NaN', 0, Celda en blanco\n",
        "```\n",
        "\n",
        "Existen por ellos diversas maneras de tratar con los valores omitidos, estas estrategías sin independientemente del lenguaje a usar y cada situación debe ser juzgada de manera diferente.\n",
        "\n",
        "1. *Comprobar si la persona o grupo que recogió los datos puede volver atrás y encontrar el valor real*\n",
        "\n",
        "2. *Eliminar los datos en los que aparece el valor faltante. Esto se hace eliminando la variable o el dato de entrada.*\n",
        "\n",
        "**NOTA** : La opción anterior es recomendada solo cuando la mayor parte de las entradas son omitidas.\n",
        "\n",
        "3. *Reemplazar los datos, esta opción es menos precisa pero es una aproximación al valor real.*\n",
        "\n",
        "**NOTA** : Si las variables son numéricas la costumbre es introducir la media del conjunto de datos. Si las variables son categóricas se reemplaza usando la moda.\n",
        "\n",
        "**NOTA** : Con anterioridad se observó el método replace y dropna que ayudan a tratar con valores omitidos."
      ]
    },
    {
      "cell_type": "markdown",
      "metadata": {
        "id": "FCa2IyVjblfs"
      },
      "source": [
        "### Formateo de datos\n",
        "\n",
        "Los datos suelen recopilarse desde diferentes lugares por\n",
        "diferentes personas y pueden estar almacenados en diferentes\n",
        "formatos.\n",
        "\n",
        "El formato de los datos significa llevar los datos a un\n",
        "estándar común de expresión que permita a los usuarios hacer\n",
        "comparaciones con sentido.\n",
        "\n",
        "El formateo de los datos asegura que los datos sean consistentes\n",
        "y facilmente comprensibles.\n",
        "\n",
        "*EJEMPLO*\n",
        "\n",
        "|Ciudad|Ciudad|\n",
        "|------|------|\n",
        "|NY|New York|\n",
        "|New Y|New York|\n",
        "|N.Y|New York|"
      ]
    },
    {
      "cell_type": "markdown",
      "metadata": {
        "id": "RU1u6J5CcT8x"
      },
      "source": [
        "#### EJEMPLO DE FORMATEO DE DATOS"
      ]
    },
    {
      "cell_type": "code",
      "metadata": {
        "colab": {
          "base_uri": "https://localhost:8080/",
          "height": 309
        },
        "id": "t71uEETbcWUM",
        "outputId": "6240a069-022f-490b-ac5b-969617231c1d"
      },
      "source": [
        "#IMPRIMIMOS LOS DATOS IMPORTADOS ANTERIORMENTE\n",
        "Datos.head()"
      ],
      "execution_count": null,
      "outputs": [
        {
          "output_type": "execute_result",
          "data": {
            "text/html": [
              "<div>\n",
              "<style scoped>\n",
              "    .dataframe tbody tr th:only-of-type {\n",
              "        vertical-align: middle;\n",
              "    }\n",
              "\n",
              "    .dataframe tbody tr th {\n",
              "        vertical-align: top;\n",
              "    }\n",
              "\n",
              "    .dataframe thead th {\n",
              "        text-align: right;\n",
              "    }\n",
              "</style>\n",
              "<table border=\"1\" class=\"dataframe\">\n",
              "  <thead>\n",
              "    <tr style=\"text-align: right;\">\n",
              "      <th></th>\n",
              "      <th>Simbolo</th>\n",
              "      <th>Perdidas Normalizadas</th>\n",
              "      <th>Creador</th>\n",
              "      <th>Tipo de gasolina</th>\n",
              "      <th>Aspiracion</th>\n",
              "      <th>Numero de puertas</th>\n",
              "      <th>Tipo de cuerpo</th>\n",
              "      <th>Ruedas motrices</th>\n",
              "      <th>Ubicacion del motor</th>\n",
              "      <th>Base de ruedas</th>\n",
              "      <th>Longitud</th>\n",
              "      <th>Ancho</th>\n",
              "      <th>Peso</th>\n",
              "      <th>Peso en vacio</th>\n",
              "      <th>Tipo de motor</th>\n",
              "      <th>Numero de cilindros</th>\n",
              "      <th>Tamaño de maquina</th>\n",
              "      <th>Sistema de combustible</th>\n",
              "      <th>Calibre</th>\n",
              "      <th>Carrera</th>\n",
              "      <th>Indice de comprension</th>\n",
              "      <th>Caballos de fuerza</th>\n",
              "      <th>Pico de rpm</th>\n",
              "      <th>Mpg por Ciudad</th>\n",
              "      <th>Mpg por Carretera</th>\n",
              "      <th>Precio</th>\n",
              "    </tr>\n",
              "  </thead>\n",
              "  <tbody>\n",
              "    <tr>\n",
              "      <th>0</th>\n",
              "      <td>3</td>\n",
              "      <td>?</td>\n",
              "      <td>alfa-romero</td>\n",
              "      <td>gas</td>\n",
              "      <td>std</td>\n",
              "      <td>two</td>\n",
              "      <td>convertible</td>\n",
              "      <td>rwd</td>\n",
              "      <td>front</td>\n",
              "      <td>88.6</td>\n",
              "      <td>168.8</td>\n",
              "      <td>64.1</td>\n",
              "      <td>48.8</td>\n",
              "      <td>2548</td>\n",
              "      <td>dohc</td>\n",
              "      <td>four</td>\n",
              "      <td>130</td>\n",
              "      <td>mpfi</td>\n",
              "      <td>3.47</td>\n",
              "      <td>2.68</td>\n",
              "      <td>9.0</td>\n",
              "      <td>111</td>\n",
              "      <td>5000</td>\n",
              "      <td>21</td>\n",
              "      <td>27</td>\n",
              "      <td>13495</td>\n",
              "    </tr>\n",
              "    <tr>\n",
              "      <th>1</th>\n",
              "      <td>3</td>\n",
              "      <td>?</td>\n",
              "      <td>alfa-romero</td>\n",
              "      <td>gas</td>\n",
              "      <td>std</td>\n",
              "      <td>two</td>\n",
              "      <td>convertible</td>\n",
              "      <td>rwd</td>\n",
              "      <td>front</td>\n",
              "      <td>88.6</td>\n",
              "      <td>168.8</td>\n",
              "      <td>64.1</td>\n",
              "      <td>48.8</td>\n",
              "      <td>2548</td>\n",
              "      <td>dohc</td>\n",
              "      <td>four</td>\n",
              "      <td>130</td>\n",
              "      <td>mpfi</td>\n",
              "      <td>3.47</td>\n",
              "      <td>2.68</td>\n",
              "      <td>9.0</td>\n",
              "      <td>111</td>\n",
              "      <td>5000</td>\n",
              "      <td>21</td>\n",
              "      <td>27</td>\n",
              "      <td>16500</td>\n",
              "    </tr>\n",
              "    <tr>\n",
              "      <th>2</th>\n",
              "      <td>1</td>\n",
              "      <td>?</td>\n",
              "      <td>alfa-romero</td>\n",
              "      <td>gas</td>\n",
              "      <td>std</td>\n",
              "      <td>two</td>\n",
              "      <td>hatchback</td>\n",
              "      <td>rwd</td>\n",
              "      <td>front</td>\n",
              "      <td>94.5</td>\n",
              "      <td>171.2</td>\n",
              "      <td>65.5</td>\n",
              "      <td>52.4</td>\n",
              "      <td>2823</td>\n",
              "      <td>ohcv</td>\n",
              "      <td>six</td>\n",
              "      <td>152</td>\n",
              "      <td>mpfi</td>\n",
              "      <td>2.68</td>\n",
              "      <td>3.47</td>\n",
              "      <td>9.0</td>\n",
              "      <td>154</td>\n",
              "      <td>5000</td>\n",
              "      <td>19</td>\n",
              "      <td>26</td>\n",
              "      <td>16500</td>\n",
              "    </tr>\n",
              "    <tr>\n",
              "      <th>3</th>\n",
              "      <td>2</td>\n",
              "      <td>164</td>\n",
              "      <td>audi</td>\n",
              "      <td>gas</td>\n",
              "      <td>std</td>\n",
              "      <td>four</td>\n",
              "      <td>sedan</td>\n",
              "      <td>fwd</td>\n",
              "      <td>front</td>\n",
              "      <td>99.8</td>\n",
              "      <td>176.6</td>\n",
              "      <td>66.2</td>\n",
              "      <td>54.3</td>\n",
              "      <td>2337</td>\n",
              "      <td>ohc</td>\n",
              "      <td>four</td>\n",
              "      <td>109</td>\n",
              "      <td>mpfi</td>\n",
              "      <td>3.19</td>\n",
              "      <td>3.40</td>\n",
              "      <td>10.0</td>\n",
              "      <td>102</td>\n",
              "      <td>5500</td>\n",
              "      <td>24</td>\n",
              "      <td>30</td>\n",
              "      <td>13950</td>\n",
              "    </tr>\n",
              "    <tr>\n",
              "      <th>4</th>\n",
              "      <td>2</td>\n",
              "      <td>164</td>\n",
              "      <td>audi</td>\n",
              "      <td>gas</td>\n",
              "      <td>std</td>\n",
              "      <td>four</td>\n",
              "      <td>sedan</td>\n",
              "      <td>4wd</td>\n",
              "      <td>front</td>\n",
              "      <td>99.4</td>\n",
              "      <td>176.6</td>\n",
              "      <td>66.4</td>\n",
              "      <td>54.3</td>\n",
              "      <td>2824</td>\n",
              "      <td>ohc</td>\n",
              "      <td>five</td>\n",
              "      <td>136</td>\n",
              "      <td>mpfi</td>\n",
              "      <td>3.19</td>\n",
              "      <td>3.40</td>\n",
              "      <td>8.0</td>\n",
              "      <td>115</td>\n",
              "      <td>5500</td>\n",
              "      <td>18</td>\n",
              "      <td>22</td>\n",
              "      <td>17450</td>\n",
              "    </tr>\n",
              "  </tbody>\n",
              "</table>\n",
              "</div>"
            ],
            "text/plain": [
              "   Simbolo Perdidas Normalizadas  ... Mpg por Carretera Precio\n",
              "0        3                     ?  ...                27  13495\n",
              "1        3                     ?  ...                27  16500\n",
              "2        1                     ?  ...                26  16500\n",
              "3        2                   164  ...                30  13950\n",
              "4        2                   164  ...                22  17450\n",
              "\n",
              "[5 rows x 26 columns]"
            ]
          },
          "metadata": {
            "tags": []
          },
          "execution_count": 8
        }
      ]
    },
    {
      "cell_type": "code",
      "metadata": {
        "id": "ZjaI8i7ZcfYo"
      },
      "source": [
        "#NOTEMOS QUE MPG POR CIUDAD Y MPG POR CARRETERA SON DATOS EN SISTEMA INGLES\n",
        "#CAMBIE ESTOS DATOS POR SISTEMA METRICO Y MODIFIQUE EL NOMBRE DE LAS COLUMNAS CON UN NOMBRE APROPIADO\n"
      ],
      "execution_count": null,
      "outputs": []
    },
    {
      "cell_type": "code",
      "metadata": {
        "colab": {
          "base_uri": "https://localhost:8080/"
        },
        "id": "gLrasSBRlXGh",
        "outputId": "bf66fde7-09c8-4fbb-d91e-3ba207efcaf4"
      },
      "source": [
        "'''\n",
        "Notemos que la columna Perdidas Normalizadas tiene valores omitidos \"?\".\n",
        "Cambiamos estos valores por NaN y usamos el ciclo for anterior visto para contabilizar\n",
        "los datos nulos en el Data Frame.\n",
        "'''\n",
        "Datos.replace('?',np.nan,inplace = True)\n",
        "\n",
        "DatosNaN = Datos.isnull()\n",
        "\n",
        "for column in DatosNaN.columns.values.tolist():\n",
        "  print(column)\n",
        "  print(DatosNaN[column].value_counts())\n",
        "  print(\"\")"
      ],
      "execution_count": null,
      "outputs": [
        {
          "output_type": "stream",
          "text": [
            "Simbolo\n",
            "False    205\n",
            "Name: Simbolo, dtype: int64\n",
            "\n",
            "Perdidas Normalizadas\n",
            "False    164\n",
            "True      41\n",
            "Name: Perdidas Normalizadas, dtype: int64\n",
            "\n",
            "Creador\n",
            "False    205\n",
            "Name: Creador, dtype: int64\n",
            "\n",
            "Tipo de gasolina\n",
            "False    205\n",
            "Name: Tipo de gasolina, dtype: int64\n",
            "\n",
            "Aspiracion\n",
            "False    205\n",
            "Name: Aspiracion, dtype: int64\n",
            "\n",
            "Numero de puertas\n",
            "False    203\n",
            "True       2\n",
            "Name: Numero de puertas, dtype: int64\n",
            "\n",
            "Tipo de cuerpo\n",
            "False    205\n",
            "Name: Tipo de cuerpo, dtype: int64\n",
            "\n",
            "Ruedas motrices\n",
            "False    205\n",
            "Name: Ruedas motrices, dtype: int64\n",
            "\n",
            "Ubicacion del motor\n",
            "False    205\n",
            "Name: Ubicacion del motor, dtype: int64\n",
            "\n",
            "Base de ruedas\n",
            "False    205\n",
            "Name: Base de ruedas, dtype: int64\n",
            "\n",
            "Longitud\n",
            "False    205\n",
            "Name: Longitud, dtype: int64\n",
            "\n",
            "Ancho\n",
            "False    205\n",
            "Name: Ancho, dtype: int64\n",
            "\n",
            "Peso\n",
            "False    205\n",
            "Name: Peso, dtype: int64\n",
            "\n",
            "Peso en vacio\n",
            "False    205\n",
            "Name: Peso en vacio, dtype: int64\n",
            "\n",
            "Tipo de motor\n",
            "False    205\n",
            "Name: Tipo de motor, dtype: int64\n",
            "\n",
            "Numero de cilindros\n",
            "False    205\n",
            "Name: Numero de cilindros, dtype: int64\n",
            "\n",
            "Tamaño de maquina\n",
            "False    205\n",
            "Name: Tamaño de maquina, dtype: int64\n",
            "\n",
            "Sistema de combustible\n",
            "False    205\n",
            "Name: Sistema de combustible, dtype: int64\n",
            "\n",
            "Calibre\n",
            "False    201\n",
            "True       4\n",
            "Name: Calibre, dtype: int64\n",
            "\n",
            "Carrera\n",
            "False    201\n",
            "True       4\n",
            "Name: Carrera, dtype: int64\n",
            "\n",
            "Indice de comprension\n",
            "False    205\n",
            "Name: Indice de comprension, dtype: int64\n",
            "\n",
            "Caballos de fuerza\n",
            "False    203\n",
            "True       2\n",
            "Name: Caballos de fuerza, dtype: int64\n",
            "\n",
            "Pico de rpm\n",
            "False    203\n",
            "True       2\n",
            "Name: Pico de rpm, dtype: int64\n",
            "\n",
            "Mpg por Ciudad\n",
            "False    205\n",
            "Name: Mpg por Ciudad, dtype: int64\n",
            "\n",
            "Mpg por Carretera\n",
            "False    205\n",
            "Name: Mpg por Carretera, dtype: int64\n",
            "\n",
            "Precio\n",
            "False    201\n",
            "True       4\n",
            "Name: Precio, dtype: int64\n",
            "\n"
          ],
          "name": "stdout"
        }
      ]
    },
    {
      "cell_type": "code",
      "metadata": {
        "id": "OlNvnurvoLiW"
      },
      "source": [
        "#EN FUNCION DE LOS RESULTADOS ANTERIORES, DETERMINE QUE ESTRATEGIA UTILIZAR PARA TRATAR LOS VALORES OMITIDOS EN CASO DE SER NECESARIO\n"
      ],
      "execution_count": null,
      "outputs": []
    },
    {
      "cell_type": "code",
      "metadata": {
        "colab": {
          "base_uri": "https://localhost:8080/"
        },
        "id": "irciLPzvfsUZ",
        "outputId": "9a8b5b35-caf7-4e34-8d3d-2772e2352b46"
      },
      "source": [
        "#RECORDEMOS LOS TIPOS DE DATOS CORRESPONDIENTES EN LA BASE DE DATOS\n",
        "Datos.dtypes"
      ],
      "execution_count": null,
      "outputs": [
        {
          "output_type": "execute_result",
          "data": {
            "text/plain": [
              "Simbolo                     int64\n",
              "Perdidas Normalizadas      object\n",
              "Creador                    object\n",
              "Tipo de gasolina           object\n",
              "Aspiracion                 object\n",
              "Numero de puertas          object\n",
              "Tipo de cuerpo             object\n",
              "Ruedas motrices            object\n",
              "Ubicacion del motor        object\n",
              "Base de ruedas            float64\n",
              "Longitud                  float64\n",
              "Ancho                     float64\n",
              "Peso                      float64\n",
              "Peso en vacio               int64\n",
              "Tipo de motor              object\n",
              "Numero de cilindros        object\n",
              "Tamaño de maquina           int64\n",
              "Sistema de combustible     object\n",
              "Calibre                    object\n",
              "Carrera                    object\n",
              "Indice de comprension     float64\n",
              "Caballos de fuerza         object\n",
              "Pico de rpm                object\n",
              "Mpg por Ciudad              int64\n",
              "Mpg por Carretera           int64\n",
              "Precio                     object\n",
              "dtype: object"
            ]
          },
          "metadata": {
            "tags": []
          },
          "execution_count": 12
        }
      ]
    },
    {
      "cell_type": "code",
      "metadata": {
        "id": "SVeqNNZQf4NL"
      },
      "source": [
        "#VERIFIQUE QUE DATOS NO CORRESPONDE CON SU TIPO DE DATOS Y MODIFIQUE LAS COLUMNAS\n"
      ],
      "execution_count": null,
      "outputs": []
    },
    {
      "cell_type": "markdown",
      "metadata": {
        "id": "O7dd_b4UgTpJ"
      },
      "source": [
        "### Normalización de datos\n",
        "\n",
        "La normalización de datos es importante porque los diferentes rangos en los cuales puedan estar los diferentes datos pueden arrojar resultados que determinen positivos falsos, por ejemplo, en regresión lineal.\n",
        "\n",
        "Existen varias maneras de normalizar los datos, presentamos tres.\n",
        "\n",
        "1. Escalado\n",
        "\n",
        "$$x_{new} = \\frac{x_{old}}{x_{max}}$$\n",
        "\n",
        "El valor normalizado se obtiene diviendo el valor original por el máximo de dichos valores.\n",
        "\n",
        "2. Min-Max\n",
        "\n",
        "$$x_{new} = \\frac{x_{old}-x_{min}}{x_{max}-x_{min}}$$\n",
        "\n",
        "El nuevo valor normalizado se obtiene mediante una division, donde el numerador es la resta de el valor original menos el valor minimo de dichos valores, el denominador es la resta del valor maximo de dichos valores menos el valor minimo.\n",
        "\n",
        "3. Normalización estandar.\n",
        "\n",
        "$$x_{new} = \\frac{x_{old} - \\mu }{\\sigma }$$\n",
        "\n",
        "El nuevo valor normalizado se obtiene mediante una division, donde el numerador es la resta de el valor original menos la media de dichos valores y el denominador es la desviacion estandar de dichos valores."
      ]
    },
    {
      "cell_type": "markdown",
      "metadata": {
        "id": "rZBZw2qUlsRQ"
      },
      "source": [
        "#### Función max\n",
        "\n",
        "La función max() determina el valor máximo del conjunto de datos.\n",
        "\n",
        "Sintaxis.\n",
        "\n",
        "```\n",
        "DF.max()\n",
        "```"
      ]
    },
    {
      "cell_type": "markdown",
      "metadata": {
        "id": "MooipJI_l5QD"
      },
      "source": [
        "#### Función min\n",
        "\n",
        "La función min() determina el valor mínimo del conjunto de datos.\n",
        "\n",
        "Sintaxis.\n",
        "\n",
        "```\n",
        "DF.min()\n",
        "```"
      ]
    },
    {
      "cell_type": "markdown",
      "metadata": {
        "id": "s5veHXK_mFaP"
      },
      "source": [
        "#### Función mean y std\n",
        "\n",
        "La función mean() y std() calcula la media del conjunto de datos y la desviación estandar del conjunto de datos respectivamente.\n",
        "\n",
        "Sintaxis.\n",
        "\n",
        "```\n",
        "DF.mean()\n",
        "DF.std()\n",
        "```\n"
      ]
    },
    {
      "cell_type": "markdown",
      "metadata": {
        "id": "aT73FYOamYcs"
      },
      "source": [
        "##### EJEMPLO NORMALIZACIÓN DE DATOS"
      ]
    },
    {
      "cell_type": "code",
      "metadata": {
        "colab": {
          "base_uri": "https://localhost:8080/",
          "height": 419
        },
        "id": "YPV1fH4oma56",
        "outputId": "96fc8109-1bb1-4aa5-ef62-004607a91419"
      },
      "source": [
        "#NOTEMOS QUE LOS DATOS DE LAS COLUMNAS PESO EN VACIO Y PICO DE RPM TIENEN VALORES MUY GRANDES\n",
        "Datos.loc[:,['Peso en vacio','Pico de rpm']]"
      ],
      "execution_count": null,
      "outputs": [
        {
          "output_type": "execute_result",
          "data": {
            "text/html": [
              "<div>\n",
              "<style scoped>\n",
              "    .dataframe tbody tr th:only-of-type {\n",
              "        vertical-align: middle;\n",
              "    }\n",
              "\n",
              "    .dataframe tbody tr th {\n",
              "        vertical-align: top;\n",
              "    }\n",
              "\n",
              "    .dataframe thead th {\n",
              "        text-align: right;\n",
              "    }\n",
              "</style>\n",
              "<table border=\"1\" class=\"dataframe\">\n",
              "  <thead>\n",
              "    <tr style=\"text-align: right;\">\n",
              "      <th></th>\n",
              "      <th>Peso en vacio</th>\n",
              "      <th>Pico de rpm</th>\n",
              "    </tr>\n",
              "  </thead>\n",
              "  <tbody>\n",
              "    <tr>\n",
              "      <th>0</th>\n",
              "      <td>2548</td>\n",
              "      <td>5000</td>\n",
              "    </tr>\n",
              "    <tr>\n",
              "      <th>1</th>\n",
              "      <td>2548</td>\n",
              "      <td>5000</td>\n",
              "    </tr>\n",
              "    <tr>\n",
              "      <th>2</th>\n",
              "      <td>2823</td>\n",
              "      <td>5000</td>\n",
              "    </tr>\n",
              "    <tr>\n",
              "      <th>3</th>\n",
              "      <td>2337</td>\n",
              "      <td>5500</td>\n",
              "    </tr>\n",
              "    <tr>\n",
              "      <th>4</th>\n",
              "      <td>2824</td>\n",
              "      <td>5500</td>\n",
              "    </tr>\n",
              "    <tr>\n",
              "      <th>...</th>\n",
              "      <td>...</td>\n",
              "      <td>...</td>\n",
              "    </tr>\n",
              "    <tr>\n",
              "      <th>200</th>\n",
              "      <td>2952</td>\n",
              "      <td>5400</td>\n",
              "    </tr>\n",
              "    <tr>\n",
              "      <th>201</th>\n",
              "      <td>3049</td>\n",
              "      <td>5300</td>\n",
              "    </tr>\n",
              "    <tr>\n",
              "      <th>202</th>\n",
              "      <td>3012</td>\n",
              "      <td>5500</td>\n",
              "    </tr>\n",
              "    <tr>\n",
              "      <th>203</th>\n",
              "      <td>3217</td>\n",
              "      <td>4800</td>\n",
              "    </tr>\n",
              "    <tr>\n",
              "      <th>204</th>\n",
              "      <td>3062</td>\n",
              "      <td>5400</td>\n",
              "    </tr>\n",
              "  </tbody>\n",
              "</table>\n",
              "<p>205 rows × 2 columns</p>\n",
              "</div>"
            ],
            "text/plain": [
              "     Peso en vacio Pico de rpm\n",
              "0             2548        5000\n",
              "1             2548        5000\n",
              "2             2823        5000\n",
              "3             2337        5500\n",
              "4             2824        5500\n",
              "..             ...         ...\n",
              "200           2952        5400\n",
              "201           3049        5300\n",
              "202           3012        5500\n",
              "203           3217        4800\n",
              "204           3062        5400\n",
              "\n",
              "[205 rows x 2 columns]"
            ]
          },
          "metadata": {
            "tags": []
          },
          "execution_count": 27
        }
      ]
    },
    {
      "cell_type": "code",
      "metadata": {
        "id": "UhE4J5xEo_zk"
      },
      "source": [
        "#NORMALICE LAS COLUMNAS ANTERIORES\n"
      ],
      "execution_count": null,
      "outputs": []
    },
    {
      "cell_type": "markdown",
      "metadata": {
        "id": "Z5hIWqQ_pKMp"
      },
      "source": [
        "### Discretización\n",
        "\n",
        "Discretizar es el proceso de transformar variables numéricas continuas en 'contenedores' discretos para el análisis agrupado."
      ]
    },
    {
      "cell_type": "markdown",
      "metadata": {
        "id": "Fa0sbvpOqI11"
      },
      "source": [
        "#### Librería matplotlib\n",
        "\n",
        "El módulo matplotlib es un paquete grande y complejo que, entre otros, contiene dos módulos principales : pyplot y pylab."
      ]
    },
    {
      "cell_type": "markdown",
      "metadata": {
        "id": "_1Yc__Pk-70z"
      },
      "source": [
        "#### Módulo pyplot\n",
        "\n",
        "Ofrece una interfaz fácil para crear gráficos sencillamente, automatizando la creación de figuras y ejes automáticamente cuando se hace un gráfico.\n"
      ]
    },
    {
      "cell_type": "markdown",
      "metadata": {
        "id": "4O0wgGTx_oVW"
      },
      "source": [
        "#### Función plot\n",
        "\n",
        "Para graficar de manera básica y sencilla con el módulo pyplot usamos la función plot.\n",
        "\n",
        "Sintaxis.\n",
        "\n",
        "```\n",
        "import matplotlib.pyplot as plt\n",
        "\n",
        "plt.plot(Eje_X,Eje_Y)\n",
        "```\n",
        "\n",
        "Note que Eje_X y Eje_Y contienen los datos respectivos a estos ejes.\n",
        "\n",
        "Los ejes pueden ser listas de números, arrays e incluso una columna de un Data Frame.\n"
      ]
    },
    {
      "cell_type": "markdown",
      "metadata": {
        "id": "kncMNfzcAKxZ"
      },
      "source": [
        "##### EJEMPLO DE LA FUNCIÓN plot"
      ]
    },
    {
      "cell_type": "code",
      "metadata": {
        "colab": {
          "base_uri": "https://localhost:8080/",
          "height": 282
        },
        "id": "0n-y70JgAMp3",
        "outputId": "031865a3-e8bb-419a-8f2b-8b7ca5439d03"
      },
      "source": [
        "#CONSIDERE LOS SIGUIENTES DATOS\n",
        "X = [1,2,3,4]\n",
        "Y = [0.5,3.2,5.6,7.8]\n",
        "\n",
        "#IMPORTAMOS LA FUNCION\n",
        "import matplotlib.pyplot as plt\n",
        "\n",
        "#GRAFICAMOS\n",
        "\n",
        "plt.plot(X,Y)"
      ],
      "execution_count": null,
      "outputs": [
        {
          "output_type": "execute_result",
          "data": {
            "text/plain": [
              "[<matplotlib.lines.Line2D at 0x7f84f98042e8>]"
            ]
          },
          "metadata": {
            "tags": []
          },
          "execution_count": 1
        },
        {
          "output_type": "display_data",
          "data": {
            "image/png": "[encoded data removed]",
            "text/plain": [
              "<Figure size 432x288 with 1 Axes>"
            ]
          },
          "metadata": {
            "tags": [],
            "needs_background": "light"
          }
        }
      ]
    },
    {
      "cell_type": "markdown",
      "metadata": {
        "id": "V5hnm_voAvym"
      },
      "source": [
        "#### Como definir los nombres de los ejes\n",
        "\n",
        "Es importante definir los nombres de los ejes para tener una mayor contexto al momento de su análisis.\n",
        "\n",
        "Sintaxis.\n",
        "\n",
        "```\n",
        "plt.xlabel('Nombre_Eje_X')\n",
        "plt.ylabel('Nombre_Eje_Y')\n",
        "```\n"
      ]
    },
    {
      "cell_type": "markdown",
      "metadata": {
        "id": "qXeDcdu-BCSX"
      },
      "source": [
        "##### EJEMPLO COMO DEFINIR LOS NOMBRES DE LOS EJES"
      ]
    },
    {
      "cell_type": "code",
      "metadata": {
        "colab": {
          "base_uri": "https://localhost:8080/",
          "height": 296
        },
        "id": "sf4Xva-uBGk0",
        "outputId": "c99e32fe-855c-42e8-e8c9-4a4561c2981f"
      },
      "source": [
        "#UTILIZAMOS LOS DATOS ANTERIORES PROPUESTOS\n",
        "X = [1,2,3,4]\n",
        "Y = [0.5,3.2,5.6,7.8]\n",
        "\n",
        "#GRAFICAMOS\n",
        "\n",
        "plt.plot(X,Y)\n",
        "\n",
        "#DEFINIMOS EJES\n",
        "\n",
        "plt.xlabel('EJE X')\n",
        "plt.ylabel('EJE Y')"
      ],
      "execution_count": null,
      "outputs": [
        {
          "output_type": "execute_result",
          "data": {
            "text/plain": [
              "Text(0, 0.5, 'EJE Y')"
            ]
          },
          "metadata": {
            "tags": []
          },
          "execution_count": 3
        },
        {
          "output_type": "display_data",
          "data": {
            "image/png": "[encoded data removed]",
            "text/plain": [
              "<Figure size 432x288 with 1 Axes>"
            ]
          },
          "metadata": {
            "tags": [],
            "needs_background": "light"
          }
        }
      ]
    },
    {
      "cell_type": "markdown",
      "metadata": {
        "id": "H2Hsl8hCBcqH"
      },
      "source": [
        "#### Como definir el título del gráfico\n",
        "\n",
        "Para definir el título del gráfico usamos la instrucción title.\n",
        "\n",
        "Sintaxis.\n",
        "\n",
        "```\n",
        "plt.title('Titulo')\n",
        "```\n"
      ]
    },
    {
      "cell_type": "markdown",
      "metadata": {
        "id": "PjkscB-vBlg1"
      },
      "source": [
        "##### EJEMPLO DE TÍTULO DE GRÁFICO"
      ]
    },
    {
      "cell_type": "code",
      "metadata": {
        "colab": {
          "base_uri": "https://localhost:8080/",
          "height": 312
        },
        "id": "1bevEMILBoFP",
        "outputId": "18c1623c-6dc5-4cd2-fe8b-fb095bdcc434"
      },
      "source": [
        "#UTILIZAMOS LOS DATOS ANTERIORES PROPUESTOS\n",
        "X = [1,2,3,4]\n",
        "Y = [0.5,3.2,5.6,7.8]\n",
        "\n",
        "#GRAFICAMOS\n",
        "\n",
        "plt.plot(X,Y)\n",
        "\n",
        "#DEFINIMOS EJES\n",
        "\n",
        "plt.xlabel('EJE X')\n",
        "plt.ylabel('EJE Y')\n",
        "\n",
        "#DEFINIMOS TITULO\n",
        "\n",
        "plt.title('EJEMPLO GRAFICA')"
      ],
      "execution_count": null,
      "outputs": [
        {
          "output_type": "execute_result",
          "data": {
            "text/plain": [
              "Text(0.5, 1.0, 'EJEMPLO GRAFICA')"
            ]
          },
          "metadata": {
            "tags": []
          },
          "execution_count": 4
        },
        {
          "output_type": "display_data",
          "data": {
            "image/png": "[encoded data removed]",
            "text/plain": [
              "<Figure size 432x288 with 1 Axes>"
            ]
          },
          "metadata": {
            "tags": [],
            "needs_background": "light"
          }
        }
      ]
    },
    {
      "cell_type": "markdown",
      "metadata": {
        "id": "605pT8vwI6ZO"
      },
      "source": [
        "#### Propiedades del gráfico\n",
        "\n",
        "Existen diversas propiedades a cambiar en un gráfico mediante la función plot.\n",
        "\n",
        "En general podemos cambiar.\n",
        "\n",
        "1. Color\n",
        "2. Estilo de línea\n",
        "3. Grosor de línea\n",
        "4. Marcador\n",
        "5. Grosor de marcador\n",
        "\n",
        "Sintaxis.\n",
        "\n",
        "```\n",
        "plt.plot(x,y,color = \"Nombre_Color\", marker = \"Nombre_Marcador\",linestyle = \"Estilo_Linea\", linewidth = #, markersize = #)\n",
        "```\n",
        "\n",
        "Código para los colores.\n",
        "\n",
        "|Color|Sintaxis|\n",
        "|-----|--------|\n",
        "|Azul|'b'|\n",
        "|Verde|'g'|\n",
        "|Rojo|'r'|\n",
        "|Cyan|'c'|\n",
        "|Magenta|'m'|\n",
        "|Amarillo|'y'|\n",
        "|Negro|'k'|\n",
        "|Blanco|'w'|\n",
        "\n",
        "Código para los estilo de línea.\n",
        "\n",
        "|Línea|Sintaxis|\n",
        "|-----|--------|\n",
        "|Solida|'-'|\n",
        "|Cortada|'--'|\n",
        "|Cortada con puntos|'-.'|\n",
        "|Puntos|':'|\n",
        "\n",
        "Código para el tipo de marcador.\n",
        "\n",
        "|Marcador|Sintaxis|\n",
        "|--------|--------|\n",
        "|Puntos|'.'|\n",
        "|Pixeleado|','|\n",
        "|Circulos|'o'|\n",
        "|Triangulos con punta hacía abajo|'v'|\n",
        "|Triangulos con punta hacía arriba|'^'|\n",
        "|Triangulos con punta hacía la izquierda|'<'|\n",
        "|Triangulos con punta hacía la derecha|'>'|\n",
        "|Línea hacía abajo|'1'|\n",
        "|Línea hacía arriba|'2'|\n",
        "|Línea hacía la izquierda|'3'|\n",
        "|Línea hacía la derecha|'4'|\n",
        "|Cuadrado|'s'|\n",
        "|Pentagonal|'p'|\n",
        "|Estrella|'*'|\n",
        "|Hexagonal 1|'h'|\n",
        "|Hexagonal 2|'H'|\n",
        "|Cruz|'+'|\n",
        "|X|'x'|\n",
        "|Diamante|'D'|\n",
        "|Diamante 2|'d'|\n",
        "|Guion bajo|'_'|\n",
        "\n"
      ]
    },
    {
      "cell_type": "markdown",
      "metadata": {
        "id": "bzom-hPhV1tM"
      },
      "source": [
        "##### EJEMPLO PROPIEDADES DEL GRÁFICO"
      ]
    },
    {
      "cell_type": "code",
      "metadata": {
        "colab": {
          "base_uri": "https://localhost:8080/",
          "height": 312
        },
        "id": "tLm8xC-rV4VC",
        "outputId": "f8379d82-f80d-42ca-9a4c-06eba913ce95"
      },
      "source": [
        "#CONSIDERE LOS SIGUIENTES DATOS\n",
        "D = {\"x\":[2,4,6,8,10],\"y\":[1,3,5,7,9]}\n",
        "DF = pd.DataFrame(D)\n",
        "\n",
        "#GRAFICAMOS CON UN COLOR Cyan, LINEA DE PUNTOS Y MARCADOR DIAMANTE\n",
        "\n",
        "GRAFICO_2 = plt.plot(DF.loc[:,\"x\"],DF.loc[:,\"y\"],color = 'c', linestyle = ':', marker = 'D')\n",
        "\n",
        "plt.xlabel(\"Numeros pares\")\n",
        "plt.ylabel(\"Numeros impares\")\n",
        "plt.title(\"Numeros\")"
      ],
      "execution_count": null,
      "outputs": [
        {
          "output_type": "execute_result",
          "data": {
            "text/plain": [
              "Text(0.5, 1.0, 'Numeros')"
            ]
          },
          "metadata": {
            "tags": []
          },
          "execution_count": 6
        },
        {
          "output_type": "display_data",
          "data": {
            "image/png": "[encoded data removed]",
            "text/plain": [
              "<Figure size 432x288 with 1 Axes>"
            ]
          },
          "metadata": {
            "tags": [],
            "needs_background": "light"
          }
        }
      ]
    },
    {
      "cell_type": "markdown",
      "metadata": {
        "id": "Cm874V3SWl8M"
      },
      "source": [
        "#### Mostrar más de una gráfica en una ventana\n",
        "\n",
        "Para mostrar dos gráficos en uno mismo usamos subplot.\n",
        "Dentro de los argumentos de subplot se introduce un número con tres dígitos.\n",
        "\n",
        "El **primer** dígito indica el número de filas a dividir la figura.\n",
        "\n",
        "El **segundo** dígito indica el número de columnas a dividir la figura.\n",
        "\n",
        "El **tercer** dígito indica el gráfico en el que estamos trabajando.\n",
        "\n",
        "Sí queremos representar, por ejemplo, tres gráficas una alado de la otra entonces tenemos una fila con tres columnas.\n",
        "\n",
        "Sintaxis.\n",
        "\n",
        "```\n",
        "plt.subplot(##1)\n",
        "p1 = plt.plot(X1,Y1, color = 'Color')\n",
        "(Aquí usted decide si al gráfico 1 añadir titulo, nombre de ejes, etc.)\n",
        "p2 = plt.plot(X2,Y2, color = 'Color')\n",
        "(Aquí usted decide si al gráfico 2 añadir titulo, nombre de ejes, etc.)\n",
        "...\n",
        "plt.tight_layout()\n",
        "```"
      ]
    },
    {
      "cell_type": "markdown",
      "metadata": {
        "id": "SE7S99bbE3wU"
      },
      "source": [
        "![Captura de Pantalla 2021-03-28 a la(s) 21.41.31.png](data:image/png;base64,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)"
      ]
    },
    {
      "cell_type": "markdown",
      "metadata": {
        "id": "xml13AoDE7mk"
      },
      "source": [
        "Notemos que $y_1,y_2$ corresponde a los ejes de cada gráfico, en este caso, el gráfico 1 y 2, así mismo los ejes $x_1,x_2$. \n",
        "\n",
        "Piense a subplot como una división del código para graficar. Despues de cada subplot usted introduce lo que se añade a dicho gráfico.\n",
        "\n",
        "La función tight_layout nos ayuda ajustar los gráficos para evitar sobreposiciones.\n",
        "\n",
        "Para más información dar click en el siguiente link.\n",
        "\n",
        "[Representación gráfica de funciones y datos][1]\n",
        "\n",
        "[1]: http://research.iac.es/sieinvens/python-course/source/matplotlib.html#varias-ventanas-de-graficos"
      ]
    },
    {
      "cell_type": "markdown",
      "metadata": {
        "id": "7MTLH9hMXDH9"
      },
      "source": [
        "##### EJEMPLO MOSTRAR MÁS DE UNA GRÁFICA EN UNA VENTANA"
      ]
    },
    {
      "cell_type": "code",
      "metadata": {
        "colab": {
          "base_uri": "https://localhost:8080/",
          "height": 297
        },
        "id": "9nUw9e4pXLZ9",
        "outputId": "fa4e3302-c43a-448e-c457-4dca97833840"
      },
      "source": [
        "#CONSIDERE LOS SIGUIENTES DATOS\n",
        "Valores_Y1 = [0.01,0.1,0.25,0.47,0.97,1]\n",
        "Valores_Y2 = [0.001,0.29,0.57,0.47,0.13,0.0002]\n",
        "Valores_X = [0,1,2,3,4,5]\n",
        "\n",
        "#GRAFICAMOS AMBOS GRAFICOS EN UNA SOLA VENTANA\n",
        "\n",
        "#COMO VAMOS A GRAFICAR DOS GRAFICOS QUE, EN ESTE CASO PARTICULAR, CUENTAN CON EL MISMO EJE X\n",
        "#ENTONCES INTRODUCIMOS LOS DIGITOS 12 Y EL TERCERO EN FUNCION DEL GRAFICO A TRABAJAR.\n",
        "\n",
        "#ABRIMOS LA EDICION AL GRAFICO 1\n",
        "plt.subplot(121)\n",
        "p1 = plt.plot(Valores_X,Valores_Y1, color = 'r')\n",
        "plt.ylabel('Valores Y1')\n",
        "plt.xlabel('Valores X')\n",
        "plt.title('Grafico 1')\n",
        "\n",
        "#ABRIMOS LA EDICION AL GRAFICO 2\n",
        "plt.subplot(122)\n",
        "p2 = plt.plot(Valores_X,Valores_Y2, color = 'g')\n",
        "plt.ylabel('Valores Y2')\n",
        "plt.xlabel('Valores X')\n",
        "plt.title('Grafico 2')\n",
        "\n",
        "#ACOMODAMOS LOS GRAFICOS\n",
        "plt.tight_layout()"
      ],
      "execution_count": null,
      "outputs": [
        {
          "output_type": "display_data",
          "data": {
            "image/png": "[encoded data removed]",
            "text/plain": [
              "<Figure size 432x288 with 2 Axes>"
            ]
          },
          "metadata": {
            "tags": [],
            "needs_background": "light"
          }
        }
      ]
    },
    {
      "cell_type": "markdown",
      "metadata": {
        "id": "6TIrqko6jow1"
      },
      "source": [
        "#### Como crear histogramas de un Data Frame\n",
        "\n",
        "Para crear un histograma partiendo de una columna de un Data Frame hacemos lo siguiente.\n",
        "\n",
        "Sintaxis.\n",
        "\n",
        "```\n",
        "plt.hist(DF.loc[:,'Nombre_Columna'])\n",
        "```"
      ]
    },
    {
      "cell_type": "markdown",
      "metadata": {
        "id": "nJfBKrSYkH6y"
      },
      "source": [
        "##### EJEMPLO DE COMO CREAR UN HISTOGRAMA DE UN DATA FRAME"
      ]
    },
    {
      "cell_type": "code",
      "metadata": {
        "colab": {
          "base_uri": "https://localhost:8080/",
          "height": 333
        },
        "id": "3z9NzKQQkMHP",
        "outputId": "1d95692c-886b-4030-81bd-00042acb6931"
      },
      "source": [
        "#CONSIDERE EL SIGUIENTE DATA FRAME\n",
        "QA = {'Valores' : [42.1,51,30,35.2,29.3,10.9,16.1,\n",
        "                   51.6,47,51.4,35.2,31.7,17.8,67,\n",
        "                   43.2,23.7,25.2,36.1,32.3,51.7,\n",
        "                   46,12.2,21.1,29,14.3,47.2,31.3,\n",
        "                   35.4,29.1,23,10.3,34.2]}\n",
        "QAD = pd.DataFrame(QA)\n",
        "\n",
        "#IMPRIMIMOS EL HISTOGRAMA\n",
        "\n",
        "plt.hist(QAD.loc[:,'Valores'])"
      ],
      "execution_count": null,
      "outputs": [
        {
          "output_type": "execute_result",
          "data": {
            "text/plain": [
              "(array([4., 3., 3., 7., 5., 2., 3., 4., 0., 1.]),\n",
              " array([10.3 , 15.97, 21.64, 27.31, 32.98, 38.65, 44.32, 49.99, 55.66,\n",
              "        61.33, 67.  ]),\n",
              " <a list of 10 Patch objects>)"
            ]
          },
          "metadata": {
            "tags": []
          },
          "execution_count": 11
        },
        {
          "output_type": "display_data",
          "data": {
            "image/png": "[encoded data removed]",
            "text/plain": [
              "<Figure size 432x288 with 1 Axes>"
            ]
          },
          "metadata": {
            "tags": [],
            "needs_background": "light"
          }
        }
      ]
    },
    {
      "cell_type": "markdown",
      "metadata": {
        "id": "d9G3HNwH16cS"
      },
      "source": [
        "####Como exportar una gráfica"
      ]
    },
    {
      "cell_type": "markdown",
      "metadata": {
        "id": "NNFWrMgX19xT"
      },
      "source": [
        "Sintaxis.\n",
        "\n",
        "```\n",
        "plt.savefig('Nombre_Figura.Extension',format = 'Formato_de_Figura')\n",
        "```\n",
        "\n",
        "**NOTA** : La imagen se guardará en el directorio de trabajo. Ya sea en COLAB y su respectivo directorio o en cualquier otro editor."
      ]
    },
    {
      "cell_type": "markdown",
      "metadata": {
        "id": "G3-Q792W2I8W"
      },
      "source": [
        "##### EJEMPLO COMO EXPORTAR UNA GRÁFICA"
      ]
    },
    {
      "cell_type": "code",
      "metadata": {
        "colab": {
          "base_uri": "https://localhost:8080/",
          "height": 297
        },
        "id": "5bVPL9ZP2L2S",
        "outputId": "dd07c4a7-45a6-449c-c614-ad1ec6958872"
      },
      "source": [
        "from random import uniform\n",
        "import matplotlib.pyplot as plt\n",
        "\n",
        "V = []\n",
        "\n",
        "for i in range (1000):\n",
        "    N = uniform(0,1)\n",
        "    if N<0.20:\n",
        "        V.append(1)\n",
        "    elif N<0.35:\n",
        "        V.append(2)\n",
        "    elif N<0.60:\n",
        "        V.append(3)\n",
        "    else:\n",
        "        V.append(4)\n",
        "\n",
        "DD = pd.DataFrame({'n':V})\n",
        "plt.hist(DD.loc[:,'n'],bins = 15,color = 'yellow')\n",
        "for j in range (1,5):\n",
        "    if j == 4:\n",
        "        plt.text(3.85,list(DD.iloc[:,0]).count(4),list(DD.iloc[:,0]).count(4))\n",
        "        break\n",
        "    plt.text(j,list(DD.iloc[:,0]).count(j),list(DD.iloc[:,0]).count(j))\n",
        "plt.title('Histograma')\n",
        "plt.ylabel('Frecuencia')\n",
        "plt.tight_layout()\n",
        "plt.savefig('Grafica.pdf',format = 'pdf')"
      ],
      "execution_count": null,
      "outputs": [
        {
          "output_type": "display_data",
          "data": {
            "image/png": "[encoded data removed]",
            "text/plain": [
              "<Figure size 432x288 with 1 Axes>"
            ]
          },
          "metadata": {
            "tags": [],
            "needs_background": "light"
          }
        }
      ]
    },
    {
      "cell_type": "markdown",
      "metadata": {
        "id": "_ChjV94FlQgY"
      },
      "source": [
        "#### Función linspace\n",
        "\n",
        "Recordemos que discretizar es transformar variables numéricas continuas a discretas dados en 'contenedores'.\n",
        "\n",
        "Si queremos agrupar en contenedores o grupos del mismo tamaño usamos la función linspace de la librería NumPy.\n",
        "\n",
        "La función linspace recibe tres argumentos :\n",
        "\n",
        "El **primer argumento** será el valor mínimo del conjunto de datos.\n",
        "\n",
        "El **segundo argumento** será el valor máximo del conjunto de datos.\n",
        "\n",
        "El **tercer argumento** determina el número de divisores.\n",
        "\n",
        "Sintaxis.\n",
        "\n",
        "```\n",
        "import numpy as np\n",
        "Variable = np.linspace(min(DF.loc[:,'Nombre_Columna']), max(DF.loc[:,'Nombre_Columna']), Num_Divisores)\n",
        "```"
      ]
    },
    {
      "cell_type": "markdown",
      "metadata": {
        "id": "3KG7Nqapm1kj"
      },
      "source": [
        "#### Función cut\n",
        "\n",
        "La función cut, de la librería Pandas, nos ayuda a determinar a quien pertenece cada valor de la columna a analizar para su división.\n",
        "\n",
        "La función cut recibe cuatro argumentos:\n",
        "\n",
        "El **primer argumento** es la columna de los datos.\n",
        "\n",
        "El **segundo argumento** es la variable a la cual se designó la función linspace.\n",
        "\n",
        "El **tercer argumento** es una lista con los grupos a dividir.\n",
        "\n",
        "El **cuarto argumento** es una opción por default.\n",
        "\n",
        "Sintaxis.\n",
        "\n",
        "```\n",
        "variable = pd.cut(DF.loc[:,'Nombre_Columna'], variable_linspace, labels = lista_grupos, include_lowest = True)\n",
        "```"
      ]
    },
    {
      "cell_type": "markdown",
      "metadata": {
        "id": "aQAvCL6CHQkb"
      },
      "source": [
        "##### EJEMPLO DE DISCRETIZACIÓN"
      ]
    },
    {
      "cell_type": "code",
      "metadata": {
        "colab": {
          "base_uri": "https://localhost:8080/",
          "height": 204
        },
        "id": "3-yhBvpLHTqa",
        "outputId": "f616762e-5c28-4d02-dcd3-f6a7bb225e09"
      },
      "source": [
        "#CONSIDERE EL SIGUIENTE CONJUNTO DE DATOS\n",
        "from random import uniform\n",
        "lis = []\n",
        "for i in range (1,101):\n",
        "  lis.append(uniform(0,i))\n",
        "AZ = {'Data':lis}\n",
        "import pandas as pd\n",
        "AZD = pd.DataFrame(AZ)\n",
        "AZD.head()"
      ],
      "execution_count": null,
      "outputs": [
        {
          "output_type": "execute_result",
          "data": {
            "text/html": [
              "<div>\n",
              "<style scoped>\n",
              "    .dataframe tbody tr th:only-of-type {\n",
              "        vertical-align: middle;\n",
              "    }\n",
              "\n",
              "    .dataframe tbody tr th {\n",
              "        vertical-align: top;\n",
              "    }\n",
              "\n",
              "    .dataframe thead th {\n",
              "        text-align: right;\n",
              "    }\n",
              "</style>\n",
              "<table border=\"1\" class=\"dataframe\">\n",
              "  <thead>\n",
              "    <tr style=\"text-align: right;\">\n",
              "      <th></th>\n",
              "      <th>Data</th>\n",
              "    </tr>\n",
              "  </thead>\n",
              "  <tbody>\n",
              "    <tr>\n",
              "      <th>0</th>\n",
              "      <td>0.782754</td>\n",
              "    </tr>\n",
              "    <tr>\n",
              "      <th>1</th>\n",
              "      <td>1.616083</td>\n",
              "    </tr>\n",
              "    <tr>\n",
              "      <th>2</th>\n",
              "      <td>1.787172</td>\n",
              "    </tr>\n",
              "    <tr>\n",
              "      <th>3</th>\n",
              "      <td>2.944561</td>\n",
              "    </tr>\n",
              "    <tr>\n",
              "      <th>4</th>\n",
              "      <td>3.839491</td>\n",
              "    </tr>\n",
              "  </tbody>\n",
              "</table>\n",
              "</div>"
            ],
            "text/plain": [
              "       Data\n",
              "0  0.782754\n",
              "1  1.616083\n",
              "2  1.787172\n",
              "3  2.944561\n",
              "4  3.839491"
            ]
          },
          "metadata": {
            "tags": []
          },
          "execution_count": 5
        }
      ]
    },
    {
      "cell_type": "code",
      "metadata": {
        "id": "7ta6cAFkqVJc"
      },
      "source": [
        "#VAMOS A DISCRETIZAR LOS DATOS\n",
        "#GENERALMOS LOS LIMITES CON LA FUNCION linspace CON 4 DIVISORES\n",
        "\n",
        "import numpy as np\n",
        "\n",
        "limite = np.linspace(min(AZD.loc[:,'Data']), max(AZD.loc[:,'Data']), 4)\n",
        "\n",
        "#DEFINIMOS LOS NOMBRES DE LOS DIVISORES\n",
        "\n",
        "Nombres = ['Bajo','Medio','Alto']\n",
        "\n",
        "#APLICAMOS LA FUNCION cut Y ANEXAMOS ESTA INFORMACION AL DATA FRAME CONSTRUIDO PARA VISUALIZARLO\n",
        "\n",
        "AZD['Data-Nivel'] = pd.cut(AZD.loc[:,'Data'],limite, labels = Nombres, include_lowest=True)"
      ],
      "execution_count": null,
      "outputs": []
    },
    {
      "cell_type": "code",
      "metadata": {
        "colab": {
          "base_uri": "https://localhost:8080/"
        },
        "id": "0xQkfI4PrMj1",
        "outputId": "322b66fe-37b4-4616-cd80-c98cca6d3893"
      },
      "source": [
        "#ANALIZAMOS LOS PRIMEROS 15 ELEMENTOS\n",
        "AZD.loc[:,'Data-Nivel']"
      ],
      "execution_count": null,
      "outputs": [
        {
          "output_type": "execute_result",
          "data": {
            "text/plain": [
              "0      Bajo\n",
              "1      Bajo\n",
              "2      Bajo\n",
              "3      Bajo\n",
              "4      Bajo\n",
              "      ...  \n",
              "95    Medio\n",
              "96    Medio\n",
              "97     Alto\n",
              "98    Medio\n",
              "99     Bajo\n",
              "Name: Data-Nivel, Length: 100, dtype: category\n",
              "Categories (3, object): ['Bajo' < 'Medio' < 'Alto']"
            ]
          },
          "metadata": {
            "tags": []
          },
          "execution_count": 14
        }
      ]
    },
    {
      "cell_type": "code",
      "metadata": {
        "colab": {
          "base_uri": "https://localhost:8080/"
        },
        "id": "UQxQi9dDra-I",
        "outputId": "1f4213e1-d114-447f-aaea-8967bb97788d"
      },
      "source": [
        "#VERIFICAMOS EL NUMERO DE ELEMENTOS EN CADA CONTENEDOR\n",
        "AZD.loc[:,'Data-Nivel'].value_counts()"
      ],
      "execution_count": null,
      "outputs": [
        {
          "output_type": "execute_result",
          "data": {
            "text/plain": [
              "Bajo     64\n",
              "Medio    28\n",
              "Alto      8\n",
              "Name: Data-Nivel, dtype: int64"
            ]
          },
          "metadata": {
            "tags": []
          },
          "execution_count": 11
        }
      ]
    },
    {
      "cell_type": "code",
      "metadata": {
        "colab": {
          "base_uri": "https://localhost:8080/",
          "height": 297
        },
        "id": "qFWayxYGrkQv",
        "outputId": "dcc0e408-9b01-4644-f576-13d0ae91934b"
      },
      "source": [
        "#DIBUJAMOS UNA DISTRIBUCION DE BARRA PARA VISUALIZAR\n",
        "import matplotlib.pyplot as plt\n",
        "plt.bar(Nombres,AZD.loc[:,'Data-Nivel'].value_counts())\n",
        "plt.ylabel('Numero de elementos en los contenedores')\n",
        "plt.title('Ejemplo de discretizacion')\n",
        "plt.tight_layout()"
      ],
      "execution_count": null,
      "outputs": [
        {
          "output_type": "display_data",
          "data": {
            "image/png": "[encoded data removed]",
            "text/plain": [
              "<Figure size 432x288 with 1 Axes>"
            ]
          },
          "metadata": {
            "tags": [],
            "needs_background": "light"
          }
        }
      ]
    },
    {
      "cell_type": "markdown",
      "metadata": {
        "id": "bIdaxg9esTTO"
      },
      "source": [
        "#### Convertir variables categóricas en cuantitativas\n",
        "\n",
        "La mayoría de los modelos estadísticos no pueden tomar objetos o texto como entradas pues sus funciones son con base a números reales.\n",
        "\n",
        "Si tenemos datos categóricos y necesitamos analizar una forma de hacer es convertirlos a cuantitativos y esto es mediante una asignación binaria, este método de asignación binaria es llamado en inglés **One-hot**."
      ]
    },
    {
      "cell_type": "markdown",
      "metadata": {
        "id": "8FWnn8A-szFG"
      },
      "source": [
        "##### Función get_dummies\n",
        "\n",
        "La función get_dummies nos ayuda a convertir variables categóricas en variables cuantitativas ficticias o binarias.\n",
        "\n",
        "Sintaxis.\n",
        "\n",
        "```\n",
        "variable = pd.get_dummies(DF.loc[:,'Nombre_Columna'])\n",
        "```"
      ]
    },
    {
      "cell_type": "markdown",
      "metadata": {
        "id": "EJcJjziZtH4s"
      },
      "source": [
        "##### EJEMPLO DE LA FUNCIÓN get_dummies"
      ]
    },
    {
      "cell_type": "code",
      "metadata": {
        "colab": {
          "base_uri": "https://localhost:8080/",
          "height": 419
        },
        "id": "Z30EMFzitK77",
        "outputId": "6ce12e20-d5fa-4da6-ca56-6b4a1709fa21"
      },
      "source": [
        "'''\n",
        "Tomemos la base de datos anterior realizada, en ella tenemos 3 categorias.\n",
        "Bajo, medio y alto.\n",
        "Estos tres datos son datos categoricos, si deseamos tenerlos en cuantitativos\n",
        "usamos la funcion get_dummies.\n",
        "'''\n",
        "\n",
        "#IMPORTAMOS LA INFORMACION PARA ANALIZARLA DE MANERA INDEPENDIENTE\n",
        "\n",
        "SX = AZD.loc[:,'Data-Nivel']\n",
        "\n",
        "#APLICAMOS LA FUNCION get_dummies\n",
        "\n",
        "SXDu = pd.get_dummies(SX)\n",
        "\n",
        "#IMPRIMIMOS\n",
        "SXDu"
      ],
      "execution_count": null,
      "outputs": [
        {
          "output_type": "execute_result",
          "data": {
            "text/html": [
              "<div>\n",
              "<style scoped>\n",
              "    .dataframe tbody tr th:only-of-type {\n",
              "        vertical-align: middle;\n",
              "    }\n",
              "\n",
              "    .dataframe tbody tr th {\n",
              "        vertical-align: top;\n",
              "    }\n",
              "\n",
              "    .dataframe thead th {\n",
              "        text-align: right;\n",
              "    }\n",
              "</style>\n",
              "<table border=\"1\" class=\"dataframe\">\n",
              "  <thead>\n",
              "    <tr style=\"text-align: right;\">\n",
              "      <th></th>\n",
              "      <th>Bajo</th>\n",
              "      <th>Medio</th>\n",
              "      <th>Alto</th>\n",
              "    </tr>\n",
              "  </thead>\n",
              "  <tbody>\n",
              "    <tr>\n",
              "      <th>0</th>\n",
              "      <td>1</td>\n",
              "      <td>0</td>\n",
              "      <td>0</td>\n",
              "    </tr>\n",
              "    <tr>\n",
              "      <th>1</th>\n",
              "      <td>1</td>\n",
              "      <td>0</td>\n",
              "      <td>0</td>\n",
              "    </tr>\n",
              "    <tr>\n",
              "      <th>2</th>\n",
              "      <td>1</td>\n",
              "      <td>0</td>\n",
              "      <td>0</td>\n",
              "    </tr>\n",
              "    <tr>\n",
              "      <th>3</th>\n",
              "      <td>1</td>\n",
              "      <td>0</td>\n",
              "      <td>0</td>\n",
              "    </tr>\n",
              "    <tr>\n",
              "      <th>4</th>\n",
              "      <td>1</td>\n",
              "      <td>0</td>\n",
              "      <td>0</td>\n",
              "    </tr>\n",
              "    <tr>\n",
              "      <th>...</th>\n",
              "      <td>...</td>\n",
              "      <td>...</td>\n",
              "      <td>...</td>\n",
              "    </tr>\n",
              "    <tr>\n",
              "      <th>95</th>\n",
              "      <td>0</td>\n",
              "      <td>1</td>\n",
              "      <td>0</td>\n",
              "    </tr>\n",
              "    <tr>\n",
              "      <th>96</th>\n",
              "      <td>0</td>\n",
              "      <td>1</td>\n",
              "      <td>0</td>\n",
              "    </tr>\n",
              "    <tr>\n",
              "      <th>97</th>\n",
              "      <td>0</td>\n",
              "      <td>0</td>\n",
              "      <td>1</td>\n",
              "    </tr>\n",
              "    <tr>\n",
              "      <th>98</th>\n",
              "      <td>0</td>\n",
              "      <td>1</td>\n",
              "      <td>0</td>\n",
              "    </tr>\n",
              "    <tr>\n",
              "      <th>99</th>\n",
              "      <td>1</td>\n",
              "      <td>0</td>\n",
              "      <td>0</td>\n",
              "    </tr>\n",
              "  </tbody>\n",
              "</table>\n",
              "<p>100 rows × 3 columns</p>\n",
              "</div>"
            ],
            "text/plain": [
              "    Bajo  Medio  Alto\n",
              "0      1      0     0\n",
              "1      1      0     0\n",
              "2      1      0     0\n",
              "3      1      0     0\n",
              "4      1      0     0\n",
              "..   ...    ...   ...\n",
              "95     0      1     0\n",
              "96     0      1     0\n",
              "97     0      0     1\n",
              "98     0      1     0\n",
              "99     1      0     0\n",
              "\n",
              "[100 rows x 3 columns]"
            ]
          },
          "metadata": {
            "tags": []
          },
          "execution_count": 15
        }
      ]
    },
    {
      "cell_type": "code",
      "metadata": {
        "colab": {
          "base_uri": "https://localhost:8080/",
          "height": 419
        },
        "id": "BhFykrrft1ce",
        "outputId": "ab767295-ab53-42f7-d8a9-c8539074ae02"
      },
      "source": [
        "#UNIMOS EL DATA FRAME CON EL ORIGINAL PARA VISUALIZARLO MEJOR\n",
        "\n",
        "DAZ = pd.concat([AZD,SXDu], axis = 1)\n",
        "\n",
        "DAZ"
      ],
      "execution_count": null,
      "outputs": [
        {
          "output_type": "execute_result",
          "data": {
            "text/html": [
              "<div>\n",
              "<style scoped>\n",
              "    .dataframe tbody tr th:only-of-type {\n",
              "        vertical-align: middle;\n",
              "    }\n",
              "\n",
              "    .dataframe tbody tr th {\n",
              "        vertical-align: top;\n",
              "    }\n",
              "\n",
              "    .dataframe thead th {\n",
              "        text-align: right;\n",
              "    }\n",
              "</style>\n",
              "<table border=\"1\" class=\"dataframe\">\n",
              "  <thead>\n",
              "    <tr style=\"text-align: right;\">\n",
              "      <th></th>\n",
              "      <th>Data</th>\n",
              "      <th>Data-Nivel</th>\n",
              "      <th>Bajo</th>\n",
              "      <th>Medio</th>\n",
              "      <th>Alto</th>\n",
              "    </tr>\n",
              "  </thead>\n",
              "  <tbody>\n",
              "    <tr>\n",
              "      <th>0</th>\n",
              "      <td>0.782754</td>\n",
              "      <td>Bajo</td>\n",
              "      <td>1</td>\n",
              "      <td>0</td>\n",
              "      <td>0</td>\n",
              "    </tr>\n",
              "    <tr>\n",
              "      <th>1</th>\n",
              "      <td>1.616083</td>\n",
              "      <td>Bajo</td>\n",
              "      <td>1</td>\n",
              "      <td>0</td>\n",
              "      <td>0</td>\n",
              "    </tr>\n",
              "    <tr>\n",
              "      <th>2</th>\n",
              "      <td>1.787172</td>\n",
              "      <td>Bajo</td>\n",
              "      <td>1</td>\n",
              "      <td>0</td>\n",
              "      <td>0</td>\n",
              "    </tr>\n",
              "    <tr>\n",
              "      <th>3</th>\n",
              "      <td>2.944561</td>\n",
              "      <td>Bajo</td>\n",
              "      <td>1</td>\n",
              "      <td>0</td>\n",
              "      <td>0</td>\n",
              "    </tr>\n",
              "    <tr>\n",
              "      <th>4</th>\n",
              "      <td>3.839491</td>\n",
              "      <td>Bajo</td>\n",
              "      <td>1</td>\n",
              "      <td>0</td>\n",
              "      <td>0</td>\n",
              "    </tr>\n",
              "    <tr>\n",
              "      <th>...</th>\n",
              "      <td>...</td>\n",
              "      <td>...</td>\n",
              "      <td>...</td>\n",
              "      <td>...</td>\n",
              "      <td>...</td>\n",
              "    </tr>\n",
              "    <tr>\n",
              "      <th>95</th>\n",
              "      <td>52.868122</td>\n",
              "      <td>Medio</td>\n",
              "      <td>0</td>\n",
              "      <td>1</td>\n",
              "      <td>0</td>\n",
              "    </tr>\n",
              "    <tr>\n",
              "      <th>96</th>\n",
              "      <td>57.734083</td>\n",
              "      <td>Medio</td>\n",
              "      <td>0</td>\n",
              "      <td>1</td>\n",
              "      <td>0</td>\n",
              "    </tr>\n",
              "    <tr>\n",
              "      <th>97</th>\n",
              "      <td>93.283323</td>\n",
              "      <td>Alto</td>\n",
              "      <td>0</td>\n",
              "      <td>0</td>\n",
              "      <td>1</td>\n",
              "    </tr>\n",
              "    <tr>\n",
              "      <th>98</th>\n",
              "      <td>47.460129</td>\n",
              "      <td>Medio</td>\n",
              "      <td>0</td>\n",
              "      <td>1</td>\n",
              "      <td>0</td>\n",
              "    </tr>\n",
              "    <tr>\n",
              "      <th>99</th>\n",
              "      <td>15.086898</td>\n",
              "      <td>Bajo</td>\n",
              "      <td>1</td>\n",
              "      <td>0</td>\n",
              "      <td>0</td>\n",
              "    </tr>\n",
              "  </tbody>\n",
              "</table>\n",
              "<p>100 rows × 5 columns</p>\n",
              "</div>"
            ],
            "text/plain": [
              "         Data Data-Nivel  Bajo  Medio  Alto\n",
              "0    0.782754       Bajo     1      0     0\n",
              "1    1.616083       Bajo     1      0     0\n",
              "2    1.787172       Bajo     1      0     0\n",
              "3    2.944561       Bajo     1      0     0\n",
              "4    3.839491       Bajo     1      0     0\n",
              "..        ...        ...   ...    ...   ...\n",
              "95  52.868122      Medio     0      1     0\n",
              "96  57.734083      Medio     0      1     0\n",
              "97  93.283323       Alto     0      0     1\n",
              "98  47.460129      Medio     0      1     0\n",
              "99  15.086898       Bajo     1      0     0\n",
              "\n",
              "[100 rows x 5 columns]"
            ]
          },
          "metadata": {
            "tags": []
          },
          "execution_count": 16
        }
      ]
    },
    {
      "cell_type": "markdown",
      "metadata": {
        "id": "uKfFyJm-zo9G"
      },
      "source": [
        "## Análisis de Regresión"
      ]
    },
    {
      "cell_type": "markdown",
      "metadata": {
        "id": "aEgVoTCp0nk_"
      },
      "source": [
        "El **análisis de regresión** es una metodología básica estadística que utiliza la relación entre dos o más variables cuantitativas de manera que una respuesta o resultado de una variable pueda ser predecido a partir de la otra.\n",
        "\n",
        "Un modelo de regresión es una forma de expresar.\n",
        "\n",
        "1. Una tendencia de que la variable de respuesta $y$ sería sistemáticamente con la variable predictora $x$.\n",
        "\n",
        "2. Puntos dispersos alrededor de una curva de relación estadística.\n",
        "\n",
        "Existen dos características que se incorporan al modelo de regresión.\n",
        "\n",
        "1. Existe una distribución de probabilidad de $y$ por cada nivel de $x$.\n",
        "\n",
        "2. Las medias de estas distribuciones de probabilidad varían de alguna manera sistemática con $x$.\n",
        "\n",
        "Este análisis se estudia con gráficas, dicha gráfica se denomina **curva de regresión**.\n",
        "\n",
        "Para conocer más del tema anexo links para libros de consulta.\n",
        "\n",
        "***Libro básico***\n",
        "\n",
        "[Probabilidad y estadística para ingeniería y ciencias][1]\n",
        "\n",
        "[1]: https://vereniciafunez94hotmail.files.wordpress.com/2014/08/8va-probabilidad-y-estadistica-para-ingenier-walpole_8.pdf\n",
        "\n",
        "***Libro básico***\n",
        "\n",
        "[Estadística matemática con aplicaciones][2]\n",
        "\n",
        "[2]: https://www.cimat.mx/ciencia_para_jovenes/bachillerato/libros/[Wackerly,Mendenhall,Scheaffer]Estadistica_Matematica_con_Aplicaciones.pdf\n",
        "\n",
        "***Libro avanzado***\n",
        "\n",
        "[Applied Linear Statistical Models][3]\n",
        "\n",
        "[3]: https://d1b10bmlvqabco.cloudfront.net/attach/is282rqc4001vv/is6ccr3fl0e37q/iwfnjvgvl53z/Michael_H_Kutner_Christopher_J._Nachtsheim_JohnBookFi.org.pdf"
      ]
    },
    {
      "cell_type": "markdown",
      "metadata": {
        "id": "k0e7CrYzzrPN"
      },
      "source": [
        "### Regresión lineal"
      ]
    },
    {
      "cell_type": "markdown",
      "metadata": {
        "id": "nDqV6B7fz1do"
      },
      "source": [
        "#### Definición\n",
        "\n",
        "La regresión lineal es, en palabras simples, cuando tenemos UNA sola variable que predice otra.\n",
        "\n",
        "La variable que predice se denomina **independiente** y la variable predicha se denomina **dependiente**.\n",
        "\n",
        "Modelo matemático.\n",
        "\n",
        "$$y_i = \\beta_0 + \\beta_1x_i + \\varepsilon_i$$\n",
        "\n",
        "Donde:\n",
        "\n",
        "1. $y_i$ es la variable de respuesta de la $i$-ésima prueba\n",
        "\n",
        "2. $\\beta_0$ y $\\beta_1$ son parámetros.\n",
        "\n",
        "3. $x_i$ es una constante conocida, el valor de la variable predictora en la $i$-ésima prueba.\n",
        "\n",
        "4. $\\varepsilon_i$ es un término de error aleatorio con $E\\{\\varepsilon_i \\} = 0$ y $\\sigma^2\\{\\varepsilon_i \\} = \\sigma^2$; $cov\\left(\\varepsilon_i , \\varepsilon_j \\right) = 0$.\n",
        "\n",
        "Se define a las $\\beta_0, \\beta_1$ del modelo de regresión como **coeficientes de regresión**.\n",
        "\n",
        "Se define como **pendiente de la línea de regresión** al coeficiente $\\beta_1$, este indica el cambio de la media de la probabilidad de distribución de $y$ por incremento por unidad de $x$.\n",
        "\n",
        "Se define como **intercepción de la línea de regresión** al coeficiente $\\beta_0$.\n",
        "\n",
        "Los datos para el análisis de regresión se pueden obtener de estudios experimentales o no experimentales.\n",
        "\n",
        "* Los datos de observación se obtienen de estudios no experimentales donde no se controla la(s) variable(s) predictora de interés.\n",
        "\n",
        "* Con frecuencia es posible conducir experimentos controlados para obtener datos de los que los parámetros de regresión puedan ser estimados.\n",
        "\n",
        "Una limitación importante de los datos de observación es que comunmente no proveen información adecuada acerca de relaciones de causa y efecto.\n",
        "\n",
        "Los **estimadores de mínimos cuadrados** de los coeficientes de regresión $\\beta_0$ y $\\beta_1$ son $b_0$ y $b_1$ respectivamente.\n",
        "\n",
        "$$b_0 = \\bar{y} - b_1 \\bar{x}$$\n",
        "\n",
        "$$b_1 = \\frac{\\sum \\left(x_i - \\bar{x} \\right)\\left(y_i - \\bar{y}\\right)}{\\sum \\left(x_i - \\bar{x}\\right)^2}$$\n",
        "\n",
        "El estimador de la ecuación\n",
        "\n",
        "$$y_i = \\beta_0 + \\beta_1x_i + \\varepsilon_i$$\n",
        "\n",
        "es\n",
        "\n",
        "$$\\hat{y} = b_0 + b_1x$$"
      ]
    },
    {
      "cell_type": "markdown",
      "metadata": {
        "id": "8muYiSILBjQB"
      },
      "source": [
        "Una representación gráfica más técnica es la siguiente."
      ]
    },
    {
      "cell_type": "markdown",
      "metadata": {
        "id": "PAmn9SgCBm9H"
      },
      "source": [
        "![supuesto_lm1.png](data:image/png;base64,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)"
      ]
    },
    {
      "cell_type": "markdown",
      "metadata": {
        "id": "Miqp0in8CrFO"
      },
      "source": [
        "![Captura de Pantalla 2021-03-23 a la(s) 20.22.47.png](data:image/png;base64,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)"
      ]
    },
    {
      "cell_type": "markdown",
      "metadata": {
        "id": "0rHdQBN_8Qx2"
      },
      "source": [
        "#### Como realizar regresión lineal en Python\n",
        "\n",
        "Para poder realizar regresión lineal en Python necesitamos trabajar con la función linear_model del módulo scikit-learn, además de la construcción de los datos mismos.\n",
        "\n",
        "Esto lo mostraremos mediante un ejemplo."
      ]
    },
    {
      "cell_type": "code",
      "metadata": {
        "colab": {
          "base_uri": "https://localhost:8080/"
        },
        "id": "PpPfEC908r8i",
        "outputId": "51ff5192-b8da-4034-8542-291d5cb143fe"
      },
      "source": [
        "'''\n",
        "Los siguientes datos se obtuvieron del libro:\n",
        "\n",
        "Walpole, R. E., Myers, R. H., Myers, S. L., & Ye, K. (2012). Probabilidad y estadística para ingeniería y ciencias. Norma, 162, 157.\n",
        "\n",
        "Pagina 398, ejercicio 11.1\n",
        "'''\n",
        "\n",
        "x_11 = [17.3,19.3,19.5,19.7,22.9,23.1,26.4,26.8,27.6,28.1,28.2,\n",
        "        28.7,29,29.6,29.9,29.9,30.3,31.3,36,39.5,40.4,44.3,44.6,\n",
        "        50.4,55.9]\n",
        "y_11 = [71.7,48.3,88.3,75,91.7,100,73.3,65,75,88.3,68.3,96.7,76.7,\n",
        "        78.3,60,71.7,85,85,88.3,100,100,100,91.7,100,71.7]\n",
        "\n",
        "HGU = {'x':x_11,'y':y_11}\n",
        "HGUD = pd.DataFrame(HGU)\n",
        "\n",
        "#PRIMER PASO : IMPORTAMOS LA FUNCION linear_model Y DE ELLA LinearRegression\n",
        "\n",
        "from sklearn.linear_model import LinearRegression\n",
        "\n",
        "#SEGUNDO PASO : CONSTRUIMOS UNA LINEA DE REGRESION\n",
        "\n",
        "Linea_Regresion = LinearRegression()\n",
        "\n",
        "#TERCER PASO : DEFINIMOS LOS EJES\n",
        "\n",
        "Eje_X = HGUD[['x']] #ESTA ES LA NOTACION PARA LAS COLUMNAS\n",
        "Eje_Y = HGUD[['y']]\n",
        "\n",
        "#CUARTO PASO : AJUSTAMOS EL MODELO A LAS VARIABLES DADAS\n",
        "\n",
        "Linea_Regresion.fit(Eje_X,Eje_Y)"
      ],
      "execution_count": null,
      "outputs": [
        {
          "output_type": "execute_result",
          "data": {
            "text/plain": [
              "LinearRegression(copy_X=True, fit_intercept=True, n_jobs=None, normalize=False)"
            ]
          },
          "metadata": {
            "tags": []
          },
          "execution_count": 21
        }
      ]
    },
    {
      "cell_type": "code",
      "metadata": {
        "colab": {
          "base_uri": "https://localhost:8080/"
        },
        "id": "HRWj42QB_UF5",
        "outputId": "5c20d212-856f-4601-ccb0-b84348138ee2"
      },
      "source": [
        "#EL VALOR DE LA PENDIENTE ES\n",
        "Linea_Regresion.coef_"
      ],
      "execution_count": null,
      "outputs": [
        {
          "output_type": "execute_result",
          "data": {
            "text/plain": [
              "array([0.56089779])"
            ]
          },
          "metadata": {
            "tags": []
          },
          "execution_count": 24
        }
      ]
    },
    {
      "cell_type": "code",
      "metadata": {
        "colab": {
          "base_uri": "https://localhost:8080/"
        },
        "id": "HO3eytX2ALQT",
        "outputId": "29d89b1c-aecd-43d7-9aec-7e425439c9ae"
      },
      "source": [
        "#EL VALOR DE LA INTERSECCION ES\n",
        "Linea_Regresion.intercept_"
      ],
      "execution_count": null,
      "outputs": [
        {
          "output_type": "execute_result",
          "data": {
            "text/plain": [
              "array([64.52915556])"
            ]
          },
          "metadata": {
            "tags": []
          },
          "execution_count": 23
        }
      ]
    },
    {
      "cell_type": "markdown",
      "metadata": {
        "id": "wIyly8ecASeO"
      },
      "source": [
        "Podemos concluir que la línea de regresión ajustada a los datos es\n",
        "\n",
        "$$\\hat{y}_i = 64.52916 + 0.560898 x_i$$"
      ]
    },
    {
      "cell_type": "markdown",
      "metadata": {
        "id": "x_qk0L4PCHSw"
      },
      "source": [
        "### Regresión lineal múltiple"
      ]
    },
    {
      "cell_type": "markdown",
      "metadata": {
        "id": "vT7j303evONH"
      },
      "source": [
        "#### Definición\n",
        "\n",
        "Consideremos el caso cuando tenemos $p-1$ variables predictoras $x_1,\\ldots ,x_{p-1}$. El modelo de regresión lineal múltiple esta dado como\n",
        "\n",
        "$$y_i = \\beta_0 + \\beta_1 x_{i1} + \\beta_2 x_{i2} + \\ldots + \\beta_{p-1} x_{i,p-1} + \\varepsilon_i$$\n",
        "\n",
        "Es llamado **modelo de primer orden con $p-1$ variables** predictoras, donde\n",
        "\n",
        "1. $\\beta_0 , \\ldots , \\beta_{p-1}$ son parámetros.\n",
        "\n",
        "2. $x_{i1},\\ldots ,x_{i,p-1}$ son constantes conocidas.\n",
        "\n",
        "3. $\\varepsilon_i$ son independientes $N\\left(0,\\sigma^2 \\right)$ con $i = 1,\\ldots , n$."
      ]
    },
    {
      "cell_type": "markdown",
      "metadata": {
        "id": "n0nbjzzow1Gc"
      },
      "source": [
        "##### Como realizar regresión lineal múltiple en Python\n",
        "\n",
        "Para poder realizar regresión lineal múltiple en Python necesitamos trabajar nuevamente con la función linear_model del módulo scikit-learn, además de la construcción de los datos mismos.\n",
        "\n",
        "Esto lo mostraremos mediante un ejemplo."
      ]
    },
    {
      "cell_type": "code",
      "metadata": {
        "colab": {
          "base_uri": "https://localhost:8080/"
        },
        "id": "XQYY39HQxB0m",
        "outputId": "9308bced-6b32-4ac2-8847-9467d1a04654"
      },
      "source": [
        "'''\n",
        "Los siguientes datos se obtuvieron del libro:\n",
        "\n",
        "Walpole, R. E., Myers, R. H., Myers, S. L., & Ye, K. (2012). Probabilidad y estadística para ingeniería y ciencias. Norma, 162, 157.\n",
        "\n",
        "Pagina 422, ejercicio 11.36\n",
        "'''\n",
        "\n",
        "x_1 = [195,255,195,255,255,255,255,195,255,255,255,255,255,340]\n",
        "x_2 = [4,4,4.60,4.60,4.20,4.10,4.60,4.3,4.3,4,4.7,4.3,4.72,4.3]\n",
        "y = [1004,1636,852,1506,1272,1270,1269,903,1555,1260,1146,1276,1225,1321]\n",
        "\n",
        "DAE = {'x_1':x_1,'x_2':x_2,'y':y}\n",
        "\n",
        "DAED = pd.DataFrame(DAE)\n",
        "\n",
        "#PRIMER PASO : IMPORTAMOS LA FUNCION linear_model Y DE ELLA LinearRegression\n",
        "\n",
        "from sklearn.linear_model import LinearRegression\n",
        "\n",
        "#SEGUNDO PASO : CONSTRUIMOS UNA LINEA DE REGRESION\n",
        "\n",
        "Linea_Regresion = LinearRegression()\n",
        "\n",
        "#TERCER PASO : AJUSTAMOS EL MODELO A LAS VARIABLES DADAS\n",
        "\n",
        "Linea_Regresion.fit(DAED[['x_1','x_2']],DAED[['y']])"
      ],
      "execution_count": null,
      "outputs": [
        {
          "output_type": "execute_result",
          "data": {
            "text/plain": [
              "LinearRegression(copy_X=True, fit_intercept=True, n_jobs=None, normalize=False)"
            ]
          },
          "metadata": {
            "tags": []
          },
          "execution_count": 3
        }
      ]
    },
    {
      "cell_type": "code",
      "metadata": {
        "colab": {
          "base_uri": "https://localhost:8080/"
        },
        "id": "dax85dQRyw3e",
        "outputId": "f9da56c3-7ada-4465-8e0a-5686068be5aa"
      },
      "source": [
        "#EL VALOR DE LA INTERSECCION ES\n",
        "Linea_Regresion.intercept_"
      ],
      "execution_count": null,
      "outputs": [
        {
          "output_type": "execute_result",
          "data": {
            "text/plain": [
              "array([1039.83824483])"
            ]
          },
          "metadata": {
            "tags": []
          },
          "execution_count": 4
        }
      ]
    },
    {
      "cell_type": "code",
      "metadata": {
        "colab": {
          "base_uri": "https://localhost:8080/"
        },
        "id": "dUUUHOB2zYrD",
        "outputId": "911eea47-c407-4fc0-9961-19c6eef54441"
      },
      "source": [
        "#EL VALOR DE LOS COEFICIENTES ES\n",
        "Linea_Regresion.coef_"
      ],
      "execution_count": null,
      "outputs": [
        {
          "output_type": "execute_result",
          "data": {
            "text/plain": [
              "array([[   3.80072153, -169.14102019]])"
            ]
          },
          "metadata": {
            "tags": []
          },
          "execution_count": 5
        }
      ]
    },
    {
      "cell_type": "markdown",
      "metadata": {
        "id": "SfiDRb1nzp_Z"
      },
      "source": [
        "Podemos concluir que la línea de regresión múltiple ajustada a los datos es\n",
        "\n",
        "$$\\hat{y}_i = 1039.83824483 + 3.80072153*x_{1i} - 169.14102019*x_{2i} $$"
      ]
    },
    {
      "cell_type": "markdown",
      "metadata": {
        "id": "Tg5IC9Zw0fUX"
      },
      "source": [
        "### Groupby\n",
        "\n",
        "La función groupby se utiliza en variables categóricas, este agrupa los datos en subconjuntos de acuerdo con las diferentes categorías de esa variable.\n",
        "\n",
        "Se puede agrupar por una sola variable o se puede agrupar por múltiples variables."
      ]
    },
    {
      "cell_type": "markdown",
      "metadata": {
        "id": "sxYk3vGr2u_y"
      },
      "source": [
        "El proceso de Groupby consta de 3 pasos.\n",
        "\n",
        "1. Split : Dividir los datos según algún criterio\n",
        "\n",
        "2. Apply : Aplicar independientemente una función a cada grupo.\n",
        "\n",
        "Esta puede ser\n",
        "\n",
        "* .sum() \n",
        "* .count()\n",
        "* .mean()\n",
        "* .std()\n",
        "* .aggregate()\n",
        "* .apply()\n",
        "\n",
        "etc.\n",
        "\n",
        "3. Combine : Junta los resultados en una estructura de datos."
      ]
    },
    {
      "cell_type": "markdown",
      "metadata": {
        "id": "jFyseoBY7vDw"
      },
      "source": [
        "![Captura de Pantalla 2021-03-28 a la(s) 20.13.29.png](data:image/png;base64,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)"
      ]
    },
    {
      "cell_type": "code",
      "metadata": {
        "colab": {
          "base_uri": "https://localhost:8080/",
          "height": 731
        },
        "id": "b21NCRM42B04",
        "outputId": "9552ee26-05e2-4b73-f7a9-1c803fa204a8"
      },
      "source": [
        "#RETOMEMOS EL CONJUNTO DE DATOS IMPORTADO DE CARROS EN PARTICULAR, LA COLUMNAS CREADOR.\n",
        "\n",
        "#VAMOS ANALIZAR ESTAS CARACTERISTICAS EN FUNCION DEL PESO\n",
        "\n",
        "#PRIMER PASO : EXTRAEMOS LAS COLUMNAS A TRABAJAR\n",
        "\n",
        "G_B = Datos[['Creador','Peso']]\n",
        "\n",
        "#SEGUNDO PASO : AGRUPAMOS LOS DATOS SEGUN CREADOR\n",
        "\n",
        "#EL ARGUMENTO as_index = False AÑADE INDICE A LAS FILAS\n",
        "\n",
        "#VAMOS A ORGANIZARLO EN LAS MEDIAS DEL PESO\n",
        "\n",
        "G_B_A = G_B.groupby(['Creador'], as_index = False).mean()\n",
        "\n",
        "G_B_A"
      ],
      "execution_count": null,
      "outputs": [
        {
          "output_type": "execute_result",
          "data": {
            "text/html": [
              "<div>\n",
              "<style scoped>\n",
              "    .dataframe tbody tr th:only-of-type {\n",
              "        vertical-align: middle;\n",
              "    }\n",
              "\n",
              "    .dataframe tbody tr th {\n",
              "        vertical-align: top;\n",
              "    }\n",
              "\n",
              "    .dataframe thead th {\n",
              "        text-align: right;\n",
              "    }\n",
              "</style>\n",
              "<table border=\"1\" class=\"dataframe\">\n",
              "  <thead>\n",
              "    <tr style=\"text-align: right;\">\n",
              "      <th></th>\n",
              "      <th>Creador</th>\n",
              "      <th>Peso</th>\n",
              "    </tr>\n",
              "  </thead>\n",
              "  <tbody>\n",
              "    <tr>\n",
              "      <th>0</th>\n",
              "      <td>alfa-romero</td>\n",
              "      <td>50.000000</td>\n",
              "    </tr>\n",
              "    <tr>\n",
              "      <th>1</th>\n",
              "      <td>audi</td>\n",
              "      <td>54.428571</td>\n",
              "    </tr>\n",
              "    <tr>\n",
              "      <th>2</th>\n",
              "      <td>bmw</td>\n",
              "      <td>54.825000</td>\n",
              "    </tr>\n",
              "    <tr>\n",
              "      <th>3</th>\n",
              "      <td>chevrolet</td>\n",
              "      <td>52.400000</td>\n",
              "    </tr>\n",
              "    <tr>\n",
              "      <th>4</th>\n",
              "      <td>dodge</td>\n",
              "      <td>51.644444</td>\n",
              "    </tr>\n",
              "    <tr>\n",
              "      <th>5</th>\n",
              "      <td>honda</td>\n",
              "      <td>53.238462</td>\n",
              "    </tr>\n",
              "    <tr>\n",
              "      <th>6</th>\n",
              "      <td>isuzu</td>\n",
              "      <td>52.225000</td>\n",
              "    </tr>\n",
              "    <tr>\n",
              "      <th>7</th>\n",
              "      <td>jaguar</td>\n",
              "      <td>51.133333</td>\n",
              "    </tr>\n",
              "    <tr>\n",
              "      <th>8</th>\n",
              "      <td>mazda</td>\n",
              "      <td>53.358824</td>\n",
              "    </tr>\n",
              "    <tr>\n",
              "      <th>9</th>\n",
              "      <td>mercedes-benz</td>\n",
              "      <td>55.725000</td>\n",
              "    </tr>\n",
              "    <tr>\n",
              "      <th>10</th>\n",
              "      <td>mercury</td>\n",
              "      <td>54.800000</td>\n",
              "    </tr>\n",
              "    <tr>\n",
              "      <th>11</th>\n",
              "      <td>mitsubishi</td>\n",
              "      <td>50.692308</td>\n",
              "    </tr>\n",
              "    <tr>\n",
              "      <th>12</th>\n",
              "      <td>nissan</td>\n",
              "      <td>53.633333</td>\n",
              "    </tr>\n",
              "    <tr>\n",
              "      <th>13</th>\n",
              "      <td>peugot</td>\n",
              "      <td>57.181818</td>\n",
              "    </tr>\n",
              "    <tr>\n",
              "      <th>14</th>\n",
              "      <td>plymouth</td>\n",
              "      <td>51.971429</td>\n",
              "    </tr>\n",
              "    <tr>\n",
              "      <th>15</th>\n",
              "      <td>porsche</td>\n",
              "      <td>51.100000</td>\n",
              "    </tr>\n",
              "    <tr>\n",
              "      <th>16</th>\n",
              "      <td>renault</td>\n",
              "      <td>52.850000</td>\n",
              "    </tr>\n",
              "    <tr>\n",
              "      <th>17</th>\n",
              "      <td>saab</td>\n",
              "      <td>56.100000</td>\n",
              "    </tr>\n",
              "    <tr>\n",
              "      <th>18</th>\n",
              "      <td>subaru</td>\n",
              "      <td>53.750000</td>\n",
              "    </tr>\n",
              "    <tr>\n",
              "      <th>19</th>\n",
              "      <td>toyota</td>\n",
              "      <td>53.721875</td>\n",
              "    </tr>\n",
              "    <tr>\n",
              "      <th>20</th>\n",
              "      <td>volkswagen</td>\n",
              "      <td>55.183333</td>\n",
              "    </tr>\n",
              "    <tr>\n",
              "      <th>21</th>\n",
              "      <td>volvo</td>\n",
              "      <td>56.236364</td>\n",
              "    </tr>\n",
              "  </tbody>\n",
              "</table>\n",
              "</div>"
            ],
            "text/plain": [
              "          Creador       Peso\n",
              "0     alfa-romero  50.000000\n",
              "1            audi  54.428571\n",
              "2             bmw  54.825000\n",
              "3       chevrolet  52.400000\n",
              "4           dodge  51.644444\n",
              "5           honda  53.238462\n",
              "6           isuzu  52.225000\n",
              "7          jaguar  51.133333\n",
              "8           mazda  53.358824\n",
              "9   mercedes-benz  55.725000\n",
              "10        mercury  54.800000\n",
              "11     mitsubishi  50.692308\n",
              "12         nissan  53.633333\n",
              "13         peugot  57.181818\n",
              "14       plymouth  51.971429\n",
              "15        porsche  51.100000\n",
              "16        renault  52.850000\n",
              "17           saab  56.100000\n",
              "18         subaru  53.750000\n",
              "19         toyota  53.721875\n",
              "20     volkswagen  55.183333\n",
              "21          volvo  56.236364"
            ]
          },
          "metadata": {
            "tags": []
          },
          "execution_count": 23
        }
      ]
    },
    {
      "cell_type": "code",
      "metadata": {
        "colab": {
          "base_uri": "https://localhost:8080/",
          "height": 328
        },
        "id": "abWYQxPZCuMG",
        "outputId": "b8065b16-317e-48f0-cf48-9bf447360a28"
      },
      "source": [
        "#ANALICEMOS LA INFORMACION ANTERIOR PERO CON NUMERO DE CILINDROS\n",
        "\n",
        "#PRIMER PASO : EXTRAEMOS LAS COLUMNAS A TRABAJAR\n",
        "\n",
        "G_B_2 = Datos[['Creador','Numero de cilindros','Peso']]\n",
        "\n",
        "#SEGUNDO PASO : AGRUPAMOS LOS DATOS SEGUN CREADOR Y NUMERO DE CILINDROS\n",
        "\n",
        "#VAMOS A ORGANIZARLO EN LAS MEDIAS DEL PESO\n",
        "\n",
        "G_B_A_2 = G_B_2.groupby(['Creador','Numero de cilindros'], as_index = False).mean()\n",
        "\n",
        "G_B_A_2.head(9)"
      ],
      "execution_count": null,
      "outputs": [
        {
          "output_type": "execute_result",
          "data": {
            "text/html": [
              "<div>\n",
              "<style scoped>\n",
              "    .dataframe tbody tr th:only-of-type {\n",
              "        vertical-align: middle;\n",
              "    }\n",
              "\n",
              "    .dataframe tbody tr th {\n",
              "        vertical-align: top;\n",
              "    }\n",
              "\n",
              "    .dataframe thead th {\n",
              "        text-align: right;\n",
              "    }\n",
              "</style>\n",
              "<table border=\"1\" class=\"dataframe\">\n",
              "  <thead>\n",
              "    <tr style=\"text-align: right;\">\n",
              "      <th></th>\n",
              "      <th>Creador</th>\n",
              "      <th>Numero de cilindros</th>\n",
              "      <th>Peso</th>\n",
              "    </tr>\n",
              "  </thead>\n",
              "  <tbody>\n",
              "    <tr>\n",
              "      <th>0</th>\n",
              "      <td>alfa-romero</td>\n",
              "      <td>four</td>\n",
              "      <td>48.800000</td>\n",
              "    </tr>\n",
              "    <tr>\n",
              "      <th>1</th>\n",
              "      <td>alfa-romero</td>\n",
              "      <td>six</td>\n",
              "      <td>52.400000</td>\n",
              "    </tr>\n",
              "    <tr>\n",
              "      <th>2</th>\n",
              "      <td>audi</td>\n",
              "      <td>five</td>\n",
              "      <td>54.450000</td>\n",
              "    </tr>\n",
              "    <tr>\n",
              "      <th>3</th>\n",
              "      <td>audi</td>\n",
              "      <td>four</td>\n",
              "      <td>54.300000</td>\n",
              "    </tr>\n",
              "    <tr>\n",
              "      <th>4</th>\n",
              "      <td>bmw</td>\n",
              "      <td>four</td>\n",
              "      <td>54.300000</td>\n",
              "    </tr>\n",
              "    <tr>\n",
              "      <th>5</th>\n",
              "      <td>bmw</td>\n",
              "      <td>six</td>\n",
              "      <td>55.000000</td>\n",
              "    </tr>\n",
              "    <tr>\n",
              "      <th>6</th>\n",
              "      <td>chevrolet</td>\n",
              "      <td>four</td>\n",
              "      <td>52.000000</td>\n",
              "    </tr>\n",
              "    <tr>\n",
              "      <th>7</th>\n",
              "      <td>chevrolet</td>\n",
              "      <td>three</td>\n",
              "      <td>53.200000</td>\n",
              "    </tr>\n",
              "    <tr>\n",
              "      <th>8</th>\n",
              "      <td>dodge</td>\n",
              "      <td>four</td>\n",
              "      <td>51.644444</td>\n",
              "    </tr>\n",
              "  </tbody>\n",
              "</table>\n",
              "</div>"
            ],
            "text/plain": [
              "       Creador Numero de cilindros       Peso\n",
              "0  alfa-romero                four  48.800000\n",
              "1  alfa-romero                 six  52.400000\n",
              "2         audi                five  54.450000\n",
              "3         audi                four  54.300000\n",
              "4          bmw                four  54.300000\n",
              "5          bmw                 six  55.000000\n",
              "6    chevrolet                four  52.000000\n",
              "7    chevrolet               three  53.200000\n",
              "8        dodge                four  51.644444"
            ]
          },
          "metadata": {
            "tags": []
          },
          "execution_count": 35
        }
      ]
    },
    {
      "cell_type": "markdown",
      "metadata": {
        "id": "OlZdSTUdCPwR"
      },
      "source": [
        "Sí desea más información de Groupby, haga click en el siguiente enlace.\n",
        "\n",
        "[Groupby Python][1]\n",
        "\n",
        "[1]: https://pandas.pydata.org/pandas-docs/stable/reference/api/pandas.DataFrame.groupby.html"
      ]
    },
    {
      "cell_type": "markdown",
      "metadata": {
        "id": "RWPxogYOE4NK"
      },
      "source": [
        "### Tabla dinámica\n",
        "\n",
        "Un uso más común a los datos es el formato Excel, este formato de visualización es viable en Python mediante la función pivot.\n",
        "\n",
        "Para realizarlo necesitamos primero organizar los datos con la función groupby y después especificar las filas y las columnas."
      ]
    },
    {
      "cell_type": "code",
      "metadata": {
        "colab": {
          "base_uri": "https://localhost:8080/",
          "height": 793
        },
        "id": "x8nBsePzFP8p",
        "outputId": "68bf7bdc-74d8-4d4e-ca52-692cf7c1b9e5"
      },
      "source": [
        "#TOMEMOS LOS DATOS ANTERIORES ACOMODADOS POR CREADOR, NUMERO DE CILINDROS Y MEDIA DE PESO\n",
        "G_B_A_2_P = G_B_A_2.pivot(index = 'Creador',columns = 'Numero de cilindros')\n",
        "\n",
        "#IMPRIMIMOS\n",
        "G_B_A_2_P"
      ],
      "execution_count": null,
      "outputs": [
        {
          "output_type": "execute_result",
          "data": {
            "text/html": [
              "<div>\n",
              "<style scoped>\n",
              "    .dataframe tbody tr th:only-of-type {\n",
              "        vertical-align: middle;\n",
              "    }\n",
              "\n",
              "    .dataframe tbody tr th {\n",
              "        vertical-align: top;\n",
              "    }\n",
              "\n",
              "    .dataframe thead tr th {\n",
              "        text-align: left;\n",
              "    }\n",
              "\n",
              "    .dataframe thead tr:last-of-type th {\n",
              "        text-align: right;\n",
              "    }\n",
              "</style>\n",
              "<table border=\"1\" class=\"dataframe\">\n",
              "  <thead>\n",
              "    <tr>\n",
              "      <th></th>\n",
              "      <th colspan=\"7\" halign=\"left\">Peso</th>\n",
              "    </tr>\n",
              "    <tr>\n",
              "      <th>Numero de cilindros</th>\n",
              "      <th>eight</th>\n",
              "      <th>five</th>\n",
              "      <th>four</th>\n",
              "      <th>six</th>\n",
              "      <th>three</th>\n",
              "      <th>twelve</th>\n",
              "      <th>two</th>\n",
              "    </tr>\n",
              "    <tr>\n",
              "      <th>Creador</th>\n",
              "      <th></th>\n",
              "      <th></th>\n",
              "      <th></th>\n",
              "      <th></th>\n",
              "      <th></th>\n",
              "      <th></th>\n",
              "      <th></th>\n",
              "    </tr>\n",
              "  </thead>\n",
              "  <tbody>\n",
              "    <tr>\n",
              "      <th>alfa-romero</th>\n",
              "      <td>NaN</td>\n",
              "      <td>NaN</td>\n",
              "      <td>48.800000</td>\n",
              "      <td>52.400000</td>\n",
              "      <td>NaN</td>\n",
              "      <td>NaN</td>\n",
              "      <td>NaN</td>\n",
              "    </tr>\n",
              "    <tr>\n",
              "      <th>audi</th>\n",
              "      <td>NaN</td>\n",
              "      <td>54.45</td>\n",
              "      <td>54.300000</td>\n",
              "      <td>NaN</td>\n",
              "      <td>NaN</td>\n",
              "      <td>NaN</td>\n",
              "      <td>NaN</td>\n",
              "    </tr>\n",
              "    <tr>\n",
              "      <th>bmw</th>\n",
              "      <td>NaN</td>\n",
              "      <td>NaN</td>\n",
              "      <td>54.300000</td>\n",
              "      <td>55.000000</td>\n",
              "      <td>NaN</td>\n",
              "      <td>NaN</td>\n",
              "      <td>NaN</td>\n",
              "    </tr>\n",
              "    <tr>\n",
              "      <th>chevrolet</th>\n",
              "      <td>NaN</td>\n",
              "      <td>NaN</td>\n",
              "      <td>52.000000</td>\n",
              "      <td>NaN</td>\n",
              "      <td>53.2</td>\n",
              "      <td>NaN</td>\n",
              "      <td>NaN</td>\n",
              "    </tr>\n",
              "    <tr>\n",
              "      <th>dodge</th>\n",
              "      <td>NaN</td>\n",
              "      <td>NaN</td>\n",
              "      <td>51.644444</td>\n",
              "      <td>NaN</td>\n",
              "      <td>NaN</td>\n",
              "      <td>NaN</td>\n",
              "      <td>NaN</td>\n",
              "    </tr>\n",
              "    <tr>\n",
              "      <th>honda</th>\n",
              "      <td>NaN</td>\n",
              "      <td>NaN</td>\n",
              "      <td>53.238462</td>\n",
              "      <td>NaN</td>\n",
              "      <td>NaN</td>\n",
              "      <td>NaN</td>\n",
              "      <td>NaN</td>\n",
              "    </tr>\n",
              "    <tr>\n",
              "      <th>isuzu</th>\n",
              "      <td>NaN</td>\n",
              "      <td>NaN</td>\n",
              "      <td>52.225000</td>\n",
              "      <td>NaN</td>\n",
              "      <td>NaN</td>\n",
              "      <td>NaN</td>\n",
              "      <td>NaN</td>\n",
              "    </tr>\n",
              "    <tr>\n",
              "      <th>jaguar</th>\n",
              "      <td>NaN</td>\n",
              "      <td>NaN</td>\n",
              "      <td>NaN</td>\n",
              "      <td>52.800000</td>\n",
              "      <td>NaN</td>\n",
              "      <td>47.8</td>\n",
              "      <td>NaN</td>\n",
              "    </tr>\n",
              "    <tr>\n",
              "      <th>mazda</th>\n",
              "      <td>NaN</td>\n",
              "      <td>NaN</td>\n",
              "      <td>54.515385</td>\n",
              "      <td>NaN</td>\n",
              "      <td>NaN</td>\n",
              "      <td>NaN</td>\n",
              "      <td>49.6</td>\n",
              "    </tr>\n",
              "    <tr>\n",
              "      <th>mercedes-benz</th>\n",
              "      <td>54.85</td>\n",
              "      <td>56.60</td>\n",
              "      <td>NaN</td>\n",
              "      <td>NaN</td>\n",
              "      <td>NaN</td>\n",
              "      <td>NaN</td>\n",
              "      <td>NaN</td>\n",
              "    </tr>\n",
              "    <tr>\n",
              "      <th>mercury</th>\n",
              "      <td>NaN</td>\n",
              "      <td>NaN</td>\n",
              "      <td>54.800000</td>\n",
              "      <td>NaN</td>\n",
              "      <td>NaN</td>\n",
              "      <td>NaN</td>\n",
              "      <td>NaN</td>\n",
              "    </tr>\n",
              "    <tr>\n",
              "      <th>mitsubishi</th>\n",
              "      <td>NaN</td>\n",
              "      <td>NaN</td>\n",
              "      <td>50.692308</td>\n",
              "      <td>NaN</td>\n",
              "      <td>NaN</td>\n",
              "      <td>NaN</td>\n",
              "      <td>NaN</td>\n",
              "    </tr>\n",
              "    <tr>\n",
              "      <th>nissan</th>\n",
              "      <td>NaN</td>\n",
              "      <td>NaN</td>\n",
              "      <td>54.166667</td>\n",
              "      <td>52.566667</td>\n",
              "      <td>NaN</td>\n",
              "      <td>NaN</td>\n",
              "      <td>NaN</td>\n",
              "    </tr>\n",
              "    <tr>\n",
              "      <th>peugot</th>\n",
              "      <td>NaN</td>\n",
              "      <td>NaN</td>\n",
              "      <td>57.181818</td>\n",
              "      <td>NaN</td>\n",
              "      <td>NaN</td>\n",
              "      <td>NaN</td>\n",
              "      <td>NaN</td>\n",
              "    </tr>\n",
              "    <tr>\n",
              "      <th>plymouth</th>\n",
              "      <td>NaN</td>\n",
              "      <td>NaN</td>\n",
              "      <td>51.971429</td>\n",
              "      <td>NaN</td>\n",
              "      <td>NaN</td>\n",
              "      <td>NaN</td>\n",
              "      <td>NaN</td>\n",
              "    </tr>\n",
              "    <tr>\n",
              "      <th>porsche</th>\n",
              "      <td>50.50</td>\n",
              "      <td>NaN</td>\n",
              "      <td>50.200000</td>\n",
              "      <td>51.600000</td>\n",
              "      <td>NaN</td>\n",
              "      <td>NaN</td>\n",
              "      <td>NaN</td>\n",
              "    </tr>\n",
              "    <tr>\n",
              "      <th>renault</th>\n",
              "      <td>NaN</td>\n",
              "      <td>NaN</td>\n",
              "      <td>52.850000</td>\n",
              "      <td>NaN</td>\n",
              "      <td>NaN</td>\n",
              "      <td>NaN</td>\n",
              "      <td>NaN</td>\n",
              "    </tr>\n",
              "    <tr>\n",
              "      <th>saab</th>\n",
              "      <td>NaN</td>\n",
              "      <td>NaN</td>\n",
              "      <td>56.100000</td>\n",
              "      <td>NaN</td>\n",
              "      <td>NaN</td>\n",
              "      <td>NaN</td>\n",
              "      <td>NaN</td>\n",
              "    </tr>\n",
              "    <tr>\n",
              "      <th>subaru</th>\n",
              "      <td>NaN</td>\n",
              "      <td>NaN</td>\n",
              "      <td>53.750000</td>\n",
              "      <td>NaN</td>\n",
              "      <td>NaN</td>\n",
              "      <td>NaN</td>\n",
              "      <td>NaN</td>\n",
              "    </tr>\n",
              "    <tr>\n",
              "      <th>toyota</th>\n",
              "      <td>NaN</td>\n",
              "      <td>NaN</td>\n",
              "      <td>53.817857</td>\n",
              "      <td>53.050000</td>\n",
              "      <td>NaN</td>\n",
              "      <td>NaN</td>\n",
              "      <td>NaN</td>\n",
              "    </tr>\n",
              "    <tr>\n",
              "      <th>volkswagen</th>\n",
              "      <td>NaN</td>\n",
              "      <td>55.10</td>\n",
              "      <td>55.190909</td>\n",
              "      <td>NaN</td>\n",
              "      <td>NaN</td>\n",
              "      <td>NaN</td>\n",
              "      <td>NaN</td>\n",
              "    </tr>\n",
              "    <tr>\n",
              "      <th>volvo</th>\n",
              "      <td>NaN</td>\n",
              "      <td>NaN</td>\n",
              "      <td>56.400000</td>\n",
              "      <td>55.500000</td>\n",
              "      <td>NaN</td>\n",
              "      <td>NaN</td>\n",
              "      <td>NaN</td>\n",
              "    </tr>\n",
              "  </tbody>\n",
              "</table>\n",
              "</div>"
            ],
            "text/plain": [
              "                      Peso                                                \n",
              "Numero de cilindros  eight   five       four        six three twelve   two\n",
              "Creador                                                                   \n",
              "alfa-romero            NaN    NaN  48.800000  52.400000   NaN    NaN   NaN\n",
              "audi                   NaN  54.45  54.300000        NaN   NaN    NaN   NaN\n",
              "bmw                    NaN    NaN  54.300000  55.000000   NaN    NaN   NaN\n",
              "chevrolet              NaN    NaN  52.000000        NaN  53.2    NaN   NaN\n",
              "dodge                  NaN    NaN  51.644444        NaN   NaN    NaN   NaN\n",
              "honda                  NaN    NaN  53.238462        NaN   NaN    NaN   NaN\n",
              "isuzu                  NaN    NaN  52.225000        NaN   NaN    NaN   NaN\n",
              "jaguar                 NaN    NaN        NaN  52.800000   NaN   47.8   NaN\n",
              "mazda                  NaN    NaN  54.515385        NaN   NaN    NaN  49.6\n",
              "mercedes-benz        54.85  56.60        NaN        NaN   NaN    NaN   NaN\n",
              "mercury                NaN    NaN  54.800000        NaN   NaN    NaN   NaN\n",
              "mitsubishi             NaN    NaN  50.692308        NaN   NaN    NaN   NaN\n",
              "nissan                 NaN    NaN  54.166667  52.566667   NaN    NaN   NaN\n",
              "peugot                 NaN    NaN  57.181818        NaN   NaN    NaN   NaN\n",
              "plymouth               NaN    NaN  51.971429        NaN   NaN    NaN   NaN\n",
              "porsche              50.50    NaN  50.200000  51.600000   NaN    NaN   NaN\n",
              "renault                NaN    NaN  52.850000        NaN   NaN    NaN   NaN\n",
              "saab                   NaN    NaN  56.100000        NaN   NaN    NaN   NaN\n",
              "subaru                 NaN    NaN  53.750000        NaN   NaN    NaN   NaN\n",
              "toyota                 NaN    NaN  53.817857  53.050000   NaN    NaN   NaN\n",
              "volkswagen             NaN  55.10  55.190909        NaN   NaN    NaN   NaN\n",
              "volvo                  NaN    NaN  56.400000  55.500000   NaN    NaN   NaN"
            ]
          },
          "metadata": {
            "tags": []
          },
          "execution_count": 36
        }
      ]
    },
    {
      "cell_type": "code",
      "metadata": {
        "colab": {
          "base_uri": "https://localhost:8080/",
          "height": 793
        },
        "id": "q1WFhqf2FmiV",
        "outputId": "89414080-acfe-4b54-ae73-1e6b2e5b2d1b"
      },
      "source": [
        "#NOTEMOS QUE TENEMOS DATOS TIPO NaN PUES EFECTIVAMENTE NO EXISTEN DATOS PARA CIERTA COMBINACION DE DATOS. \n",
        "#APLICAMOS LA FUNCION replace\n",
        "\n",
        "G_B_A_2_P.replace(np.nan,0,inplace = True)\n",
        "\n",
        "G_B_A_2_P"
      ],
      "execution_count": null,
      "outputs": [
        {
          "output_type": "execute_result",
          "data": {
            "text/html": [
              "<div>\n",
              "<style scoped>\n",
              "    .dataframe tbody tr th:only-of-type {\n",
              "        vertical-align: middle;\n",
              "    }\n",
              "\n",
              "    .dataframe tbody tr th {\n",
              "        vertical-align: top;\n",
              "    }\n",
              "\n",
              "    .dataframe thead tr th {\n",
              "        text-align: left;\n",
              "    }\n",
              "\n",
              "    .dataframe thead tr:last-of-type th {\n",
              "        text-align: right;\n",
              "    }\n",
              "</style>\n",
              "<table border=\"1\" class=\"dataframe\">\n",
              "  <thead>\n",
              "    <tr>\n",
              "      <th></th>\n",
              "      <th colspan=\"7\" halign=\"left\">Peso</th>\n",
              "    </tr>\n",
              "    <tr>\n",
              "      <th>Numero de cilindros</th>\n",
              "      <th>eight</th>\n",
              "      <th>five</th>\n",
              "      <th>four</th>\n",
              "      <th>six</th>\n",
              "      <th>three</th>\n",
              "      <th>twelve</th>\n",
              "      <th>two</th>\n",
              "    </tr>\n",
              "    <tr>\n",
              "      <th>Creador</th>\n",
              "      <th></th>\n",
              "      <th></th>\n",
              "      <th></th>\n",
              "      <th></th>\n",
              "      <th></th>\n",
              "      <th></th>\n",
              "      <th></th>\n",
              "    </tr>\n",
              "  </thead>\n",
              "  <tbody>\n",
              "    <tr>\n",
              "      <th>alfa-romero</th>\n",
              "      <td>0.00</td>\n",
              "      <td>0.00</td>\n",
              "      <td>48.800000</td>\n",
              "      <td>52.400000</td>\n",
              "      <td>0.0</td>\n",
              "      <td>0.0</td>\n",
              "      <td>0.0</td>\n",
              "    </tr>\n",
              "    <tr>\n",
              "      <th>audi</th>\n",
              "      <td>0.00</td>\n",
              "      <td>54.45</td>\n",
              "      <td>54.300000</td>\n",
              "      <td>0.000000</td>\n",
              "      <td>0.0</td>\n",
              "      <td>0.0</td>\n",
              "      <td>0.0</td>\n",
              "    </tr>\n",
              "    <tr>\n",
              "      <th>bmw</th>\n",
              "      <td>0.00</td>\n",
              "      <td>0.00</td>\n",
              "      <td>54.300000</td>\n",
              "      <td>55.000000</td>\n",
              "      <td>0.0</td>\n",
              "      <td>0.0</td>\n",
              "      <td>0.0</td>\n",
              "    </tr>\n",
              "    <tr>\n",
              "      <th>chevrolet</th>\n",
              "      <td>0.00</td>\n",
              "      <td>0.00</td>\n",
              "      <td>52.000000</td>\n",
              "      <td>0.000000</td>\n",
              "      <td>53.2</td>\n",
              "      <td>0.0</td>\n",
              "      <td>0.0</td>\n",
              "    </tr>\n",
              "    <tr>\n",
              "      <th>dodge</th>\n",
              "      <td>0.00</td>\n",
              "      <td>0.00</td>\n",
              "      <td>51.644444</td>\n",
              "      <td>0.000000</td>\n",
              "      <td>0.0</td>\n",
              "      <td>0.0</td>\n",
              "      <td>0.0</td>\n",
              "    </tr>\n",
              "    <tr>\n",
              "      <th>honda</th>\n",
              "      <td>0.00</td>\n",
              "      <td>0.00</td>\n",
              "      <td>53.238462</td>\n",
              "      <td>0.000000</td>\n",
              "      <td>0.0</td>\n",
              "      <td>0.0</td>\n",
              "      <td>0.0</td>\n",
              "    </tr>\n",
              "    <tr>\n",
              "      <th>isuzu</th>\n",
              "      <td>0.00</td>\n",
              "      <td>0.00</td>\n",
              "      <td>52.225000</td>\n",
              "      <td>0.000000</td>\n",
              "      <td>0.0</td>\n",
              "      <td>0.0</td>\n",
              "      <td>0.0</td>\n",
              "    </tr>\n",
              "    <tr>\n",
              "      <th>jaguar</th>\n",
              "      <td>0.00</td>\n",
              "      <td>0.00</td>\n",
              "      <td>0.000000</td>\n",
              "      <td>52.800000</td>\n",
              "      <td>0.0</td>\n",
              "      <td>47.8</td>\n",
              "      <td>0.0</td>\n",
              "    </tr>\n",
              "    <tr>\n",
              "      <th>mazda</th>\n",
              "      <td>0.00</td>\n",
              "      <td>0.00</td>\n",
              "      <td>54.515385</td>\n",
              "      <td>0.000000</td>\n",
              "      <td>0.0</td>\n",
              "      <td>0.0</td>\n",
              "      <td>49.6</td>\n",
              "    </tr>\n",
              "    <tr>\n",
              "      <th>mercedes-benz</th>\n",
              "      <td>54.85</td>\n",
              "      <td>56.60</td>\n",
              "      <td>0.000000</td>\n",
              "      <td>0.000000</td>\n",
              "      <td>0.0</td>\n",
              "      <td>0.0</td>\n",
              "      <td>0.0</td>\n",
              "    </tr>\n",
              "    <tr>\n",
              "      <th>mercury</th>\n",
              "      <td>0.00</td>\n",
              "      <td>0.00</td>\n",
              "      <td>54.800000</td>\n",
              "      <td>0.000000</td>\n",
              "      <td>0.0</td>\n",
              "      <td>0.0</td>\n",
              "      <td>0.0</td>\n",
              "    </tr>\n",
              "    <tr>\n",
              "      <th>mitsubishi</th>\n",
              "      <td>0.00</td>\n",
              "      <td>0.00</td>\n",
              "      <td>50.692308</td>\n",
              "      <td>0.000000</td>\n",
              "      <td>0.0</td>\n",
              "      <td>0.0</td>\n",
              "      <td>0.0</td>\n",
              "    </tr>\n",
              "    <tr>\n",
              "      <th>nissan</th>\n",
              "      <td>0.00</td>\n",
              "      <td>0.00</td>\n",
              "      <td>54.166667</td>\n",
              "      <td>52.566667</td>\n",
              "      <td>0.0</td>\n",
              "      <td>0.0</td>\n",
              "      <td>0.0</td>\n",
              "    </tr>\n",
              "    <tr>\n",
              "      <th>peugot</th>\n",
              "      <td>0.00</td>\n",
              "      <td>0.00</td>\n",
              "      <td>57.181818</td>\n",
              "      <td>0.000000</td>\n",
              "      <td>0.0</td>\n",
              "      <td>0.0</td>\n",
              "      <td>0.0</td>\n",
              "    </tr>\n",
              "    <tr>\n",
              "      <th>plymouth</th>\n",
              "      <td>0.00</td>\n",
              "      <td>0.00</td>\n",
              "      <td>51.971429</td>\n",
              "      <td>0.000000</td>\n",
              "      <td>0.0</td>\n",
              "      <td>0.0</td>\n",
              "      <td>0.0</td>\n",
              "    </tr>\n",
              "    <tr>\n",
              "      <th>porsche</th>\n",
              "      <td>50.50</td>\n",
              "      <td>0.00</td>\n",
              "      <td>50.200000</td>\n",
              "      <td>51.600000</td>\n",
              "      <td>0.0</td>\n",
              "      <td>0.0</td>\n",
              "      <td>0.0</td>\n",
              "    </tr>\n",
              "    <tr>\n",
              "      <th>renault</th>\n",
              "      <td>0.00</td>\n",
              "      <td>0.00</td>\n",
              "      <td>52.850000</td>\n",
              "      <td>0.000000</td>\n",
              "      <td>0.0</td>\n",
              "      <td>0.0</td>\n",
              "      <td>0.0</td>\n",
              "    </tr>\n",
              "    <tr>\n",
              "      <th>saab</th>\n",
              "      <td>0.00</td>\n",
              "      <td>0.00</td>\n",
              "      <td>56.100000</td>\n",
              "      <td>0.000000</td>\n",
              "      <td>0.0</td>\n",
              "      <td>0.0</td>\n",
              "      <td>0.0</td>\n",
              "    </tr>\n",
              "    <tr>\n",
              "      <th>subaru</th>\n",
              "      <td>0.00</td>\n",
              "      <td>0.00</td>\n",
              "      <td>53.750000</td>\n",
              "      <td>0.000000</td>\n",
              "      <td>0.0</td>\n",
              "      <td>0.0</td>\n",
              "      <td>0.0</td>\n",
              "    </tr>\n",
              "    <tr>\n",
              "      <th>toyota</th>\n",
              "      <td>0.00</td>\n",
              "      <td>0.00</td>\n",
              "      <td>53.817857</td>\n",
              "      <td>53.050000</td>\n",
              "      <td>0.0</td>\n",
              "      <td>0.0</td>\n",
              "      <td>0.0</td>\n",
              "    </tr>\n",
              "    <tr>\n",
              "      <th>volkswagen</th>\n",
              "      <td>0.00</td>\n",
              "      <td>55.10</td>\n",
              "      <td>55.190909</td>\n",
              "      <td>0.000000</td>\n",
              "      <td>0.0</td>\n",
              "      <td>0.0</td>\n",
              "      <td>0.0</td>\n",
              "    </tr>\n",
              "    <tr>\n",
              "      <th>volvo</th>\n",
              "      <td>0.00</td>\n",
              "      <td>0.00</td>\n",
              "      <td>56.400000</td>\n",
              "      <td>55.500000</td>\n",
              "      <td>0.0</td>\n",
              "      <td>0.0</td>\n",
              "      <td>0.0</td>\n",
              "    </tr>\n",
              "  </tbody>\n",
              "</table>\n",
              "</div>"
            ],
            "text/plain": [
              "                      Peso                                                \n",
              "Numero de cilindros  eight   five       four        six three twelve   two\n",
              "Creador                                                                   \n",
              "alfa-romero           0.00   0.00  48.800000  52.400000   0.0    0.0   0.0\n",
              "audi                  0.00  54.45  54.300000   0.000000   0.0    0.0   0.0\n",
              "bmw                   0.00   0.00  54.300000  55.000000   0.0    0.0   0.0\n",
              "chevrolet             0.00   0.00  52.000000   0.000000  53.2    0.0   0.0\n",
              "dodge                 0.00   0.00  51.644444   0.000000   0.0    0.0   0.0\n",
              "honda                 0.00   0.00  53.238462   0.000000   0.0    0.0   0.0\n",
              "isuzu                 0.00   0.00  52.225000   0.000000   0.0    0.0   0.0\n",
              "jaguar                0.00   0.00   0.000000  52.800000   0.0   47.8   0.0\n",
              "mazda                 0.00   0.00  54.515385   0.000000   0.0    0.0  49.6\n",
              "mercedes-benz        54.85  56.60   0.000000   0.000000   0.0    0.0   0.0\n",
              "mercury               0.00   0.00  54.800000   0.000000   0.0    0.0   0.0\n",
              "mitsubishi            0.00   0.00  50.692308   0.000000   0.0    0.0   0.0\n",
              "nissan                0.00   0.00  54.166667  52.566667   0.0    0.0   0.0\n",
              "peugot                0.00   0.00  57.181818   0.000000   0.0    0.0   0.0\n",
              "plymouth              0.00   0.00  51.971429   0.000000   0.0    0.0   0.0\n",
              "porsche              50.50   0.00  50.200000  51.600000   0.0    0.0   0.0\n",
              "renault               0.00   0.00  52.850000   0.000000   0.0    0.0   0.0\n",
              "saab                  0.00   0.00  56.100000   0.000000   0.0    0.0   0.0\n",
              "subaru                0.00   0.00  53.750000   0.000000   0.0    0.0   0.0\n",
              "toyota                0.00   0.00  53.817857  53.050000   0.0    0.0   0.0\n",
              "volkswagen            0.00  55.10  55.190909   0.000000   0.0    0.0   0.0\n",
              "volvo                 0.00   0.00  56.400000  55.500000   0.0    0.0   0.0"
            ]
          },
          "metadata": {
            "tags": []
          },
          "execution_count": 38
        }
      ]
    },
    {
      "cell_type": "markdown",
      "metadata": {
        "id": "3jCbIrhGT-MK"
      },
      "source": [
        "### ANOVA"
      ]
    },
    {
      "cell_type": "markdown",
      "metadata": {
        "id": "Zbgzp9KJfIAS"
      },
      "source": [
        "#### Definción\n",
        "\n",
        "El ANOVA es una prueba estadística que significa Análisis de Varianza y determina para la regresión lineal simple sí la regresión afecta o no, es decir, si la pendiente es distinta de cero o no.\n",
        "\n",
        "En el caso de la regresión lineal múltiple el ANOVA nos ayuda a probar si existe una relación entre la variable de respuesta $y$ y el conjunto de variables $x_1,\\ldots ,x_{p-1}$, esto es, al menos una de las variables es significativa o todas son no significativas.\n",
        "\n",
        "La composición general del ANOVA esta dado por el desglose de las sumas totales de cuadrados y los grados de libertad asociados (**esto es detallado en las clases correspondientes a estos temas**).\n",
        "\n",
        "|Fuente de variación|Suma de Cuadrados|Grados de Libertad|Cuadrados Medios|Valor de F|Región de rechazo|\n",
        "|--|--|--|--|--|--|\n",
        "|Regresión|SSR|GLR|MSR|$F^*$|$F^*>F_{1-\\alpha ,n-2}$|\n",
        "|Error|SSE|GLE|MSE|\n",
        "|Total|SSTO|GLT|\n",
        "\n"
      ]
    },
    {
      "cell_type": "markdown",
      "metadata": {
        "id": "dMIhCuqbhr9_"
      },
      "source": [
        "Para el caso de la regresión lineal simple, el ANOVA provee una prueba de hipótesis planteado como:\n",
        "\n",
        "$$H_0 : \\beta_1 = 0$$\n",
        "$$H_1 : \\beta_1 \\neq 0$$\n",
        "\n",
        "Donde el estadístico de prueba es $F^*=\\frac{MSR}{MSE}$ donde $F^*$ tiene distribución $F_{1,n-2}$. Rechazamos la hipótesis nula sí $F^*>F_{1-\\alpha ,n-2}$.\n",
        "\n",
        "La prueba de hipótesis se puede entender como\n",
        "\n",
        "\n",
        "$$H_0 : \\text{La regresión no afecta significativamente}$$\n",
        "$$H_1 : \\text{La regresión afecta significativamente}$$\n",
        "\n",
        "\n",
        "Para el caso de la regresión múltiple, el ANOVA provee la siguiente prueba de hipótesis.\n",
        "\n",
        "$$H_0 : \\beta_1 = \\ldots = \\beta_{p-1} = 0$$\n",
        "$$H_1 : \\beta_i \\neq 0 \\text{ para algún }i\\in\\{1,\\ldots ,p-1\\}$$\n",
        "\n",
        "En este caso rechazar la hipótesis nula implica que la ecuación de regresión difiere de una constante, es decir, al menos una variable regresora es importante."
      ]
    },
    {
      "cell_type": "markdown",
      "metadata": {
        "id": "i9rosk8vjsqW"
      },
      "source": [
        "Estadísticamente el ANOVA tambíen nos proporciona otros datos que nos ayudan a determinar si rechazamos o no la hipótesis nula, tal es el caso del valor $F$ y el $p$-valor.\n",
        "\n",
        "El valor $F$ **calcula el radio de variación entre la media de los grupos**, sobre la variación en cada uno de los grupos de muestra.\n",
        "\n",
        "El $p$-valor **muestra si el resultado obtenido es estadísticamente significativo**.\n",
        "\n",
        "Generalmente se compara el $p$-valor contra un $\\alpha$ pequeño, de manera tradicional se toma un $\\alpha = 0.05$ o $\\alpha = 0.01$, donde sí $p$-valor es menor a $\\alpha$ entonces rechazamos la hipótesis nula."
      ]
    },
    {
      "cell_type": "markdown",
      "metadata": {
        "id": "izX5dSk_2z7R"
      },
      "source": [
        "En **Diseño de experimentos** existen diversos experimentos que, gracias al ANOVA, es viable tener conclusiones contundentes respecto al efecto que tiene cierta variable sobre otra.\n",
        "\n",
        "Por ejemplo, el *Diseño completamente al azar* es aquel que analizar el efecto que tiene solo un factor sobre la variable respuesta.\n",
        "\n",
        "Su modelo general es \n",
        "\n",
        "$$y_{ij} = \\mu + \\tau_i + e_{ij}$$\n",
        "\n",
        "Donde\n",
        "\n",
        "1. $$y_{ij} : \\text{ Es el valor de la variable respuesta de la unidad experimental}$$\n",
        "\n",
        "2. $$\\mu : \\text{ Media poblacional general}$$\n",
        "\n",
        "3. $$\\tau_i : \\text{ Efecto del tratamiento }i$$\n",
        "\n",
        "4. $$e_{ij} : \\text{ Error aleatorio de la unidad experimental }ij$$\n",
        "\n",
        "El ANOVA, para este caso, se plantea con la siguiente hipótesis.\n",
        "\n",
        "$$H_0 : \\tau_i = 0,\\forall i$$\n",
        "$$H_1 : \\tau_i \\neq 0, \\text{ para, al menos, un }i$$\n",
        "\n",
        "Es decir, que al menos una de las variables afecta más que las otras."
      ]
    },
    {
      "cell_type": "markdown",
      "metadata": {
        "id": "pUWiTQLBkolE"
      },
      "source": [
        "#### Como realizar la prueba del ANOVA en Python\n",
        "\n",
        "Para realizar la prueba del ANOVA en Python necesitamos utilizar groupby pues es necesario agrupar los datos.\n",
        "\n",
        "Se utilizará la función stats de la librería scipy así como la función f_oneway de stats importada.\n"
      ]
    },
    {
      "cell_type": "code",
      "metadata": {
        "colab": {
          "base_uri": "https://localhost:8080/",
          "height": 419
        },
        "id": "72W2gO87k__g",
        "outputId": "4b27ca0d-3d47-4e6d-f3d7-06eef10f7f83"
      },
      "source": [
        "#RECORDEMOS QUE EXTRAIMOS EL PESO Y LOS CREADORES DE LA BASE DE DATOS IMPORTADA\n",
        "G_B"
      ],
      "execution_count": null,
      "outputs": [
        {
          "output_type": "execute_result",
          "data": {
            "text/html": [
              "<div>\n",
              "<style scoped>\n",
              "    .dataframe tbody tr th:only-of-type {\n",
              "        vertical-align: middle;\n",
              "    }\n",
              "\n",
              "    .dataframe tbody tr th {\n",
              "        vertical-align: top;\n",
              "    }\n",
              "\n",
              "    .dataframe thead th {\n",
              "        text-align: right;\n",
              "    }\n",
              "</style>\n",
              "<table border=\"1\" class=\"dataframe\">\n",
              "  <thead>\n",
              "    <tr style=\"text-align: right;\">\n",
              "      <th></th>\n",
              "      <th>Creador</th>\n",
              "      <th>Peso</th>\n",
              "    </tr>\n",
              "  </thead>\n",
              "  <tbody>\n",
              "    <tr>\n",
              "      <th>0</th>\n",
              "      <td>alfa-romero</td>\n",
              "      <td>48.8</td>\n",
              "    </tr>\n",
              "    <tr>\n",
              "      <th>1</th>\n",
              "      <td>alfa-romero</td>\n",
              "      <td>48.8</td>\n",
              "    </tr>\n",
              "    <tr>\n",
              "      <th>2</th>\n",
              "      <td>alfa-romero</td>\n",
              "      <td>52.4</td>\n",
              "    </tr>\n",
              "    <tr>\n",
              "      <th>3</th>\n",
              "      <td>audi</td>\n",
              "      <td>54.3</td>\n",
              "    </tr>\n",
              "    <tr>\n",
              "      <th>4</th>\n",
              "      <td>audi</td>\n",
              "      <td>54.3</td>\n",
              "    </tr>\n",
              "    <tr>\n",
              "      <th>...</th>\n",
              "      <td>...</td>\n",
              "      <td>...</td>\n",
              "    </tr>\n",
              "    <tr>\n",
              "      <th>200</th>\n",
              "      <td>volvo</td>\n",
              "      <td>55.5</td>\n",
              "    </tr>\n",
              "    <tr>\n",
              "      <th>201</th>\n",
              "      <td>volvo</td>\n",
              "      <td>55.5</td>\n",
              "    </tr>\n",
              "    <tr>\n",
              "      <th>202</th>\n",
              "      <td>volvo</td>\n",
              "      <td>55.5</td>\n",
              "    </tr>\n",
              "    <tr>\n",
              "      <th>203</th>\n",
              "      <td>volvo</td>\n",
              "      <td>55.5</td>\n",
              "    </tr>\n",
              "    <tr>\n",
              "      <th>204</th>\n",
              "      <td>volvo</td>\n",
              "      <td>55.5</td>\n",
              "    </tr>\n",
              "  </tbody>\n",
              "</table>\n",
              "<p>205 rows × 2 columns</p>\n",
              "</div>"
            ],
            "text/plain": [
              "         Creador  Peso\n",
              "0    alfa-romero  48.8\n",
              "1    alfa-romero  48.8\n",
              "2    alfa-romero  52.4\n",
              "3           audi  54.3\n",
              "4           audi  54.3\n",
              "..           ...   ...\n",
              "200        volvo  55.5\n",
              "201        volvo  55.5\n",
              "202        volvo  55.5\n",
              "203        volvo  55.5\n",
              "204        volvo  55.5\n",
              "\n",
              "[205 rows x 2 columns]"
            ]
          },
          "metadata": {
            "tags": []
          },
          "execution_count": 40
        }
      ]
    },
    {
      "cell_type": "code",
      "metadata": {
        "id": "N9_3_VCHlp-1"
      },
      "source": [
        "#DETERMINEMOS EL ANOVA ENTRELA MARCA alfa-romero Y volvo PARA DEFINIR \n",
        "#SI AL MENOS UNA VARIABLE ES SIGNIFICATIVA O NO\n",
        "\n",
        "#PRIMER PASO : AGRUPAMOS\n",
        "\n",
        "GRUPO_A = G_B.groupby(['Creador'])\n",
        "\n",
        "#SEGUNDO PASO : IMPORTAMOS FUNCIONES Y REALIZAMOS ANOVA A LAS VARIABLES A EVALUAR\n",
        "\n",
        "from scipy import stats\n",
        "\n",
        "ANOVA = stats.f_oneway(GRUPO_A.get_group('alfa-romero')['Peso'], GRUPO_A.get_group('volvo')['Peso'])"
      ],
      "execution_count": null,
      "outputs": []
    },
    {
      "cell_type": "code",
      "metadata": {
        "colab": {
          "base_uri": "https://localhost:8080/"
        },
        "id": "KGIF4Cjemeac",
        "outputId": "58a9ba51-bf23-41be-a272-62e438642f40"
      },
      "source": [
        "#DEFINIMOS ALPHA COMO 0.05\n",
        "\n",
        "#EL P-VALOR ESTA DADO EN ANOVA[1]\n",
        "\n",
        "if ANOVA[1] < 0.05:\n",
        "  print('Rechazamos Ho, es decir, al menos una variable regresora es importante')\n",
        "else:\n",
        "  print('No rechazamos Ho')"
      ],
      "execution_count": null,
      "outputs": [
        {
          "output_type": "stream",
          "text": [
            "Rechazamos Ho, es decir, al menos una variable regresora es importante\n"
          ],
          "name": "stdout"
        }
      ]
    },
    {
      "cell_type": "code",
      "metadata": {
        "colab": {
          "base_uri": "https://localhost:8080/"
        },
        "id": "nTlntgmDnQYQ",
        "outputId": "316d2493-9496-429d-ff98-99037cbd012a"
      },
      "source": [
        "#REALIZAMOS LA MISMA PRUEBA PERO COMO peugot\n",
        "\n",
        "ANOVA2 = stats.f_oneway(GRUPO_A.get_group('peugot')['Peso'], GRUPO_A.get_group('volvo')['Peso'])\n",
        "\n",
        "if ANOVA2[1] < 0.05:\n",
        "  print('Rechazamos Ho, es decir, al menos una variable regresora es importante')\n",
        "else:\n",
        "  print('No rechazamos Ho')"
      ],
      "execution_count": null,
      "outputs": [
        {
          "output_type": "stream",
          "text": [
            "Rechazamos Ho, es decir, al menos una variable regresora es importante\n"
          ],
          "name": "stdout"
        }
      ]
    },
    {
      "cell_type": "markdown",
      "metadata": {
        "id": "rQj0ryr026Ai"
      },
      "source": [
        "**EJEMPLO DE ANOVA EN DISEÑO DE EXPERIMENTOS**\n",
        "\n",
        "Un fabricante de calzado de León, Gto. Desea mejorar la calidad de las suelas de sus zapatos para caballero.\n",
        "\n",
        "Actualmente, utiliza cuatro tipos de cuero para las suelas.\n",
        "\n",
        "Denominaremos como A,B,C y D a los tipos de suelas disponibles en el mercado.\n",
        "\n",
        "Para esto, se probaron los cueros con una máquina que hace pasar los zapatos por una superficie abrasiva, de modo que la suela se desgasta al pasar por esta superficie.\n",
        "\n",
        "Como criterio de desgaste se usa la pérdida de peso después de cierto número fijo de ciclos."
      ]
    },
    {
      "cell_type": "markdown",
      "metadata": {
        "id": "3xFGkJo43TSe"
      },
      "source": [
        "* Factor : Tipos de cuero para suelas\n",
        "\n",
        "* Niveles : A, B, C y D\n",
        "\n",
        "Los resultados se encuentran almacenados en el siguiente Data Frame."
      ]
    },
    {
      "cell_type": "code",
      "metadata": {
        "colab": {
          "base_uri": "https://localhost:8080/",
          "height": 793
        },
        "id": "1zRPLoCL277d",
        "outputId": "f8862511-faf3-4714-dd0b-d873bc50c221"
      },
      "source": [
        "Resultados_Suelas = [264,260,258,241,262,255]+[208,220,216,200,213,206]+[220,263,219,225,230,228]+[217,226,215,227,220,222]\n",
        "Lista_Suela = list('A' for a in range (6))+list('B' for b in range (6))+list('C' for c in range (6))+list('D' for d in range (6))\n",
        "Datos_DF = pd.DataFrame({'Suela':Lista_Suela,'Resultado':Resultados_Suelas})\n",
        "Datos_DF"
      ],
      "execution_count": null,
      "outputs": [
        {
          "output_type": "execute_result",
          "data": {
            "text/html": [
              "<div>\n",
              "<style scoped>\n",
              "    .dataframe tbody tr th:only-of-type {\n",
              "        vertical-align: middle;\n",
              "    }\n",
              "\n",
              "    .dataframe tbody tr th {\n",
              "        vertical-align: top;\n",
              "    }\n",
              "\n",
              "    .dataframe thead th {\n",
              "        text-align: right;\n",
              "    }\n",
              "</style>\n",
              "<table border=\"1\" class=\"dataframe\">\n",
              "  <thead>\n",
              "    <tr style=\"text-align: right;\">\n",
              "      <th></th>\n",
              "      <th>Suela</th>\n",
              "      <th>Resultado</th>\n",
              "    </tr>\n",
              "  </thead>\n",
              "  <tbody>\n",
              "    <tr>\n",
              "      <th>0</th>\n",
              "      <td>A</td>\n",
              "      <td>264</td>\n",
              "    </tr>\n",
              "    <tr>\n",
              "      <th>1</th>\n",
              "      <td>A</td>\n",
              "      <td>260</td>\n",
              "    </tr>\n",
              "    <tr>\n",
              "      <th>2</th>\n",
              "      <td>A</td>\n",
              "      <td>258</td>\n",
              "    </tr>\n",
              "    <tr>\n",
              "      <th>3</th>\n",
              "      <td>A</td>\n",
              "      <td>241</td>\n",
              "    </tr>\n",
              "    <tr>\n",
              "      <th>4</th>\n",
              "      <td>A</td>\n",
              "      <td>262</td>\n",
              "    </tr>\n",
              "    <tr>\n",
              "      <th>5</th>\n",
              "      <td>A</td>\n",
              "      <td>255</td>\n",
              "    </tr>\n",
              "    <tr>\n",
              "      <th>6</th>\n",
              "      <td>B</td>\n",
              "      <td>208</td>\n",
              "    </tr>\n",
              "    <tr>\n",
              "      <th>7</th>\n",
              "      <td>B</td>\n",
              "      <td>220</td>\n",
              "    </tr>\n",
              "    <tr>\n",
              "      <th>8</th>\n",
              "      <td>B</td>\n",
              "      <td>216</td>\n",
              "    </tr>\n",
              "    <tr>\n",
              "      <th>9</th>\n",
              "      <td>B</td>\n",
              "      <td>200</td>\n",
              "    </tr>\n",
              "    <tr>\n",
              "      <th>10</th>\n",
              "      <td>B</td>\n",
              "      <td>213</td>\n",
              "    </tr>\n",
              "    <tr>\n",
              "      <th>11</th>\n",
              "      <td>B</td>\n",
              "      <td>206</td>\n",
              "    </tr>\n",
              "    <tr>\n",
              "      <th>12</th>\n",
              "      <td>C</td>\n",
              "      <td>220</td>\n",
              "    </tr>\n",
              "    <tr>\n",
              "      <th>13</th>\n",
              "      <td>C</td>\n",
              "      <td>263</td>\n",
              "    </tr>\n",
              "    <tr>\n",
              "      <th>14</th>\n",
              "      <td>C</td>\n",
              "      <td>219</td>\n",
              "    </tr>\n",
              "    <tr>\n",
              "      <th>15</th>\n",
              "      <td>C</td>\n",
              "      <td>225</td>\n",
              "    </tr>\n",
              "    <tr>\n",
              "      <th>16</th>\n",
              "      <td>C</td>\n",
              "      <td>230</td>\n",
              "    </tr>\n",
              "    <tr>\n",
              "      <th>17</th>\n",
              "      <td>C</td>\n",
              "      <td>228</td>\n",
              "    </tr>\n",
              "    <tr>\n",
              "      <th>18</th>\n",
              "      <td>D</td>\n",
              "      <td>217</td>\n",
              "    </tr>\n",
              "    <tr>\n",
              "      <th>19</th>\n",
              "      <td>D</td>\n",
              "      <td>226</td>\n",
              "    </tr>\n",
              "    <tr>\n",
              "      <th>20</th>\n",
              "      <td>D</td>\n",
              "      <td>215</td>\n",
              "    </tr>\n",
              "    <tr>\n",
              "      <th>21</th>\n",
              "      <td>D</td>\n",
              "      <td>227</td>\n",
              "    </tr>\n",
              "    <tr>\n",
              "      <th>22</th>\n",
              "      <td>D</td>\n",
              "      <td>220</td>\n",
              "    </tr>\n",
              "    <tr>\n",
              "      <th>23</th>\n",
              "      <td>D</td>\n",
              "      <td>222</td>\n",
              "    </tr>\n",
              "  </tbody>\n",
              "</table>\n",
              "</div>"
            ],
            "text/plain": [
              "   Suela  Resultado\n",
              "0      A        264\n",
              "1      A        260\n",
              "2      A        258\n",
              "3      A        241\n",
              "4      A        262\n",
              "5      A        255\n",
              "6      B        208\n",
              "7      B        220\n",
              "8      B        216\n",
              "9      B        200\n",
              "10     B        213\n",
              "11     B        206\n",
              "12     C        220\n",
              "13     C        263\n",
              "14     C        219\n",
              "15     C        225\n",
              "16     C        230\n",
              "17     C        228\n",
              "18     D        217\n",
              "19     D        226\n",
              "20     D        215\n",
              "21     D        227\n",
              "22     D        220\n",
              "23     D        222"
            ]
          },
          "metadata": {
            "tags": []
          },
          "execution_count": 6
        }
      ]
    },
    {
      "cell_type": "code",
      "metadata": {
        "colab": {
          "base_uri": "https://localhost:8080/"
        },
        "id": "NDZsNERh3Y2h",
        "outputId": "568040fb-5390-4852-8590-d7a0a6e7073e"
      },
      "source": [
        "#PRIMER PASO : AGRUPAMOS\n",
        "\n",
        "GRUPO = Datos_DF.groupby(['Suela'])\n",
        "\n",
        "#SEGUNDO PASO : IMPORTAMOS FUNCIONES Y REALIZAMOS ANOVA A LAS VARIABLES A EVALUAR\n",
        "\n",
        "from scipy import stats\n",
        "\n",
        "ANOVA = stats.f_oneway(GRUPO.get_group('A')['Resultado'], GRUPO.get_group('B')['Resultado'], GRUPO.get_group('C')['Resultado'], GRUPO.get_group('D')['Resultado'])\n",
        "\n",
        "if ANOVA[1] < 0.05:\n",
        "  print('Rechazamos Ho, es decir, al menos una suela que afecta el desgaste del zapato.','\\nEl P-Valor es',ANOVA[1])\n",
        "else:\n",
        "  print('No rechazamos Ho')"
      ],
      "execution_count": null,
      "outputs": [
        {
          "output_type": "stream",
          "text": [
            "Rechazamos Ho, es decir, al menos una suela que afecta el desgaste del zapato. \n",
            "El P-Valor es 1.176152212543542e-06\n"
          ],
          "name": "stdout"
        }
      ]
    },
    {
      "cell_type": "markdown",
      "metadata": {
        "id": "tLoV2YUF3gak"
      },
      "source": [
        "**NOTA** : Para el caso de Diseño de Experimentos, el ANOVA te dice sí existe al menos una variable que afecte pero NO te dice cual. \n",
        "\n",
        "Para saber eso se realizan otras pruebas estadísiticas como:\n",
        "\n",
        "* Método de Duncan\n",
        "\n",
        "* Método de Tukey\n",
        "\n",
        "* Método de LSD\n",
        "\n",
        "* Método gráfico"
      ]
    },
    {
      "cell_type": "markdown",
      "metadata": {
        "id": "3cKQuaX1SCtO"
      },
      "source": [
        "###Relación"
      ]
    },
    {
      "cell_type": "markdown",
      "metadata": {
        "id": "zyhMeQGYVrTU"
      },
      "source": [
        "#### Definición\n",
        "\n",
        "Existen diversas maneras para medir hasta que punto las diferentes variables son interdependientes. Sí una variable esta relacionada con otra, es decir, por ejemplo,$x$ esta relacionada con $y$, entonces podemos analizar que tanto están relacionadas.\n",
        "\n",
        "En particular, existen tres maneras de analizar la relación entre variables.\n",
        "\n",
        "1. Visual\n",
        "2. Coeficiente de Pearson\n",
        "3. $p$-valor\n",
        "\n",
        "Analizar la relación entre variables de **manera visual** nos da una **PISTA** de la relación entre ellas, sin embargo, no es prueba contundente de esta.\n",
        "\n",
        "El **coeficiente de Pearson** es un valor estadístico que nos **indica que de que forma están relacionadas las variables**. El coeficiente de Pearson tiene el siguiente criterio.\n",
        "\n",
        "|Valor del Coeficiente de Pearson|Significado|\n",
        "|--|--|\n",
        "|Cercano a 1|Tenemos una relación lineal positiva|\n",
        "|Cercano a 0|No existe una relación lineal entre las variables|\n",
        "|Cercano a -1|Tenemos una relación lineal negativa|\n",
        "\n",
        "Por su lado, el **$p$-valor** nos dice **lo seguros que estamos de la relación calculada**.\n",
        "\n",
        "|Valor del $p$-valor|Significado|\n",
        "|:--:|--|\n",
        "|$$0.01< p < 0.05$$|Fuerte certeza de relación lineal|\n",
        "|$$0.05 < p < 0.1$$|Moderada certeza de relación lineal|\n",
        "|$$p < 0.1$$|Débil certeza de relación lineal|\n",
        "|$$p > 0.1$$|No existe relación lineal|"
      ]
    },
    {
      "cell_type": "markdown",
      "metadata": {
        "id": "j2V6r6SUVtWZ"
      },
      "source": [
        "#### Como analizarlo de manera visual\n",
        "\n",
        "Para analizar de manera visual la relación entre las variables usamos la librería matplotlib junto a pyplot, además de seaborn.\n",
        "\n",
        "Sintaxis.\n",
        "\n",
        "```\n",
        "import matplotlib.pyplot as plt\n",
        "import seaborn as sns\n",
        "\n",
        "sns.regplot(x = 'Columna_de_las_X', y = 'Columna_de_las_Y', data = DF)\n",
        "plt.ylim(0,)\n",
        "```\n"
      ]
    },
    {
      "cell_type": "code",
      "metadata": {
        "id": "J1vMjvzoWLf9"
      },
      "source": [
        "'''\n",
        "Los siguientes datos se obtuvieron del libro:\n",
        "\n",
        "Wackerly, D. D., Muñoz, R., & Humbertotr, J. (2010). Estadística matemática con aplicaciones (No. 519.5 W3).\n",
        "\n",
        "Pagina 573, ejercicio 11.9\n",
        "'''\n",
        "\n",
        "V_C = [1.8,1.5,2,2.5,1.8,2.5,1.6,1.5]\n",
        "C_P = [51,51,115,150,126,150,118,106]\n",
        "\n",
        "E_119 = {'Volumen de cilindros (x)':V_C,'Caballos de potencia (y)':C_P}\n",
        "E_119D = pd.DataFrame(E_119)"
      ],
      "execution_count": null,
      "outputs": []
    },
    {
      "cell_type": "code",
      "metadata": {
        "colab": {
          "base_uri": "https://localhost:8080/"
        },
        "id": "hnb6s1iXYpeU",
        "outputId": "961035b4-9345-4cde-9f62-46eb269ed888"
      },
      "source": [
        "#OBTENEMOS LA ECUACION AJUSTADA A LOS DATOS\n",
        "\n",
        "from sklearn.linear_model import LinearRegression\n",
        "\n",
        "Linea_Regresion = LinearRegression()\n",
        "\n",
        "Linea_Regresion.fit(E_119D[['Volumen de cilindros (x)']],E_119D[['Caballos de potencia (y)']])\n",
        "\n",
        "print('La pendiente es : ',Linea_Regresion.coef_,'\\nLa interseccion es : ',Linea_Regresion.intercept_)\n"
      ],
      "execution_count": null,
      "outputs": [
        {
          "output_type": "stream",
          "text": [
            "La pendiente es :  [[65.17241379]] \n",
            "La interseccion es :  [-15.45258621]\n"
          ],
          "name": "stdout"
        }
      ]
    },
    {
      "cell_type": "markdown",
      "metadata": {
        "id": "UB-ukZU4Za_A"
      },
      "source": [
        "La ecuación lineal ajustada a los datos es:\n",
        "\n",
        "$$\\hat{y}_i = -15.45258621 + 65.17241379*x_i$$"
      ]
    },
    {
      "cell_type": "code",
      "metadata": {
        "colab": {
          "base_uri": "https://localhost:8080/",
          "height": 296
        },
        "id": "9DGjnH_CYDtM",
        "outputId": "48c70017-82a1-4966-d2ce-69b2e43a2c6c"
      },
      "source": [
        "#ANALIZAMOS DE MANERA VISUAL\n",
        "\n",
        "import seaborn as sns\n",
        "\n",
        "sns.regplot( x = 'Volumen de cilindros (x)', y = 'Caballos de potencia (y)', data = E_119D)\n",
        "plt.ylim(0,)"
      ],
      "execution_count": null,
      "outputs": [
        {
          "output_type": "execute_result",
          "data": {
            "text/plain": [
              "(0.0, 169.467230491551)"
            ]
          },
          "metadata": {
            "tags": []
          },
          "execution_count": 7
        },
        {
          "output_type": "display_data",
          "data": {
            "image/png": "[encoded data removed]",
            "text/plain": [
              "<Figure size 432x288 with 1 Axes>"
            ]
          },
          "metadata": {
            "tags": [],
            "needs_background": "light"
          }
        }
      ]
    },
    {
      "cell_type": "markdown",
      "metadata": {
        "id": "sKrurP3pjOE3"
      },
      "source": [
        "#### Coeficiente de Pearson y $p$-valor\n",
        "\n",
        "Para observar el coeficiente de Pearson y el $p$-valor utilizamos la función stats de la librería scipy y dentro de ella pearsonr."
      ]
    },
    {
      "cell_type": "code",
      "metadata": {
        "id": "euE3BIghjbcs"
      },
      "source": [
        "#CONTINUANDO CON LOS DATOS ANTERIORES.\n",
        "\n",
        "#PRIMER PASO : Importamos funcion\n",
        "from scipy import stats\n",
        "\n",
        "#SEGUNDO PASO : Mandamos a llamar la funcion pearsonr\n",
        "Pearson = stats.pearsonr(E_119D.loc[:,'Volumen de cilindros (x)'], E_119D.loc[:,'Caballos de potencia (y)'])"
      ],
      "execution_count": null,
      "outputs": []
    },
    {
      "cell_type": "code",
      "metadata": {
        "colab": {
          "base_uri": "https://localhost:8080/"
        },
        "id": "euxwkgmhj42L",
        "outputId": "fb6cc9da-0813-41b6-ae54-bb8da58b580d"
      },
      "source": [
        "#IMPRIMIMOS EL COEFICIENTE DE PEARSON Y EL P-VALOR\n",
        "print('El coeficiente de Pearson es ',Pearson[0],'\\nEl P-Valor es ',Pearson[1])"
      ],
      "execution_count": null,
      "outputs": [
        {
          "output_type": "stream",
          "text": [
            "El coeficiente de Pearson es  0.6849508020049901 \n",
            "El P-Valor es  0.060868189006802687\n"
          ],
          "name": "stdout"
        }
      ]
    },
    {
      "cell_type": "code",
      "metadata": {
        "colab": {
          "base_uri": "https://localhost:8080/"
        },
        "id": "kRgfhGKokj52",
        "outputId": "ba6c119b-3fa9-426d-ecf9-436b2825411b"
      },
      "source": [
        "#VERIFICAMOS QUE NOS DICE EL P-VALOR\n",
        "if 0.01 < Pearson[1] and Pearson[1] < 0.05 :\n",
        "  print('Fuerte certeza de relacion lineal')\n",
        "elif 0.05 < Pearson[1] and Pearson[1] < 0.1 :\n",
        "  print('Moderada certeza de relacion lineal')\n",
        "elif Pearson[1] < 0.1:\n",
        "  print('Debil certeza de relacion lineal')\n",
        "elif Pearson[1] > 0.1:\n",
        "  print('No existe certeza de relacion lineal')"
      ],
      "execution_count": null,
      "outputs": [
        {
          "output_type": "stream",
          "text": [
            "Moderada certeza de relacion lineal\n"
          ],
          "name": "stdout"
        }
      ]
    },
    {
      "cell_type": "markdown",
      "metadata": {
        "id": "cRbR63y-tcid"
      },
      "source": [
        "#### $R^2$ Coeficiente de determinación\n",
        "\n",
        "El coeficiente de determinación nos dice lo cerca que están los datos de la línea de regresión ajustada.\n",
        "\n",
        "|Valor $R^2$|Significado|\n",
        "|--|--|\n",
        "|Valor cercano a 1|La línea de regresión es un buen ajuste a los datos|\n",
        "|Valor cercano a 0|La línea de regresión no es un buen ajuste a los datos|\n",
        "\n",
        "Sí el valor de $R^2$ es negativo puede deberse a un sobre ajuste de los datos.\n",
        "\n",
        "Este coeficiente es aplicable a una regresión lineal, múltiple y polinómica, entre otras."
      ]
    },
    {
      "cell_type": "code",
      "metadata": {
        "colab": {
          "base_uri": "https://localhost:8080/",
          "height": 297
        },
        "id": "SBInizf5uJtR",
        "outputId": "978f205d-ee00-463d-fad7-a7831fdaabe4"
      },
      "source": [
        "#RETOMEMOS LOS DATOS ANTERIORES CON LOS QUE CALCULAMOS EL COEFICIENTE DE PEARSON\n",
        "E_119D"
      ],
      "execution_count": null,
      "outputs": [
        {
          "output_type": "execute_result",
          "data": {
            "text/html": [
              "<div>\n",
              "<style scoped>\n",
              "    .dataframe tbody tr th:only-of-type {\n",
              "        vertical-align: middle;\n",
              "    }\n",
              "\n",
              "    .dataframe tbody tr th {\n",
              "        vertical-align: top;\n",
              "    }\n",
              "\n",
              "    .dataframe thead th {\n",
              "        text-align: right;\n",
              "    }\n",
              "</style>\n",
              "<table border=\"1\" class=\"dataframe\">\n",
              "  <thead>\n",
              "    <tr style=\"text-align: right;\">\n",
              "      <th></th>\n",
              "      <th>Volumen de cilindros (x)</th>\n",
              "      <th>Caballos de potencia (y)</th>\n",
              "    </tr>\n",
              "  </thead>\n",
              "  <tbody>\n",
              "    <tr>\n",
              "      <th>0</th>\n",
              "      <td>1.8</td>\n",
              "      <td>51</td>\n",
              "    </tr>\n",
              "    <tr>\n",
              "      <th>1</th>\n",
              "      <td>1.5</td>\n",
              "      <td>51</td>\n",
              "    </tr>\n",
              "    <tr>\n",
              "      <th>2</th>\n",
              "      <td>2.0</td>\n",
              "      <td>115</td>\n",
              "    </tr>\n",
              "    <tr>\n",
              "      <th>3</th>\n",
              "      <td>2.5</td>\n",
              "      <td>150</td>\n",
              "    </tr>\n",
              "    <tr>\n",
              "      <th>4</th>\n",
              "      <td>1.8</td>\n",
              "      <td>126</td>\n",
              "    </tr>\n",
              "    <tr>\n",
              "      <th>5</th>\n",
              "      <td>2.5</td>\n",
              "      <td>150</td>\n",
              "    </tr>\n",
              "    <tr>\n",
              "      <th>6</th>\n",
              "      <td>1.6</td>\n",
              "      <td>118</td>\n",
              "    </tr>\n",
              "    <tr>\n",
              "      <th>7</th>\n",
              "      <td>1.5</td>\n",
              "      <td>106</td>\n",
              "    </tr>\n",
              "  </tbody>\n",
              "</table>\n",
              "</div>"
            ],
            "text/plain": [
              "   Volumen de cilindros (x)  Caballos de potencia (y)\n",
              "0                       1.8                        51\n",
              "1                       1.5                        51\n",
              "2                       2.0                       115\n",
              "3                       2.5                       150\n",
              "4                       1.8                       126\n",
              "5                       2.5                       150\n",
              "6                       1.6                       118\n",
              "7                       1.5                       106"
            ]
          },
          "metadata": {
            "tags": []
          },
          "execution_count": 16
        }
      ]
    },
    {
      "cell_type": "code",
      "metadata": {
        "colab": {
          "base_uri": "https://localhost:8080/"
        },
        "id": "MyhBYVUsuWiS",
        "outputId": "e8dafdd0-16ff-4fa8-cfe2-1e4f84cedfa8"
      },
      "source": [
        "#PRIMER PASO : IMPORTAMOS\n",
        "\n",
        "from sklearn.linear_model import LinearRegression\n",
        "\n",
        "LM = LinearRegression()\n",
        "\n",
        "#SEGUNDO PASO : AJUSTAMOS\n",
        "\n",
        "LM.fit(E_119D[['Volumen de cilindros (x)']], E_119D[['Caballos de potencia (y)']])\n",
        "\n",
        "#TERCER PASO : CALCULAMOS EL COEFICIENTE DE DETERMINACION\n",
        "\n",
        "print('El coeficiente de determinacion es ',LM.score(E_119D[['Volumen de cilindros (x)']], E_119D[['Caballos de potencia (y)']]))"
      ],
      "execution_count": null,
      "outputs": [
        {
          "output_type": "stream",
          "text": [
            "El coeficiente de determinacion es  0.4691576011672793\n"
          ],
          "name": "stdout"
        }
      ]
    },
    {
      "cell_type": "markdown",
      "metadata": {
        "id": "EQVy3L-au7Vw"
      },
      "source": [
        "**NOTA** : Para el caso multivariado tenemos la notación para las $x$ como siguiente\n",
        "\n",
        "```\n",
        "DF[['Columna1','Columna2',...]]\n",
        "```\n",
        "\n",
        "**NOTA** : Para el caso polinomico necesitamos usar la siguiente sintaxis.\n",
        "\n",
        "```\n",
        "#PRIMERO IMPORTAMOS\n",
        "\n",
        "import numpy as np\n",
        "from sklearn.metrics import r2_score\n",
        "\n",
        "#ESPECIFIMOS LAS X E Y\n",
        "\n",
        "X = DF['COLUMNAX']\n",
        "Y = DF['COLUMNAY']\n",
        "f = np.polyfit(X,Y,Grado_Polinomico)\n",
        "p = np.poly1d(f)\n",
        "r_2 = r2_score(y,p(x))\n",
        "```\n",
        "\n",
        "La variable r_2 contiene el valor del coeficiente de determinación, Grado_Polinomico tiene como valor el grado del polinomio a analizar."
      ]
    },
    {
      "cell_type": "markdown",
      "metadata": {
        "id": "bRqdmNuFqtKk"
      },
      "source": [
        "### Regresión polinómica"
      ]
    },
    {
      "cell_type": "markdown",
      "metadata": {
        "id": "X5on62Dh0AvF"
      },
      "source": [
        "#### Definición\n",
        "\n",
        "La **regresión polinomial** es un **caso particular del modelo general de regresión lineal general**.\n",
        "\n",
        "Este método es **beneficioso para** **describir las relaciones curvilineas**.\n",
        "\n",
        "Definimos relación curvilinea a lo que se obtiene al cuadrar o establecer términos de orden superior de las variables predictoras en el modelo.\n",
        "\n",
        "Ejemplo : modelos cuadráticos, cúbicos, ...\n",
        "\n",
        "El grado de la regresión supone una gran diferencia y puede resultar en un mejor ajuste si se elige el valor correcto.\n",
        "\n",
        "**En todos los casos, la relación entre la variable y el parámetro es lineal.**\n",
        "\n",
        "$$y_i = \\beta_0 + \\beta_1*x_i + \\beta_2*x_i^2 + \\ldots + \\beta_d * x_i^d + \\varepsilon_i$$"
      ]
    },
    {
      "cell_type": "markdown",
      "metadata": {
        "id": "r2alE6Hi0Jtr"
      },
      "source": [
        "#### Como realizar regresión polinomial en Python\n",
        "\n",
        "Para realizar regresión polinomial en Python hacemos uso de la función polyfit de NumPy y después de la función poly1d."
      ]
    },
    {
      "cell_type": "code",
      "metadata": {
        "colab": {
          "base_uri": "https://localhost:8080/",
          "height": 282
        },
        "id": "8uUgKFbkxR1y",
        "outputId": "8c70a023-7f11-4e1c-f2fc-45d25dd49702"
      },
      "source": [
        "#LOS SIGUIENTES DATOS SE OBTUVIERON DEL SIGUIENTE TRABAJO PUBLICADO\n",
        "\n",
        "'''\n",
        "Vargas, Y., Obaya, A., Iveth, G. (2015). Regresión polinómica,una competencia indispensable para\n",
        "el tratamiento de datos en Cinética Química. Universidad Autonoma de Mexico.\n",
        "\n",
        "http://www2.izt.uam.mx/newpage/contactos/revista/98/pdfs/regresion.pdf\n",
        "'''\n",
        "\n",
        "t = [10,20,30,40,50,60,70]\n",
        "a = [1.5000,1.1396,0.8230,0.6200,0.4700,0.3560,0.3180]\n",
        "\n",
        "D_A = {'Tiempo':t,'Absorbancia':a}\n",
        "\n",
        "D_AD = pd.DataFrame(D_A)\n",
        "\n",
        "plt.plot(D_AD.loc[:,'Tiempo'],D_AD.loc[:,'Absorbancia'])\n",
        "\n",
        "#NOTEMOS QUE LA GRAFICA NO SIGUE UNA TENDENCIA LINEAL, MAS UNA TENDENCIA POLINOMIAL"
      ],
      "execution_count": null,
      "outputs": [
        {
          "output_type": "execute_result",
          "data": {
            "text/plain": [
              "[<matplotlib.lines.Line2D at 0x7f87ddea2550>]"
            ]
          },
          "metadata": {
            "tags": []
          },
          "execution_count": 19
        },
        {
          "output_type": "display_data",
          "data": {
            "image/png": "[encoded data removed]",
            "text/plain": [
              "<Figure size 432x288 with 1 Axes>"
            ]
          },
          "metadata": {
            "tags": [],
            "needs_background": "light"
          }
        }
      ]
    },
    {
      "cell_type": "code",
      "metadata": {
        "colab": {
          "base_uri": "https://localhost:8080/"
        },
        "id": "dxVV93XnzVyj",
        "outputId": "8b40b6e9-535b-4f1c-b18d-fe19d5f84698"
      },
      "source": [
        "#AJUSTAMOS UN POLINOMIO DE ORDEN 2\n",
        "\n",
        "#PRIMER PASO : IMPORTAMOS \n",
        "\n",
        "import numpy as np\n",
        "\n",
        "#SEGUNDO PASO : ASIGNAMOS A VARIABLES LOS DATOS\n",
        "\n",
        "'''\n",
        "El primer argumento de la funcion polyfit son las x, el segundo las y y el tercero\n",
        "indica el grado polinomial a ajustar.\n",
        "'''\n",
        "\n",
        "f2 = np.polyfit(D_AD.loc[:,'Tiempo'], D_AD.loc[:,'Absorbancia'], 2)\n",
        "p2 = np.poly1d(f2)\n",
        "\n",
        "#IMPRIMIMOS LA ECUACION AJUSTADA A LOS DATOS\n",
        "\n",
        "print(p2)"
      ],
      "execution_count": null,
      "outputs": [
        {
          "output_type": "stream",
          "text": [
            "           2\n",
            "0.0003251 x - 0.04553 x + 1.918\n"
          ],
          "name": "stdout"
        }
      ]
    },
    {
      "cell_type": "code",
      "metadata": {
        "colab": {
          "base_uri": "https://localhost:8080/"
        },
        "id": "PezEizK11GkF",
        "outputId": "0aba0314-f972-4dd9-aab1-be63dc8ec21a"
      },
      "source": [
        "#AJUSTAMOS UN POLINOMIO DE ORDEN 3\n",
        "\n",
        "f3 = np.polyfit(D_AD.loc[:,'Tiempo'], D_AD.loc[:,'Absorbancia'], 3)\n",
        "p3 = np.poly1d(f3)\n",
        "\n",
        "#IMPRIMIMOS LA ECUACION AJUSTADA A LOS DATOS\n",
        "\n",
        "print(p3)"
      ],
      "execution_count": null,
      "outputs": [
        {
          "output_type": "stream",
          "text": [
            "            3             2\n",
            "-1.261e-06 x + 0.0004765 x - 0.0507 x + 1.963\n"
          ],
          "name": "stdout"
        }
      ]
    },
    {
      "cell_type": "code",
      "metadata": {
        "colab": {
          "base_uri": "https://localhost:8080/"
        },
        "id": "501ljQwY1S-0",
        "outputId": "f5feda14-7755-41a6-ef01-97e3ae998511"
      },
      "source": [
        "#AJUSTAMOS UN POLINOMIO DE ORDEN 4\n",
        "\n",
        "f4 = np.polyfit(D_AD.loc[:,'Tiempo'], D_AD.loc[:,'Absorbancia'], 4)\n",
        "p4 = np.poly1d(f4)\n",
        "\n",
        "#IMPRIMIMOS LA ECUACION AJUSTADA A LOS DATOS\n",
        "\n",
        "print(p4)"
      ],
      "execution_count": null,
      "outputs": [
        {
          "output_type": "stream",
          "text": [
            "            4             3             2\n",
            "-8.333e-10 x - 1.128e-06 x + 0.0004693 x - 0.05055 x + 1.962\n"
          ],
          "name": "stdout"
        }
      ]
    },
    {
      "cell_type": "code",
      "metadata": {
        "colab": {
          "base_uri": "https://localhost:8080/"
        },
        "id": "JFxOZeZx1dAV",
        "outputId": "bf0fe14b-c368-4d3c-c767-ef3e951cea4c"
      },
      "source": [
        "#AJUSTAMOS UN POLINOMIO DE ORDEN 5\n",
        "\n",
        "f5 = np.polyfit(D_AD.loc[:,'Tiempo'], D_AD.loc[:,'Absorbancia'], 5)\n",
        "p5 = np.poly1d(f5)\n",
        "\n",
        "#IMPRIMIMOS LA ECUACION AJUSTADA  A LOS DATOS\n",
        "\n",
        "print(p5)"
      ],
      "execution_count": null,
      "outputs": [
        {
          "output_type": "stream",
          "text": [
            "           5             4             3            2\n",
            "7.808e-09 x - 1.563e-06 x + 0.0001147 x - 0.003435 x + 0.007616 x + 1.668\n"
          ],
          "name": "stdout"
        }
      ]
    },
    {
      "cell_type": "markdown",
      "metadata": {
        "id": "AvtJupoJ148N"
      },
      "source": [
        "#### Visualización de datos\n",
        "\n",
        "No existe una forma dada en Python para graficar los polinomio desarrollados anteriormente por ello usamos la siguiente función propuesta. "
      ]
    },
    {
      "cell_type": "code",
      "metadata": {
        "id": "b_2nxta52DzF"
      },
      "source": [
        "def PlotPolly(model, independent_variable, dependent_variabble, Name_X,Name_Y,Title):\n",
        "\n",
        "    '''\n",
        "    Esta funcion recibe como primer argumento el modelo polinomial ajustado,\n",
        "    como segundo argumento la columna o datos de la X, como tercer argumento \n",
        "    la columna o datos de la Y, como cuarto argumento el nombre de las X, \n",
        "    como quinto argumento el nombre de las Y y como sexto argumento el titulo.\n",
        "    '''\n",
        "    \n",
        "    x_new = np.linspace(0, 100) #DALE VALORES ENTRE 0 Y UN NUMERO PARA GRAFICAR EL POLINOMIO\n",
        "    y_new = model(x_new)\n",
        "\n",
        "    plt.plot(independent_variable, dependent_variabble, '.', x_new, y_new, '-')\n",
        "    plt.title(Title)\n",
        "    ax = plt.gca()\n",
        "    ax.set_facecolor((0.898, 0.898, 0.898))\n",
        "    fig = plt.gcf()\n",
        "    plt.xlabel(Name_X)\n",
        "    plt.ylabel(Name_Y)\n",
        "    plt.tight_layout()\n",
        "    plt.show()\n",
        "    plt.close()"
      ],
      "execution_count": null,
      "outputs": []
    },
    {
      "cell_type": "code",
      "metadata": {
        "colab": {
          "base_uri": "https://localhost:8080/",
          "height": 297
        },
        "id": "k1fcK_5i2Z1e",
        "outputId": "709e52a6-d09c-40ec-ad2b-7fe055d36972"
      },
      "source": [
        "#GRAFICAMOS EL AJUSTE POLINOMIAL GRADO 2\n",
        "PlotPolly(p2,D_AD.loc[:,'Tiempo'], D_AD.loc[:,'Absorbancia'],'Tiempo','Absorbancia','Regresion polinomial grado 2')"
      ],
      "execution_count": null,
      "outputs": [
        {
          "output_type": "display_data",
          "data": {
            "image/png": "[encoded data removed]",
            "text/plain": [
              "<Figure size 432x288 with 1 Axes>"
            ]
          },
          "metadata": {
            "tags": [],
            "needs_background": "light"
          }
        }
      ]
    },
    {
      "cell_type": "code",
      "metadata": {
        "colab": {
          "base_uri": "https://localhost:8080/",
          "height": 297
        },
        "id": "rPMIB2BG2sh4",
        "outputId": "212e5560-82f8-405c-e789-6c2846fe1cdd"
      },
      "source": [
        "#GRAFICAMOS EL AJUSTE POLINOMIAL GRADO 3\n",
        "PlotPolly(p3,D_AD.loc[:,'Tiempo'], D_AD.loc[:,'Absorbancia'],'Tiempo','Absorbancia','Regresion polinomial grado 3')"
      ],
      "execution_count": null,
      "outputs": [
        {
          "output_type": "display_data",
          "data": {
            "image/png": "[encoded data removed]",
            "text/plain": [
              "<Figure size 432x288 with 1 Axes>"
            ]
          },
          "metadata": {
            "tags": [],
            "needs_background": "light"
          }
        }
      ]
    },
    {
      "cell_type": "code",
      "metadata": {
        "colab": {
          "base_uri": "https://localhost:8080/",
          "height": 297
        },
        "id": "Y5EB65gb3aQ6",
        "outputId": "69cddf16-8016-47b2-fc36-52c6f9c74444"
      },
      "source": [
        "#GRAFICAMOS EL AJUSTE POLINOMIAL GRADO 4\n",
        "PlotPolly(p4,D_AD.loc[:,'Tiempo'], D_AD.loc[:,'Absorbancia'],'Tiempo','Absorbancia','Regresion polinomial grado 4')"
      ],
      "execution_count": null,
      "outputs": [
        {
          "output_type": "display_data",
          "data": {
            "image/png": "[encoded data removed]",
            "text/plain": [
              "<Figure size 432x288 with 1 Axes>"
            ]
          },
          "metadata": {
            "tags": [],
            "needs_background": "light"
          }
        }
      ]
    },
    {
      "cell_type": "code",
      "metadata": {
        "colab": {
          "base_uri": "https://localhost:8080/",
          "height": 297
        },
        "id": "KR5e-B6K4JcY",
        "outputId": "9076f37d-9203-4f72-d3a3-f2093f0f38ac"
      },
      "source": [
        "#GRAFICAMOS EL AJUSTE POLINOMIAL GRADO 5\n",
        "PlotPolly(p5,D_AD.loc[:,'Tiempo'], D_AD.loc[:,'Absorbancia'],'Tiempo','Absorbancia','Regresion polinomial grado 5')"
      ],
      "execution_count": null,
      "outputs": [
        {
          "output_type": "display_data",
          "data": {
            "image/png": "[encoded data removed]",
            "text/plain": [
              "<Figure size 432x288 with 1 Axes>"
            ]
          },
          "metadata": {
            "tags": [],
            "needs_background": "light"
          }
        }
      ]
    },
    {
      "cell_type": "markdown",
      "metadata": {
        "id": "iQRgnz4z5jG2"
      },
      "source": [
        "#### Como elegir el mejor grado polinomial ajustado a los datos\n",
        "\n",
        "Utilizando el coeficiente de determinación, $R^2$, determinamos cual ecuación se ajusta mejor a los datos."
      ]
    },
    {
      "cell_type": "code",
      "metadata": {
        "id": "mgGqoj_j5szh"
      },
      "source": [
        "#IMPORTAMOS\n",
        "\n",
        "from sklearn.metrics import r2_score\n",
        "\n",
        "#PARA GRADO 2\n",
        "\n",
        "r_2_2 = r2_score(D_AD.loc[:,'Absorbancia'],p2(D_AD.loc[:,'Tiempo']))\n",
        "\n",
        "#PARA GRADO 3\n",
        "\n",
        "r_2_3 = r2_score(D_AD.loc[:,'Absorbancia'],p3(D_AD.loc[:,'Tiempo']))\n",
        "\n",
        "#PARA GRADO 4\n",
        "\n",
        "r_2_4 = r2_score(D_AD.loc[:,'Absorbancia'],p4(D_AD.loc[:,'Tiempo']))\n",
        "\n",
        "#PARA GRADO 5\n",
        "\n",
        "r_2_5 = r2_score(D_AD.loc[:,'Absorbancia'],p5(D_AD.loc[:,'Tiempo']))"
      ],
      "execution_count": null,
      "outputs": []
    },
    {
      "cell_type": "code",
      "metadata": {
        "colab": {
          "base_uri": "https://localhost:8080/"
        },
        "id": "AZj0uIdA6Vd3",
        "outputId": "57c00e04-cc11-4afb-dbe0-8394434fc37c"
      },
      "source": [
        "print('Coeficiente de determinacion para la regresion polinomica ajustada a los datos de grado :\\n2 : ',r_2_2,'\\n3 : ',r_2_3,'\\n4 : ',r_2_4,'\\n5 : ',r_2_5)\n",
        "print('El coeficiente de determinacion mas grande es : ',max([r_2_2,r_2_3,r_2_4,r_2_5]))"
      ],
      "execution_count": null,
      "outputs": [
        {
          "output_type": "stream",
          "text": [
            "Coeficiente de determinacion para la regresion polinomica ajustada a los datos de grado :\n",
            "2 :  0.9993174089163576 \n",
            "3 :  0.9996143977486592 \n",
            "4 :  0.9996144249195767 \n",
            "5 :  0.9999758676967467\n",
            "El coeficiente de determinacion mas grande es :  0.9999758676967467\n"
          ],
          "name": "stdout"
        }
      ]
    }
  ]
}